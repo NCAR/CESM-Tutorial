{
 "cells": [
  {
   "cell_type": "markdown",
   "id": "f406f992-92bd-4b17-9bd3-b99c5c8abaf3",
   "metadata": {},
   "source": [
    "# Customize CICE output\n",
    "\n",
    "The CICE output can changed with the namelist variables\n",
    "\n",
    "- **``histfreq``**: Frequency of output written to history files ('1', 'm', 'd', 'y', …)\n",
    "- **``histfreq_n``**: Frequency history data is written to history files\n",
    "- **``hist_avg``**: if false => instantaneous values, if true => time-averages\n",
    "\n",
    "\n",
    "Here is how to set ``user_nl_cice`` to output an extra history file with daily values (leaving the primary history file as monthly): \n",
    "```\n",
    "     histfreq = 'm','d','x','x','x'\n",
    "     histfreq_n = 1,1,1,1,1 \n",
    "```\n",
    "\n",
    "See: http://www.cesm.ucar.edu/models/cesm2/settings/current/cice_nml.html\n",
    "\n"
   ]
  },
  {
   "cell_type": "code",
   "execution_count": null,
   "id": "bd6df83b-1a5d-4878-96b5-715e12c4c0a9",
   "metadata": {},
   "outputs": [],
   "source": []
  }
 ],
 "metadata": {
  "kernelspec": {
   "display_name": "Python 3 (ipykernel)",
   "language": "python",
   "name": "python3"
  },
  "language_info": {
   "codemirror_mode": {
    "name": "ipython",
    "version": 3
   },
   "file_extension": ".py",
   "mimetype": "text/x-python",
   "name": "python",
   "nbconvert_exporter": "python",
   "pygments_lexer": "ipython3",
   "version": "3.9.12"
  }
 },
 "nbformat": 4,
 "nbformat_minor": 5
}
