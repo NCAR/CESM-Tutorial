{
 "cells": [
  {
   "cell_type": "markdown",
   "id": "f406f992-92bd-4b17-9bd3-b99c5c8abaf3",
   "metadata": {},
   "source": [
    "# Exercise Overview \n",
    "\n",
    "## Learning Goals\n",
    "\n",
    "- Student will practice doing namelist changes \n",
    "- Student will edit `user_nl_*` files, run the model and check the results\n",
    "\n",
    "\n",
    "## Exercise overview:\n",
    "\n",
    "Do at last one exercise:\n",
    "- Output high frequency data in CAM.\n",
    "- Change a tuning parameter in CAM.\n"
   ]
  },
  {
   "cell_type": "code",
   "execution_count": null,
   "id": "84583445-5875-44e3-91a1-14fe6db10093",
   "metadata": {},
   "outputs": [],
   "source": []
  }
 ],
 "metadata": {
  "kernelspec": {
   "display_name": "Python 3 (ipykernel)",
   "language": "python",
   "name": "python3"
  },
  "language_info": {
   "codemirror_mode": {
    "name": "ipython",
    "version": 3
   },
   "file_extension": ".py",
   "mimetype": "text/x-python",
   "name": "python",
   "nbconvert_exporter": "python",
   "pygments_lexer": "ipython3",
   "version": "3.9.12"
  }
 },
 "nbformat": 4,
 "nbformat_minor": 5
}
