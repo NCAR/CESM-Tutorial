{
 "cells": [
  {
   "cell_type": "markdown",
   "id": "0959db1d-1790-4519-a34e-7026444af537",
   "metadata": {},
   "source": [
    "# Source Modifications\n",
    "\n",
    "The goal of this chapter is to understand how to modify the CESM code. This is referred to as  **_source modifications_**.\n",
    "\n",
    "- The section **_Overview_** describes the steps for making source modifications and provides a visual representation of the directories and files that need to be modified.\n",
    "\n",
    "- The section **_Source Modification Example_** provides detailed instructions on how to add a new variable to CAM: the atmospheric temperature at 750hPa.\n",
    "\n",
    "- The section **_Exercises_** offers opportunities to practice the concepts learned in this chapter."
   ]
  },
  {
   "cell_type": "code",
   "execution_count": null,
   "id": "35b1a8e6-f30e-4e15-b519-a87d23bfffc6",
   "metadata": {},
   "outputs": [],
   "source": []
  }
 ],
 "metadata": {
  "kernelspec": {
   "display_name": "Python 3 (ipykernel)",
   "language": "python",
   "name": "python3"
  },
  "language_info": {
   "codemirror_mode": {
    "name": "ipython",
    "version": 3
   },
   "file_extension": ".py",
   "mimetype": "text/x-python",
   "name": "python",
   "nbconvert_exporter": "python",
   "pygments_lexer": "ipython3",
   "version": "3.9.12"
  }
 },
 "nbformat": 4,
 "nbformat_minor": 5
}
