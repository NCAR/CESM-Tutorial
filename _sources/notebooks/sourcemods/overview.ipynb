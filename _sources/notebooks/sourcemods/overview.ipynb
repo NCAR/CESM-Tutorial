{
 "cells": [
  {
   "cell_type": "markdown",
   "id": "f406f992-92bd-4b17-9bd3-b99c5c8abaf3",
   "metadata": {},
   "source": [
    "# Overview\n",
    "\n",
    "If you want to make modifications to the CESM code, the best practise is to copy the relevant sub-routine into the relevant sub-directory within the `SourceMods` directory in your case directory. \n",
    "\n",
    "For example, if you wanted to modify a CAM subroutine, in the case called case01, you would copy that subroutine to the following location\n",
    "\n",
    "```\n",
    "   case01/SourceMods/src.cam\n",
    "```\n",
    "and modify it there.\n",
    "\n",
    "*Figure 1* shows the location of the `SourceMods` directory and sub-directories.\n",
    "\n",
    "<div class=\"alert alert-info\" style=\"text-align: left;\">\n",
    "\n",
    "The **steps**  when making a **source code modification** are:\n",
    "\n",
    "- In the **CESM code**, find the subroutine you want to modify.\n",
    "- Copy this subrouting to the relevant **SourceMods** directory within your **case directory**\n",
    "- Make your **modifications**\n",
    "- **Compile** and **run** the model  \n",
    "  \n",
    "</div>\n"
   ]
  },
  {
   "cell_type": "markdown",
   "id": "017b45ad-dcff-42b2-8623-06033b8e11d8",
   "metadata": {},
   "source": [
    "![CESM directories and namelists](../../images/sourcemods/CESM_directories_and_SourceMods.png)\n",
    "\n",
    "*<p style=\"text-align: center;\"> Figure: Overview of the CESM directories and the SourceMods directories. </p>*"
   ]
  },
  {
   "cell_type": "code",
   "execution_count": null,
   "id": "14f20e06-e171-4891-96de-759c5f5182a9",
   "metadata": {},
   "outputs": [],
   "source": []
  }
 ],
 "metadata": {
  "kernelspec": {
   "display_name": "Python 3 (ipykernel)",
   "language": "python",
   "name": "python3"
  },
  "language_info": {
   "codemirror_mode": {
    "name": "ipython",
    "version": 3
   },
   "file_extension": ".py",
   "mimetype": "text/x-python",
   "name": "python",
   "nbconvert_exporter": "python",
   "pygments_lexer": "ipython3",
   "version": "3.9.12"
  }
 },
 "nbformat": 4,
 "nbformat_minor": 5
}
