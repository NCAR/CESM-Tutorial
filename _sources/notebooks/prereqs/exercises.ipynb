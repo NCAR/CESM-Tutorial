{
 "cells": [
  {
   "cell_type": "markdown",
   "id": "082bb7b7-5657-4601-8615-4dd2058a4625",
   "metadata": {
    "tags": []
   },
   "source": [
    "# Exercise Overview\n",
    "\n",
    "This exercise is to introduce you to the Cheyenne computing system and set up your environment. Specifically, in this exercise we will:\n",
    "\n",
    "- Step 1. Login to the Cheyenne supercomputer.\n",
    "- Step 2. Examine the Cheyenne glade file system.\n",
    "\n"
   ]
  },
  {
   "cell_type": "markdown",
   "id": "d9ff1113-8a6d-42b5-8ca7-d3bef493d7fb",
   "metadata": {},
   "source": [
    "## Step 1: Cheyenne Login"
   ]
  },
  {
   "cell_type": "markdown",
   "id": "f4a25131-701e-4d13-aad7-461d1302b84b",
   "metadata": {},
   "source": [
    "From your tutorial terminal window prompt get online. <br>\n",
    "\n",
    "<div class=\"alert alert-info\">\n",
    "<strong>Login to Cheyenne: </strong><br><br>\n",
    "\n",
    "```\n",
    "ssh –XY [$USER]@cheyenne.ucar.edu\n",
    "```\n",
    "\n",
    "</div>\n",
    "\n",
    "Where `$USER` is replaced with your tutorial username. Your Cheyenne login will be used through out the tutorial. If you have difficulty getting this to work please ask for help. If you are in the in person tutorial there will be helpers available. If you are doing this outside of the tutorial then you can contact the user support from the NCAR Computational and Information Systems Laboratory (CISL)."
   ]
  },
  {
   "cell_type": "markdown",
   "id": "74512322-32da-400c-8aea-ff65658233db",
   "metadata": {},
   "source": [
    "<div class=\"alert alert-info\" style=\"text-align: center;\">\n",
    "\n",
    "[CISL User Support](https://ithelp.ucar.edu/plugins/servlet/desk/site/rc)\n",
    "\n",
    "</div>"
   ]
  },
  {
   "cell_type": "markdown",
   "id": "6250a6b0-e65e-43c1-b36d-ebec14345076",
   "metadata": {},
   "source": [
    "## Step 2: Look Around Cheyenne File Systems"
   ]
  },
  {
   "cell_type": "markdown",
   "id": "ff5b81e1-292a-4bc4-8415-57098366cf80",
   "metadata": {},
   "source": [
    "Now that you are on the Cheyenne login nodes you can start to explore the file system. The following simple exercises will start that process.\n",
    "\n",
    "<div class=\"alert alert-info\">\n",
    "<strong>Show your current directory: </strong><br>\n",
    "\n",
    "```\n",
    "pwd\n",
    "```\n",
    "<br>\n",
    "\n",
    "<strong>List all the directories on the glade file system: </strong><br>\n",
    "\n",
    "```\n",
    "ls /glade\n",
    "```\n",
    "<br>\n",
    "    \n",
    "<strong>List the contents of the Input Data directory: </strong><br>\n",
    "\n",
    "```\n",
    "ls /glade/p/cesmdata/cseg/inputdata/\n",
    "```\n",
    "\n",
    "</div>\n",
    "\n",
    "\n"
   ]
  },
  {
   "cell_type": "markdown",
   "id": "24704ecd-13d2-475f-99f0-157bcda05f19",
   "metadata": {},
   "source": [
    "Feel free to look around more of the NCAR HPC system. The links on the previous page about using Cheyenne may be useful in learning what other parts of the file system may be particularly relevant to you."
   ]
  },
  {
   "cell_type": "code",
   "execution_count": null,
   "id": "d338e513-cb0b-45fd-b65a-1e7a66d95971",
   "metadata": {},
   "outputs": [],
   "source": []
  }
 ],
 "metadata": {
  "kernelspec": {
   "display_name": "Python 3 (ipykernel)",
   "language": "python",
   "name": "python3"
  },
  "language_info": {
   "codemirror_mode": {
    "name": "ipython",
    "version": 3
   },
   "file_extension": ".py",
   "mimetype": "text/x-python",
   "name": "python",
   "nbconvert_exporter": "python",
   "pygments_lexer": "ipython3",
   "version": "3.9.12"
  }
 },
 "nbformat": 4,
 "nbformat_minor": 5
}
