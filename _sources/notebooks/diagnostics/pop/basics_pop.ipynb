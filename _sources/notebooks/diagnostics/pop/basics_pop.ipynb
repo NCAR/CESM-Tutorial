{
 "cells": [
  {
   "cell_type": "markdown",
   "id": "989fe00b-ac80-497c-a432-36d0ae227636",
   "metadata": {},
   "source": [
    "# Basic Plotting"
   ]
  },
  {
   "cell_type": "markdown",
   "id": "e97a3589-e319-4477-9123-f2f7e4189dc9",
   "metadata": {},
   "source": [
    "**BEFORE BEGINNING THIS EXERCISE** -  Check that your kernel (upper right corner, above) is `NPL 2023a`. This should be the default kernel, but if it is not, click on that button and select `NPL 2023a`."
   ]
  },
  {
   "cell_type": "markdown",
   "id": "ed83e6c7-6801-4b43-af1c-32f6e3577f30",
   "metadata": {},
   "source": [
    "_______________\n",
    "This activity was developed primarily by Anna-Lena Deppenmeier and Gustavo Marques.\n"
   ]
  },
  {
   "cell_type": "markdown",
   "id": "cb535d76-8352-4736-b74f-4577b32a3aa9",
   "metadata": {
    "tags": []
   },
   "source": [
    "_______________\n",
    "## Setting up the notebook\n",
    "Here we load modules needed for our analysis"
   ]
  },
  {
   "cell_type": "code",
   "execution_count": null,
   "id": "fe59e1e9-a503-4c89-803e-01dee0fadd75",
   "metadata": {},
   "outputs": [],
   "source": [
    "# loading modules\n",
    "\n",
    "# %load_ext watermark # this is so that in the end we can check which module versions we used\n",
    "%load_ext autoreload\n",
    "\n",
    "import warnings \n",
    "warnings.filterwarnings(\"ignore\")\n",
    "\n",
    "import datetime\n",
    "import glob\n",
    "import os\n",
    "import warnings\n",
    "import dask\n",
    "import dask_jobqueue\n",
    "import distributed\n",
    "import matplotlib as mpl\n",
    "import matplotlib.pyplot as plt\n",
    "import numpy as np\n",
    "import pandas as pd\n",
    "import xarray as xr\n",
    "import xgcm\n",
    "from matplotlib import ticker, cm\n",
    "import pop_tools\n",
    "from cartopy import crs as ccrs, feature as cfeature\n",
    "import cartopy"
   ]
  },
  {
   "cell_type": "markdown",
   "id": "7bb804be-f371-40a6-915d-803d3cc67151",
   "metadata": {},
   "source": [
    "### Define some functions\n",
    "These functions will be used more than once to read data and add a cyclic point. These could go in a package if you like."
   ]
  },
  {
   "cell_type": "code",
   "execution_count": null,
   "id": "5cc3a601-4a26-4a26-9761-f5ba830e353d",
   "metadata": {},
   "outputs": [],
   "source": [
    "# define function to get you the data you want relatively quickly \n",
    "\n",
    "def read_dat(files, variables, pop=False):\n",
    "    def preprocess(ds):\n",
    "        return ds[variables].reset_coords(drop=True) # reset coords means they are reset as variables\n",
    "\n",
    "    ds = xr.open_mfdataset(files, parallel=True, preprocess=preprocess,\n",
    "                           chunks={'time':1, 'nlon': -1, 'nlat':-1},\n",
    "                           combine='by_coords')\n",
    "    if pop==True:\n",
    "        file0 = xr.open_dataset(files[0])\n",
    "        ds.update(file0[['ULONG', 'ULAT', 'TLONG', 'TLAT']])\n",
    "        file0.close()\n",
    "\n",
    "    ds\n",
    "    return ds\n",
    "\n",
    "# define function to be able to plot POP output properly on cartopy projections\n",
    "def pop_add_cyclic(ds):\n",
    "    \n",
    "    nj = ds.TLAT.shape[0]\n",
    "    ni = ds.TLONG.shape[1]\n",
    "\n",
    "    xL = int(ni/2 - 1)\n",
    "    xR = int(xL + ni)\n",
    "\n",
    "    tlon = ds.TLONG.data\n",
    "    tlat = ds.TLAT.data\n",
    "    \n",
    "    tlon = np.where(np.greater_equal(tlon, min(tlon[:,0])), tlon-360., tlon)    \n",
    "    lon  = np.concatenate((tlon, tlon + 360.), 1)\n",
    "    lon = lon[:, xL:xR]\n",
    "\n",
    "    if ni == 320:\n",
    "        lon[367:-3, 0] = lon[367:-3, 0] + 360.        \n",
    "    lon = lon - 360.\n",
    "    \n",
    "    lon = np.hstack((lon, lon[:, 0:1] + 360.))\n",
    "    if ni == 320:\n",
    "        lon[367:, -1] = lon[367:, -1] - 360.\n",
    "\n",
    "    #-- trick cartopy into doing the right thing:\n",
    "    #   it gets confused when the cyclic coords are identical\n",
    "    lon[:, 0] = lon[:, 0] - 1e-8\n",
    "\n",
    "    #-- periodicity\n",
    "    lat = np.concatenate((tlat, tlat), 1)\n",
    "    lat = lat[:, xL:xR]\n",
    "    lat = np.hstack((lat, lat[:,0:1]))\n",
    "\n",
    "    TLAT = xr.DataArray(lat, dims=('nlat', 'nlon'))\n",
    "    TLONG = xr.DataArray(lon, dims=('nlat', 'nlon'))\n",
    "    \n",
    "    dso = xr.Dataset({'TLAT': TLAT, 'TLONG': TLONG})\n",
    "\n",
    "    # copy vars\n",
    "    varlist = [v for v in ds.data_vars if v not in ['TLAT', 'TLONG']]\n",
    "    for v in varlist:\n",
    "        v_dims = ds[v].dims\n",
    "        if not ('nlat' in v_dims and 'nlon' in v_dims):\n",
    "            dso[v] = ds[v]\n",
    "        else:\n",
    "            # determine and sort other dimensions\n",
    "            other_dims = set(v_dims) - {'nlat', 'nlon'}\n",
    "            other_dims = tuple([d for d in v_dims if d in other_dims])\n",
    "            lon_dim = ds[v].dims.index('nlon')\n",
    "            field = ds[v].data\n",
    "            field = np.concatenate((field, field), lon_dim)\n",
    "            field = field[..., :, xL:xR]\n",
    "            field = np.concatenate((field, field[..., :, 0:1]), lon_dim)       \n",
    "            dso[v] = xr.DataArray(field, dims=other_dims+('nlat', 'nlon'), \n",
    "                                  attrs=ds[v].attrs)\n",
    "\n",
    "\n",
    "    # copy coords\n",
    "    for v, da in ds.coords.items():\n",
    "        if not ('nlat' in da.dims and 'nlon' in da.dims):\n",
    "            dso = dso.assign_coords(**{v: da})\n",
    "                \n",
    "            \n",
    "    return dso"
   ]
  },
  {
   "cell_type": "markdown",
   "id": "657b093a-e719-4f68-92a4-907a3ecf89bb",
   "metadata": {},
   "source": [
    "### Setting up the Dask cluster\n",
    "Remember to: \n",
    "- change the project number if doing this outside the tutorial\n",
    "- potentially change the walltime depending on what you want to do\n",
    "- check the memory if you are loading a different dataset with different needs\n",
    "- check the number of cores if you are loading a different dataset with different needs"
   ]
  },
  {
   "cell_type": "code",
   "execution_count": null,
   "id": "3ca107e9-941f-4398-8df5-d6587064492f",
   "metadata": {},
   "outputs": [],
   "source": [
    "if \"client\" in locals():\n",
    "    client.close()\n",
    "    del client\n",
    "if \"cluster\" in locals():\n",
    "    cluster.close()\n",
    "\n",
    "cluster = dask_jobqueue.PBSCluster(\n",
    "    cores=2,  # The number of cores you want\n",
    "    memory=\"8GB\",  # Amount of memory\n",
    "    processes=1,  # How many processes\n",
    "    queue=\"casper\",  # The type of queue to utilize (/glade/u/apps/dav/opt/usr/bin/execcasper)\n",
    "    # log_directory=\"/glade/scratch/deppenme/dask/\",  # Use your local directory\n",
    "    resource_spec=\"select=1:ncpus=1:mem=8GB\",  # Specify resources\n",
    "    project=\"UESM0012\",  # Input your project ID here\n",
    "    walltime=\"02:00:00\",  # Amount of wall time\n",
    "    interface=\"ib0\",  # Interface to use\n",
    ")\n",
    "# cluster.adapt(maximum_jobs=24, minimum_jobs=2) # If you want to force everything to be quicker, increase the number of minimum jobs, \n",
    "# # but sometimes then it will take a while until you get them assigned, so it's a trade-off\n",
    "cluster.scale(12) # I changed this because currently dask is flaky, this might have to be adjusted during the tutorial\n",
    "client = distributed.Client(cluster)\n",
    "client"
   ]
  },
  {
   "cell_type": "markdown",
   "id": "884e8473-6d10-46e9-9a43-2175ae8631a0",
   "metadata": {},
   "source": [
    "### Get the data \n",
    "\n",
    "**Note**: the drop-down solutions, below, assume you used b.day2.1 output for plotting"
   ]
  },
  {
   "cell_type": "code",
   "execution_count": null,
   "id": "f1a789cc-95ed-44f6-a566-215e6ed0668d",
   "metadata": {},
   "outputs": [],
   "source": [
    "# Set your username here:\n",
    "username = \"PUT_USER_NAME_HERE\"\n",
    "casename = 'b.day2.1'\n",
    "\n",
    "# Here we point to the archive directory from your b.day2.1 simulation\n",
    "pth = f\"/glade/scratch/{username}/archive/\" + casename + \"/ocn/hist/\"\n",
    "\n",
    "# If you were unable to successfully run the b.day2.1 simulation, then feel free to use\n",
    "# this provided simulation data instead:\n",
    "#pth = '/glade/p/cesm/tutorial/tutorial_2023_archive/' + casename + '/ocn/hist/'\n",
    "\n",
    "# Print path to screen\n",
    "pth"
   ]
  },
  {
   "cell_type": "markdown",
   "id": "ad58f537-556f-406b-a223-a2474ae87361",
   "metadata": {},
   "source": [
    "##### Details on files \n",
    "- b.day2.1.pop.h.0001-01.nc : one timestep year ???? and month -?? for a number of 2D and 3D variables and constants\n",
    "- b.day2.1.pop.h.nday1.0001-01-01.nc : daily timestep output for one month for SST, SST variance, SSS and (max) mixed layer depth\n",
    "- b.day2.1.pop.h.once.nc : (background) mixing values\n",
    "- b.day2.1.pop.hv.nc: viscosities"
   ]
  },
  {
   "cell_type": "code",
   "execution_count": null,
   "id": "4a0dd260-76ab-4de7-931d-1cc343d82384",
   "metadata": {},
   "outputs": [],
   "source": [
    "%%time\n",
    "# how quick this is depends among other things on the availability of workers on casper\n",
    "# you can check progress by clicking on the link for the cluster above which will show you the dask dashboard  \n",
    "flist = glob.glob(pth + casename + '.pop.h.00??-??.nc')  #also might want to use just some years not all \n",
    "ds_pop = read_dat(flist, ['TEMP', 'SHF'], pop=True)\n",
    "ds_pop = ds_pop.sortby(ds_pop.time)\n",
    "tlist = np.asarray([time.replace(year=time.year+1957) for time in ds_pop.time.values]) # this makes sure the time axis is useful\n",
    "ds_pop['time'] = tlist\n",
    "ds_pop[\"time\"] = ds_pop.indexes[\"time\"].to_datetimeindex()\n",
    "ds_pop #print some meta-data to screen"
   ]
  },
  {
   "cell_type": "markdown",
   "id": "ec0ade1b-407c-4bae-b4a7-62fdee617961",
   "metadata": {},
   "source": [
    "_______________\n",
    "## Exercise 1\n",
    "Means of global Surface Heat Flux and Sea Surface Temperature"
   ]
  },
  {
   "cell_type": "code",
   "execution_count": null,
   "id": "b5d20c79-d1d1-4c62-8300-fade14d8e588",
   "metadata": {
    "tags": []
   },
   "outputs": [],
   "source": [
    "%%time\n",
    "fig, ax = plt.subplots(1, 2, figsize=(12,3), sharex=True, sharey=True)\n",
    "\n",
    "ds_pop.SHF.mean('time').plot(robust=True, ax=ax[0])\n",
    "ax[0].set_title(r'Surface Heat Flux [W/m$^2$]')\n",
    "\n",
    "ds_pop.TEMP.sel(z_t=0, method='nearest').mean('time').plot(robust=True, ax=ax[1], levels=np.arange(0,32,1))\n",
    "ax[1].set_title(r'Sea Surface Temperature [$^{\\circ}$C]')\n",
    "#plt.savefig('basics_plot_1.png', bbox_inches='tight') # uncomment this to save your figure"
   ]
  },
  {
   "cell_type": "markdown",
   "id": "9b3d3721-a43b-4bde-9d15-7392173cc52b",
   "metadata": {},
   "source": [
    "<div class=\"alert alert-success\">   \n",
    "<details>\n",
    "<summary><font face=\"Times New Roman\" color='blue'>Click here for the solution</font></summary><br>\n",
    "\n",
    "![plot example](../../../images/diagnostics/pop/basics_plot_1.png)\n",
    "\n",
    "*<p style=\"text-align: center;\"> Figure: Plotting solution. </p>*\n",
    "    \n",
    "</details>\n",
    "</div>"
   ]
  },
  {
   "cell_type": "markdown",
   "id": "f8da7c30-27d9-4b43-b05e-afeeb94a2422",
   "metadata": {},
   "source": [
    "**Question:**\n",
    "\n",
    "Can you plot 50m ocean temperature instead of surface heat flux (SHF)?"
   ]
  },
  {
   "cell_type": "markdown",
   "id": "df7c4390-a6d0-4247-9ebc-10998086182d",
   "metadata": {},
   "source": [
    "<div class=\"alert alert-warning\">  \n",
    "<details>\n",
    "\n",
    "<summary> <font face=\"Times New Roman\" color='blue'>Click here for hints</font> </summary>\n",
    "\n",
    "First, try using Xarray's ```sel``` function to select temperature values at the POP z-axis (z_t) index closest to 50m (note that the values in z_t are in centimeters):\n",
    "    \n",
    "```\n",
    "ds_pop.TEMP.sel(z_t=5000, method='nearest').mean('time').plot(robust=True, ax=ax[0], levels=np.arange(0,32,1))\n",
    "```\n",
    "\n",
    "What was the depth selected? \n",
    "    \n",
    "```\n",
    "ds_pop.TEMP.sel(z_t=5000, method='nearest').mean('time').z_t.values\n",
    "```\n",
    "    \n",
    "There is not a layer with the midpoint at 50m. There are layers with the midpoint at 45m and 55m. \n",
    "\n",
    "```\n",
    "(ds_pop.z_t)/100\n",
    "```\n",
    "\n",
    "To estimate the temperature at 50m, we can use Xarray's ```interp``` to interpolate the values along the z-axis. By default, this function uses a linear interpolation method:\n",
    "    \n",
    "```\n",
    "ds_pop.TEMP.interp(z_t=5000).mean('time').plot(robust=True, ax=ax[0], levels=np.arange(0,32,1))\n",
    "```    \n",
    "\n",
    "</details>\n",
    "</div>"
   ]
  },
  {
   "cell_type": "markdown",
   "id": "0ff3c68f-99b3-4e51-afb9-d987bd918d22",
   "metadata": {},
   "source": [
    "**Question:**\n",
    "\n",
    "Can you plot sea surface height (SSH) instead of surface heat flux (SHF)?"
   ]
  },
  {
   "cell_type": "markdown",
   "id": "e307984c-ce16-4c4e-bda3-ba6d940f36a8",
   "metadata": {},
   "source": [
    "<div class=\"alert alert-warning\">  \n",
    "<details>\n",
    "\n",
    "<summary> <font face=\"Times New Roman\" color='blue'>Click here for hints</font> </summary>\n",
    "\n",
    "We didn't initially load SSH as a variable we kept, so you will need to do that above.\n",
    "    \n",
    "```\n",
    "ds_pop = read_dat(flist, ['TEMP', 'SHF','SSH'], pop=True)\n",
    "```\n",
    "\n",
    "Always be aware of which variables might be in a file.\n",
    "    \n",
    "Once you've loaded SSH in the dataset, then plot it instead of SHF as follows:\n",
    "\n",
    "```\n",
    "ds_pop.SSH.mean('time').plot(robust=True, ax=ax[0])\n",
    "ax[0].set_title(r'Sea Surface Height (cm)')\n",
    "```\n",
    "    \n",
    "</details>\n",
    "</div>"
   ]
  },
  {
   "cell_type": "markdown",
   "id": "b4652dc4-1383-4023-ad2e-ca28b2510687",
   "metadata": {},
   "source": [
    "**Question:**\n",
    "\n",
    "Can you plot standard deviations instead of means?"
   ]
  },
  {
   "cell_type": "markdown",
   "id": "36d0ea5a-ee50-4ca7-9d2b-8c9c3fff8c3f",
   "metadata": {},
   "source": [
    "<div class=\"alert alert-warning\">  \n",
    "<details>\n",
    "\n",
    "<summary> <font face=\"Times New Roman\" color='blue'>Click here for hints</font> </summary>\n",
    "\n",
    "Replace the `.mean` function with `.std` in the plotting call.\n",
    "    \n",
    "```\n",
    "ds_pop.SHF.std('time').plot(robust=True, ax=ax[0])\n",
    "\n",
    "ds_pop.TEMP.sel(z_t=0, method='nearest').std('time').plot(robust=True, ax=ax[1], levels=np.arange(0,32,1))\n",
    "```\n",
    "    \n",
    "</details>\n",
    "</div>"
   ]
  },
  {
   "cell_type": "markdown",
   "id": "829160aa-36f6-46b1-8cad-860bd3735dba",
   "metadata": {},
   "source": [
    "_______________\n",
    "## Exercise 2\n",
    "\n",
    "Let's make some nicer plots! Have you noticed the x and y axes of the plots above? They are indices rather than longitudes and latitudes. POP output is on a curvilinear grid which means that the grid is not regularly (evenly) spaced. ```TLAT``` and ```TLONG``` are 2D variables depending on these indices, let's have a look at how to make maps."
   ]
  },
  {
   "cell_type": "code",
   "execution_count": null,
   "id": "8847b2d5-9290-422c-8772-40b0764937c5",
   "metadata": {},
   "outputs": [],
   "source": [
    "# learn what TLAT and TLONG look like \n",
    "fig, ax = plt.subplots(1, 2, figsize=(12,3), sharex=True, sharey=True)\n",
    "\n",
    "ds_pop.TLAT.plot(ax=ax[0], levels=np.arange(-90,95,5))\n",
    "ax[0].set_title('TLAT')\n",
    "ds_pop.TLONG.plot(ax=ax[1], levels=np.arange(0,370,10))\n",
    "ax[1].set_title('TLONG')"
   ]
  },
  {
   "cell_type": "markdown",
   "id": "88135e00-bfc9-4b81-88e6-712679ec3b29",
   "metadata": {},
   "source": [
    "<div class=\"alert alert-success\">   \n",
    "<details>\n",
    "<summary><font face=\"Times New Roman\" color='blue'>Click here for the solution</font></summary><br>\n",
    "\n",
    "![plot example](../../../images/diagnostics/pop/basics_plot_2.png)\n",
    "\n",
    "*<p style=\"text-align: center;\"> Figure: Plotting solution. </p>*\n",
    "    \n",
    "</details>\n",
    "</div>"
   ]
  },
  {
   "cell_type": "markdown",
   "id": "e1517969-1f19-4909-bf9a-f1b10e917700",
   "metadata": {},
   "source": [
    "**Question**\n",
    "\n",
    "Can you see the irregularity in TLAT? What does the discontinuity in TLONG mean? "
   ]
  },
  {
   "cell_type": "markdown",
   "id": "b93cd75a-97ce-4d82-85d4-5b0c223d2ee9",
   "metadata": {},
   "source": [
    "### 1. Make global maps"
   ]
  },
  {
   "cell_type": "code",
   "execution_count": null,
   "id": "76c3a229-16cb-4001-833f-5f6ae18317c6",
   "metadata": {},
   "outputs": [],
   "source": [
    "# Add cyclic point\n",
    "ds_pop_cyc = pop_add_cyclic(ds_pop)"
   ]
  },
  {
   "cell_type": "code",
   "execution_count": null,
   "id": "527f3cbe-1724-49ba-a539-f333af917d0d",
   "metadata": {},
   "outputs": [],
   "source": [
    "%%time\n",
    "\n",
    "# initiate the figure\n",
    "fig = plt.figure(dpi=150, figsize=(12,3))\n",
    "\n",
    "# add the first subplot\n",
    "ax_shf = plt.subplot(1, 2, 1, projection=ccrs.Robinson(central_longitude=300.0))\n",
    "\n",
    "pc = ax_shf.contourf(ds_pop_cyc.TLONG, ds_pop_cyc.TLAT, ds_pop_cyc.SHF.mean('time'),\n",
    "                   transform=ccrs.PlateCarree(), cmap='RdYlBu_r', extend='both', levels=np.arange(-120,130,10))\n",
    "\n",
    "ax_shf.set_global() \n",
    "\n",
    "land = ax_shf.add_feature(\n",
    "    cartopy.feature.NaturalEarthFeature('physical', 'land', '110m',\n",
    "                                        linewidth=0.5,\n",
    "                                        edgecolor='black',\n",
    "                                        facecolor='darkgray'))\n",
    "\n",
    "shf_cbar = plt.colorbar(pc, shrink=0.55, ax=ax_shf);\n",
    "shf_cbar.set_label(r'[W/m$^{2}$]')\n",
    "\n",
    "ax_shf.set_title('Surface Heat Flux')\n",
    "\n",
    "# add the second subplot\n",
    "ax_sst = plt.subplot(1, 2, 2, projection=ccrs.Robinson(central_longitude=300.0))\n",
    "\n",
    "pc = ax_sst.contourf(ds_pop_cyc.TLONG, ds_pop_cyc.TLAT, ds_pop_cyc.TEMP.isel(z_t=0).mean('time'),\n",
    "                   transform=ccrs.PlateCarree(), cmap='RdYlBu_r', extend='both', levels=np.arange(0,32,1))\n",
    "\n",
    "ax_sst.set_global() \n",
    "\n",
    "land = ax_sst.add_feature(\n",
    "    cartopy.feature.NaturalEarthFeature('physical', 'land', '110m',\n",
    "                                        linewidth=0.5,\n",
    "                                        edgecolor='black',\n",
    "                                        facecolor='darkgray'))\n",
    "\n",
    "sst_cbar = plt.colorbar(pc, shrink=0.55, ax=ax_sst);\n",
    "sst_cbar.set_label(r'[$^{\\circ}$C]')\n",
    "ax_sst.set_title('Sea Surface Temperature')\n",
    "\n",
    "#plt.savefig('basics_plot_3.png', bbox_inches='tight') # uncomment this to save your figure"
   ]
  },
  {
   "cell_type": "markdown",
   "id": "97823b3e-49d7-4c8e-97e7-b957f93b533a",
   "metadata": {},
   "source": [
    "<div class=\"alert alert-success\">   \n",
    "<details>\n",
    "<summary><font face=\"Times New Roman\" color='blue'>Click here for the solution</font></summary><br>\n",
    "\n",
    "![plot example](../../../images/diagnostics/pop/basics_plot_3.png)\n",
    "\n",
    "*<p style=\"text-align: center;\"> Figure: Plotting solution. </p>*\n",
    "    \n",
    "</details>\n",
    "</div>"
   ]
  },
  {
   "cell_type": "markdown",
   "id": "9a562d62-1efb-45e0-ab7b-5408c893ddbb",
   "metadata": {},
   "source": [
    "### 2. Make regional map over continental US"
   ]
  },
  {
   "cell_type": "code",
   "execution_count": null,
   "id": "8a419e0b-bb58-4740-9877-35a358acbd0b",
   "metadata": {},
   "outputs": [],
   "source": [
    "# define the extent of the map\n",
    "lonW = -140\n",
    "lonE = -40\n",
    "latS = 15\n",
    "latN = 65\n",
    "cLat = (latN + latS) / 2\n",
    "cLon = (lonW + lonE) / 2\n",
    "res = '110m'"
   ]
  },
  {
   "cell_type": "code",
   "execution_count": null,
   "id": "1dacb156-9942-43a3-9b57-1bd4fe6491aa",
   "metadata": {},
   "outputs": [],
   "source": [
    "# what does sea surface temperature around the US look like? (i.e. where would you like to go swimming..)\n",
    "fig = plt.figure(figsize=(11, 8.5))\n",
    "ax = plt.subplot(1, 1, 1, projection=ccrs.PlateCarree())\n",
    "ax.set_title('')\n",
    "gl = ax.gridlines(\n",
    "    draw_labels=True, linewidth=2, color='gray', alpha=0.5, linestyle='--'\n",
    ")\n",
    "ax.set_extent([lonW, lonE, latS, latN], crs=ccrs.PlateCarree())\n",
    "ax.coastlines(resolution=res, color='black')\n",
    "ax.add_feature(cfeature.STATES, linewidth=0.3, edgecolor='brown')\n",
    "ax.add_feature(cfeature.BORDERS, linewidth=0.5, edgecolor='blue');\n",
    "tdat = ax.pcolormesh(ds_pop.TLONG, ds_pop.TLAT, ds_pop.TEMP.isel(z_t=0, time=10), cmap='RdYlBu_r')\n",
    "plt.colorbar(tdat, ax=ax, shrink=0.5, pad=0.1)\n",
    "#plt.savefig('basics_plot_4.png', bbox_inches='tight')# uncomment this to save your figure"
   ]
  },
  {
   "cell_type": "markdown",
   "id": "72f9a1c9-7bf1-4dd7-b193-dcb5baf8bf77",
   "metadata": {},
   "source": [
    "<div class=\"alert alert-success\">   \n",
    "<details>\n",
    "<summary><font face=\"Times New Roman\" color='blue'>Click here for the solution</font></summary><br>\n",
    "\n",
    "![plot example](../../../images/diagnostics/pop/basics_plot_4.png)\n",
    "\n",
    "*<p style=\"text-align: center;\"> Figure: Plotting solution. </p>*\n",
    "    \n",
    "</details>\n",
    "</div>"
   ]
  },
  {
   "cell_type": "markdown",
   "id": "cbda596b-5483-4221-b228-f87fbb0278cd",
   "metadata": {},
   "source": [
    "### 3. Make regional map over the Pacific\n",
    "\n",
    "There's an awful lot of not-ocean over the continental US. Let's look at the Pacific instead."
   ]
  },
  {
   "cell_type": "code",
   "execution_count": null,
   "id": "39a879e8-1dc0-4c9f-afae-c98a33fa7778",
   "metadata": {},
   "outputs": [],
   "source": [
    "# define the extent of the map\n",
    "lonW = -180\n",
    "lonE = -60\n",
    "latS = -30\n",
    "latN = 30\n",
    "cLat = (latN + latS) / 2\n",
    "cLon = (lonW + lonE) / 2\n",
    "res = '110m'"
   ]
  },
  {
   "cell_type": "code",
   "execution_count": null,
   "id": "fcce69d0-c184-4f2f-9b20-775c05489bdd",
   "metadata": {},
   "outputs": [],
   "source": [
    "fig = plt.figure(figsize=(11, 8.5))\n",
    "ax = plt.subplot(1, 1, 1, projection=ccrs.PlateCarree())\n",
    "ax.set_title('SST')\n",
    "gl = ax.gridlines(\n",
    "    draw_labels=True, linewidth=2, color='gray', alpha=0.5, linestyle='--'\n",
    ")\n",
    "ax.set_extent([lonW, lonE, latS, latN], crs=ccrs.PlateCarree())\n",
    "ax.coastlines(resolution=res, color='black')\n",
    "ax.add_feature(cfeature.STATES, linewidth=0.3, edgecolor='brown')\n",
    "ax.add_feature(cfeature.BORDERS, linewidth=0.5, edgecolor='blue');\n",
    "tdat = ax.pcolormesh(ds_pop.TLONG, ds_pop.TLAT, ds_pop.TEMP.isel(z_t=0, time=10), cmap='RdYlBu_r', vmin=15, vmax=31)\n",
    "cbar = plt.colorbar(tdat, ax=ax, shrink=0.5, pad=0.1, ticks=np.arange(15,35,5))\n",
    "cbar.set_label(r'[$^{\\circ}$C]')\n",
    "#plt.savefig('basics_plot_5.png', bbox_inches='tight')# uncomment this to save your figure"
   ]
  },
  {
   "cell_type": "markdown",
   "id": "843c70eb-926e-4e86-92f9-3fd98aab069a",
   "metadata": {},
   "source": [
    "<div class=\"alert alert-success\">   \n",
    "<details>\n",
    "<summary><font face=\"Times New Roman\" color='blue'>Click here for the solution</font></summary><br>\n",
    "\n",
    "![plot example](../../../images/diagnostics/pop/basics_plot_5.png)\n",
    "\n",
    "*<p style=\"text-align: center;\"> Figure: Plotting solution. </p>*\n",
    "    \n",
    "</details>\n",
    "</div>"
   ]
  },
  {
   "cell_type": "markdown",
   "id": "6fd00b8a-9894-4745-a4ca-21e9d9ade96a",
   "metadata": {},
   "source": [
    "### 4. Plotting contours\n",
    "\n",
    "The figures above use `pcolormesh` to plot, but if you want to make filled contours using `contourf` you will need to make your dataset cyclical."
   ]
  },
  {
   "cell_type": "code",
   "execution_count": null,
   "id": "efe1c49f-f602-4dfb-bc10-12da1dc9300b",
   "metadata": {},
   "outputs": [],
   "source": [
    "#ds_pop_cyc = pop_add_cyclic(ds_pop)# uncomment this if you have not run this line before"
   ]
  },
  {
   "cell_type": "code",
   "execution_count": null,
   "id": "71d64e38-7de2-4db4-9759-5e850b0a3aca",
   "metadata": {},
   "outputs": [],
   "source": [
    "# define the extent of the map\n",
    "lonW = -180\n",
    "lonE = -60\n",
    "latS = -30\n",
    "latN = 30\n",
    "cLat = (latN + latS) / 2\n",
    "cLon = (lonW + lonE) / 2\n",
    "res = '110m'"
   ]
  },
  {
   "cell_type": "code",
   "execution_count": null,
   "id": "fc6fd1db-1e65-4a23-984d-00e7406317cc",
   "metadata": {},
   "outputs": [],
   "source": [
    "fig = plt.figure(figsize=(11, 8.5))\n",
    "ax = plt.subplot(1, 1, 1, projection=ccrs.PlateCarree())\n",
    "ax.set_title('SST')\n",
    "gl = ax.gridlines(\n",
    "    draw_labels=True, linewidth=2, color='gray', alpha=0.5, linestyle='--'\n",
    ")\n",
    "ax.set_extent([lonW, lonE, latS, latN], crs=ccrs.PlateCarree())\n",
    "ax.coastlines(resolution=res, color='black')\n",
    "ax.stock_img() # something else than the boarders for a change\n",
    "tdat = ax.contourf(ds_pop_cyc.TLONG, ds_pop_cyc.TLAT, ds_pop_cyc.TEMP.isel(z_t=0, time=10), cmap='RdYlBu_r', levels=np.arange(10,31,1))\n",
    "cbar = plt.colorbar(tdat, ax=ax, shrink=0.5, pad=0.1, ticks=np.arange(15,35,5))\n",
    "cbar.set_label(r'[$^{\\circ}$C]')\n",
    "#plt.savefig('basics_plot_6.png', bbox_inches='tight')# uncomment this to save your figure"
   ]
  },
  {
   "cell_type": "markdown",
   "id": "aa52cb62-eec6-4390-8a12-76d34723d704",
   "metadata": {},
   "source": [
    "<div class=\"alert alert-success\">   \n",
    "<details>\n",
    "<summary><font face=\"Times New Roman\" color='blue'>Click here for the solution</font></summary><br>\n",
    "\n",
    "![plot example](../../../images/diagnostics/pop/basics_plot_6.png)\n",
    "\n",
    "*<p style=\"text-align: center;\"> Figure: Plotting solution. </p>*\n",
    "    \n",
    "</details>\n",
    "</div>"
   ]
  },
  {
   "cell_type": "markdown",
   "id": "c8b0288e-e6b4-4ef1-8624-b31e4eebff57",
   "metadata": {},
   "source": [
    "**Question:**\n",
    "\n",
    "Try looking at the Equatorial Atlantic Ocean or other region that interests you (Gulf of Mexico, Gulf of Maine, California Coast)."
   ]
  },
  {
   "cell_type": "markdown",
   "id": "c9d29a3b-d7c7-4d4c-aeaf-7eeedf48caa3",
   "metadata": {},
   "source": [
    "<div class=\"alert alert-warning\">  \n",
    "<details>\n",
    "\n",
    "<summary> <font face=\"Times New Roman\" color='blue'>Click here for hints</font> </summary>\n",
    "\n",
    "Before plotting the region, you'll need to modify the latitude/longitude bounds. Here are the bounds for the Equatorial Atlantic Ocean: \n",
    "```\n",
    "# define the extent of the map\n",
    "lonW = -60\n",
    "lonE = 20\n",
    "latS = -30\n",
    "latN = 30\n",
    "cLat = (latN + latS) / 2\n",
    "cLon = (lonW + lonE) / 2\n",
    "res = '110m'\n",
    "```\n",
    "\n",
    "You can play with these to look at other regions of interest to you.\n",
    "\n",
    "</details>\n",
    "</div>"
   ]
  },
  {
   "cell_type": "markdown",
   "id": "9f98a8bf-9012-4edd-8288-149579c13252",
   "metadata": {},
   "source": [
    "**Question:**\n",
    "\n",
    "Try plotting other variables like sea surface height (SSH) or 50m temperature."
   ]
  },
  {
   "cell_type": "markdown",
   "id": "12ba7997-bf17-48cb-8eec-5ea7c467b319",
   "metadata": {},
   "source": [
    "<div class=\"alert alert-warning\">  \n",
    "<details>\n",
    "\n",
    "<summary> <font face=\"Times New Roman\" color='blue'>Click here for hints</font> </summary>\n",
    "\n",
    "See hints in exercise 1.    \n",
    "    \n",
    "</details>\n",
    "</div>"
   ]
  },
  {
   "cell_type": "markdown",
   "id": "f5e01632-7866-4aa3-bdca-c292c5d66389",
   "metadata": {},
   "source": [
    "_______________\n",
    "## Exercise 3\n"
   ]
  },
  {
   "cell_type": "markdown",
   "id": "8088c31c-46a0-44f9-b5c1-f435a0a712aa",
   "metadata": {},
   "source": [
    "So far we've just looked at 2D ocean properties, primarily at the surface. But the ocean is deep and you might want to look at how a variable changes with depth. Here we'll plot a cross section of an ocean variable with depth and how it changes with time.\n",
    "\n",
    "The difficulty here is that you can't easily select your lat and lon location, you need to find the nlon and nlat index first. As you could see from the ```TLAT``` and ```TLONG``` plots above, they don't behave regularly, so this is a bit of a challenge. Let's start with the equator (which is a bit easier than high up north)."
   ]
  },
  {
   "cell_type": "code",
   "execution_count": null,
   "id": "45ef4912-1b64-4dad-bc2d-e7ae0a92fda2",
   "metadata": {},
   "outputs": [],
   "source": [
    "# find the latitude that is the smallest, i.e. closest to the equator:\n",
    "abs(ds_pop.TLAT).argmin(dim='nlat')"
   ]
  },
  {
   "cell_type": "markdown",
   "id": "53e0a032-1b39-4f76-88a1-e67b15bc4d7c",
   "metadata": {},
   "source": [
    "**This shows you that the equator is not the same everywhere** \n",
    "but it is within one index and so might be just on the south or north of the equator, you can choose either. (there is no latitude where lat=0, can you imagine why?)"
   ]
  },
  {
   "cell_type": "code",
   "execution_count": null,
   "id": "f3fb6625-488b-4681-a336-485eee29523d",
   "metadata": {},
   "outputs": [],
   "source": [
    "# so let's say \n",
    "ind_eq = 180"
   ]
  },
  {
   "cell_type": "markdown",
   "id": "f0953a2a-ee77-4c2d-b5d4-e9dcd21c72c4",
   "metadata": {},
   "source": [
    "Let's now find some location we might be interested in, say 140$^{\\circ}$W"
   ]
  },
  {
   "cell_type": "code",
   "execution_count": null,
   "id": "402d8417-55d7-4cd4-af1a-728f0352a0b6",
   "metadata": {},
   "outputs": [],
   "source": [
    "ds_pop.TLONG.isel(nlat=ind_eq).plot()"
   ]
  },
  {
   "cell_type": "markdown",
   "id": "574c504b-5c2b-49d4-8118-5a9cb6ddf57a",
   "metadata": {},
   "source": [
    "<div class=\"alert alert-success\">   \n",
    "<details>\n",
    "<summary><font face=\"Times New Roman\" color='blue'>Click here for the solution</font></summary><br>\n",
    "\n",
    "![plot example](../../../images/diagnostics/pop/basics_plot_7.png)\n",
    "\n",
    "*<p style=\"text-align: center;\"> Figure: Plotting solution. </p>*\n",
    "    \n",
    "</details>\n",
    "</div>"
   ]
  },
  {
   "cell_type": "code",
   "execution_count": null,
   "id": "442fc568-4af4-49c3-98f0-83f4c32e3ef9",
   "metadata": {},
   "outputs": [],
   "source": [
    "# the longitude goes from 0-360, so if we want 140W which is -140 we would need to select 220\n",
    "ind_140w = abs(ds_pop.TLONG.isel(nlat=ind_eq)-220).argmin()"
   ]
  },
  {
   "cell_type": "markdown",
   "id": "2d30bf12-3bbb-4be5-a138-30dc2692f30d",
   "metadata": {},
   "source": [
    "### 1. First Plot"
   ]
  },
  {
   "cell_type": "code",
   "execution_count": null,
   "id": "949a410b-c188-4bfa-ba3b-2be1b8839069",
   "metadata": {},
   "outputs": [],
   "source": [
    "fig, ax = plt.subplots(2, 1, figsize=(9,4.5))\n",
    "\n",
    "ds_pop.TEMP.isel(nlon=ind_140w, nlat=ind_eq).plot(y='z_t', ax=ax[0], \n",
    "                ylim=(250e2,0), levels=np.arange(10,32,2), cmap='RdYlBu_r')\n",
    "\n",
    "ds_pop.TEMP.isel(nlon=ind_140w, nlat=ind_eq).plot(y='z_t', ax=ax[1], \n",
    "                ylim=(5000e2,0), levels=np.arange(0,10.2,0.2), cmap='Blues')\n",
    "\n",
    "#plt.savefig('basics_plot_8.png', bbox_inches='tight')# uncomment this to save your figure"
   ]
  },
  {
   "cell_type": "markdown",
   "id": "a0aaf85d-6350-410d-b158-e1c276ad6889",
   "metadata": {},
   "source": [
    "<div class=\"alert alert-success\">   \n",
    "<details>\n",
    "<summary><font face=\"Times New Roman\" color='blue'>Click here for the solution</font></summary><br>\n",
    "\n",
    "![plot example](../../../images/diagnostics/pop/basics_plot_8.png)\n",
    "\n",
    "*<p style=\"text-align: center;\"> Figure: Plotting solution. </p>*\n",
    "    \n",
    "</details>\n",
    "</div>"
   ]
  },
  {
   "cell_type": "markdown",
   "id": "417f27d7-c58a-4c8f-980a-a531b0079aa9",
   "metadata": {},
   "source": [
    "**Question:**\n",
    "\n",
    "What is the vertical dimension? Which side of the plot is the ocean surface vs. the ocean floor?"
   ]
  },
  {
   "cell_type": "markdown",
   "id": "4c2090a8-349a-4587-ba1d-525b20ec71ca",
   "metadata": {},
   "source": [
    "<div class=\"alert alert-warning\">  \n",
    "<details>\n",
    "\n",
    "<summary> <font face=\"Times New Roman\" color='blue'>Click here for hints</font> </summary>\n",
    "\n",
    "These plots have the surface of the ocean at the top of the plot. So it's oriented physically with how we percieve the world. You should be aware of how the y axis changes when plotting figures like this to make them more easily interpretable.\n",
    "    \n",
    "    \n",
    "</details>\n",
    "</div>"
   ]
  },
  {
   "cell_type": "markdown",
   "id": "d53404ea-6116-49a1-8173-71c57540f934",
   "metadata": {},
   "source": [
    "### 2. Nicer axes"
   ]
  },
  {
   "cell_type": "code",
   "execution_count": null,
   "id": "74211b70-e318-46b7-855c-4f7333e5fa97",
   "metadata": {},
   "outputs": [],
   "source": [
    "fig, (ax_upper, ax_lower) = plt.subplots(2, 1, gridspec_kw={'height_ratios': [1, 3]}, \n",
    "                                         figsize=(10,6), sharex=True)\n",
    "\n",
    "dat_upper = ax_upper.contourf(ds_pop.time, ds_pop.z_t/100, ds_pop.TEMP.isel(nlon=ind_140w, nlat=ind_eq).T, \n",
    "                              levels=np.arange(10,32,1), cmap='RdYlBu_r', extend='both')\n",
    "ax_upper.set_ylim(300,0)\n",
    "plt.colorbar(dat_upper, ax=ax_upper)\n",
    "\n",
    "dat_lower = ax_lower.contourf(ds_pop.time, ds_pop.z_t/100, ds_pop.TEMP.isel(nlon=ind_140w, nlat=ind_eq).T, \n",
    "                              levels=np.arange(0,10.5,0.5), cmap='Blues', \n",
    "                 extend='both')\n",
    "ax_lower.set_ylim(4000,300)\n",
    "plt.colorbar(dat_lower, ax=ax_lower, shrink=0.7)\n",
    "#plt.savefig('basics_plot_9.png', bbox_inches='tight')# uncomment this to save your figure"
   ]
  },
  {
   "cell_type": "markdown",
   "id": "efe789d3-a585-4fb6-bd6e-0de87c9c86a1",
   "metadata": {},
   "source": [
    "<div class=\"alert alert-success\">   \n",
    "<details>\n",
    "<summary><font face=\"Times New Roman\" color='blue'>Click here for the solution</font></summary><br>\n",
    "\n",
    "![plot example](../../../images/diagnostics/pop/basics_plot_9.png)\n",
    "\n",
    "*<p style=\"text-align: center;\"> Figure: Plotting solution. </p>*\n",
    "    \n",
    "</details>\n",
    "</div>"
   ]
  },
  {
   "cell_type": "markdown",
   "id": "15f7e5e0-a9f5-4f73-a334-8c9f39557fab",
   "metadata": {},
   "source": [
    "**Question:**\n",
    "\n",
    "What happened to the vertical axis? Why does this make the plot easier to read?"
   ]
  },
  {
   "cell_type": "markdown",
   "id": "6a712296-7198-4a1e-82cc-37d679342bbd",
   "metadata": {},
   "source": [
    "<div class=\"alert alert-warning\">  \n",
    "<details>\n",
    "\n",
    "<summary> <font face=\"Times New Roman\" color='blue'>Click here for hints</font> </summary>\n",
    "\n",
    "The ocean is deep and there is often different rates of change in a variable over the the upper ocean compared to the deep ocean. So using different scales and plotting them separately can be useful for analysis. \n",
    "    \n",
    "</details>\n",
    "</div>"
   ]
  },
  {
   "cell_type": "markdown",
   "id": "e6feb3cc-5731-42b4-8bdf-4b57f083c3e6",
   "metadata": {},
   "source": [
    "_______________\n",
    "## Exercise 4"
   ]
  },
  {
   "cell_type": "markdown",
   "id": "7ea55dc5-b495-49d1-9c48-d4cd54f2c792",
   "metadata": {},
   "source": [
    "The previous exercise showed how to plot a vertical cross section of the ocean over time. But it can also be valuable to plot a profile of a variable with depth at a particular point either at one time, averaged over time, or a profile averaged over a set of points again at one time or averaged over time. \n",
    "\n",
    "Here we will plot an average profile of temperature with depth. "
   ]
  },
  {
   "cell_type": "code",
   "execution_count": null,
   "id": "ff0ca0b5-e110-4875-9860-05f841aabfb5",
   "metadata": {},
   "outputs": [],
   "source": [
    "ds_pop.TEMP.isel(nlon=ind_140w, nlat=ind_eq)"
   ]
  },
  {
   "cell_type": "code",
   "execution_count": null,
   "id": "64360723-834c-4d44-82b7-2f813c61c53c",
   "metadata": {},
   "outputs": [],
   "source": [
    "%%time\n",
    "# let's load these calculated quantities so that we don't have to calculate them time and time again \n",
    "t_0n140w_mean = ds_pop.TEMP.isel(nlon=ind_140w, nlat=ind_eq).mean('time').load()\n",
    "t_0n140w_std = ds_pop.TEMP.isel(nlon=ind_140w, nlat=ind_eq).std('time').load()"
   ]
  },
  {
   "cell_type": "code",
   "execution_count": null,
   "id": "2b2438a1-8422-466c-809c-c7053c907473",
   "metadata": {},
   "outputs": [],
   "source": [
    "# plot the mean profile\n",
    "t_0n140w_mean.plot(y='z_t', ylim=(300e2,0), label='mean')\n",
    "plt.xlim(10,28)\n",
    "plt.title('T at 0$^{\\circ}$N, 140$^{\\circ}$W')\n",
    "\n",
    "# let's add some error bars --> standard deviation \n",
    "\n",
    "plt.fill_betweenx(ds_pop.z_t, t_0n140w_mean-t_0n140w_std, t_0n140w_mean+t_0n140w_std, color='black', alpha=0.2, edgecolor=None, label='std')\n",
    "\n",
    "plt.legend()\n",
    "#plt.savefig('basics_plot_10.png', bbox_inches='tight')# uncomment this to save your figure"
   ]
  },
  {
   "cell_type": "markdown",
   "id": "bddc4521-24ea-488d-9606-928c56429cc2",
   "metadata": {},
   "source": [
    "<div class=\"alert alert-success\">   \n",
    "<details>\n",
    "<summary><font face=\"Times New Roman\" color='blue'>Click here for the solution</font></summary><br>\n",
    "\n",
    "![plot example](../../../images/diagnostics/pop/basics_plot_10.png)\n",
    "\n",
    "*<p style=\"text-align: center;\"> Figure: Plotting solution. </p>*\n",
    "    \n",
    "</details>\n",
    "</div>"
   ]
  },
  {
   "cell_type": "markdown",
   "id": "c6d5cf0f-bd2d-4ed9-9f87-305190c2b324",
   "metadata": {},
   "source": [
    "**Question:**\n",
    "\n",
    "Why is there grey shading on the plot above? i.e. How many ensembles have we included? What else could be causing a spread in the output?"
   ]
  },
  {
   "cell_type": "markdown",
   "id": "5b8e9dd0-c17c-45b5-aeda-73e0da8b0c28",
   "metadata": {},
   "source": [
    "<div class=\"alert alert-warning\">  \n",
    "<details>\n",
    "\n",
    "<summary> <font face=\"Times New Roman\" color='blue'>Click here for hints</font> </summary>\n",
    "\n",
    "Here we take an average of the profiles in one location over time. But you could average over ensembles or over a region at one time, and both would also provide information about the variability in this quantity over depth. \n",
    "    \n",
    "</details>\n",
    "</div>"
   ]
  },
  {
   "cell_type": "code",
   "execution_count": null,
   "id": "4bb05d3e-2324-4705-a387-71715a454cd1",
   "metadata": {},
   "outputs": [],
   "source": []
  }
 ],
 "metadata": {
  "kernelspec": {
   "display_name": "NPL 2023a",
   "language": "python",
   "name": "npl-2023a"
  },
  "language_info": {
   "codemirror_mode": {
    "name": "ipython",
    "version": 3
   },
   "file_extension": ".py",
   "mimetype": "text/x-python",
   "name": "python",
   "nbconvert_exporter": "python",
   "pygments_lexer": "ipython3",
   "version": "3.9.16"
  }
 },
 "nbformat": 4,
 "nbformat_minor": 5
}
