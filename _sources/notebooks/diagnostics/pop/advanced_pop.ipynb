{
 "cells": [
  {
   "cell_type": "markdown",
   "id": "2634ab1d-3022-4b34-b573-cb74e0f31088",
   "metadata": {},
   "source": [
    "# Advanced Plotting"
   ]
  },
  {
   "cell_type": "markdown",
   "id": "1522591e-1007-41e1-8599-8be707db5d84",
   "metadata": {},
   "source": [
    "**BEFORE BEGINNING THIS EXERCISE** -  Check that your kernel (upper right corner, above) is `NPL 2023b`. This should be the default kernel, but if it is not, click on that button and select `NPL 2023b`."
   ]
  },
  {
   "cell_type": "markdown",
   "id": "ff1b63b8-a5e8-445b-891e-7819f775dfd8",
   "metadata": {},
   "source": [
    "_______________\n",
    "This activity was developed primarily by Mauricio Rocha and Gustavo Marques."
   ]
  },
  {
   "cell_type": "markdown",
   "id": "677407b7-4f55-45c7-9193-123791b854da",
   "metadata": {},
   "source": [
    "_______________\n",
    "## Setting up the notebook\n",
    "Here we load modules needed for our analysis"
   ]
  },
  {
   "cell_type": "code",
   "execution_count": null,
   "id": "36365adf-9a62-4b34-ba16-73c6d89a8d32",
   "metadata": {},
   "outputs": [],
   "source": [
    "# loading modules\n",
    "\n",
    "# %load_ext watermark # this is so that in the end we can check which module versions we used\n",
    "%load_ext autoreload\n",
    "\n",
    "import warnings \n",
    "warnings.filterwarnings(\"ignore\")\n",
    "\n",
    "import cartopy.crs as ccrs\n",
    "import cartopy.feature\n",
    "import matplotlib.pyplot as plt\n",
    "import xarray as xr\n",
    "import numpy as np \n",
    "import pop_tools\n",
    "import glob"
   ]
  },
  {
   "cell_type": "markdown",
   "id": "40c71af7-bb2d-47ec-8c5a-8a2724fab5c1",
   "metadata": {},
   "source": [
    "### Get the data "
   ]
  },
  {
   "cell_type": "code",
   "execution_count": null,
   "id": "4e1f41c1-1b64-429a-acd7-ffa4f5c50234",
   "metadata": {},
   "outputs": [],
   "source": [
    "# Set your username here:\n",
    "username = \"PUT_USER_NAME_HERE\"\n",
    "casename = 'b.day2.1'\n",
    "\n",
    "# Here we point to the archive directory from your b.day2.1 simulation\n",
    "pth = f\"/glade/scratch/{username}/archive/' + casename + '/ocn/hist/\"\n",
    "\n",
    "# If you were unable to successfully run the b.day2.1 simulation, then feel free to use\n",
    "# this provided simulation data instead:\n",
    "#pth = '/glade/p/cesm/tutorial/tutorial_2023_archive/' + casename + '/ocn/hist/'\n",
    "\n",
    "# Print path to screen\n",
    "pth\n",
    "flist = glob.glob(pth + casename + '.pop.h.00??-??.nc')  \n",
    "ds = xr.open_mfdataset(flist, compat='override', coords='minimal')"
   ]
  },
  {
   "cell_type": "markdown",
   "id": "8a27f988-20f9-457d-8947-371f6f2df74c",
   "metadata": {},
   "source": [
    "_______________\n",
    "## Exercise 1"
   ]
  },
  {
   "cell_type": "markdown",
   "id": "655e97da-85b0-45ac-acda-f139e524f319",
   "metadata": {},
   "source": [
    "Maximum mixed-layer depth for the winter months in the northern hemisphere (January, February, and March) and in the southern hemisphere (July, August, and September)"
   ]
  },
  {
   "cell_type": "code",
   "execution_count": null,
   "id": "a4a1832c-10f8-4ebe-b33d-4c28a22657fc",
   "metadata": {},
   "outputs": [],
   "source": [
    "# POP grid\n",
    "pop_grid = pop_tools.get_grid('POP_gx1v7')\n",
    "ds['TLONG'] = pop_grid.TLONG; ds['TLAT'] = pop_grid.TLAT\n",
    "ds['ULONG'] = pop_grid.ULONG; ds['ULAT'] = pop_grid.ULAT"
   ]
  },
  {
   "cell_type": "code",
   "execution_count": null,
   "id": "1b5ee9b5-e146-4655-af65-91e10d80d189",
   "metadata": {},
   "outputs": [],
   "source": [
    "# July, August, and Septemper (JAS)\n",
    "def is_jas(month):\n",
    "        return (month >= 7) & (month <= 9)\n",
    "JAS = ds['XMXL'].sel(time=is_jas(ds['XMXL']['time.month'])).mean('time')\n",
    "\n",
    "# January, February, and March (JFM)\n",
    "def is_jfm(month):\n",
    "        return (month >= 1) & (month <= 3)\n",
    "JFM = ds['XMXL'].sel(time=is_jfm(ds['XMXL']['time.month'])).mean('time')"
   ]
  },
  {
   "cell_type": "code",
   "execution_count": null,
   "id": "dc5802e9-6cf5-4209-bbe3-a4c6461d932e",
   "metadata": {},
   "outputs": [],
   "source": [
    "# Find the latitude value closest to the equator\n",
    "def find_nearest(array, value):\n",
    "    array = np.asarray(array)\n",
    "    idx = (np.abs(array - value)).argmin()\n",
    "    return array[idx]\n",
    "eq=find_nearest(JAS['TLAT']['TLAT'][:,0], value=0)\n",
    "print(eq)"
   ]
  },
  {
   "cell_type": "code",
   "execution_count": null,
   "id": "4a6d3ee5-8bba-4158-a209-b2b2e5105cd1",
   "metadata": {},
   "outputs": [],
   "source": [
    "# Find the index of this latitude\n",
    "idx=np.where(JAS['TLAT']['TLAT'][:,0] == eq)[0]\n",
    "print(idx)"
   ]
  },
  {
   "cell_type": "code",
   "execution_count": null,
   "id": "b1626984-8646-41b6-a5df-943562d8ccfa",
   "metadata": {},
   "outputs": [],
   "source": [
    "# Create a new array\n",
    "winter=JFM.copy()\n",
    "\n",
    "# Since the variable winter already contains the data for the Northern Hemisphere, we will now add the data for the Southern Hemisphere\n",
    "winter.loc[0:187,:]=JAS.loc[0:187,:]"
   ]
  },
  {
   "cell_type": "code",
   "execution_count": null,
   "id": "b7d3bc83-0643-4cf6-9367-678f2e7823d5",
   "metadata": {},
   "outputs": [],
   "source": [
    "plt.figure(figsize=(8,6));\n",
    "ax = plt.axes(projection=ccrs.Robinson());\n",
    "orig_map=plt.cm.get_cmap('turbo')\n",
    "scale_color=orig_map.reversed()\n",
    "cf=(winter*0.01).plot.pcolormesh(ax=ax, # Multiply by 0.01 to transform centimeters to meters\n",
    "                              vmax=800,vmin=0,\n",
    "                              transform=ccrs.PlateCarree(),\n",
    "                              x='TLONG',\n",
    "                              y='TLAT',\n",
    "                              cmap=scale_color,\n",
    "                              add_colorbar=False,\n",
    "                           )                                    \n",
    "ax.coastlines()\n",
    "ax.add_feature(cartopy.feature.LAND)\n",
    "ax.gridlines(crs=ccrs.PlateCarree(), draw_labels=True,\n",
    "                  linewidth=2, color='gray', alpha=0.5, linestyle='-')\n",
    "cbar = plt.colorbar(cf, ax=ax, shrink=0.5, pad=0.1, ticks=np.arange(0,800,100), label='XMXL [m]')\n",
    "plt.title('Maximum Mixed-Layer Depth for the Winter', fontsize=14)\n",
    "#plt.savefig('advanced_plot_1.png', bbox_inches='tight')# uncomment this to save your figure"
   ]
  },
  {
   "cell_type": "markdown",
   "id": "0b35d911-bd15-4825-8a6f-12c583f9c05e",
   "metadata": {},
   "source": [
    "<div class=\"alert alert-success\">   \n",
    "<details>\n",
    "<summary><font face=\"Times New Roman\" color='blue'>Click here for the solution</font></summary><br>\n",
    "\n",
    "![plot example](../../../images/diagnostics/pop/advanced_plot_1.png)\n",
    "\n",
    "*<p style=\"text-align: center;\"> Figure: Plotting solution. </p>*\n",
    "    \n",
    "</details>\n",
    "</div>"
   ]
  },
  {
   "cell_type": "markdown",
   "id": "db016402-9b77-4145-b92e-a4503c03dcc3",
   "metadata": {},
   "source": [
    "_______________\n",
    "## Exercise 2"
   ]
  },
  {
   "cell_type": "markdown",
   "id": "d326ce71-ed14-47b1-9095-a55f45e969cd",
   "metadata": {},
   "source": [
    "Calculate the heat storage (HS) per area from the temperature tendency for the upper 2000m.\n",
    "Equation: $$\\rm{HF = \\uprho_\\uptheta~C_p~\\int_{z_2}^{z_1}\\uptheta_{(z)}'~dz},$$\n",
    "where:\n",
    "* HF is heat storage ($\\rm{W~m^{-2}}$),\n",
    "* $\\uprho_\\uptheta$ is the sea water density ($\\rm{kg~m^{-3}}$),\n",
    "* $\\rm{C_p}$ is the sea water specific heat ($\\rm{J~kg^{-1}~^{\\circ}C^{-1}}$),\n",
    "* $\\rm{dz}$ is the cell thickness (m),\n",
    "* and $\\uptheta$' is the temperature tendency ($\\rm{^{\\circ}C^{-1}~s^{-1}}$). "
   ]
  },
  {
   "cell_type": "code",
   "execution_count": null,
   "id": "354537e8-6e2f-4cbd-87a3-c807545828ed",
   "metadata": {},
   "outputs": [],
   "source": [
    "ds_HS=ds['TEND_TEMP'].sel(z_t=slice(0,200000))*ds['dz'].sel(z_t=slice(0,200000))*0.01  # Select the depth and multiply by dz. Unit: oC.s-1.m \n",
    "ds_HS=ds_HS.sum('z_t')                                                                 # Sum in depth\n",
    "ds_HS=ds_HS*1026                                                                       # Multiply it by the sea water density. Unit: oC.s-1.kg.m-2\n",
    "ds_HS=ds_HS*3996                                                                       # Multiply it by the sea water heat specific. Unit: W.m-2    "
   ]
  },
  {
   "cell_type": "code",
   "execution_count": null,
   "id": "258d8431-27bb-4ce1-9afa-a7f9221e2d1c",
   "metadata": {},
   "outputs": [],
   "source": [
    "plt.figure(figsize=(8,6))\n",
    "ax = plt.axes(projection=ccrs.Robinson())\n",
    "orig_map=plt.cm.get_cmap('RdBu')\n",
    "scale_color=orig_map.reversed()\n",
    "cf=ds_HS.mean('time').plot.pcolormesh(ax=ax,\n",
    "                              transform=ccrs.PlateCarree(),\n",
    "                              vmin=-50,\n",
    "                              vmax=50,\n",
    "                              x='TLONG',\n",
    "                              y='TLAT',\n",
    "                              cmap=scale_color,\n",
    "                              add_colorbar=False,\n",
    "                           )  \n",
    "ax.coastlines()\n",
    "ax.add_feature(cartopy.feature.LAND)\n",
    "ax.gridlines(crs=ccrs.PlateCarree(), draw_labels=True,\n",
    "                  linewidth=2, color='gray', alpha=0.5, linestyle='-')\n",
    "cbar = plt.colorbar(cf, ax=ax, shrink=0.5, pad=0.1, label='HS [W m$^{-2}$]')\n",
    "plt.title('Heat Storage per area for the upper 2000 m', fontsize=14)\n",
    "#plt.savefig('advanced_plot_2.png', bbox_inches='tight')# uncomment this to save your figure"
   ]
  },
  {
   "cell_type": "markdown",
   "id": "a5eebe10-e058-4475-a69e-18a8faafaf7f",
   "metadata": {},
   "source": [
    "<div class=\"alert alert-success\">   \n",
    "<details>\n",
    "<summary><font face=\"Times New Roman\" color='blue'>Click here for the solution</font></summary><br>\n",
    "\n",
    "![plot example](../../../images/diagnostics/pop/advanced_plot_2.png)\n",
    "\n",
    "*<p style=\"text-align: center;\"> Figure: Plotting solution. </p>*\n",
    "    \n",
    "</details>\n",
    "</div>"
   ]
  }
 ],
 "metadata": {
  "kernelspec": {
   "display_name": "NPL 2022b",
   "language": "python",
   "name": "npl-2022b"
  },
  "language_info": {
   "codemirror_mode": {
    "name": "ipython",
    "version": 3
   },
   "file_extension": ".py",
   "mimetype": "text/x-python",
   "name": "python",
   "nbconvert_exporter": "python",
   "pygments_lexer": "ipython3",
   "version": "3.8.13"
  }
 },
 "nbformat": 4,
 "nbformat_minor": 5
}
