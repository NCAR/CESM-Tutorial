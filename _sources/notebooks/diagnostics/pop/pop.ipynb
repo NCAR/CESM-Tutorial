{
 "cells": [
  {
   "cell_type": "markdown",
   "id": "f406f992-92bd-4b17-9bd3-b99c5c8abaf3",
   "metadata": {},
   "source": [
    "# Ocean"
   ]
  },
  {
   "cell_type": "markdown",
   "id": "18a0c6f1-355a-4f2a-99ac-1fead4de8626",
   "metadata": {},
   "source": [
    "## Basic Plotting"
   ]
  },
  {
   "cell_type": "markdown",
   "id": "ce7f7f35-19aa-406c-9330-e973dbb576d0",
   "metadata": {
    "tags": []
   },
   "source": [
    "### Learning Goals\n",
    "\n",
    "- How to load and plot POP ocean model output\n",
    "- How to deal with the curvilinear grid\n",
    "- How to select a point for making profiles\n",
    "- How to define useful functions"
   ]
  },
  {
   "cell_type": "markdown",
   "id": "ae93c512-ccde-43cf-9d73-822cddde7ef2",
   "metadata": {},
   "source": [
    "_______________\n",
    "\n",
    "### Exercise 1: Making map plots\n",
    "\n",
    "Here we will produce a map plot of surface heat flux and sea surface temperature. Some things to try include plotting standard deviations instead of means, plotting another surface variable, or plotting temperature at a particular depth."
   ]
  },
  {
   "cell_type": "markdown",
   "id": "a0b48b29-16d6-4474-9d81-152f9849acd3",
   "metadata": {},
   "source": [
    "_______________\n",
    "\n",
    "### Exercise 2: Making global and regional maps\n",
    "\n",
    "Here will we learn how to use the TLAT and TLONG coordinates in POP to plot nicer global or regional maps. Some things to try include plotting different regions or different variables.\n"
   ]
  },
  {
   "cell_type": "markdown",
   "id": "589f85ae-bbe7-4e57-8b4b-1eec5d1e326c",
   "metadata": {},
   "source": [
    "_______________\n",
    "\n",
    "### Exercise 3: Making timeseries\n",
    "\n",
    "Here will we learn how to make a timeseries of temperature at a single point throughout the column.\n"
   ]
  },
  {
   "cell_type": "markdown",
   "id": "5676b088-c81c-4a4c-8fc7-bce6f09dd32d",
   "metadata": {},
   "source": [
    "_______________\n",
    "\n",
    "### Exercise 4: Making a profile\n",
    "\n",
    "Here we learn how to plot a temperature profile at a single point on the ocean grid."
   ]
  },
  {
   "cell_type": "markdown",
   "id": "782bebb4-f00e-4362-8738-736ab39a311d",
   "metadata": {},
   "source": [
    "## Advanced Plotting"
   ]
  },
  {
   "cell_type": "markdown",
   "id": "c9434bfe-c2c3-4e6a-ba83-de538a6f29ed",
   "metadata": {},
   "source": [
    "_______________\n",
    "\n",
    "### Exercise 1: Plot winter time maximum mixed-layer depth\n",
    "\n",
    "Here we learn how to select winter months and plot the maximum mixed-layer depth for both hemispheres on a single map. "
   ]
  },
  {
   "cell_type": "markdown",
   "id": "714dba27-4bcf-40db-9779-9fe0c3dde5f3",
   "metadata": {},
   "source": [
    "_______________\n",
    "\n",
    "### Exercise 2: Compute and plot ocean heat storage per area for the upper 2000m\n",
    "\n",
    "Here we learn how to calculate the heat storage per area from the temperature trend and plot the results on a global map."
   ]
  }
 ],
 "metadata": {
  "kernelspec": {
   "display_name": "Python 3 (ipykernel)",
   "language": "python",
   "name": "python3"
  },
  "language_info": {
   "codemirror_mode": {
    "name": "ipython",
    "version": 3
   },
   "file_extension": ".py",
   "mimetype": "text/x-python",
   "name": "python",
   "nbconvert_exporter": "python",
   "pygments_lexer": "ipython3",
   "version": "3.9.12"
  }
 },
 "nbformat": 4,
 "nbformat_minor": 5
}
