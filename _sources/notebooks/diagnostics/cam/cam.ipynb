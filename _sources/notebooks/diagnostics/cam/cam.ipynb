{
 "cells": [
  {
   "cell_type": "markdown",
   "id": "f406f992-92bd-4b17-9bd3-b99c5c8abaf3",
   "metadata": {},
   "source": [
    "# Atmosphere"
   ]
  },
  {
   "cell_type": "markdown",
   "id": "30ca3a26-9666-433a-b9d6-852999d9455e",
   "metadata": {},
   "source": [
    "## Basic Plotting\n",
    "\n",
    "### Learning Goals\n",
    "\n",
    "- Making a lat-lon plot\n",
    "- Making a zonal plot\n",
    "- Making a lat-height plot\n",
    "\n",
    "### Exercise 1: lat-lon plot\n",
    "Plot global lat/lon of surface temperature\n",
    "\n",
    "### Exercise 2: Making a zonal plot\n",
    "Plot zonal mean of short wave cloud forcing\n",
    "\n",
    "### Exercise 3: Making a lat-height plot\n",
    "Plot temperature zonal mean with vertical levels\n",
    "\n",
    "\n"
   ]
  },
  {
   "cell_type": "markdown",
   "id": "c494a32c-cd81-4a0a-b290-eb0835919532",
   "metadata": {
    "tags": []
   },
   "source": [
    "_______________\n",
    "## Advanced Plotting\n",
    "\n",
    "### Learning Goals\n",
    "\n",
    "- analysis of native output \n",
    "\n",
    "\n",
    "### Exercise 1: CAM-SE output analysis\n",
    "\n",
    "Examples of simple analysis and plotting that can be done with CAM-SE output on the native cubed-sphere grid."
   ]
  },
  {
   "cell_type": "code",
   "execution_count": null,
   "id": "7d4d2795-ce87-424c-8b26-719932e22678",
   "metadata": {},
   "outputs": [],
   "source": []
  },
  {
   "cell_type": "code",
   "execution_count": null,
   "id": "e8f502db-ba87-4fb4-bd4e-2737807777b0",
   "metadata": {},
   "outputs": [],
   "source": []
  }
 ],
 "metadata": {
  "kernelspec": {
   "display_name": "Python 3 (ipykernel)",
   "language": "python",
   "name": "python3"
  },
  "language_info": {
   "codemirror_mode": {
    "name": "ipython",
    "version": 3
   },
   "file_extension": ".py",
   "mimetype": "text/x-python",
   "name": "python",
   "nbconvert_exporter": "python",
   "pygments_lexer": "ipython3",
   "version": "3.9.12"
  }
 },
 "nbformat": 4,
 "nbformat_minor": 5
}
