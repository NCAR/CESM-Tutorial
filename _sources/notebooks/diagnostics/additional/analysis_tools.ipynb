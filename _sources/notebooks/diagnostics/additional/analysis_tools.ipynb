{
 "cells": [
  {
   "cell_type": "markdown",
   "id": "f406f992-92bd-4b17-9bd3-b99c5c8abaf3",
   "metadata": {},
   "source": [
    "# CESM analysis tools"
   ]
  },
  {
   "cell_type": "markdown",
   "id": "55b5588e-6e74-4bd7-a278-877611c4e87b",
   "metadata": {},
   "source": [
    "We have provided some information about tools the CESM users and developers use for analysis of model simulations below. This list is not comprehensive and is intended to provide you with information to start your searches."
   ]
  },
  {
   "cell_type": "markdown",
   "id": "6a4f8751-c312-49b5-a578-604b7f39099a",
   "metadata": {},
   "source": [
    "## Analysis Software"
   ]
  },
  {
   "cell_type": "markdown",
   "id": "d31bdb0d-5afe-4b38-b304-34c3179ac6dc",
   "metadata": {},
   "source": [
    "Many data analysis and visualization software packages are freely available for use on CISL-managed resources. These packages include some developed and supported by NCAR and CISL. Some of these resources are open source while others require licences.\n",
    "\n",
    "Some of these packages include:\n",
    "- Numerous python packages\n",
    "- Interactive Data Language (IDL) \n",
    "- MATLAB\n",
    "- NCAR Command Language (NCL)"
   ]
  },
  {
   "cell_type": "markdown",
   "id": "5bd4569e-601e-47d9-ad24-ae2da7087b7e",
   "metadata": {},
   "source": [
    "<div class=\"alert alert-info\" style=\"text-align: center;\">\n",
    "\n",
    "[CISL Data Analysis Website](https://arc.ucar.edu/knowledge_base/70550011)\n",
    "\n",
    "</div>"
   ]
  },
  {
   "cell_type": "markdown",
   "id": "cc1d09f3-dc55-46b2-912e-deee2147e45d",
   "metadata": {},
   "source": [
    "## Python"
   ]
  },
  {
   "cell_type": "markdown",
   "id": "0275672f-9536-4bb6-bfff-4a2eb9bc3630",
   "metadata": {},
   "source": [
    "Python is an open source, general-purpose programming language. \n",
    "\n",
    "Python is known for:\n",
    "- having a wide range of applications and packages available. There is a huge user base and rougly ~1 gazillion online tutorials. \n",
    "- active development in packages related to the geosciences.\n",
    "\n",
    "Python is becoming the dominant language for CESM developers and users, so most of the active development of tools for the CESM project at large are done in this language. We provide more detailed information below about some of the tools available for python users on NCAR computing assets."
   ]
  },
  {
   "cell_type": "markdown",
   "id": "8ce79e09-e9e2-4bf0-ad12-4aede3b2d072",
   "metadata": {},
   "source": [
    "### Jupyter Hub"
   ]
  },
  {
   "cell_type": "markdown",
   "id": "f82c8f41-42a1-40ce-86bc-5138a9940d08",
   "metadata": {},
   "source": [
    "The JupyterHub deployment that CISL manages allows \"push-button\" access to NCAR's supercomputing resource cluster of nodes used for data analysis and visualization, machine learning, and deep learning.\n",
    "\n",
    "JupyterHub gives users the ability to create, save, and share Jupyter Notebooks through the JupyterLab interface and to run interactive, web-based analysis, visualization and compute jobs on Cheyenne and Casper.\n",
    "\n",
    "Information about getting started with JupyterHub on NCAR computing resources, environments, and documentation is avaiable at the website below."
   ]
  },
  {
   "cell_type": "markdown",
   "id": "4b1cc783-53e5-45db-8954-385863b1a778",
   "metadata": {},
   "source": [
    "<div class=\"alert alert-info\" style=\"text-align: center;\">\n",
    "\n",
    "[CISL Jupyter Hub Website](https://arc.ucar.edu/knowledge_base/70549913)\n",
    "\n",
    "</div>"
   ]
  },
  {
   "cell_type": "markdown",
   "id": "71c323bc-a8e3-406d-a08b-92030f436863",
   "metadata": {},
   "source": [
    "### Earth System Data Science initiative (ESDS)"
   ]
  },
  {
   "cell_type": "markdown",
   "id": "2d21da94-244c-42c0-970f-8daec7bacf61",
   "metadata": {},
   "source": [
    "ESDS is an NCAR initiative that seeks to foster a collaborative, open, inclusive community for Earth Science data analysis. ESDS promotes deeper collaboration centered on analytics, improving our capacity to deliver impactful, actionable, reproducible science and serve the university community by transforming how geoscientists synthesize and extract information from large, diverse data sets.\n",
    "\n",
    "More information, including FAQs and a blog with examples can be found at the website below. "
   ]
  },
  {
   "cell_type": "markdown",
   "id": "a6813683-9206-492d-b477-2aee1abe4f17",
   "metadata": {},
   "source": [
    "<div class=\"alert alert-info\" style=\"text-align: center;\">\n",
    "\n",
    "[ESDS Website](https://ncar.github.io/esds/about/)\n",
    "\n",
    "</div>"
   ]
  },
  {
   "cell_type": "markdown",
   "id": "f4055e68-100a-4ae7-8ee3-47cefcd43d73",
   "metadata": {},
   "source": [
    "### Project Pythia"
   ]
  },
  {
   "cell_type": "markdown",
   "id": "f25bcd2d-a7d5-46fe-b5fb-05c14eb6a19b",
   "metadata": {},
   "source": [
    "If you are new to Python and its application to the geosciences, then starting with Project Pythia is a good first step. Project Pythia is the education working group for Pangeo and is an educational resource for the entire geoscience community. Together these initiatives are helping geoscientists make sense of huge volumes of numerical scientific data using tools that facilitate open, reproducible science, and building an inclusive community of practice around these goals."
   ]
  },
  {
   "cell_type": "markdown",
   "id": "552bc788-8a39-4ce9-b7ab-8d8f283614e7",
   "metadata": {},
   "source": [
    "<div class=\"alert alert-info\" style=\"text-align: center;\">\n",
    "\n",
    "[Project Pythia Website](https://projectpythia.org/)\n",
    "\n",
    "</div>"
   ]
  },
  {
   "cell_type": "markdown",
   "id": "efe8a781-b9e6-4ad2-a590-75ceab387fb4",
   "metadata": {},
   "source": [
    "### GeoCAT"
   ]
  },
  {
   "cell_type": "markdown",
   "id": "4583d068-c9c4-44ed-8ca3-67352c4fd414",
   "metadata": {},
   "source": [
    "The Geoscience Community Analysis Toolkit (GeoCAT) is a software engineering effort at NCAR. GeoCAT aims to create scalable data analysis and visualization tools for Earth System Science data to serve the geosciences community in the scientific Python ecosystem. GeoCAT tools are built upon the cornerstone technologies in the Pangeo stack such as Xarray, Dask, and Jupyter Notebooks. In addition, some of the functionalities in the GeoCAT stack are inspired/reimplemented from NCL."
   ]
  },
  {
   "cell_type": "markdown",
   "id": "207a8b16-9f0b-447f-b027-1a47ba747d52",
   "metadata": {},
   "source": [
    "<div class=\"alert alert-info\" style=\"text-align: center;\">\n",
    "\n",
    "[GeoCAT Website](https://geocat.ucar.edu/)\n",
    "\n",
    "</div>"
   ]
  },
  {
   "cell_type": "markdown",
   "id": "56d3130e-8f95-4a5e-a797-0b33d538141a",
   "metadata": {},
   "source": [
    "### MetPy"
   ]
  },
  {
   "cell_type": "markdown",
   "id": "76b9dc6d-74d0-4444-96d4-e60db58f8257",
   "metadata": {},
   "source": [
    "MetPy is a collection of tools in Python for reading, visualizing, and performing calculations with weather data. The website below has information about getting started as well as examples and a reference guide."
   ]
  },
  {
   "cell_type": "markdown",
   "id": "53f2c96c-f36a-4080-99b9-e7e2fb1d899d",
   "metadata": {},
   "source": [
    "<div class=\"alert alert-info\" style=\"text-align: center;\">\n",
    "\n",
    "[MetPy Website](https://unidata.github.io/MetPy/latest/)\n",
    "\n",
    "</div>"
   ]
  },
  {
   "cell_type": "markdown",
   "id": "7787ed12-bce7-4e49-ac3f-2229de327823",
   "metadata": {},
   "source": [
    "## NCAR Command Language (NCL)"
   ]
  },
  {
   "cell_type": "markdown",
   "id": "c83303a5-24e5-4758-aeed-0cf3672c665e",
   "metadata": {},
   "source": [
    "NCL is an open source tool developed at NCAR that is free to download and use. It can be run at the command line in interactive mode or as a batch mode. While once a widely used language for CESM developers and users, NCL is now in a maintenence stage and is no longer in development. Much of the active development is now being done with python tools.\n",
    "\n",
    "NCL is known for:\n",
    "- easy input/output use with netCDF, Grib, Grib2, shapefiles, ascii, and binary files. \n",
    "- good graphics that are very flexible.\n",
    "- functions tailored to the geosciences community.\n",
    "- a central website with 1000+ examples. There are also mini language and processing manuals."
   ]
  },
  {
   "cell_type": "markdown",
   "id": "7b185d5f-dcdb-4275-99b4-67bf6e5dcc2b",
   "metadata": {},
   "source": [
    "<div class=\"alert alert-info\" style=\"text-align: center;\">\n",
    "\n",
    "[NCL Website](https://www.ncl.ucar.edu/get_started.shtml)\n",
    "\n",
    "</div>"
   ]
  },
  {
   "cell_type": "markdown",
   "id": "7e2bcaf7-f5d0-4d20-b2ed-840841a02972",
   "metadata": {},
   "source": [
    "## Panopoly"
   ]
  },
  {
   "cell_type": "markdown",
   "id": "3f774a9f-c4c0-4411-97df-99afe765259f",
   "metadata": {},
   "source": [
    "Panopoly is a graphic user interface (GUI) application that allows the user to quickly view data in a number of file formats. Panopoly is similar to ncview, but it's more powerful. Panopoly works with files in netCDF, HDF, or GRIB format (among others). It also allows the user to perform simple calculations, apply masks, and quickly create spatial or line plots.\n",
    "\n",
    "The Panopoly website provies more documentation, including How-To's and demonstration videos."
   ]
  },
  {
   "cell_type": "markdown",
   "id": "483efa17-9787-4bb4-8348-2d2ebadf1dbd",
   "metadata": {},
   "source": [
    "<div class=\"alert alert-info\" style=\"text-align: center;\">\n",
    "\n",
    "[Panopoly Website](http://www.giss.nasa.gov/tools/panoply/)\n",
    "\n",
    "</div>"
   ]
  },
  {
   "cell_type": "markdown",
   "id": "124c346f-9a8a-4589-b74a-e04194a3e473",
   "metadata": {},
   "source": [
    "## Image Magick"
   ]
  },
  {
   "cell_type": "markdown",
   "id": "38488672-40e0-4383-b00c-e3128cdc5304",
   "metadata": {},
   "source": [
    "ImageMagick is a free suite of software that that can be used to display, manipulate, or compare images. It works with a wide range of file types (ps, pdf, png, gif, jpg, etc.). It can also be used to create movies. You can also alter an image at the command line. There are many options available when converting images, and more information can be found at the website below."
   ]
  },
  {
   "cell_type": "markdown",
   "id": "23b653c8-95d6-4a28-a2cc-4d6656c3ceec",
   "metadata": {},
   "source": [
    "<div class=\"alert alert-info\" style=\"text-align: center;\">\n",
    "\n",
    "[Image Magick Website](https://imagemagick.org/index.php)\n",
    "\n",
    "</div>"
   ]
  }
 ],
 "metadata": {
  "kernelspec": {
   "display_name": "Python 3 (ipykernel)",
   "language": "python",
   "name": "python3"
  },
  "language_info": {
   "codemirror_mode": {
    "name": "ipython",
    "version": 3
   },
   "file_extension": ".py",
   "mimetype": "text/x-python",
   "name": "python",
   "nbconvert_exporter": "python",
   "pygments_lexer": "ipython3",
   "version": "3.9.12"
  }
 },
 "nbformat": 4,
 "nbformat_minor": 5
}
