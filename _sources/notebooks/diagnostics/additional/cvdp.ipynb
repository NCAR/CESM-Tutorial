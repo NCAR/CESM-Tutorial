{
 "cells": [
  {
   "cell_type": "markdown",
   "id": "f406f992-92bd-4b17-9bd3-b99c5c8abaf3",
   "metadata": {},
   "source": [
    "# CVDP"
   ]
  },
  {
   "cell_type": "markdown",
   "id": "8f46aef7-947e-498e-90b1-a4ed6b077f6d",
   "metadata": {},
   "source": [
    "The climate variability and diagnostics package (CVDP) was developed by NCAR scientists to document the major modes of climate variability in models and observations.\n",
    "\n",
    "More info here:\n",
    "https://www.cesm.ucar.edu/projects/cvdp\n",
    "\n",
    "If you use CVDP results in oral or written form, please cite the following paper:\n",
    "https://doi.org/10.1002/2014EO490002\n",
    "\n",
    "\n"
   ]
  },
  {
   "cell_type": "markdown",
   "id": "f5d5800f-8a0c-4cdf-930b-48be1cb40796",
   "metadata": {},
   "source": [
    "**Additional documentation in progress.**"
   ]
  },
  {
   "cell_type": "code",
   "execution_count": null,
   "id": "def586e4-6553-48b9-b05c-2308dad9181c",
   "metadata": {},
   "outputs": [],
   "source": []
  }
 ],
 "metadata": {
  "kernelspec": {
   "display_name": "Python 3 (ipykernel)",
   "language": "python",
   "name": "python3"
  },
  "language_info": {
   "codemirror_mode": {
    "name": "ipython",
    "version": 3
   },
   "file_extension": ".py",
   "mimetype": "text/x-python",
   "name": "python",
   "nbconvert_exporter": "python",
   "pygments_lexer": "ipython3",
   "version": "3.9.12"
  }
 },
 "nbformat": 4,
 "nbformat_minor": 5
}
