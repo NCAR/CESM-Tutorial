{
 "cells": [
  {
   "cell_type": "markdown",
   "id": "f406f992-92bd-4b17-9bd3-b99c5c8abaf3",
   "metadata": {},
   "source": [
    "# UXarray\n",
    "\n",
    "UXarray is a Python package that was created to support scalable data analysis and visualization functionality on high-resolution unstructured grids. It is built around the UGRID conventions and provides Xarray-styled functionality for working directly with unstructured grids.\n",
    "\n",
    "UXarray is the product of a collaborative effort between Project Raijin, funded by an NSF EarthCube award between NSF NCAR and The Pennsylvania State University, and the SEATS project, funded by DOE."
   ]
  },
  {
   "cell_type": "markdown",
   "id": "b6f4905b-cd2a-454e-89cf-ccc585c90247",
   "metadata": {
    "tags": []
   },
   "source": [
    "## Learning Goals\n",
    "\n",
    "With this notebook, we aim to:\n",
    "\n",
    "1. Clarify why UXarray can be useful\n",
    "2. Provide self-learning resources about UXarray\n",
    "3. How to access UXarray?\n",
    "4. Give you a sense of how simple I/O and visualization with UXarray can be"
   ]
  },
  {
   "cell_type": "markdown",
   "id": "e73ce5d6-d2b1-4f32-b64f-337a1b02e2d0",
   "metadata": {},
   "source": [
    "_______________\n",
    "\n",
    "## 1. Why UXarray?\n",
    "\n",
    "UXarray can simplify your workflows with unstructured grids because it:\n",
    "\n",
    "- Enables significant data analysis and visualization functionality to be executed directly on unstructured grids\n",
    "\n",
    "- Adheres to the UGRID specifications for compatibility across a variety of mesh formats\n",
    "\n",
    "- Provides a single interface for supporting a variety of unstructured grid formats including UGRID, MPAS, SCRIP, and Exodus\n",
    "\n",
    "- Inherits from Xarray, providing simplified data using familiar (Xarray-like) data structures and operations\n",
    "\n",
    "- Brings standardization to unstructured mesh support for climate data analysis and visualization\n",
    "\n",
    "- Builds on optimized data structures and algorithms for handling large and complex unstructured datasets\n",
    "\n",
    "- Supports enhanced interoperability and community collaboration"
   ]
  },
  {
   "cell_type": "markdown",
   "id": "815e0869-0518-4cf9-9417-cd9b08965ca1",
   "metadata": {},
   "source": [
    "_______________\n",
    "\n",
    "## 2. UXarray Resources\n",
    "\n",
    "The following are some UXarray resources that you can leverage to further learn about UXarray, get started with it, see demonstrations of its analysis and visualization capabilities, and learn how to contribute to it:\n",
    "\n",
    "### UXarray Documentation Website\n",
    "\n",
    "The [UXarray documentation website](https://uxarray.readthedocs.io/en/latest/index.html#) is the to-go place for you to access fundamental information about the tool such as:\n",
    "\n",
    "- [Getting started](https://uxarray.readthedocs.io/en/latest/quickstart.html)\n",
    "- [User guide](https://uxarray.readthedocs.io/en/latest/userguide.html)\n",
    "- [Gallery](https://uxarray.readthedocs.io/en/latest/gallery.html)\n",
    "- [API reference](https://uxarray.readthedocs.io/en/latest/api.html)\n",
    "- [Installation](https://uxarray.readthedocs.io/en/latest/getting-started/installation.html)\n",
    "- [Contributor's guide](https://uxarray.readthedocs.io/en/latest/contributing.html)\n",
    "\n",
    "### UXArray's Project Pythia Cookbook\n",
    "\n",
    "This [cookbook](https://projectpythia.org/unstructured-grid-viz-cookbook/README.html) is a comprehensive showcase of workflows & techniques for **visualizing** Unstructured Grids using UXarray with its several notebooks.\n",
    "\n",
    "These notebooks can be executed online, without locally setting them up, with the help of the Binder interface provided."
   ]
  },
  {
   "cell_type": "markdown",
   "id": "17a9fff2-4b3f-4983-8c68-7e7dc6bec119",
   "metadata": {},
   "source": [
    "## 3. How to access UXarray?\n",
    "\n",
    "In addition to installing UXarray locally by following the instructions in the above [Installation](https://uxarray.readthedocs.io/en/latest/getting-started/installation.html) guide, if you are a user of the NSF NCAR's HPC clusters, you can access UXarray via the **NPL-2024a** (or a newer version) conda environment."
   ]
  },
  {
   "cell_type": "markdown",
   "id": "2f77f4fd-4b2d-4502-b953-d1f896e4dc35",
   "metadata": {},
   "source": [
    "## 4. Minimal UXarray visualization\n",
    "\n",
    "**BEFORE BEGINNING THIS EXERCISE** -  Check that your kernel is minimum `NPL-2024a`. This should be the default kernel, but if it is not, click on that button and select `NPL-2024a` or a newer version."
   ]
  },
  {
   "cell_type": "markdown",
   "id": "63a76f11-4694-4953-818e-61a974196f05",
   "metadata": {},
   "source": [
    "### Data paths"
   ]
  },
  {
   "cell_type": "code",
   "execution_count": null,
   "id": "216c2e3e-28b8-4ed2-8d64-4be300807ebe",
   "metadata": {},
   "outputs": [],
   "source": [
    "# Here we point to the location for a ne30 CAM-SE data file (the same that is used in the \"advanced_cam\" notebook),\n",
    "#and it's associated grid file:\n",
    "data_filename = \"/glade/campaign/cesm/tutorial/diagnostics_tutorial_archive/cam-se/f.cam6_3_112.FMTHIST_v0c.ne30.non-ogw-ubcT-effgw0.7_taubgnd2.5.001.cam.h3.2003-01-01-00000.nc\"\n",
    "grid_filename = \"/glade/p/cesmdata/inputdata/atm/cam/coords/ne30pg3_scrip_170604.nc\""
   ]
  },
  {
   "cell_type": "markdown",
   "id": "d22db07b-b5b3-4ae7-88f3-6c0d12e154aa",
   "metadata": {},
   "source": [
    "### UXarray Code"
   ]
  },
  {
   "cell_type": "code",
   "execution_count": null,
   "id": "f837dbd0-487c-4dee-a6fb-b2766c2bc1c8",
   "metadata": {},
   "outputs": [],
   "source": [
    "import uxarray as ux"
   ]
  },
  {
   "cell_type": "code",
   "execution_count": null,
   "id": "7b770106-c7ea-4183-8c0e-360613e6eb6f",
   "metadata": {},
   "outputs": [],
   "source": [
    "uxds_ne30 = ux.open_dataset(grid_filename, data_filename)"
   ]
  },
  {
   "cell_type": "code",
   "execution_count": null,
   "id": "8605491b-20b2-4b61-b1aa-5163b1ab5542",
   "metadata": {},
   "outputs": [],
   "source": [
    "# Let's examine the grid:\n",
    "uxds_ne30.uxgrid"
   ]
  },
  {
   "cell_type": "code",
   "execution_count": null,
   "id": "0c5a8ac5-78a5-4c1c-88ac-b89748e7667c",
   "metadata": {},
   "outputs": [],
   "source": [
    "# Visualization\n",
    "clim = (uxds_ne30['PRECC'][0].values.min(), uxds_ne30['PRECC'][0].values.max()) # colorbar limits\n",
    "uxds_ne30['PRECC'][0].plot.rasterize(method='polygon', dynamic=True, clim=clim)"
   ]
  },
  {
   "cell_type": "code",
   "execution_count": null,
   "id": "385688cb-4d28-47ed-ad6d-8d4c1b98992e",
   "metadata": {},
   "outputs": [],
   "source": []
  }
 ],
 "metadata": {
  "kernelspec": {
   "display_name": "NPL 2024a",
   "language": "python",
   "name": "npl-2024a"
  },
  "language_info": {
   "codemirror_mode": {
    "name": "ipython",
    "version": 3
   },
   "file_extension": ".py",
   "mimetype": "text/x-python",
   "name": "python",
   "nbconvert_exporter": "python",
   "pygments_lexer": "ipython3",
   "version": "3.11.6"
  }
 },
 "nbformat": 4,
 "nbformat_minor": 5
}
