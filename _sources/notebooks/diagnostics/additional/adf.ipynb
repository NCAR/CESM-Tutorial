{
 "cells": [
  {
   "cell_type": "markdown",
   "id": "f406f992-92bd-4b17-9bd3-b99c5c8abaf3",
   "metadata": {},
   "source": [
    "# ADF"
   ]
  },
  {
   "cell_type": "markdown",
   "id": "0601ca1c-4cef-4cbb-824b-16c382c66865",
   "metadata": {},
   "source": [
    "The AMWG Diagnostics Framework (ADF) is a python-based diagnostics package designed to generate a large number of\n",
    "figures and tables, currently focuses on atmospheric and chemistry fields, for a given CAM or CESM simulation and \n",
    "compare it observations or a baseline run.  The ADF can also run the CVDP, and has been coupled to CUPiD as well."
   ]
  },
  {
   "cell_type": "markdown",
   "id": "00a8f92d-5b88-4b4f-9411-2878a7411d27",
   "metadata": {},
   "source": [
    "![ADF Image](https://justin-richling.github.io/ADF-Tutorial/_images/PRECT_ANN_LatLon_Mean.png)"
   ]
  },
  {
   "cell_type": "markdown",
   "id": "749a78ea-65cb-4a27-b56a-aeb385f50b7d",
   "metadata": {},
   "source": [
    "## Tutorial:\n",
    "\n",
    "The ADF has its own complete tutorial, including an example of doing a model vs. model or model vs. observations comparion.\n",
    "You can find the tutorial [online here](https://justin-richling.github.io/ADF-Tutorial/README.html)."
   ]
  },
  {
   "cell_type": "markdown",
   "id": "9069fe9f-d7c7-4916-b568-2cc28c05ae95",
   "metadata": {},
   "source": [
    "### Note:"
   ]
  },
  {
   "cell_type": "markdown",
   "id": "a4ab2b34-ae67-424a-a0c9-c3bb8ca3f231",
   "metadata": {},
   "source": [
    "The location of the example simulations are now in **\"/glade/campaign/cgd/amp/amwg/ADF_test_cases\"**, with four new case name options.  These new simulations also have different year lengths, so you will need to make the relevant updates in the config file.  Good luck!"
   ]
  }
 ],
 "metadata": {
  "kernelspec": {
   "display_name": "Python 3 (ipykernel)",
   "language": "python",
   "name": "python3"
  },
  "language_info": {
   "codemirror_mode": {
    "name": "ipython",
    "version": 3
   },
   "file_extension": ".py",
   "mimetype": "text/x-python",
   "name": "python",
   "nbconvert_exporter": "python",
   "pygments_lexer": "ipython3",
   "version": "3.10.13"
  }
 },
 "nbformat": 4,
 "nbformat_minor": 5
}
