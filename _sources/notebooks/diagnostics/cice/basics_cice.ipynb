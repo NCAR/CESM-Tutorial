{
 "cells": [
  {
   "cell_type": "markdown",
   "id": "33070195-2d5f-4ee3-b6cb-a658209b1f4d",
   "metadata": {},
   "source": [
    "# Basic Plotting"
   ]
  },
  {
   "cell_type": "markdown",
   "id": "f837eedc-2e5c-44a7-b4a4-6be632371012",
   "metadata": {},
   "source": [
    "**BEFORE BEGINNING THIS EXERCISE** -  Check that your kernel (upper right corner, above) is `NPL 2023a`. This should be the default kernel, but if it is not, click on that button and select `NPL 2023a`."
   ]
  },
  {
   "cell_type": "markdown",
   "id": "4fc43611-93db-4fa6-9396-362101c0fc33",
   "metadata": {},
   "source": [
    "_______________\n",
    "This activity was developed primarily by David Bailey and Alice DuVivier."
   ]
  },
  {
   "cell_type": "markdown",
   "id": "55f2ff0c-2b84-4c10-bde3-bc23722cb0ab",
   "metadata": {},
   "source": [
    "_______________\n",
    "These are examples of typical variables and plots that we look at in our sea ice diagnostics package. The most current version of the sea ice diagnostics are in the CESM Postprocessing. More information can be found here: [CESM Postprocessing](https://github.com/NCAR/CESM_postprocessing)."
   ]
  },
  {
   "cell_type": "markdown",
   "id": "3d56ba02-c652-4a97-a466-d3633e53aeb1",
   "metadata": {},
   "source": [
    "The first step is to import the libraries needed to plot the data. Here we will use `xarray` as a tool to read the netCDF file. We will use `numpy` for some basic math calculations. For plotting the data we will need `matplotlib`, `pop_tools`, `geocat` and `cartopy`."
   ]
  },
  {
   "cell_type": "code",
   "execution_count": 1,
   "id": "7e7f10ae-61c8-45f1-9d5c-9be60632b556",
   "metadata": {},
   "outputs": [],
   "source": [
    "import xarray as xr\n",
    "import numpy as np\n",
    "import matplotlib.pyplot as plt\n",
    "import matplotlib.path as mpath\n",
    "from matplotlib.gridspec import GridSpec\n",
    "import pop_tools\n",
    "import cartopy.crs as ccrs\n",
    "import cartopy.feature as cfeature\n",
    "import nc_time_axis\n",
    "import cftime\n",
    "import os"
   ]
  },
  {
   "cell_type": "markdown",
   "id": "98894413-8550-49ba-b5ff-c027900b253a",
   "metadata": {},
   "source": [
    "_______________\n",
    "## Exercise 1: Plot Sea Ice Concentration on a polar projection."
   ]
  },
  {
   "cell_type": "markdown",
   "id": "0a9043ca-ec38-4bc9-84e9-54e375c8f4e6",
   "metadata": {},
   "source": [
    "Here you will learn about plotting sea ice area and other variables on a polar projection."
   ]
  },
  {
   "cell_type": "markdown",
   "id": "4fa4bed0-8207-4cb6-ae96-2507b56f7aef",
   "metadata": {},
   "source": [
    "The first step is to grab sea ice (CICE) history files from your CESM model run"
   ]
  },
  {
   "cell_type": "code",
   "execution_count": 2,
   "id": "da58ab48-2fc9-4bd8-8892-2af0782f1e59",
   "metadata": {},
   "outputs": [
    {
     "name": "stdout",
     "output_type": "stream",
     "text": [
      "<xarray.DataArray 'hi' (time: 40, nj: 384, ni: 320)>\n",
      "dask.array<concatenate, shape=(40, 384, 320), dtype=float32, chunksize=(1, 384, 320), chunktype=numpy.ndarray>\n",
      "Coordinates:\n",
      "  * time     (time) object 0001-02-01 00:00:00 ... 0004-05-01 00:00:00\n",
      "    TLON     (nj, ni) float32 dask.array<chunksize=(384, 320), meta=np.ndarray>\n",
      "    TLAT     (nj, ni) float32 dask.array<chunksize=(384, 320), meta=np.ndarray>\n",
      "    ULON     (nj, ni) float32 dask.array<chunksize=(384, 320), meta=np.ndarray>\n",
      "    ULAT     (nj, ni) float32 dask.array<chunksize=(384, 320), meta=np.ndarray>\n",
      "Dimensions without coordinates: nj, ni\n",
      "Attributes:\n",
      "    units:          m\n",
      "    long_name:      grid cell mean ice thickness\n",
      "    cell_measures:  area: tarea\n",
      "    cell_methods:   time: mean\n",
      "    time_rep:       averaged\n"
     ]
    }
   ],
   "source": [
    "\n",
    "# Set your username here:\n",
    "username = \"PUT_USER_NAME_HERE\"\n",
    "\n",
    "# Here we point to the archive directory from your b.day2.1 simulation\n",
    "monthly_output_path = f\"/glade/scratch/{username}/archive/b.day2.1/ice/hist\"\n",
    "\n",
    "# If you were unable to successfully run the b.day2.1 simulation, then feel free to use\n",
    "# this provided simulation data instead:\n",
    "monthly_output_path = \"/glade/p/cesm/tutorial/tutorial_2023_archive/b.day2.1/ice/hist\"\n",
    "\n",
    "# Name of CESM run\n",
    "run_name = \"b.day2.1\"\n",
    "\n",
    "# Create path to all files, including unix wild card for all dates\n",
    "files = os.path.join(monthly_output_path, run_name + \".cice.h.*\")\n",
    "\n",
    "# read in files as an xarray dataset:\n",
    "ds = xr.open_mfdataset(files)\n",
    "\n",
    "### For this analysis, choose which variable to keep. Start with `aice` and then later try `hi`\n",
    "#var_in = 'aice'    # sea ice concentration\n",
    "var_in = 'hi'      # sea ice thickness\n",
    "\n",
    "var_to_keep = ds[var_in]\n",
    "\n",
    "print(var_to_keep)"
   ]
  },
  {
   "cell_type": "markdown",
   "id": "ded5a0a7-9e8f-4e00-8f5e-383c68cdb201",
   "metadata": {},
   "source": [
    "The next step is to read in some grid information for the `gx1v7` dipole grid used in POP and CICE. We will read in three main variables: `tarea`, `TLAT`, and `TLON`. These are the areas of the gridcells along with the latitudes and longitudes of the gridcell centers. Also, we will print the longitude array `TLONG` to see the metadata."
   ]
  },
  {
   "cell_type": "code",
   "execution_count": null,
   "id": "19cf3c69-1a1d-467e-8071-e2be50d33150",
   "metadata": {},
   "outputs": [],
   "source": [
    "# get pop grid grid cell areas\n",
    "grid = pop_tools.get_grid('POP_gx1v7')\n",
    "\n",
    "# convert tarea to m^2\n",
    "with xr.set_options(keep_attrs=True):\n",
    "    grid['TAREA'] = grid['TAREA']/(1e4)\n",
    "grid['TAREA'].attrs['units'] = 'm^2'\n",
    "\n",
    "grid\n",
    "\n",
    "grid['TLONG']"
   ]
  },
  {
   "cell_type": "markdown",
   "id": "b89ce1e7-cad5-4b14-a95b-58de981e73c7",
   "metadata": {},
   "source": [
    "We will merge in three main variables: `TAREA`, `TLAT`, and `TLON`. These are the areas of the gridcells along with the latitudes and longitudes of the gridcell centers. Note that this overwrites the dataset object from above."
   ]
  },
  {
   "cell_type": "code",
   "execution_count": null,
   "id": "4e6d86e3-2876-4c79-9cc8-8c02f935deb9",
   "metadata": {},
   "outputs": [],
   "source": [
    "ds = xr.merge([var_to_keep.drop(['TLAT', 'TLON', 'ULAT', 'ULON']),\n",
    "               grid[['TLAT', 'TLONG', 'TAREA']].rename_dims({'nlat':'nj','nlon':'ni'})],\n",
    "              compat='identical', combine_attrs='no_conflicts')\n",
    "grid['TLAT']"
   ]
  },
  {
   "cell_type": "markdown",
   "id": "101ce439-4fd7-412b-9f1d-1e7f34060747",
   "metadata": {},
   "source": [
    "The next step is to set up the northern hemisphere polar stereographic projection for plotting the sea ice variable. We start with sea ice concentration `aice`. We are using a \"rainbow\" colormap here and cutting off the plot with a circular boundary. Note that we are only plotting the first timeslice of the `aice` array here."
   ]
  },
  {
   "cell_type": "code",
   "execution_count": null,
   "id": "28a0da20-6bad-45d7-a61a-43d55ea2acd2",
   "metadata": {},
   "outputs": [],
   "source": [
    "# make circular boundary for polar stereographic circular plots\n",
    "theta = np.linspace(0, 2*np.pi, 100)\n",
    "center, radius = [0.5, 0.5], 0.5\n",
    "verts = np.vstack([np.sin(theta), np.cos(theta)]).T\n",
    "circle = mpath.Path(verts * radius + center)\n",
    "\n",
    "# define the colormap\n",
    "cmap = plt.cm.get_cmap('rainbow')  \n",
    "\n",
    "# set up the figure with a North Polar Stereographic projection\n",
    "fig = plt.figure(figsize=(20,20))\n",
    "ax = fig.add_subplot(1,2,1, projection=ccrs.NorthPolarStereo())\n",
    "ax.set_boundary(circle, transform=ax.transAxes)\n",
    "ax.add_feature(cfeature.LAND,zorder=100,edgecolor='k')\n",
    "\n",
    "# sets the latitude / longitude boundaries of the plot\n",
    "ax.set_extent([0.005, 360, 90, 55], crs=ccrs.PlateCarree())\n",
    "\n",
    "#Plot the first timeslice of aice\n",
    "this=ax.pcolormesh(ds['TLONG'],\n",
    "                   ds['TLAT'],\n",
    "                   ds[var_in].isel(time=0).squeeze(),\n",
    "                   cmap=cmap,vmax=1,vmin=0,\n",
    "                   transform=ccrs.PlateCarree())\n",
    "plt.colorbar(this,orientation='vertical',fraction=0.04,pad=0.01)\n",
    "plt.title('Sea Ice Concentration',fontsize=20)"
   ]
  },
  {
   "cell_type": "markdown",
   "id": "0ed4273f-6855-40fd-b69f-03d78fcde11f",
   "metadata": {},
   "source": [
    "<div class=\"alert alert-success\">   \n",
    "<details>\n",
    "<summary><font face=\"Times New Roman\" color='blue'>Click here for the solution</font></summary><br>\n",
    "\n",
    "![plot example](../../../images/diagnostics/cice/basics_plot_1.png)\n",
    "\n",
    "*<p style=\"text-align: center;\"> Figure: Plotting solution. </p>*\n",
    "    \n",
    "</details>\n",
    "</div>"
   ]
  },
  {
   "cell_type": "markdown",
   "id": "24071060-19f0-467c-9835-221ce0456333",
   "metadata": {},
   "source": [
    "**Question:**\n",
    "\n",
    "Why is the scale from 0-1 for `aice`?"
   ]
  },
  {
   "cell_type": "markdown",
   "id": "5c5c4859-c3de-4160-a2e2-cc6d8293173a",
   "metadata": {},
   "source": [
    "<div class=\"alert alert-warning\">  \n",
    "<details>\n",
    "\n",
    "<summary> <font face=\"Times New Roman\" color='blue'>Click here for hints</font> </summary>\n",
    "\n",
    "The variable `aice` is actually ice fraction. To convert it to concentration you would need to multipy it by 100. In the rest of these notebooks we use the ice fraction fairly interchangeably with ice concentration. But if you are plotting these you should check your range and see if the maximum value is 1 or 100 because that's important for setting colorbar limits.\n",
    "    \n",
    "    \n",
    "</details>\n",
    "</div>"
   ]
  },
  {
   "cell_type": "markdown",
   "id": "032392b9-ebb9-4fc2-83a7-991d15248f15",
   "metadata": {},
   "source": [
    "**Question:**\n",
    "\n",
    "What month did you plot above? How could you plot the September ice concentration? (Remember that the monthly files are written at the last timestep of the month, so the June files are written out on July 1 at 00Z)."
   ]
  },
  {
   "cell_type": "markdown",
   "id": "6090f64c-0763-46af-b345-ae4c6d4979e0",
   "metadata": {},
   "source": [
    "<div class=\"alert alert-warning\">  \n",
    "<details>\n",
    "\n",
    "<summary> <font face=\"Times New Roman\" color='blue'>Click here for hints</font> </summary>\n",
    "\n",
    "You can check the date plotted by using the following command.\n",
    "    \n",
    "```python\n",
    "ds['aice'].isel(time=0).time\n",
    "\n",
    "```\n",
    "\n",
    "You should see that the date is Feb.1 of year 1 at 00Z. Which means it is the January mean sea ice concentration. To plot the September mean sea ice concentration, use the timeslice `time=8`.\n",
    "    \n",
    "    \n",
    "</details>\n",
    "</div>"
   ]
  },
  {
   "cell_type": "markdown",
   "id": "90114326-683d-4c15-9a60-d3a49545cc7a",
   "metadata": {},
   "source": [
    "**Question:**\n",
    "\n",
    "What do you think of that rainbow colormap? Try other colormaps like `viridis`, `plasma`, `Blues`. Note that if you add the string `_r` to the colormap name it will reverse the colormap. What is a more intutitive map for plotting sea ice concentration?"
   ]
  },
  {
   "cell_type": "markdown",
   "id": "bce3bc22-5c2d-4f6b-85c4-b742ff4e6584",
   "metadata": {
    "tags": []
   },
   "source": [
    "<div class=\"alert alert-warning\">  \n",
    "<details>\n",
    "\n",
    "<summary> <font face=\"Times New Roman\" color='blue'>Click here for hints</font> </summary>\n",
    "\n",
    "We think the reversed Blues colormap is more intuitive.\n",
    "    \n",
    "```python\n",
    "cmap = plt.cm.get_cmap('Blues_r') \n",
    "\n",
    "```\n",
    "    \n",
    "</details>\n",
    "</div>"
   ]
  },
  {
   "cell_type": "markdown",
   "id": "1d05d033-37b9-439f-8aa9-0d5727612a73",
   "metadata": {},
   "source": [
    "**Question:**\n",
    "\n",
    "Can you plot the annual mean over the data? What about computing the September mean over the data and plotting that?"
   ]
  },
  {
   "cell_type": "markdown",
   "id": "997afdf3-a145-4ca7-98d0-8e3ca3cdba5e",
   "metadata": {},
   "source": [
    "<div class=\"alert alert-warning\">  \n",
    "<details>\n",
    "\n",
    "<summary> <font face=\"Times New Roman\" color='blue'>Click here for hints</font> </summary>\n",
    "\n",
    "Try entering the following data to plot in the `pcolormesh` function.\n",
    "    \n",
    "```python\n",
    "ds['aice'].mean(dim='time').squeeze(),\n",
    "\n",
    "```\n",
    "    \n",
    "</details>\n",
    "</div>"
   ]
  },
  {
   "cell_type": "markdown",
   "id": "f99f305c-be5a-44de-8c19-72551c10b51e",
   "metadata": {},
   "source": [
    "**Question:**\n",
    "\n",
    "You have plotted the sea ice concentration (`aice`), now try plotting the thickness (`hi`). Note that the units of thickness are in meters, so think about how you should adjust the colorbar range to be sensible? Note that you will have to change the `var_in` at the top of this section."
   ]
  },
  {
   "cell_type": "markdown",
   "id": "58760c0a-ed62-40a0-b315-a018741de8cd",
   "metadata": {},
   "source": [
    "<div class=\"alert alert-warning\">  \n",
    "<details>\n",
    "\n",
    "<summary> <font face=\"Times New Roman\" color='blue'>Click here for hints</font> </summary>\n",
    "\n",
    "After selecting `var_in = hi`, run through the following cells. Then check different ranges for `vmax` that might make more sense for the sea ice thickness (e.g. `vmax=5`)\n",
    "        \n",
    "</details>\n",
    "</div>"
   ]
  },
  {
   "cell_type": "markdown",
   "id": "5ed91922-b419-4685-84e2-62c49a57a135",
   "metadata": {},
   "source": [
    "**Question:**\n",
    "\n",
    "All of the previous plots were of the Northern Hemisphere. How would you plot the Southern Hemisphere? How might you want to consider the seasonality if you're looking at Antarctic sea ice?"
   ]
  },
  {
   "cell_type": "markdown",
   "id": "32e34c3e-b7b4-4da1-b297-f34cfe0a6a72",
   "metadata": {},
   "source": [
    "<div class=\"alert alert-warning\">  \n",
    "<details>\n",
    "\n",
    "<summary> <font face=\"Times New Roman\" color='blue'>Click here for hints</font> </summary>\n",
    "\n",
    "Use the following to plot the Southern Hemisphere\n",
    "    \n",
    "```\n",
    "ax = fig.add_subplot(1,2,1, projection=ccrs.SouthPolarStereo())\n",
    "\n",
    "ax.set_extent([0.005, 360, -90, -55], crs=ccrs.PlateCarree())\n",
    "```\n",
    "        \n",
    "</details>\n",
    "</div>"
   ]
  },
  {
   "cell_type": "markdown",
   "id": "42b295a0-4675-4d4e-814f-5aac53b90973",
   "metadata": {},
   "source": [
    "_______________\n",
    "## Exercise 2: Plot a time series of total sea ice area."
   ]
  },
  {
   "cell_type": "markdown",
   "id": "c0dd3647-5e9e-4d57-8cfb-4e0f073a269c",
   "metadata": {},
   "source": [
    "The next few steps read in sea ice concentration or (`aice`) from one of the CESM2 large ensemble historical runs. Note this operation points to multiple files on the campaign file system, so we are using the `xarray` function `open_mfdataset` for a multifile dataset. We will also print the `aice` dataset to get an idea of the metadata and dimensions. Note that we could use the 10 year simulation from the tutorial. Note that we could use the output from the tutorial simulations. However, those runs are very short and thus are not a very interesting timeseries. Instead we can use one of the CESM2 Large Ensemble historical simulations. [Rodgers et al. 2021](https://doi.org/10.5194/esd-12-1393-2021)"
   ]
  },
  {
   "cell_type": "code",
   "execution_count": null,
   "id": "d3f591cc-dd67-4a3f-abe7-bfc740743db1",
   "metadata": {},
   "outputs": [],
   "source": [
    "\n",
    "# First remove the old 'ds' variable:\n",
    "del ds\n",
    "\n",
    "### Here we point to the CESM2-LE datasets on campaign disk\n",
    "\n",
    "monthly_output_path = \"/glade/campaign/cgd/cesm/CESM2-LE/ice/proc/tseries/month_1\"\n",
    "run_name = \"b.e21.BHISTcmip6.f09_g17.LE2-1001.001\"\n",
    "\n",
    "\n",
    "\n",
    "### For this we will use the sea ice concentration (aice) and ice thickness (hi)\n",
    "\n",
    "var_names = ['aice',\n",
    "             'hi',\n",
    "            ]\n",
    "\n",
    "### This piece of code opens the files and combines them into a single xarray dataset\n",
    "\n",
    "da_list = []\n",
    "\n",
    "for var_name in var_names:\n",
    "    files = os.path.join(monthly_output_path, var_name,\n",
    "                         run_name + \".cice.h.\" + var_name + \".*\")\n",
    "    ds_in = xr.open_mfdataset(files)\n",
    "    da_list.append(ds_in[var_name])\n",
    "    del ds_in\n",
    "\n",
    "ds = xr.merge(da_list)\n",
    "\n",
    "del da_list\n",
    "\n",
    "aice = ds['aice']\n",
    "\n",
    "print(aice)"
   ]
  },
  {
   "cell_type": "markdown",
   "id": "d38f2b64-72e7-4021-810b-8124062985b8",
   "metadata": {},
   "source": [
    "The next step is to read in some grid information for the `gx1v7` dipole grid used in POP and CICE. We will read in three main variables: `TAREA`, `TLAT`, and `TLON`. These are the areas of the gridcells along with the latitudes and longitudes of the gridcell centers. Also, we will print the area array `TAREA` to see the metadata."
   ]
  },
  {
   "cell_type": "code",
   "execution_count": null,
   "id": "560ec8fb-7200-460e-a240-538dc223509d",
   "metadata": {},
   "outputs": [],
   "source": [
    "# get pop grid grid cell areas\n",
    "grid = pop_tools.get_grid('POP_gx1v7')\n",
    "\n",
    "# convert tarea to m^2\n",
    "with xr.set_options(keep_attrs=True):\n",
    "    grid['TAREA'] = grid['TAREA']/(1e4)\n",
    "grid['TAREA'].attrs['units'] = 'm^2'\n",
    "\n",
    "grid\n",
    "\n",
    "grid['TAREA']"
   ]
  },
  {
   "cell_type": "markdown",
   "id": "2bb581ad-11b2-4682-be94-98c9eeedd11d",
   "metadata": {},
   "source": [
    "We will merge in three main variables: `TAREA`, `TLAT`, and `TLON`. These are the areas of the gridcells along with the latitudes and longitudes of the gridcell centers. Note that this overwrites the dataset object from above."
   ]
  },
  {
   "cell_type": "code",
   "execution_count": null,
   "id": "6ddcac5a-2e22-470a-8243-a3219d0488be",
   "metadata": {},
   "outputs": [],
   "source": [
    "ds = xr.merge([aice.drop(['TLAT', 'TLON', 'ULAT', 'ULON']),\n",
    "               grid[['TLAT', 'TLONG', 'TAREA']].rename_dims({'nlat':'nj','nlon':'ni'})],\n",
    "              compat='identical', combine_attrs='no_conflicts')\n",
    "grid['TLAT']"
   ]
  },
  {
   "cell_type": "markdown",
   "id": "9aa682c3-d6ed-4188-885f-d34268deac50",
   "metadata": {},
   "source": [
    "The next step is to compute the ice area in each grid cell by multiplying the grid cell areas by the ice area fraction. Then we subset to just grid cells in the Northern hemisphere (using `where`). Finally, we sum over all of the grid cells. We can do these operations in a single line:"
   ]
  },
  {
   "cell_type": "code",
   "execution_count": null,
   "id": "ab1c8910-677e-4345-8f06-ec3f7a4a9f07",
   "metadata": {},
   "outputs": [],
   "source": [
    "ds_area = (ds.TAREA*ds.aice).where(ds.TLAT>0).sum(dim=['nj','ni'])"
   ]
  },
  {
   "cell_type": "code",
   "execution_count": null,
   "id": "2d177fa4-70c3-4f58-8b2f-4b9193ee3cbe",
   "metadata": {},
   "outputs": [],
   "source": [
    "ds_area.plot()"
   ]
  },
  {
   "cell_type": "markdown",
   "id": "8d7a8183-ab18-4fbc-a542-43d01a53f75f",
   "metadata": {},
   "source": [
    "<div class=\"alert alert-success\">   \n",
    "<details>\n",
    "<summary><font face=\"Times New Roman\" color='blue'>Click here for the solution</font></summary><br>\n",
    "\n",
    "![plot example](../../../images/diagnostics/cice/basics_plot_2.png)\n",
    "\n",
    "*<p style=\"text-align: center;\"> Figure: Plotting solution. </p>*\n",
    "    \n",
    "</details>\n",
    "</div>"
   ]
  },
  {
   "cell_type": "markdown",
   "id": "9efb6f20-f442-42b6-a838-c0af66a98ba6",
   "metadata": {},
   "source": [
    "This plot looks very noisy! Why do you think this is? Hint: you have plotted how many years of monthly mean data? Let's try just plotting September instead.\n",
    "\n",
    "**Question:** Why do we use month 10 (`ds_area.time.dt.month.isin([10])`) to reference September data?"
   ]
  },
  {
   "cell_type": "code",
   "execution_count": null,
   "id": "90d62f0a-e43b-4bad-a759-0133bc2860aa",
   "metadata": {},
   "outputs": [],
   "source": [
    "ds_area.sel(time=ds_area.time.dt.month.isin([10])).plot()"
   ]
  },
  {
   "cell_type": "markdown",
   "id": "83148fbe-aa53-41fe-b8fd-aeb7c2a5dc0c",
   "metadata": {},
   "source": [
    "<div class=\"alert alert-success\">   \n",
    "<details>\n",
    "<summary><font face=\"Times New Roman\" color='blue'>Click here for the solution</font></summary><br>\n",
    "\n",
    "![plot example](../../../images/diagnostics/cice/basics_plot_3.png)\n",
    "\n",
    "*<p style=\"text-align: center;\"> Figure: Plotting solution. </p>*\n",
    "    \n",
    "</details>\n",
    "</div>"
   ]
  },
  {
   "cell_type": "markdown",
   "id": "5ea1c8b6-19b9-441d-ae08-82db58ddb90a",
   "metadata": {},
   "source": [
    "Now let's plot the observational data on top. The NSIDC Sea Ice Index will be the values we want. These are computed from satellite observations. More information can be found here [Sea Ice Index](https://nsidc.org/data/seaice_index)."
   ]
  },
  {
   "cell_type": "code",
   "execution_count": null,
   "id": "de2232e9-2705-4894-b98a-a93082ae7f79",
   "metadata": {
    "tags": []
   },
   "outputs": [],
   "source": [
    "##### Add the data values manually from the datafile.\n",
    "##### Create an xarray object with the NSIDC values and the years from 1979 to 2022.\n",
    "\n",
    "seaice_index = [4.58,4.87,4.44,4.43,4.7,4.11,4.23,4.72,5.64,5.36,4.86,4.55,4.51,5.43,4.58,5.13,4.43,5.62,\\\n",
    "                4.89,4.3,4.29,4.35,4.59,4.03,4.05,4.39,4.07,4.01,2.82,3.26,3.76,3.34,3.21,2.41,3.78,3.74,\\\n",
    "                3.42,2.91,3.35,3.35,3.17,2.83,3.47,3.47]\n",
    "\n",
    "# Convert to m^2\n",
    "seaice_index = np.array(seaice_index)\n",
    "seaice_index *= 1e12\n",
    "\n",
    "nsidc_time = [cftime.datetime(y, 10, 15) for y in range(1979,2023)]\n",
    "\n",
    "nsidc_index = xr.DataArray(data=seaice_index,coords={\"time\":nsidc_time})\n",
    "\n",
    "nsidc_index\n"
   ]
  },
  {
   "cell_type": "code",
   "execution_count": null,
   "id": "00fc5097-af7d-4cf2-94ab-bb4e0a63960c",
   "metadata": {},
   "outputs": [],
   "source": [
    "ds_area.sel(time=ds_area.time.dt.month.isin([10])).plot()\n",
    "nsidc_index.plot()"
   ]
  },
  {
   "cell_type": "markdown",
   "id": "6193d89f-ce8a-48df-aaf1-cb291f360dcc",
   "metadata": {},
   "source": [
    "<div class=\"alert alert-success\">   \n",
    "<details>\n",
    "<summary><font face=\"Times New Roman\" color='blue'>Click here for the solution</font></summary><br>\n",
    "\n",
    "![plot example](../../../images/diagnostics/cice/basics_plot_4.png)\n",
    "\n",
    "*<p style=\"text-align: center;\"> Figure: Plotting solution. </p>*\n",
    "    \n",
    "</details>\n",
    "</div>"
   ]
  },
  {
   "cell_type": "markdown",
   "id": "eea0e9cc-1769-45ad-9461-c9d3d8c51264",
   "metadata": {},
   "source": [
    "**Question:**\n",
    "\n",
    "Why do you think the observed (orange) does not perfectly correspond to the model? "
   ]
  },
  {
   "cell_type": "markdown",
   "id": "f07628e0-6c6a-4f7d-89f2-e2f115e586a9",
   "metadata": {},
   "source": [
    "<div class=\"alert alert-warning\">  \n",
    "<details>\n",
    "\n",
    "<summary> <font face=\"Times New Roman\" color='blue'>Click here for hints</font> </summary>\n",
    "\n",
    "The model is one of 100 ensemble realizations of the 20th century and evolves independently, meaning each simulation has different weather and that weather will almost certainly be different from the observations. It will not, and should not, exactly match the observations because the climate system is chaotic.\n",
    "        \n",
    "</details>\n",
    "</div>"
   ]
  },
  {
   "cell_type": "markdown",
   "id": "412e002b-6a7f-4604-93fa-dfa7718ab2e3",
   "metadata": {},
   "source": [
    "**Question:**\n",
    "\n",
    "What do you think you'll see if you plot the March total area timeseries?"
   ]
  },
  {
   "cell_type": "markdown",
   "id": "ed26c32a-79e4-4842-8ca7-ca4ec6f68b2a",
   "metadata": {},
   "source": [
    "<div class=\"alert alert-warning\">  \n",
    "<details>\n",
    "\n",
    "<summary> <font face=\"Times New Roman\" color='blue'>Click here for hints</font> </summary>\n",
    "\n",
    "March total area.\n",
    "```\n",
    "ds_area.sel(time=ds_area.time.dt.month.isin([4])).plot()\n",
    "```\n",
    "This should be higher mean and have a negative, but smaller, trend than the September trend.    \n",
    "        \n",
    "</details>\n",
    "</div>"
   ]
  },
  {
   "cell_type": "markdown",
   "id": "c4f36db3-ca0f-4f6b-9b60-9e618222d0b8",
   "metadata": {},
   "source": [
    "**Question:**\n",
    "\n",
    "Try computing total ice volume and plotting it."
   ]
  },
  {
   "cell_type": "markdown",
   "id": "9e96388f-b421-4a3c-b719-c83908e36f30",
   "metadata": {},
   "source": [
    "<div class=\"alert alert-warning\">  \n",
    "<details>\n",
    "\n",
    "<summary> <font face=\"Times New Roman\" color='blue'>Click here for hints</font> </summary>\n",
    "\n",
    "To calculate ice volume, use the variable `hi` in place of `aice`. Note that volume is units of $m^3$. So, you might want to scale the volume by $1.0e-13$.\n",
    "    \n",
    "```\n",
    "ds_vol = (ds.TAREA*ds.hi).where(ds.TLAT>0).sum(dim=['nj','ni'])\n",
    "```   \n",
    "</details>\n",
    "</div>"
   ]
  },
  {
   "cell_type": "markdown",
   "id": "2ce5c6f9-4272-4a8c-9b7b-3e6a31a5a708",
   "metadata": {},
   "source": [
    "**Question:**\n",
    "\n",
    "What does the Southern Hemisphere sea ice area and volume look like?"
   ]
  },
  {
   "cell_type": "markdown",
   "id": "7e921a48-2488-45f9-a7a4-ec860e7e21ec",
   "metadata": {},
   "source": [
    "<div class=\"alert alert-warning\">  \n",
    "<details>\n",
    "\n",
    "<summary> <font face=\"Times New Roman\" color='blue'>Click here for hints</font> </summary>\n",
    "\n",
    "To calculate the Southern Hemisphere total area or volume, set the following values so that you only include points where the latitude is *less than* zero.\n",
    "```\n",
    "ds_area = (ds.TAREA*ds.aice).where(ds.TLAT<0).sum(dim=['nj','ni'])\n",
    "```   \n",
    "</details>\n",
    "</div>"
   ]
  },
  {
   "cell_type": "code",
   "execution_count": null,
   "id": "25cf9352-2ee8-4b2b-ae7f-d7edc764977a",
   "metadata": {},
   "outputs": [],
   "source": []
  }
 ],
 "metadata": {
  "kernelspec": {
   "display_name": "NPL 2023a",
   "language": "python",
   "name": "npl-2023a"
  },
  "language_info": {
   "codemirror_mode": {
    "name": "ipython",
    "version": 3
   },
   "file_extension": ".py",
   "mimetype": "text/x-python",
   "name": "python",
   "nbconvert_exporter": "python",
   "pygments_lexer": "ipython3",
   "version": "3.9.16"
  }
 },
 "nbformat": 4,
 "nbformat_minor": 5
}
