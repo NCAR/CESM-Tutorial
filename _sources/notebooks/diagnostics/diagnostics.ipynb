{
 "cells": [
  {
   "cell_type": "markdown",
   "id": "0959db1d-1790-4519-a34e-7026444af537",
   "metadata": {},
   "source": [
    "# Diagnostics"
   ]
  },
  {
   "cell_type": "markdown",
   "id": "9fdd8253-f6b6-4969-b862-b7a8545ee46e",
   "metadata": {},
   "source": [
    "_______________\n",
    "These activities have been tested and updated by Jesse Nusbaumer and Alice DuVivier"
   ]
  },
  {
   "cell_type": "markdown",
   "id": "a7a70c8a-be92-4a7a-8d67-1b3941013b4f",
   "metadata": {
    "tags": []
   },
   "source": [
    "_______________\n",
    "Once the CESM model has been run and the output data has been transfered to the short term archive Directory the real job of understanding how the simulation ran and what it means from a scientific perspective begins. By this point you have run a number of simulations and have looked at model output using `ncview`. There is no supported CESM diagnostics package that is used by all CESM model components. \n",
    "\n",
    "In this section you will practice plotting output from the individual model components that may be useful to you to better understand your model output. We use Jupyter Notebooks for this exercise, though many [CESM analysis tools](https://ncar.github.io/CESM-Tutorial/notebooks/diagnostics/additional/analysis_tools.html) are available.\n",
    "\n",
    "To start running the Jupyter Notebooks provided for this tutorial, follow the steps below."
   ]
  },
  {
   "cell_type": "markdown",
   "id": "90a99498-75c0-46ce-8aa2-9c33ce5d7aed",
   "metadata": {},
   "source": [
    "## Step 1. Download CESM Tutorial notebooks with Git Clone"
   ]
  },
  {
   "cell_type": "markdown",
   "id": "08427f89-a2c6-40d9-af61-45815753cd92",
   "metadata": {},
   "source": [
    "<div class=\"alert alert-warning\">\n",
    "<strong>We will use the main branch of the tutorial materials for use in this tutorial. </strong><br><br>\n",
    "</div>"
   ]
  },
  {
   "cell_type": "markdown",
   "id": "f28bf659-f7cb-46e9-8594-c6da04977d68",
   "metadata": {},
   "source": [
    "First we will change into the home directory and then we will use the `git clone` command to download the CESM Tutorial diagnostics notebooks.\n",
    "\n",
    "<div class=\"alert alert-info\">\n",
    "<strong>Change the current directory to the home directory: </strong><br>\n",
    "\n",
    "```\n",
    "cd \n",
    "```\n",
    "<br>\n",
    "    \n",
    "<strong>Download the cesm code to your code workspace directory as `CESM-Tutorial`: </strong><br>\n",
    "```\n",
    "git clone https://github.com/NCAR/CESM-Tutorial.git CESM-Tutorial\n",
    "```\n",
    "\n",
    "    \n",
    "</div>"
   ]
  },
  {
   "cell_type": "markdown",
   "id": "c582acd5-84df-4cf1-8d26-90bfd9aa6ebc",
   "metadata": {},
   "source": [
    "## Step 2. Login to JupyterHub"
   ]
  },
  {
   "cell_type": "markdown",
   "id": "187dcf75-3527-44ac-9ecd-86f47a3d524e",
   "metadata": {},
   "source": [
    "Go to the JupyterHub website ([https://jupyterhub.hpc.ucar.edu/](https://jupyterhub.hpc.ucar.edu/)) and click on the \"Production\" button."
   ]
  },
  {
   "cell_type": "markdown",
   "id": "823cbbdc-649f-47dd-8977-a525554e15cf",
   "metadata": {},
   "source": [
    "![JupyterHub](../../images/diagnostics/login/Diagnostics_1.png)"
   ]
  },
  {
   "cell_type": "markdown",
   "id": "de2094b5-9ac8-428d-aec7-d9f16baea936",
   "metadata": {},
   "source": []
  },
  {
   "cell_type": "markdown",
   "id": "98b5aeea-43d8-4112-a1c5-ab6ebb00dc39",
   "metadata": {},
   "source": [
    "This will take you to a page where you enter your username and password, exactly as you do to login to Cheyenne or Casper. After you do this and click \"Sign In\" you will get a Duo verification request as well."
   ]
  },
  {
   "cell_type": "markdown",
   "id": "9e568f0f-6091-4136-85f7-ebe851a784f2",
   "metadata": {},
   "source": [
    "![JupyterHub Login](../../images/diagnostics/login/Diagnostics_2.png)"
   ]
  },
  {
   "cell_type": "markdown",
   "id": "8c34bbd4-c129-4481-9df9-b5839b582a21",
   "metadata": {},
   "source": []
  },
  {
   "cell_type": "markdown",
   "id": "affaa497-235a-4b59-862f-a3a8e5abb2c6",
   "metadata": {},
   "source": [
    "Start your server on JupyterHub."
   ]
  },
  {
   "cell_type": "markdown",
   "id": "99ec89f3-d470-469e-a7b0-a2bc4497678e",
   "metadata": {},
   "source": [
    "![JupyterHub Server](../../images/diagnostics/login/Diagnostics_3.png)"
   ]
  },
  {
   "cell_type": "markdown",
   "id": "bc60d1e8-44bd-4cac-b0e1-53eac15eea26",
   "metadata": {},
   "source": []
  },
  {
   "cell_type": "markdown",
   "id": "bb66a956-7f58-4613-b1a6-7597549e25a4",
   "metadata": {},
   "source": [
    " Select the \"Casper PBS Batch\" option in the drop down menu."
   ]
  },
  {
   "cell_type": "markdown",
   "id": "9c758769-6b83-4dc1-a03a-2958102a2d52",
   "metadata": {},
   "source": [
    "![JupyterHub Casper PBS](../../images/diagnostics/login/Diagnostics_4.png)"
   ]
  },
  {
   "cell_type": "markdown",
   "id": "6d9f61c8-9f91-4f9b-b3f9-fb474534d73d",
   "metadata": {},
   "source": []
  },
  {
   "cell_type": "markdown",
   "id": "17233631-43b6-4dc1-8904-a4adaff7c47b",
   "metadata": {},
   "source": [
    "After selecting \"Casper PBS Batch\" you need to make other choices to select the right resources. You should use the queue and project account keys specified below. You may also want to request `03:00:00` for your Wall Time so that your server is active for the entire hands-on activity session. Do not change any other selection for this tutorial. If you are doing further analysis of model experiments you may need to change these settings and can find more information at the [CISL Documentation about JupyterHub](https://arc.ucar.edu/knowledge_base/70549913).\n"
   ]
  },
  {
   "cell_type": "markdown",
   "id": "1a3a65c2-65ce-4927-87b2-d9472ce676ed",
   "metadata": {},
   "source": [
    "<div class=\"alert alert-warning\">\n",
    "<strong>For this tutorial you should use the Queue `casper` and Project Account `UESM0012`. </strong><br><br>\n",
    "</div>"
   ]
  },
  {
   "cell_type": "markdown",
   "id": "b2b9d327-8f9e-486e-9ae3-94a17c3008c9",
   "metadata": {},
   "source": [
    "![JupyterHub Selections](../../images/diagnostics/login/Diagnostics_5.png)"
   ]
  },
  {
   "cell_type": "markdown",
   "id": "4a3ffff9-689d-4329-9ebe-0d93c1ba9e8a",
   "metadata": {},
   "source": []
  },
  {
   "cell_type": "markdown",
   "id": "3fe7c826-800e-4718-9440-a224b97dec44",
   "metadata": {},
   "source": [
    "You may have to wait a moment or two for your server to start up."
   ]
  },
  {
   "cell_type": "markdown",
   "id": "088f619d-9152-45c4-aa0c-73bfd0e33ec8",
   "metadata": {},
   "source": [
    "![JupyterHub Casper PBS](../../images/diagnostics/login/Diagnostics_6.png)"
   ]
  },
  {
   "cell_type": "markdown",
   "id": "a08772d2-643c-40fa-9503-f1490c29de80",
   "metadata": {},
   "source": []
  },
  {
   "cell_type": "markdown",
   "id": "a66777ce-4356-4b95-b513-b33a604cbfdc",
   "metadata": {},
   "source": [
    "Your JupyterHub session is now active and ready to run."
   ]
  },
  {
   "cell_type": "markdown",
   "id": "850d57a4-eab0-4da2-9f26-d1e36d1d6204",
   "metadata": {},
   "source": [
    "## Step 3. Open a Diagnostics Notebook"
   ]
  },
  {
   "cell_type": "markdown",
   "id": "70792221-dc94-41ee-a9e2-e632b9eef1c1",
   "metadata": {},
   "source": [
    "When your JupyterHub session opens you should be in your home directory on the NCAR HPC. In Step 1 you cloned the \"CESM-Tutorial\" repository, which has the notebooks you will run in this activity. "
   ]
  },
  {
   "cell_type": "markdown",
   "id": "b06d1cdb-4f85-4958-9bfe-9af1901c6539",
   "metadata": {},
   "source": [
    "![JupyterHub Main Page](../../images/diagnostics/login/Diagnostics_7.png)"
   ]
  },
  {
   "cell_type": "markdown",
   "id": "8749817d-6a92-4c33-84f2-f09507c3fea9",
   "metadata": {},
   "source": []
  },
  {
   "cell_type": "markdown",
   "id": "995b7014-2dd2-4f05-bc63-a22affe3ff9c",
   "metadata": {},
   "source": [
    "To get to the Diagnostics notebooks, double click the following sequence of folders:\n",
    "1) CESM-Tutorial\n",
    "2) notebooks\n",
    "3) diagnostics\n",
    "4) Click on the folder for the model component that you are interested in running (e.g. cam) \n",
    "5) Click on the `basics.ipynb` notebook (see arrow on left, below)\n",
    "\n",
    "The final path in your browser url line for the following example should be:\n",
    "`$USER/CESM-Tutorial/notebooks/diagnostics/cam/basics.ipynb`"
   ]
  },
  {
   "cell_type": "markdown",
   "id": "e4cb4eb8-eb39-4a5b-a94a-538e09ab637a",
   "metadata": {},
   "source": [
    "![JupyterHub Open Notebook](../../images/diagnostics/login/Diagnostics_8.png)"
   ]
  },
  {
   "cell_type": "markdown",
   "id": "1077e225-5d39-4e54-8288-5ef69bd9b90b",
   "metadata": {},
   "source": [
    "## Step 4. Check Your Notebook Kernel"
   ]
  },
  {
   "cell_type": "markdown",
   "id": "aef068ce-e240-4e9f-b008-5270534b6295",
   "metadata": {},
   "source": [
    "Check your kernel (see arrow in upper right corner, above). It should be either `NPL 2023a` or `NPL 2023b`. You should use the specified kernel for any diagnostics you do during the tutorial as it is a default environment available on NCAR HPC and the notebooks here have been tested so that they work with that particular kernel for the analysis environment. We have set the default kernels and specifiy what they should be in each component notebook. However, if you need to change it click on the kernel button and select the correct kernel. "
   ]
  },
  {
   "cell_type": "markdown",
   "id": "784c789a-db86-4c80-8c92-d69dbeab7b48",
   "metadata": {},
   "source": [
    "## Step 5. Run Jupyter Notebook Cells"
   ]
  },
  {
   "cell_type": "markdown",
   "id": "69174e22-0a81-47d6-b122-5b514154b31d",
   "metadata": {},
   "source": [
    "To run a Jupyter cell\n",
    "- Type your command into the cell\n",
    "- To execute the command:\n",
    "    - Press **shift+return**\n",
    "    <div>\n",
    "    OR\n",
    "    <div>\n",
    "    - Select the cell then click the 'play' button at the top of the window (see red arrow, above)"
   ]
  },
  {
   "cell_type": "markdown",
   "id": "beaa3bc1-0ed5-4c73-901a-6fea974076e2",
   "metadata": {},
   "source": [
    "All figures will be rendered in the Jupyter Notebook, so there is no need to open any other window for this portion of the lab activities."
   ]
  },
  {
   "cell_type": "code",
   "execution_count": null,
   "id": "ae3f94f8-c116-468f-b15f-66b090a6b39f",
   "metadata": {},
   "outputs": [],
   "source": []
  }
 ],
 "metadata": {
  "kernelspec": {
   "display_name": "Python 3 (ipykernel)",
   "language": "python",
   "name": "python3"
  },
  "language_info": {
   "codemirror_mode": {
    "name": "ipython",
    "version": 3
   },
   "file_extension": ".py",
   "mimetype": "text/x-python",
   "name": "python",
   "nbconvert_exporter": "python",
   "pygments_lexer": "ipython3",
   "version": "3.9.12"
  }
 },
 "nbformat": 4,
 "nbformat_minor": 5
}
