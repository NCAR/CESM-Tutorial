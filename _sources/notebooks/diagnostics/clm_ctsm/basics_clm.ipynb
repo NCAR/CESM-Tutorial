{
 "cells": [
  {
   "cell_type": "markdown",
   "metadata": {},
   "source": [
    "# Basic Plotting"
   ]
  },
  {
   "cell_type": "markdown",
   "metadata": {},
   "source": [
    "**BEFORE BEGINNING THIS EXERCISE** -  Check that your kernel (upper right corner, above) is `NPL 2023a`. This should be the default kernel, but if it is not, click on that button and select `NPL 2023a`."
   ]
  },
  {
   "cell_type": "markdown",
   "metadata": {},
   "source": [
    "_______________\n",
    "This activity was developed primarily by Will Wieder and Peter Lawrence."
   ]
  },
  {
   "cell_type": "markdown",
   "metadata": {},
   "source": [
    "_______________\n",
    "## Global Visualizations\n",
    "\n",
    "These are examples of typical variables and plots that we look at in our land model diagnostics package. You can see examples of output from the [land model dagnostics package here](https://www2.cesm.ucar.edu/experiments/cesm2.0/land/diagnostics/clm_diag_PCKG.html). The most current version of the land model diagnostics are in the CESM Postprocessing. More information here: [CESM Postprocessing](https://github.com/NCAR/CESM_postprocessing).\n",
    "\n",
    "\n",
    "## Notebook Objectives\n",
    "1. Become familiar with Jupyter Notebooks\n",
    "2. Begin getting acquainted with python packages and their utilities\n",
    "3. Plot a map and timeseries of global results"
   ]
  },
  {
   "cell_type": "markdown",
   "metadata": {},
   "source": [
    "****\n",
    "History files from CESM are saved in netcdf format (denoted with the `.nc` file extension), a file format commonly used for storing large, multi-dimensional scientific variables.\n",
    "Netcdf files are platform independent and self-describing; each file includes metadata that describes the data, including: **variables**, **dimensions**, and **attributes**.\n",
    "\n",
    "The figure below provides a generic example of the data structure in a netcdf file. The dataset illustrated has two variables (temperature and pressure) that have three dimensions. Coordinate data (e.g., latitude, longitude, time) that describe the data are also included. \n",
    "\n",
    "*Note that while each file for simulations has multiple variables. Within each `h0` file, most of the variables have three dimensions (lat x lon x time), while a few soil variables (e.g., moisture, temperature) have 4 dimensions (lat x lon x time x depth).*\n",
    "\n",
    "![Netcdf](https://xarray.pydata.org/en/stable/_images/dataset-diagram.png)\n",
    "****\n"
   ]
  },
  {
   "cell_type": "markdown",
   "metadata": {},
   "source": [
    "*We'll start by loading some packages*\n",
    "\n",
    "The first step is to import the libraries needed to plot the data. Here we will use `xarray` as a tool to read the netCDF file. We will use `numpy` for some basic math calculations. For plotting the data we will need `matplotlib` and `cartopy`."
   ]
  },
  {
   "cell_type": "code",
   "execution_count": null,
   "metadata": {},
   "outputs": [],
   "source": [
    "# python packages\n",
    "import os\n",
    "import xarray as xr\n",
    "import numpy as np\n",
    "import pandas as pd\n",
    "\n",
    "# resources for plotting\n",
    "import matplotlib.pyplot as plt\n",
    "import cartopy\n",
    "import cartopy.crs as ccrs\n",
    "import cftime\n",
    "%matplotlib inline"
   ]
  },
  {
   "cell_type": "markdown",
   "metadata": {},
   "source": [
    "<div class=\"alert alert-block alert-info\">\n",
    "\n",
    "<b>NOTE:</b>  This example largely uses features of xarray and \n",
    "    matplotlib packages. We won't go into the basics \n",
    "    of python or features included in these packages, but there are lots of \n",
    "    resources to help get you started. Some of these are listed below. \n",
    "\n",
    "</div>\n",
    "\n",
    "- [NCAR python tutorial](https://ncar.github.io/python-tutorial/tutorials/yourfirst.html), which introduces python, the conda package manager, and more on github.\n",
    "- [NCAR ESDS tutorial series](https://ncar.github.io/esds/blog/tag/python-tutorial-series/), features several recorded tutorials on a wide variety of topics.\n",
    "- [Project Pythia](https://projectpythia.org/) links to lots of great resources!\n",
    "- [GeoCAT examples](https://geocat-examples.readthedocs.io/en/latest/), with some nice plotting examples\n",
    "\n",
    "***"
   ]
  },
  {
   "cell_type": "markdown",
   "metadata": {},
   "source": [
    "## 1. Reading and formatting data\n",
    "\n",
    "**Note**: the drop-down solutions, below, assume you used b.day2.1 output for plotting for this section"
   ]
  },
  {
   "cell_type": "markdown",
   "metadata": {},
   "source": [
    "### 1.1 Point to the data\n",
    "The first step is to grab land (CTSM) history files from your CESM model run\n",
    "\n",
    "For this example we will use:\n",
    "- reflected solar radiation (FSR), \n",
    "- incident solar radiation (FSDS), and\n",
    "- exposed leaf area index (ELAI)"
   ]
  },
  {
   "cell_type": "code",
   "execution_count": null,
   "metadata": {},
   "outputs": [],
   "source": [
    "# Set your username here:\n",
    "username = \"PUT_USER_NAME_HERE\"\n",
    "\n",
    "# Here we point to the archive directory from your b.day2.1 simulation\n",
    "monthly_output_path = f\"/glade/scratch/{username}/archive/b.day2.1/lnd/hist\"\n",
    "\n",
    "# If you were unable to successfully run the b.day2.1 simulation, then feel free to use\n",
    "# this provided simulation data instead:\n",
    "#monthly_output_path = \"/glade/p/cesm/tutorial/tutorial_2023_archive/b.day2.1/lnd/hist\"\n",
    "\n",
    "# Name of CESM run\n",
    "run_name = \"b.day2.1\"\n",
    "\n",
    "# Create path to all files, including unix wild card for all dates\n",
    "files = os.path.join(monthly_output_path, run_name + \".clm2.h0.*\")\n",
    "\n",
    "# read in files as an xarray dataset:\n",
    "ds = xr.open_mfdataset(files)"
   ]
  },
  {
   "cell_type": "markdown",
   "metadata": {},
   "source": [
    "<b>NOTE:</b> These are the raw history files that CTSM writes out. \n",
    "\n",
    "By default, they include grid cell averaged monthly means for different state and flux variables.\n",
    "\n",
    "<div class=\"alert alert-block alert-info\">\n",
    "    <b>TIP:</b> If you want to look at other variables, the <b>fields</b> variable in the cell below is where you can modify what we're reading off of the CLM history files.\n",
    "</div>\n",
    "\n",
    "#### Printing information about the dataset is helpful for understanding your data. \n",
    "- *What dimensions do your data have?*\n",
    "- *What are the coordinate variables?*\n",
    "- *What variables are we looking at?*\n",
    "- *Is there other helpful information, or are there attributes in the dataset we should be aware of?*\n"
   ]
  },
  {
   "cell_type": "code",
   "execution_count": null,
   "metadata": {},
   "outputs": [],
   "source": [
    "# Print information about the dataset\n",
    "ds"
   ]
  },
  {
   "cell_type": "markdown",
   "metadata": {},
   "source": [
    "You can also print information about the variables in your dataset. The example below prints information about one of the data variables we read in. You can modify this cell to look at some of the other variables in the dataset.\n",
    "\n",
    "*What are the units, long name, and dimensions of your data?*"
   ]
  },
  {
   "cell_type": "code",
   "execution_count": null,
   "metadata": {},
   "outputs": [],
   "source": [
    "ds.FSDS"
   ]
  },
  {
   "cell_type": "markdown",
   "metadata": {},
   "source": [
    "## 1.2 Simple Calculations\n",
    "To begin with we'll look at albedo that's simulated by the model. \n",
    "\n",
    "Albedo and can be calculated in several different ways, but the calculations use solar radiation terms that are handled within CTSM.\n",
    "\n",
    "Here we'll look at 'all sky albedo', which is the ratio of reflected to incoming solar radiation (**FSR/FSDS**).\n",
    "Other intereresting variables might include latent heat flux or gross primary productivity. \n",
    "\n",
    "We will add this as a new variable in the dataset and add appropriate metadata.\n",
    "\n",
    "*When doing calculations, it is important to avoid dividing by zero. Use the `.where` function for this purpose*"
   ]
  },
  {
   "cell_type": "code",
   "execution_count": null,
   "metadata": {},
   "outputs": [],
   "source": [
    "ds['ASA'] = ds.FSR/ds.FSDS.where(ds.FSDS>0)\n",
    "ds['ASA'].attrs['units'] = 'unitless'\n",
    "ds['ASA'].attrs['long_name'] = 'All sky albedo'\n",
    "ds['ASA']"
   ]
  },
  {
   "cell_type": "markdown",
   "metadata": {},
   "source": [
    "---\n",
    "## 2. Plotting\n",
    "### 2.1 Easy plots using Xarray\n",
    "To get a first look at the data, we can plot a month of data from the simulation, selecting the month using the `.isel` function.\n",
    "\n",
    "<div class=\"alert alert-block alert-info\">\n",
    "    <b>NOTE:</b> The plotting function only works with 1D or 2D data. Our data are 3D (time, lat, lon), so we need to specify a specific value for the other variables. Below, we select a specific time using the <i>isel</i>, leaving the lat and lon dimensions to plot on the x and y axes.\n",
    "</div>\n",
    "\n",
    "- We will plot all sky albedo (variable = `ASA`). Note that we select the variable by specifying our dataset, `ds`, and the variable. \n",
    "- The plot is for the first year of data (`time=slice(0,12)`)\n",
    "- This plotting function will plot `ASA` for each simulation in our dataset\n",
    "\n",
    "*More plotting examples are on the [xarray web site](https://docs.xarray.dev/en/latest/user-guide/plotting.html)*"
   ]
  },
  {
   "cell_type": "code",
   "execution_count": null,
   "metadata": {},
   "outputs": [],
   "source": [
    "ds.ASA.isel(time=slice(0,12)).plot(x='lon',y='lat',col=\"time\", col_wrap=6) ;"
   ]
  },
  {
   "cell_type": "markdown",
   "metadata": {},
   "source": [
    "<div class=\"alert alert-success\">   \n",
    "<details>\n",
    "<summary><font face=\"Times New Roman\" color='blue'>Click here for the solution</font></summary><br>\n",
    "\n",
    "![plot example](../../../images/diagnostics/clm_ctsm/basics_plot_1.png)\n",
    "\n",
    "*<p style=\"text-align: center;\"> Figure: Plotting solution. </p>*\n",
    "    \n",
    "</details>\n",
    "</div>"
   ]
  },
  {
   "cell_type": "markdown",
   "metadata": {},
   "source": [
    "**Question:** \n",
    "\n",
    "Why don't you see the whole globe in some months?"
   ]
  },
  {
   "cell_type": "markdown",
   "metadata": {},
   "source": [
    "### 2.2 Calculating differences\n",
    "\n",
    "We can calculate the differences between the beginning and end of the simulation to see the differences in albedo over the simulation period. The below code:\n",
    "- Calculates a monthly climatology for the first and last full year of the simulation\n",
    "- Defines the difference as a new variable, `dsDiff`\n",
    "\n",
    "We'll first plot maps of the difference in all sky albedo for each month"
   ]
  },
  {
   "cell_type": "code",
   "execution_count": null,
   "metadata": {},
   "outputs": [],
   "source": [
    "dsIni = ds.isel(time=slice(0,12)).groupby('time.month').mean()\n",
    "dsFin = ds.isel(time=slice(-16,-4)).groupby('time.month').mean()\n",
    "dsDiff = dsFin-dsIni\n",
    "dsDiff.ASA.plot(x='lon',y='lat',col=\"month\", col_wrap=6, robust=True) ;"
   ]
  },
  {
   "cell_type": "markdown",
   "metadata": {},
   "source": [
    "<div class=\"alert alert-success\">   \n",
    "<details>\n",
    "<summary><font face=\"Times New Roman\" color='blue'>Click here for the solution</font></summary><br>\n",
    "\n",
    "![plot example](../../../images/diagnostics/clm_ctsm/basics_plot_2.png)\n",
    "\n",
    "*<p style=\"text-align: center;\"> Figure: Plotting solution. </p>*\n",
    "    \n",
    "</details>\n",
    "</div>"
   ]
  },
  {
   "cell_type": "markdown",
   "metadata": {},
   "source": [
    "**Questions:** \n",
    "- How is albedo different in at the end of the simulation, relative to the begining of simulation?\n",
    "- Where are the differences the largest? \n",
    "- Are the differences consistent throughout the year?\n",
    "- **What's causing these albedo changes** in different regions?"
   ]
  },
  {
   "cell_type": "markdown",
   "metadata": {},
   "source": [
    "#### Are the differences coming from incoming or reflected radiation? \n",
    "To find out, we can plot each variable. First we will plot incoming radiation (the denominator in all-sky albedo)."
   ]
  },
  {
   "cell_type": "code",
   "execution_count": null,
   "metadata": {},
   "outputs": [],
   "source": [
    "dsDiff.FSDS.plot(x='lon',y='lat',col=\"month\", col_wrap=6, vmax=30.0,vmin=-30.0) ;"
   ]
  },
  {
   "cell_type": "markdown",
   "metadata": {},
   "source": [
    "<div class=\"alert alert-success\">   \n",
    "<details>\n",
    "<summary><font face=\"Times New Roman\" color='blue'>Click here for the solution</font></summary><br>\n",
    "\n",
    "![plot example](../../../images/diagnostics/clm_ctsm/basics_plot_3.png)\n",
    "\n",
    "*<p style=\"text-align: center;\"> Figure: Plotting solution. </p>*\n",
    "    \n",
    "</details>\n",
    "</div>"
   ]
  },
  {
   "cell_type": "markdown",
   "metadata": {},
   "source": [
    "**Questions:**\n",
    "- Do you see any dfferences? \n",
    "- Try plotting reflected radiation (the numerator, FSR). What differences do you see? \n",
    "\n",
    "*Note that you might want to change the minimun (`vmin`) and maximum (`vmax`) colorbar values for the plot when you switch between variables*"
   ]
  },
  {
   "cell_type": "markdown",
   "metadata": {},
   "source": [
    "#### Is exposed leaf area index (ELAI) contributing to the differences in albedo?\n",
    "Plot the differences in ELAI below. "
   ]
  },
  {
   "cell_type": "code",
   "execution_count": null,
   "metadata": {},
   "outputs": [],
   "source": [
    "dsDiff.ELAI.plot(x='lon',y='lat',col=\"month\", col_wrap=6, robust=True) ;"
   ]
  },
  {
   "cell_type": "markdown",
   "metadata": {},
   "source": [
    "<div class=\"alert alert-success\">   \n",
    "<details>\n",
    "<summary><font face=\"Times New Roman\" color='blue'>Click here for the solution</font></summary><br>\n",
    "\n",
    "![plot example](../../../images/diagnostics/clm_ctsm/basics_plot_4.png)\n",
    "\n",
    "*<p style=\"text-align: center;\"> Figure: Plotting solution. </p>*\n",
    "    \n",
    "</details>\n",
    "</div>"
   ]
  },
  {
   "cell_type": "markdown",
   "metadata": {},
   "source": [
    "**Questions:** \n",
    "- What regions are LAI differences the greatest?\n",
    "- What times of year is this true?\n",
    "- Are the regions and times of largest differences the same as the differences in albedo? "
   ]
  },
  {
   "cell_type": "markdown",
   "metadata": {},
   "source": [
    "### 2.3 Calculating Time Series\n",
    "\n",
    "**Note**: the drop-down solutions, below, assume you used CESM2 Large Ensemble output for plotting for this section\n",
    "\n",
    "\n",
    "As above, the plotting function we use here requires data to be 1D or 2D. Therefore, to plot a time series we either need to select a single point or average over an area.\n",
    "\n",
    "#### 2.3.1 Time series at a single point\n",
    "This example uses `.sel`, which functions similarly to the `.isel` function above, to select a single point in the Amazon. \n",
    "\n",
    "*What's the difference between `.sel` and `.isel`?*\n",
    "- *`.sel` selects a value of a variable (e.g., latitude of -5)*\n",
    "- *`.isel` selects an indexed point of a variable (e.g., the 6th point in the data vector)*\n",
    "\n",
    "In the below examples, we'll also use subplots to see multiple variables in several panels\n",
    "\n",
    "Also, the next few steps read in land model data from one of the CESM2 large ensemble historical runs. Note this operation points to multiple files on the campaign file system, so we are using the `xarray` function `open_mfdataset` for a multifile dataset. We will also print the dataset to get an idea of the metadata and dimensions. Note that we could use the output from the tutorial simulation. However, those runs are very short and thus are not a very interesting timeseries. Instead we can use one of the CESM2 Large Ensemble historical simulations. [Rodgers et al. 2021](https://doi.org/10.5194/esd-12-1393-2021)"
   ]
  },
  {
   "cell_type": "code",
   "execution_count": null,
   "metadata": {},
   "outputs": [],
   "source": [
    "#First remove the old datasets\n",
    "del ds\n",
    "del dsDiff\n",
    "\n",
    "### Here we point to the CESM2-LE datasets on campaign disk and \n",
    "### Look at results from a single ensemble member\n",
    "\n",
    "monthly_output_path = \"/glade/campaign/cgd/cesm/CESM2-LE/lnd/proc/tseries/month_1\"\n",
    "run_name = \"b.e21.BHISTcmip6.f09_g17.LE2-1001.001\"\n",
    "\n",
    "var_names = ['FSR','FSDS','ELAI']\n",
    "\n",
    "### This piece of code opens the files and combines them into a single xarray dataset\n",
    "\n",
    "da_list = []\n",
    "\n",
    "for var_name in var_names:\n",
    "    files = os.path.join(monthly_output_path, var_name,\n",
    "                         run_name + \".clm2.h0.\" + var_name + \".*\")\n",
    "    ds_in = xr.open_mfdataset(files)\n",
    "    # keep history file attributes:  This only needs to be done once\n",
    "    if var_name == 'FSR':\n",
    "        da_list.append(ds_in)\n",
    "    else:            \n",
    "        da_list.append(ds_in[var_name])\n",
    "    del ds_in\n",
    "\n",
    "''' quick fix to adjust time vector for monthly data'''\n",
    "def fix_time(ds):  \n",
    "    nmonths = len(ds.time)\n",
    "    yr0 = ds['time.year'][0].values\n",
    "    ds['time'] =xr.cftime_range(str(yr0),periods=nmonths,freq='MS')    \n",
    "\n",
    "    return ds\n",
    "\n",
    "ds = fix_time(xr.merge(da_list))\n",
    "\n",
    "print('-- Your dataset is been opened --')"
   ]
  },
  {
   "cell_type": "code",
   "execution_count": null,
   "metadata": {},
   "outputs": [],
   "source": [
    "# Print information about the dataset\n",
    "ds"
   ]
  },
  {
   "cell_type": "code",
   "execution_count": null,
   "metadata": {},
   "outputs": [],
   "source": [
    "#Calculate Albedo and add to dataset\n",
    "ds['ASA'] = ds.FSR/ds.FSDS.where(ds.FSDS>0)\n",
    "ds['ASA'].attrs['units'] = 'unitless'\n",
    "ds['ASA'].attrs['long_name'] = 'All sky albedo'\n",
    "ds['ASA']"
   ]
  },
  {
   "cell_type": "code",
   "execution_count": null,
   "metadata": {},
   "outputs": [],
   "source": [
    "point = ds.sel(lon=300, lat=-5, method='nearest')\n",
    "point.ASA.plot(x='time') ;"
   ]
  },
  {
   "cell_type": "markdown",
   "metadata": {},
   "source": [
    "<div class=\"alert alert-success\">   \n",
    "<details>\n",
    "<summary><font face=\"Times New Roman\" color='blue'>Click here for the solution</font></summary><br>\n",
    "\n",
    "![plot example](../../../images/diagnostics/clm_ctsm/basics_plot_5.png)\n",
    "\n",
    "*<p style=\"text-align: center;\"> Figure: Plotting solution. </p>*\n",
    "    \n",
    "</details>\n",
    "</div>"
   ]
  },
  {
   "cell_type": "markdown",
   "metadata": {},
   "source": [
    "Similar to the maps above, there are variations in albedo in the simulation at this location. Let's add other variables to explore why we see differences at this location. "
   ]
  },
  {
   "cell_type": "code",
   "execution_count": null,
   "metadata": {},
   "outputs": [],
   "source": [
    "plt.figure(figsize=(10,6))\n",
    "'''this first plot is the same as the one above'''\n",
    "plt.subplot(221)\n",
    "point.ASA.plot()\n",
    "plt.xlabel(None)\n",
    "\n",
    "'''now we'll look for potential sources of the difference'''\n",
    "plt.subplot(222)\n",
    "point.ELAI.plot() \n",
    "plt.xlabel(None)\n",
    "\n",
    "plt.subplot(223)\n",
    "point.FSDS.plot() \n",
    "plt.title(None)\n",
    "\n",
    "plt.subplot(224)\n",
    "point.FSR.plot() \n",
    "plt.title(None) ;"
   ]
  },
  {
   "cell_type": "markdown",
   "metadata": {},
   "source": [
    "<div class=\"alert alert-success\">   \n",
    "<details>\n",
    "<summary><font face=\"Times New Roman\" color='blue'>Click here for the solution</font></summary><br>\n",
    "\n",
    "![plot example](../../../images/diagnostics/clm_ctsm/basics_plot_6.png)\n",
    "\n",
    "*<p style=\"text-align: center;\"> Figure: Plotting solution. </p>*\n",
    "    \n",
    "</details>\n",
    "</div>"
   ]
  },
  {
   "cell_type": "markdown",
   "metadata": {},
   "source": [
    "**Questions:** \n",
    "- What variables show differences?\n",
    "- What variables are similar?\n",
    "- How do the differences and similarities help to explain the differences in albedo?"
   ]
  },
  {
   "cell_type": "markdown",
   "metadata": {},
   "source": [
    "#### 2.3.2 Global time series\n",
    "There are many reasons why we may want to calculate globally integrated time series for particular variables.\n",
    "This requires weighting the values from each grid cell by the total land area of individual grid cells. The example below does this for our dataset. \n",
    "\n",
    "#### First calculate the land weights:\n",
    "- land area `la` that is the product of land fraction (fraction of land area in each grid cell) and the total area of the grid cell (which changes by latitude). Units are the same as area.\n",
    "- land weights `lw`, the fractional weight that each grid makes to the global total, is calculated as the land area of each grid cell divided by the global sum of the land area.\n",
    "\n",
    "The land weights are shown in the plot below. Note that these are larger near the equator, and smaller at the poles and along the coastline"
   ]
  },
  {
   "cell_type": "code",
   "execution_count": null,
   "metadata": {},
   "outputs": [],
   "source": [
    "la = (ds.landfrac*ds.area).isel(time=0).drop(['time']) \n",
    "la = la * 1e6  #converts from land area from km2 to m2 \n",
    "la.attrs['units'] = 'm^2'\n",
    "lw = la/la.sum()\n",
    "lw.plot() ;"
   ]
  },
  {
   "cell_type": "markdown",
   "metadata": {},
   "source": [
    "<div class=\"alert alert-success\">   \n",
    "<details>\n",
    "<summary><font face=\"Times New Roman\" color='blue'>Click here for the solution</font></summary><br>\n",
    "\n",
    "![plot example](../../../images/diagnostics/clm_ctsm/basics_plot_7.png)\n",
    "\n",
    "*<p style=\"text-align: center;\"> Figure: Plotting solution. </p>*\n",
    "    \n",
    "</details>\n",
    "</div>"
   ]
  },
  {
   "cell_type": "markdown",
   "metadata": {},
   "source": [
    "#### Next, calculate and plot a global weighted sum\n",
    "<div class=\"alert alert-block alert-info\">\n",
    "\n",
    "<b>NOTE:</b>  You will likely want to calculate global weighted sum for a variety of different variables. For variables that have area-based units (e.g. GPP, gC/<b>m^2</b>/s), you need to use the land area variable when calculating a global sum. <b> Remember to pay attention to the units and apply any necessary conversions!</b> Keep in mind that grid cell area is reported in km^2. \n",
    "\n",
    "</div>\n"
   ]
  },
  {
   "cell_type": "code",
   "execution_count": null,
   "metadata": {},
   "outputs": [],
   "source": [
    "dsGlobalWgt = (ds * lw).sum(['lat','lon'])\n",
    "\n",
    "plt.figure(figsize=(12,5))\n",
    "plotVars = ['ASA','FSDS','ELAI','FSR']\n",
    "for i in range(len(plotVars)):\n",
    "    # First add metadata for plotting\n",
    "    dsGlobalWgt[plotVars[i]].attrs['long_name'] = ds[plotVars[i]].attrs['long_name']\n",
    "    dsGlobalWgt[plotVars[i]].attrs['units'] = ds[plotVars[i]].attrs['units']\n",
    "\n",
    "    # then make plots\n",
    "    plt.subplot(2,2,(i+1))\n",
    "    dsGlobalWgt[plotVars[i]].plot()\n",
    "    \n",
    "    if i == 0:\n",
    "        plt.title('Weighted global sum',loc='left', fontsize='large', fontweight='bold')\n",
    "        \n",
    "    if i<2:\n",
    "        plt.xlabel(None)"
   ]
  },
  {
   "cell_type": "markdown",
   "metadata": {},
   "source": [
    "<div class=\"alert alert-success\">   \n",
    "<details>\n",
    "<summary><font face=\"Times New Roman\" color='blue'>Click here for the solution</font></summary><br>\n",
    "\n",
    "![plot example](../../../images/diagnostics/clm_ctsm/basics_plot_8.png)\n",
    "\n",
    "*<p style=\"text-align: center;\"> Figure: Plotting solution. </p>*\n",
    "    \n",
    "</details>\n",
    "</div>"
   ]
  },
  {
   "cell_type": "markdown",
   "metadata": {},
   "source": [
    "---\n",
    "### 2.4 Calculate an annual weighted mean and create customized plots\n",
    "Annual averages require a different kind of weighting: the number of days per month.\n",
    "This example creates python functions that allow you to easily calculate annual averages and create customized plots. \n",
    "\n",
    "<div class=\"alert alert-block alert-info\">\n",
    "\n",
    "<b>Python functions:</b> In python, creating a function allows us to use the same calculation numerous times instead of writing the same code repeatedly.\n",
    "</div>\n",
    "\n",
    "\n",
    "#### 2.4.1 Calculate monthly weights\n",
    "The below code creates a function `weighted_annual_mean` to calculate monthly weights. Use this function any time you want to calculate weighted annual means."
   ]
  },
  {
   "cell_type": "code",
   "execution_count": null,
   "metadata": {},
   "outputs": [],
   "source": [
    "# create a function that will calculate an annual mean weighted by days per month\n",
    "def weighted_annual_mean(array):\n",
    "    mon_day  = xr.DataArray(np.array([31,28,31,30,31,30,31,31,30,31,30,31]), dims=['month'])\n",
    "    mon_wgt  = mon_day/mon_day.sum()\n",
    "    return (array.rolling(time=12, center=False) # rolling\n",
    "            .construct(\"month\") # construct the array\n",
    "            .isel(time=slice(11, None, 12)) # slice so that the first element is [1..12], second is [13..24]\n",
    "            .dot(mon_wgt, dims=[\"month\"]))\n",
    "\n",
    "# generate annual means\n",
    "for i in range(len(plotVars)):\n",
    "    temp = weighted_annual_mean(\n",
    "        ds[plotVars[i]].chunk({\"time\": 12}))\n",
    "    \n",
    "    if i ==0:\n",
    "        dsAnn = temp.to_dataset(name=plotVars[i])\n",
    "    else:\n",
    "        dsAnn[plotVars[i]] = temp\n",
    "\n",
    "# Make a simple plot\n",
    "dsAnn.isel(time=0).ELAI.plot(x='lon',y='lat',robust=True) ;"
   ]
  },
  {
   "cell_type": "markdown",
   "metadata": {},
   "source": [
    "<div class=\"alert alert-success\">   \n",
    "<details>\n",
    "<summary><font face=\"Times New Roman\" color='blue'>Click here for the solution</font></summary><br>\n",
    "\n",
    "![plot example](../../../images/diagnostics/clm_ctsm/basics_plot_9.png)\n",
    "\n",
    "*<p style=\"text-align: center;\"> Figure: Plotting solution. </p>*\n",
    "    \n",
    "</details>\n",
    "</div>"
   ]
  },
  {
   "cell_type": "code",
   "execution_count": null,
   "metadata": {},
   "outputs": [],
   "source": [
    "dsAnn"
   ]
  },
  {
   "cell_type": "markdown",
   "metadata": {},
   "source": [
    "#### 2.4.2 Customized maps\n",
    "Creating a function isn't necessary to plot maps, but this function, which uses python's `cartopy`, allows you to make several pretty maps in one figure.\n",
    "\n",
    "Additional examples and information are available on the [cartopy website](https://scitools.org.uk/cartopy/docs/v0.15/index.html)\n",
    "\n",
    "There are two code blocks below. The first block of code defines the function. The second code block creates the plot. "
   ]
  },
  {
   "cell_type": "code",
   "execution_count": null,
   "metadata": {},
   "outputs": [],
   "source": [
    "import cartopy.feature as cfeature\n",
    "from cartopy.util import add_cyclic_point\n",
    "import copy\n",
    "\n",
    "# Generate a function for making panel plots of maps\n",
    "## many of these features are not required, but provide additional control over plotting\n",
    "def map_function(da, cb=0, cmap='viridis', panel=None,  ax=None, \n",
    "                 title=None, vmax=None, vmin=None, units=None,nbins=200):\n",
    "    '''a function to make one subplot'''\n",
    "    wrap_data, wrap_lon = add_cyclic_point(da.values, coord=da.lon)\n",
    "\n",
    "    if ax is None: ax = plt.gca()\n",
    "\n",
    "    # define the colormap, including the number of bins\n",
    "    cmap = copy.copy(plt.get_cmap(cmap,nbins))\n",
    "    im = ax.pcolormesh(wrap_lon,da.lat,wrap_data,\n",
    "                   transform=ccrs.PlateCarree(),\n",
    "                   vmax=vmax,vmin=vmin,cmap=cmap)\n",
    "\n",
    "    # set the bounds of your plot\n",
    "    ax.set_extent([-180,180,-56,85], crs=ccrs.PlateCarree())\n",
    "\n",
    "    # add title & panel labels\n",
    "    ax.set_title(title,loc='left', fontsize='large', fontweight='bold')\n",
    "    ax.annotate(panel, xy=(0.05, 0.90), xycoords=ax.transAxes,\n",
    "                ha='center', va='center',fontsize=16)    \n",
    "\n",
    "    # add plotting features\n",
    "    ax.coastlines()\n",
    "    ocean = ax.add_feature(\n",
    "        cfeature.NaturalEarthFeature('physical','ocean','110m', facecolor='white'))\n",
    "    \n",
    "    # control colorbars on each plot & their location\n",
    "    if cb == 1:\n",
    "        cbar = fig.colorbar(im, ax=ax,pad=0.02, fraction = 0.03, orientation='horizontal')\n",
    "        cbar.set_label(units,size=12,fontweight='bold')\n",
    "    if cb == 2:\n",
    "        cbar = fig.colorbar(im, ax=ax,pad=0.02, fraction = 0.05, orientation='vertical')    \n",
    "        cbar.set_label(units,size=12)#,weight='bold')"
   ]
  },
  {
   "cell_type": "markdown",
   "metadata": {},
   "source": [
    "#### Now make the plot!"
   ]
  },
  {
   "cell_type": "code",
   "execution_count": null,
   "metadata": {},
   "outputs": [],
   "source": [
    "i = 0\n",
    "fig, axes = plt.subplots(nrows=2, ncols=1, figsize=(13,6), constrained_layout=True,\n",
    "                         subplot_kw=dict(projection=ccrs.Robinson()))\n",
    "for index, ax in np.ndenumerate(axes):\n",
    "    if i == 0:\n",
    "        plotData = dsAnn.ELAI.isel(time=slice(-10,None)).mean('time')\n",
    "        map_function(plotData, ax=ax,cb=2,\n",
    "                     panel='(a)', nbins=10,\n",
    "                     vmax=5,vmin=0,\n",
    "                     units='Final Annual ELAI')\n",
    "    if i == 1:\n",
    "        plotData = (dsAnn.ELAI.isel(time=slice(-10,None)).mean('time')- \\\n",
    "                    dsAnn.ELAI.isel(time=slice(0,10)).mean('time'))\n",
    "        map_function(plotData, ax=ax,cb=2,panel='(b)',\n",
    "                     units='Annual ELAI Change, Final-Initial',\n",
    "                     cmap='bwr',nbins=7,\n",
    "                     vmax=0.75,vmin=-0.75)    \n",
    "                     \n",
    "    i = i+1"
   ]
  },
  {
   "cell_type": "markdown",
   "metadata": {},
   "source": [
    "<div class=\"alert alert-success\">   \n",
    "<details>\n",
    "<summary><font face=\"Times New Roman\" color='blue'>Click here for the solution</font></summary><br>\n",
    "\n",
    "![plot example](../../../images/diagnostics/clm_ctsm/basics_plot_10.png)\n",
    "\n",
    "*<p style=\"text-align: center;\"> Figure: Plotting solution. </p>*\n",
    "    \n",
    "</details>\n",
    "</div>"
   ]
  },
  {
   "cell_type": "markdown",
   "metadata": {},
   "source": [
    "## Extra credit challenge\n",
    "If you have extra time & energy, try running through this notebook with other variables. Interesting options could include: \n",
    "- Latent heat flux (the sum of `FCTR`+`FCEV`+`FGEV`) or \n",
    "- Gross Primary Production (`GPP`) \n",
    "\n",
    "<div class=\"alert alert-block alert-warning\">\n",
    "\n",
    "<b>HINT:</b> pay attention to units for these challenges. \n",
    "\n",
    "</div>"
   ]
  },
  {
   "cell_type": "code",
   "execution_count": null,
   "metadata": {},
   "outputs": [],
   "source": []
  },
  {
   "cell_type": "code",
   "execution_count": null,
   "metadata": {},
   "outputs": [],
   "source": []
  }
 ],
 "metadata": {
  "kernelspec": {
   "display_name": "NPL 2023a",
   "language": "python",
   "name": "npl-2023a"
  },
  "language_info": {
   "codemirror_mode": {
    "name": "ipython",
    "version": 3
   },
   "file_extension": ".py",
   "mimetype": "text/x-python",
   "name": "python",
   "nbconvert_exporter": "python",
   "pygments_lexer": "ipython3",
   "version": "3.9.16"
  }
 },
 "nbformat": 4,
 "nbformat_minor": 4
}
