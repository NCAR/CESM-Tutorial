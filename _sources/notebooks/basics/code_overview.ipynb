{
 "cells": [
  {
   "cell_type": "markdown",
   "id": "8c2d8431-0e66-4597-96bb-858874da9235",
   "metadata": {},
   "source": [
    "# CESM code"
   ]
  },
  {
   "cell_type": "markdown",
   "id": "56f53601-ba7c-41b0-8d9e-d56f67689734",
   "metadata": {},
   "source": [
    "Before you cam start running the CESM model you must first download CESM from Github and set up your Workspace. This exercise is estimated to take around 30-60 minutes, depending on your previous experience with NCAR HPC and Github."
   ]
  },
  {
   "cell_type": "markdown",
   "id": "9dcb3c4e-df54-4e99-892c-8ce99ea35410",
   "metadata": {},
   "source": [
    "## Learning Objectives"
   ]
  },
  {
   "cell_type": "markdown",
   "id": "f7a8cc2d-e2eb-4f06-a173-9ca19a1dc383",
   "metadata": {},
   "source": [
    "<div class=\"alert alert-info\" style=\"text-align: left;\">\n",
    "    \n",
    "- Download CESM to your workspace with Git commands.\n",
    "- Explore your CESM workspace for CESM Code.\n",
    "    \n",
    "</div>"
   ]
  },
  {
   "cell_type": "markdown",
   "id": "89b36bf1-182b-4460-af55-6f05b7a4a086",
   "metadata": {},
   "source": [
    "If you are unfamiliar with logging into NCAR HPC resources, please go back to this [section](https://ncar.github.io/CESM-Tutorial/notebooks/prereqs/prereqs_overview.html#ncar-high-performance-computing-hpc) to learn more about logging into Cheyenne.\n",
    "\n",
    "Github and Git software are used as development and management tools for supporting and distributing CESM. This tutorial is not intended to be a Github or Git software tutorial, so we will provide the basic git commands needed to download CESM. If you want to learn more about using these tools go to this [section](https://ncar.github.io/CESM-Tutorial/notebooks/resources/github.html#github).\n"
   ]
  },
  {
   "cell_type": "code",
   "execution_count": null,
   "id": "729b1035-407c-4a7a-8da2-97402230fc75",
   "metadata": {},
   "outputs": [],
   "source": []
  }
 ],
 "metadata": {
  "kernelspec": {
   "display_name": "Python 3 (ipykernel)",
   "language": "python",
   "name": "python3"
  },
  "language_info": {
   "codemirror_mode": {
    "name": "ipython",
    "version": 3
   },
   "file_extension": ".py",
   "mimetype": "text/x-python",
   "name": "python",
   "nbconvert_exporter": "python",
   "pygments_lexer": "ipython3",
   "version": "3.9.12"
  }
 },
 "nbformat": 4,
 "nbformat_minor": 5
}
