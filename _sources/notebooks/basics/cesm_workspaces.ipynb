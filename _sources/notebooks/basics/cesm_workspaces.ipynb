{
 "cells": [
  {
   "cell_type": "markdown",
   "id": "f406f992-92bd-4b17-9bd3-b99c5c8abaf3",
   "metadata": {},
   "source": [
    "# Workspaces"
   ]
  },
  {
   "cell_type": "markdown",
   "id": "15d62f62-74a4-4936-8283-4d0226dcedab",
   "metadata": {},
   "source": [
    "Utilizing the CESM model requires knowledge of the locations of the different parts of the model. The CESM model consists of five main directory tree areas that make up the **CESM Workspace**. \n",
    "\n",
    "One of the key elements of the Tutorial will be learning where each of these workspace elements are located and how to use them to setup, build, run and analyze the output of model simulations.\n",
    "\n",
    "\n",
    "There are 5 main directories (see figure, below) you will need to navigate:\n",
    "1) The path to your CESM source code. This is referred to as `$SRCROOT` (or `$CESMCODE`) and contains the `$CIMEROOT`.\n",
    "2) The path to the input data, referred to as `$CESMDATA`.\n",
    "3) The path to your experiment case directories. This is referred to as `$CASEROOT`.\n",
    "4) The path to your build and run directories, referred to as the `$EXEROOT` and `$RUNDIR`, respectively.\n",
    "5) The path to your archived model output, referred to as `$DOUT_S_ROOT`.\n",
    "\n",
    "We will investigate these more detail in the remainder of the Tutorial.\n",
    "\n",
    "**Note on Terminology** <br>\n",
    "- Paths are the directions to the location of different pieces of your workspace.\n",
    "- Roots are saved paths that point to a specific piece of the model."
   ]
  },
  {
   "cell_type": "markdown",
   "id": "6b1d1b2e-9c93-4e47-8f4d-d51b96cdab7b",
   "metadata": {},
   "source": [
    "## Workspace Overview\n",
    "\n",
    "![CESM workspace](../../images/basics/CESM2_Workspaces_Detail.png)\n",
    "*<p style=\"text-align: center;\"> Figure: Overview of the CESM2 Workspace Paths </p>*"
   ]
  },
  {
   "cell_type": "markdown",
   "id": "40962c56-fb4d-4862-95a1-8d5c98b82720",
   "metadata": {},
   "source": [
    "Each of these directories contains sub-directories. You will need to learn to navigate between these directories."
   ]
  },
  {
   "cell_type": "markdown",
   "id": "19acc3aa-fb98-44af-966f-16ca49710135",
   "metadata": {},
   "source": [
    "## Create CESM Code Directory\n"
   ]
  },
  {
   "cell_type": "markdown",
   "id": "1c6bda59-5302-4454-88bb-dfe5c4bd3209",
   "metadata": {},
   "source": [
    "Create a workspace location where you can put your CESM code on the Cheyenne glade file system. In all exercises in this tutorial `$USER` is a placeholder and you should use your NCAR HPC login name when completing the exercise.\n"
   ]
  },
  {
   "cell_type": "markdown",
   "id": "b281cda4-e1c0-458b-98df-a1cf34c45a72",
   "metadata": {},
   "source": [
    "<div class=\"alert alert-info\">\n",
    "\n",
    "```\n",
    "cd /glade/work/$USER\n",
    "mkdir code\n",
    "```\n",
    "   \n",
    "</div>"
   ]
  },
  {
   "cell_type": "markdown",
   "id": "76f14c71-ffae-4d67-b496-d6b075d4652d",
   "metadata": {},
   "source": [
    "## Create Cases Workspace Location\n"
   ]
  },
  {
   "cell_type": "markdown",
   "id": "667ca15d-2ef7-40b1-be89-3abac566d472",
   "metadata": {},
   "source": [
    "Create a workspace location where all your cases from this tutorial will be located on the Cheyenne glade file system."
   ]
  },
  {
   "cell_type": "markdown",
   "id": "37b8b7c6-9152-47d8-af76-7814006a5718",
   "metadata": {},
   "source": [
    "<div class=\"alert alert-info\">\n",
    "\n",
    "```\n",
    "cd /glade/work/$USER\n",
    "mkdir cases\n",
    "```\n",
    "   \n",
    "</div>\n"
   ]
  },
  {
   "cell_type": "markdown",
   "id": "3a779263-cb21-443e-a3d8-0bd4a0e267e8",
   "metadata": {},
   "source": [
    "## Other Workspace Locations\n"
   ]
  },
  {
   "cell_type": "markdown",
   "id": "4e972986-5267-43a8-917b-1e36c7117323",
   "metadata": {},
   "source": [
    "The `INPUTDATA` directory does not need to be set up directly on NCAR HPC as these data are in a common directory.\n",
    "\n",
    "We will not directly set up your `Build/Run` or `Archive` workspace locations. These directories will be automatically created when you create a CESM case."
   ]
  }
 ],
 "metadata": {
  "kernelspec": {
   "display_name": "Python 3 (ipykernel)",
   "language": "python",
   "name": "python3"
  },
  "language_info": {
   "codemirror_mode": {
    "name": "ipython",
    "version": 3
   },
   "file_extension": ".py",
   "mimetype": "text/x-python",
   "name": "python",
   "nbconvert_exporter": "python",
   "pygments_lexer": "ipython3",
   "version": "3.9.12"
  }
 },
 "nbformat": 4,
 "nbformat_minor": 5
}
