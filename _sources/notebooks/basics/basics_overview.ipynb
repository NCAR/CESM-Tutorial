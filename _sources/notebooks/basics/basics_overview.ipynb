{
 "cells": [
  {
   "cell_type": "markdown",
   "id": "b2cd974a-dfbb-4937-8ed0-ab87ab60f1ef",
   "metadata": {},
   "source": [
    "# Basics"
   ]
  },
  {
   "cell_type": "markdown",
   "id": "9db9d54e-ef78-44ef-a003-4ddd8a416317",
   "metadata": {},
   "source": [
    "The CESM Model is developed around a structured workflow. The first step of this workflow is to set up your workspace, which is usually a one-time task. After setting up your workspace, a basic CESM simulation can be run with only four commands. This section will cover these steps and enable you to complete your first CESM run."
   ]
  },
  {
   "cell_type": "markdown",
   "id": "e2abf5cb-c507-408e-8f2a-2fd12934873d",
   "metadata": {},
   "source": [
    "## Workflow Elements"
   ]
  },
  {
   "cell_type": "markdown",
   "id": "acfe09a5-e3ee-457a-a328-bde665cfe761",
   "metadata": {
    "jp-MarkdownHeadingCollapsed": true,
    "tags": []
   },
   "source": [
    "<div class=\"alert alert-info\" style=\"text-align: left;\">\n",
    "\n",
    "- Set up workspace (one time setup)\n",
    "    - **``Download``** the CESM code\n",
    "    - **``Create or Locate ``** an **``Input Data``** Root Directory\n",
    "    - Possibly **``Porting``** if not on a setup machine\n",
    "- Creating, Running and Reviewing a Case\n",
    "    - **``Create``** a new case\n",
    "    - **``Invoke``** `case.setup`\n",
    "    - **``Build``** the executable with `case.build`\n",
    "    - **``Run``** the model with `case.submit`\n",
    "    - **``Review``** output data\n",
    "\n",
    "</div>"
   ]
  },
  {
   "cell_type": "markdown",
   "id": "0c07b51d-f999-4737-9739-3ea989f20802",
   "metadata": {},
   "source": [
    "## Setting up your environment"
   ]
  },
  {
   "cell_type": "markdown",
   "id": "9d6954eb-3505-4a58-b6fa-bea7047c63cf",
   "metadata": {},
   "source": [
    "Every time you log onto the NCAR HPC you want to ensure you have the correct modules loaded. Please refer to the [NCAR HPC environment](https://ncar.github.io/CESM-Tutorial/notebooks/resources/profile.html) section to make sure you are setting up your environment properly. \n",
    "\n",
    "**YOU SHOULD ENSURE YOU CHECK THIS EVERY TIME YOU ARE BUILDING A NEW CASE**\n",
    "\n"
   ]
  },
  {
   "cell_type": "code",
   "execution_count": null,
   "id": "523165e7-728b-4305-b9f7-4e6ee530a27d",
   "metadata": {},
   "outputs": [],
   "source": []
  }
 ],
 "metadata": {
  "kernelspec": {
   "display_name": "Python 3 (ipykernel)",
   "language": "python",
   "name": "python3"
  },
  "language_info": {
   "codemirror_mode": {
    "name": "ipython",
    "version": 3
   },
   "file_extension": ".py",
   "mimetype": "text/x-python",
   "name": "python",
   "nbconvert_exporter": "python",
   "pygments_lexer": "ipython3",
   "version": "3.9.12"
  },
  "toc-showcode": false
 },
 "nbformat": 4,
 "nbformat_minor": 5
}
