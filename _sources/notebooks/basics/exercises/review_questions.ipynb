{
 "cells": [
  {
   "cell_type": "markdown",
   "id": "f406f992-92bd-4b17-9bd3-b99c5c8abaf3",
   "metadata": {},
   "source": [
    "# Review Questions\n",
    "\n",
    "If time allows here are some review questions to go back over the material in the [Introduction](https://ncar.github.io/CESM-Tutorial/notebooks/intro.html#introduction) and [Basics](https://ncar.github.io/CESM-Tutorial/notebooks/basics.html#basics) sections."
   ]
  },
  {
   "cell_type": "markdown",
   "id": "400791b9-2296-448b-a246-3eddd1ee828f",
   "metadata": {},
   "source": [
    "\n",
    "<div class=\"alert alert-info\">\n",
    "<strong>Question 1: What is the CESM Workspace? How many separate directory areas are there? </strong><br><br>\n",
    " \n",
    "</div>"
   ]
  },
  {
   "cell_type": "markdown",
   "id": "41bfb932-b6bc-4bce-adb9-6bb568abc0c5",
   "metadata": {},
   "source": [
    "\n",
    "<div class=\"alert alert-success\">   \n",
    "<details>\n",
    "<summary><font face=\"Times New Roman\" color='blue'>Click here for the solution</font></summary><br>\n",
    "                \n",
    "The CESM model consists of five main directory tree areas that make up the CESM Workspace. The individual directories represent different elements including the source code, your experiment cases, the area where the model runs, the location of input data, and the location where the output data from the model will be archived for later use.\n",
    "    \n",
    "</details>\n",
    "</div>\n",
    "\n"
   ]
  },
  {
   "cell_type": "markdown",
   "id": "f1d27e05-48e4-476f-8714-abd94ff8b38c",
   "metadata": {},
   "source": [
    "\n",
    "<div class=\"alert alert-info\">\n",
    "<strong>Question 2: Where is the CESM Code Development Managed? </strong><br><br>\n",
    " \n",
    "</div>"
   ]
  },
  {
   "cell_type": "markdown",
   "id": "c081edba-611f-4f08-88c5-57d4ce94ea5b",
   "metadata": {},
   "source": [
    "\n",
    "<div class=\"alert alert-success\">   \n",
    "<details>\n",
    "<summary><font face=\"Times New Roman\" color='blue'>Click here for the solution</font></summary><br>\n",
    "                \n",
    "The CESM Project is hosted on Github under under the Earth System Community Modeling Portal (ESCOMP) which is managed by the University Corporation for Atmospheric Research (UCAR). Code can be directly downloaded from Github using Git commands.\n",
    "    \n",
    "</details>\n",
    "</div>\n"
   ]
  },
  {
   "cell_type": "markdown",
   "id": "9b6dd2e6-d422-4460-acf5-08843d505872",
   "metadata": {},
   "source": [
    "\n",
    "<div class=\"alert alert-info\">\n",
    "<strong>Question 3: Where do you find the create_newcase command? What does it do? </strong><br><br>\n",
    " \n",
    "</div>"
   ]
  },
  {
   "cell_type": "markdown",
   "id": "740a99b4-14df-4167-9dfd-75b464a91ef3",
   "metadata": {},
   "source": [
    "\n",
    "<div class=\"alert alert-success\">   \n",
    "<details>\n",
    "<summary><font face=\"Times New Roman\" color='blue'>Click here for the solution</font></summary><br>\n",
    "                \n",
    "The create_newcase script is located in the CIME Scrips Directory. The create_newcase script creates a new case in your CASE Directory. The command takes the new casename, compset, and resolution as values.\n",
    "    \n",
    "</details>\n",
    "</div>\n"
   ]
  },
  {
   "cell_type": "markdown",
   "id": "7fe2eb40-6373-4a71-a488-a3b98b8e1dc8",
   "metadata": {},
   "source": [
    "\n",
    "<div class=\"alert alert-info\">\n",
    "<strong>Question 4: What are the three commands required to start running a new case? </strong><br><br>\n",
    " \n",
    "</div>\n"
   ]
  },
  {
   "cell_type": "markdown",
   "id": "7c13abe3-e7f2-4371-a43a-f3a82856f40a",
   "metadata": {},
   "source": [
    "\n",
    "<div class=\"alert alert-success\">   \n",
    "<details>\n",
    "<summary><font face=\"Times New Roman\" color='blue'>Click here for the solution</font></summary><br>\n",
    "                \n",
    "After create_newcase you need to change to the new case directory where you need to run case.setup, case.build and case.submit. As an additional step you can run the script preview_namelists.\n",
    "    \n",
    "</details>\n",
    "</div>\n"
   ]
  },
  {
   "cell_type": "markdown",
   "id": "30282de3-e5e8-4886-88c8-409c74ca9506",
   "metadata": {},
   "source": [
    "\n",
    "<div class=\"alert alert-info\">\n",
    "<strong>Question 5: How can you monitor your CESM submission while it is running? </strong><br><br>\n",
    " \n",
    "</div>\n"
   ]
  },
  {
   "cell_type": "markdown",
   "id": "4392489e-96c9-44d7-8897-a6560891c6e9",
   "metadata": {},
   "source": [
    "\n",
    "<div class=\"alert alert-success\">   \n",
    "<details>\n",
    "<summary><font face=\"Times New Roman\" color='blue'>Click here for the solution</font></summary><br>\n",
    "                \n",
    "There are three main ways to monitor your CESM job while it is running. The first is with the qstat command, the second is with the build/run directory files, and the last is with the archive directory files. \n",
    "    \n",
    "</details>\n",
    "</div>\n"
   ]
  },
  {
   "cell_type": "markdown",
   "id": "1a83b705-7035-4614-a13b-1ecf153a5f1c",
   "metadata": {},
   "source": [
    "\n",
    "<div class=\"alert alert-info\">\n",
    "<strong>Question 6: What is the main way to understand how a CESM simulation ran? </strong><br><br>\n",
    " \n",
    "</div>\n"
   ]
  },
  {
   "cell_type": "markdown",
   "id": "197fefcd-c57a-431b-b517-5e2aacc4948c",
   "metadata": {},
   "source": [
    "\n",
    "<div class=\"alert alert-success\">   \n",
    "<details>\n",
    "<summary><font face=\"Times New Roman\" color='blue'>Click here for the solution</font></summary><br>\n",
    "                \n",
    "The main output from your CESM job is the history files. These can be specified to output the status of the component models at various levels of detail and for different time averaging periods. \n",
    "    \n",
    "</details>\n",
    "</div>\n"
   ]
  },
  {
   "cell_type": "markdown",
   "id": "69723db1-9640-4744-94e1-78f327581c0f",
   "metadata": {},
   "source": [
    "\n",
    "<div class=\"alert alert-info\">\n",
    "<strong>Question 7: What is an XML file? What is it used for in the Case Directory? </strong><br><br>\n",
    " \n",
    "</div>\n"
   ]
  },
  {
   "cell_type": "markdown",
   "id": "70243d30-f462-4254-957e-e40ef33118ad",
   "metadata": {},
   "source": [
    "\n",
    "<div class=\"alert alert-success\">   \n",
    "<details>\n",
    "<summary><font face=\"Times New Roman\" color='blue'>Click here for the solution</font></summary><br>\n",
    "                \n",
    "The XML files are Markup Language files that contain variables used by the CESM scripts. In the Case Directory there are seven xml files:\n",
    "    \n",
    "- env_archive.xml specifies rules for short-term archival script case.st_archive\n",
    "- env_batch.xml set by create_newcase to define batch specific settings used by script case.submit\n",
    "- env_build.xml specifies build information used by script case.build\n",
    "- env_case.xml set by create_newcase and cannot be modified\n",
    "- env_mach_pes.xml specifies PE layout of components used by script case.run\n",
    "- env_mach_specific.xml specifies machine specific information used by script case.build\n",
    "- env_run.xml sets run time information (such as length of run, frequency of\n",
    "restarts, …) User interacts with this file most frequently\n",
    "    \n",
    "</details>\n",
    "</div>\n"
   ]
  },
  {
   "cell_type": "markdown",
   "id": "12cb104f-bc23-4464-b531-a89934b9bb54",
   "metadata": {},
   "source": [
    "\n",
    "<div class=\"alert alert-info\">\n",
    "<strong>Question 8: What are the main ways to investigate and modify XML values in the Case Directory? </strong><br><br>\n",
    " \n",
    "</div>\n"
   ]
  },
  {
   "cell_type": "markdown",
   "id": "b030bacf-4dfb-42aa-8c56-8dc199840fd2",
   "metadata": {},
   "source": [
    "\n",
    "<div class=\"alert alert-success\">   \n",
    "<details>\n",
    "<summary><font face=\"Times New Roman\" color='blue'>Click here for the solution</font></summary><br>\n",
    "                \n",
    "While the values in XML files can be modified directly with an editor, CESM provides tools for querying and changing values. The xmlquery and xmlchange tools ensure that the values found and updated are valid for the files they belong to and that any changes made are recorded in the CaseStatus file in the CASE Directory.\n",
    "    \n",
    "</details>\n",
    "</div>\n"
   ]
  }
 ],
 "metadata": {
  "kernelspec": {
   "display_name": "Python 3 (ipykernel)",
   "language": "python",
   "name": "python3"
  },
  "language_info": {
   "codemirror_mode": {
    "name": "ipython",
    "version": 3
   },
   "file_extension": ".py",
   "mimetype": "text/x-python",
   "name": "python",
   "nbconvert_exporter": "python",
   "pygments_lexer": "ipython3",
   "version": "3.9.12"
  }
 },
 "nbformat": 4,
 "nbformat_minor": 5
}
