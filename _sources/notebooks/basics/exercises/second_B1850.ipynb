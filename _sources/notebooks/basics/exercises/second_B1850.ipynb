{
 "cells": [
  {
   "cell_type": "markdown",
   "id": "7013ccab-46dc-4a38-8039-7ec464251982",
   "metadata": {},
   "source": [
    "# Extending your run"
   ]
  },
  {
   "cell_type": "markdown",
   "id": "30c6953e-8197-4fea-b398-5a090db1a762",
   "metadata": {},
   "source": [
    "\n",
    "<div class=\"alert alert-info\">\n",
    "<strong>Exercise: Run the same case, but for longer</strong><br><br>\n",
    "\n",
    "The default value for a new case run length is 5 days. The run length is set by the XML variables STOP_OPTION and STOP_N. As the 5 days is too short to produce a monthly history file we will change these to run for a single month. In the next section you will learn more about `xml` files, but for now we will just provide the commands.\n",
    "    \n",
    "From your `CASE` directory, extend the run <font face=\"Courier\" color='purple'><strong>b.day1.0 </strong></font> with the command:\n",
    "```\n",
    "./xmlchange STOP_OPTION=nmonths\n",
    "./xmlchange STOP_N=1\n",
    "```\n",
    "\n",
    "After you have changed these variables, submit the job again and check its status.\n",
    "    \n",
    "</div>\n"
   ]
  },
  {
   "cell_type": "markdown",
   "id": "73e4cb02-1717-420c-8a28-f56c0078956c",
   "metadata": {},
   "source": [
    "\n",
    "<div class=\"alert alert-warning\">  \n",
    "<details>\n",
    "\n",
    "<summary> <font face=\"Times New Roman\" color='blue'>Click here for hints</font> </summary>\n",
    "    \n",
    "**Submit:**\n",
    "```\n",
    "./case.submit\n",
    "```\n",
    "\n",
    "**Check the Status:**\n",
    "```\n",
    "qstat -u $USER\n",
    "```   \n",
    "    \n",
    "**List the contents of the Run directory**\n",
    "\n",
    "```\n",
    "ls -lt /glade/scratch/$USER/b.day1.0/run\n",
    "```\n",
    "    \n",
    "</details>\n",
    "</div>\n"
   ]
  },
  {
   "cell_type": "markdown",
   "id": "f7c918d3-6475-463d-a10e-2badb6728cb5",
   "metadata": {},
   "source": [
    "\n",
    "<div class=\"alert alert-success\">   \n",
    "<details>\n",
    "<summary><font face=\"Times New Roman\" color='blue'>Click here for the solution</font></summary><br>\n",
    "                \n",
    "Go to your <font face=\"Courier\" color='purple'><strong>b.day1.0 </strong></font> case directory:\n",
    "```\n",
    "cd /glade/work/$USER/cases/b.day1.0\n",
    "```\n",
    "\n",
    "Changing xml files:\n",
    "```    \n",
    "./xmlchange STOP_OPTION=nmonths\n",
    "./xmlchange STOP_N=1\n",
    "```\n",
    "  \n",
    "Do not make any other changes since we are running an out-of-the-box simulation.\n",
    "\n",
    "Submit:\n",
    "```\n",
    "./case.submit\n",
    "```\n",
    "\n",
    "Check the job status:\n",
    "```\n",
    "./qstat -u $USER\n",
    "```    \n",
    "    \n",
    "    \n",
    "When the run is completed, look into the archive directory for: \n",
    "<font face=\"Courier\" color='purple'><strong>b.day1.0</strong></font>.  \n",
    "    \n",
    "Check that your archive directory on cheyenne (The path will be different on other machines): \n",
    "```\n",
    "cd /glade/scratch/$USER/archive/b.day1.0\n",
    "ls \n",
    "```\n",
    "\n",
    "</details>\n",
    "</div>\n",
    "\n"
   ]
  },
  {
   "cell_type": "markdown",
   "id": "9c66385f-055c-4b74-b6fe-6fc189c02690",
   "metadata": {
    "tags": []
   },
   "source": [
    "## Test your understanding"
   ]
  },
  {
   "cell_type": "markdown",
   "id": "8218314c-f299-4171-b0fe-bac655c2d4f5",
   "metadata": {
    "tags": []
   },
   "source": [
    "- Did your run complete successfully?\n",
    "- What sorts of files did you get as output and how are these different from before?"
   ]
  },
  {
   "cell_type": "code",
   "execution_count": null,
   "id": "4a7b563b-7afd-4699-954b-8a3cc1e7bc4e",
   "metadata": {},
   "outputs": [],
   "source": []
  }
 ],
 "metadata": {
  "kernelspec": {
   "display_name": "Python 3 (ipykernel)",
   "language": "python",
   "name": "python3"
  },
  "language_info": {
   "codemirror_mode": {
    "name": "ipython",
    "version": 3
   },
   "file_extension": ".py",
   "mimetype": "text/x-python",
   "name": "python",
   "nbconvert_exporter": "python",
   "pygments_lexer": "ipython3",
   "version": "3.9.12"
  }
 },
 "nbformat": 4,
 "nbformat_minor": 5
}
