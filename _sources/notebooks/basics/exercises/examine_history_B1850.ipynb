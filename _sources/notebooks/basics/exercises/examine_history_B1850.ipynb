{
 "cells": [
  {
   "cell_type": "markdown",
   "id": "f406f992-92bd-4b17-9bd3-b99c5c8abaf3",
   "metadata": {},
   "source": [
    "# Examine History Files\n"
   ]
  },
  {
   "cell_type": "markdown",
   "id": "0f737e0e-3ba8-40e4-8a82-8484830e002a",
   "metadata": {},
   "source": [
    "Having successfully completed your first month of the new CESM B1850 case you will now examine the history files that have been transfered to the Archive directory. You will be using the NetCDF viewer ncview to look at the monthly average values for the single month. For this exercise you will be looking at the output from the Community Atmospheric Model (CAM) component of CESM, however the ncview tool can be applied to other components such as the Community Land Model (CLM). In this exercise we will:\n",
    "\n",
    "- Step 1. Explore the b.day1.0 Archive directory.\n",
    "- Step 2. Open the b.day1.0 cam h0 in ncview.\n",
    "- Step 3. Examine Average Monthly Surface Temperature.\n",
    "- Step 4. Examine Average Monthly Precipitation."
   ]
  },
  {
   "cell_type": "markdown",
   "id": "736b22e8-4b55-4c33-bff9-1ab1a026931c",
   "metadata": {},
   "source": [
    "## Step 1. Explore the b.day1.0 Archive directory"
   ]
  },
  {
   "cell_type": "markdown",
   "id": "0c778f29-eacc-4e41-b729-1cb6e45cc65f",
   "metadata": {},
   "source": [
    "The short term archive directory has a range of model component directories along with the restart (rest) and logs directories. First change directory into the archive directory and then list the contents of the restart and logs directories. "
   ]
  },
  {
   "cell_type": "markdown",
   "id": "27929215-8026-42f7-acf7-84c259f944e2",
   "metadata": {},
   "source": [
    "<div class=\"alert alert-info\">\n",
    "<strong>Change into the b.day1.0 short term archive directory: </strong><br><br>\n",
    "\n",
    "```\n",
    "cd /glade/scratch/$USER/archive/b.day1.0\n",
    "```\n",
    "<br>\n",
    "\n",
    "<strong>List the logs directory: </strong><br>\n",
    "\n",
    "```\n",
    "ls -l logs\n",
    "```\n",
    "<br>\n",
    "    \n",
    "This is where all the log files from the model run are kept. <br>\n",
    "\n",
    "<strong>List the logs directory: </strong><br>\n",
    "\n",
    "```\n",
    "ls -l rest/0001-02-01-00000\n",
    "```\n",
    "<br>\n",
    "\n",
    "These are the files that CESM will use to restart the model.\n",
    "\n",
    "</div>"
   ]
  },
  {
   "cell_type": "markdown",
   "id": "f1fad1f2-8f0a-4555-a40b-c226877d9c06",
   "metadata": {},
   "source": [
    "## Step 2. Open the CAM h0 monthly history file"
   ]
  },
  {
   "cell_type": "markdown",
   "id": "b7a357a4-fec5-44df-8a2d-db27dd57d9fe",
   "metadata": {},
   "source": [
    "You will now use `ncview` to look at the b.day1.0 case CAM monthly average values for the single month you ran.\n",
    "\n",
    "If you are unfamiliar with `ncview` you can learn more at [this link](https://ncar.github.io/CESM-Tutorial/notebooks/resources/netcdf.html#ncview). \n",
    "\n",
    "**Note**: you must load the `ncview` module to your environment. If you loaded the tutorial `.profile` or `.tcshrc` file it should already be loaded. Check that it is in your environment.\n",
    "\n",
    "```\n",
    "module list\n",
    "```"
   ]
  },
  {
   "cell_type": "markdown",
   "id": "e4952d0c-ce4b-4274-9850-1f6e9e8fe7b6",
   "metadata": {},
   "source": [
    "<div class=\"alert alert-info\">\n",
    "<strong>Change into the CAM history directory: </strong><br><br>\n",
    "\n",
    "```\n",
    "cd atm/hist\n",
    "```\n",
    "<br>\n",
    "\n",
    "<strong>List the files in the directory: </strong><br>\n",
    "\n",
    "```\n",
    "ls -l\n",
    "```\n",
    "<br>\n",
    "    \n",
    "There should be a single file, b.day1.0.cam.h0.0001-01.nc.<br>\n",
    "\n",
    "<strong>Open the file using `ncview`: </strong><br>\n",
    "```\n",
    "ncview b.day1.0.cam.h0.0001-01.nc &\n",
    "```\n",
    "<br>"
   ]
  },
  {
   "cell_type": "markdown",
   "id": "3c1fc1c9-910a-40e6-9a5e-77306885925d",
   "metadata": {},
   "source": [
    "If your X11 environment is correctly set up then the ncview tool should appear as shown below on the left. Note the ` &` at the end of the command. This puts the command into the background allowing other tasks to be run from the Cheyenne terminal window. The view on the right shows the ncview application once the Surface Temperature variable has been selected.\n",
    "\n",
    "</div>\n",
    "\n",
    "![NCView App Window](../../../images/basics/NCVIEW_App_Window.png)\n",
    "*<p style=\"text-align: center;\"> Figure: NCView App Window </p>*"
   ]
  },
  {
   "cell_type": "markdown",
   "id": "24a515d6-95e5-48be-b7c4-b335ec0ad88a",
   "metadata": {},
   "source": [
    "## Step 3. Examine Average Monthly Surface Temperature"
   ]
  },
  {
   "cell_type": "markdown",
   "id": "0b5d30af-109a-40a8-a49f-01ac21734dfb",
   "metadata": {},
   "source": [
    "Using ncview with the b.day1.0 January 0001 CAM monthly average values file loaded, examine the Surface Temperature variable. Update the color palette used to plot values and change the size of the plot.\n",
    "\n",
    "<div class=\"alert alert-info\">\n",
    "<strong>Select the Surface Temperature Variable: </strong><br><br>\n",
    "\n",
    "Click on the \"(244) 2d vars\" button shown above. This will pull up a list of all 2d vars on the b.day1.0 January 0001 CAM history file. This is a long list but it is in alphabetical order. You are looking for the TS variable.  \n",
    "<br>\n",
    "\n",
    "<strong>Change the color selection from detail to bright: </strong><br>\n",
    "\n",
    "Click on the color button marked with \"detail\". This will change the color selection to \"3gauss\". Clicking again will change this to \"ssec\" and finally \"bright\".\n",
    "    \n",
    "<br>\n",
    "    \n",
    "<strong>Increase the map plot size: </strong><br>\n",
    "\n",
    "Click on the magnify button marked with \"M X3\". This will change the magnification to \"M X4\". Clicking again will change this to \"M X5\" and finally \"M X6\"\n",
    "    \n",
    "</div>\n",
    "\n",
    "![NCView TS](../../../images/basics/NCVIEW_Jan0001_TS.png)\n",
    "*<p style=\"text-align: center;\"> Figure: NCView b.day1.0 TS Jan 0001 </p>*\n",
    "\n",
    "The Surface Temperature variable is in Kelvin. A value of 273.15K represents 0°C and 32°F. There are many options to better view and explore data with ncview. Some of these will come up over the next few days of the tutorial."
   ]
  },
  {
   "cell_type": "markdown",
   "id": "14ba2172-2188-4bca-b861-deb6bb45731a",
   "metadata": {},
   "source": [
    "## Step 4. Examine Average Monthly Precipitation"
   ]
  },
  {
   "cell_type": "markdown",
   "id": "25c204c4-d1f2-4af8-93c1-d9296b5cba9c",
   "metadata": {},
   "source": [
    "Using ncview with the b.day1.0 January 0001 CAM monthly average values file loaded, examine the the two variables representing Convective Precipitation and Large Scale Precipitation.\n",
    "\n",
    "<div class=\"alert alert-info\">\n",
    "<strong>Exercise: Select the Convective Precipitation Variable: </strong><br><br>\n",
    "\n",
    "Click on the \"(244) 2d vars\" button shown above. Find and select the PRECC variable.  \n",
    "<br>\n",
    "\n",
    "</div>\n",
    "\n",
    "![NCView PRECC](../../../images/basics/NCVIEW_Jan0001_PRECC.png)\n",
    "*<p style=\"text-align: center;\"> Figure: NCView b.day1.0 PRECC Jan 0001 </p>*\n",
    "\n",
    "<div class=\"alert alert-info\">\n",
    "<strong>Exercise: Select the Convective Precipitation Variable: </strong><br><br>\n",
    "\n",
    "Click on the \"(244) 2d vars\" button shown above. Find and select the PRECL variable.  \n",
    "    \n",
    "<br>\n",
    "\n",
    "    \n",
    "</div>\n",
    "\n",
    "![NCView PRECL](../../../images/basics/NCVIEW_Jan0001_PRECL.png)\n",
    "*<p style=\"text-align: center;\"> Figure: NCView b.day1.0 PRECL Jan 0001 </p>*\n",
    "\n",
    "Precipitation in the model is recorded in m/s. To convert to mm/day we can multiply the values by 1000 mm in a meter and 86,400 seconds in a day. Can you see the differences in Convective and Large Scale Precipitation?"
   ]
  },
  {
   "cell_type": "code",
   "execution_count": null,
   "id": "aefd9392-3406-466a-939e-3382755675ad",
   "metadata": {},
   "outputs": [],
   "source": []
  }
 ],
 "metadata": {
  "kernelspec": {
   "display_name": "Python 3 (ipykernel)",
   "language": "python",
   "name": "python3"
  },
  "language_info": {
   "codemirror_mode": {
    "name": "ipython",
    "version": 3
   },
   "file_extension": ".py",
   "mimetype": "text/x-python",
   "name": "python",
   "nbconvert_exporter": "python",
   "pygments_lexer": "ipython3",
   "version": "3.9.12"
  }
 },
 "nbformat": 4,
 "nbformat_minor": 5
}
