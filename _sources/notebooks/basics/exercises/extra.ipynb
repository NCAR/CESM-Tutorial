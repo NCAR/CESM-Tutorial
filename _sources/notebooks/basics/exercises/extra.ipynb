{
 "cells": [
  {
   "cell_type": "markdown",
   "id": "f406f992-92bd-4b17-9bd3-b99c5c8abaf3",
   "metadata": {},
   "source": [
    "# Explore Further\n"
   ]
  },
  {
   "cell_type": "markdown",
   "id": "0f737e0e-3ba8-40e4-8a82-8484830e002a",
   "metadata": {},
   "source": [
    "The focus of this exercise has been to get the model running. We will learn more about how to modify runs in this section, and we will cover details in further sections of this tutorial. For now, if you have extra time, try the following actions to better familiarize yourself with the CESM code."
   ]
  },
  {
   "cell_type": "markdown",
   "id": "b86bda30-feb3-4cc4-aa4e-90bde99a8d1d",
   "metadata": {},
   "source": [
    "## Explore the `CASE` directory"
   ]
  },
  {
   "cell_type": "markdown",
   "id": "19338922-d825-435d-bc21-4b6bf78c2ad9",
   "metadata": {},
   "source": [
    "<div class=\"alert alert-info\">\n",
    "    \n",
    "```\n",
    "cd /glade/work/$USER/cases/b.day1.0/\n",
    "```\n",
    "</div>"
   ]
  },
  {
   "cell_type": "markdown",
   "id": "b349d98b-d239-4760-bc52-54300f47d6c9",
   "metadata": {
    "tags": []
   },
   "source": [
    "Look around your case directory to become familiar with the structure. Note there are scripts (e.g. case.setup, case.submit, etc.), xml files, etc. We will delve into these in more detail in future sections of the tutorial."
   ]
  },
  {
   "cell_type": "markdown",
   "id": "33e05339-2796-427a-867d-5891dba3803e",
   "metadata": {
    "tags": []
   },
   "source": [
    "### Check the CaseStatus file"
   ]
  },
  {
   "cell_type": "markdown",
   "id": "be1faf19-5e5b-48fa-ad77-89cdc01a6fc5",
   "metadata": {},
   "source": [
    "All activities for the case are recorded in the CaseStatus file. By looking through the file the successful or otherwise outcome of each step of the run can be tracked."
   ]
  },
  {
   "cell_type": "markdown",
   "id": "972ea62f-d33d-49c4-a615-bb4efd603946",
   "metadata": {},
   "source": [
    "<div class=\"alert alert-info\">\n",
    "    \n",
    "```\n",
    "more CaseStatus \n",
    "```\n",
    "</div>"
   ]
  },
  {
   "cell_type": "markdown",
   "id": "e8455397-9f25-4108-ba7d-5636dd6f14df",
   "metadata": {},
   "source": [
    "### Check the Job Queue and Project"
   ]
  },
  {
   "cell_type": "markdown",
   "id": "67bef6ac-3a5a-4594-9fb4-bb0aadfe9fb8",
   "metadata": {},
   "source": [
    "<div class=\"alert alert-info\">\n",
    "    \n",
    "```\n",
    "./xmlquery JOB_QUEUE\n",
    "./xmlquery PROJECT\n",
    "```\n",
    "</div>"
   ]
  },
  {
   "cell_type": "markdown",
   "id": "bc61ce2c-016d-42a1-807f-d9429b60c8b2",
   "metadata": {
    "tags": []
   },
   "source": [
    "## Explore the `cime/scripts` directory"
   ]
  },
  {
   "cell_type": "markdown",
   "id": "6d59eac7-637a-4ab5-aa13-e58c76402ffb",
   "metadata": {},
   "source": [
    "<div class=\"alert alert-info\">\n",
    "    \n",
    "```\n",
    "cd /glade/work/$USER/code/my_cesm_code/cime/scripts\n",
    "```\n",
    "</div>"
   ]
  },
  {
   "cell_type": "markdown",
   "id": "0bf92c97-a6f3-42d1-81dc-3afb5df626e6",
   "metadata": {},
   "source": [
    "### Check the CESM compset definitions"
   ]
  },
  {
   "cell_type": "markdown",
   "id": "0fea9ec7-4dfe-4901-be41-2815b8d0408c",
   "metadata": {},
   "source": [
    "<div class=\"alert alert-info\">\n",
    "    \n",
    "```\n",
    "./query_config --compsets | more\n",
    "```\n",
    "</div>"
   ]
  },
  {
   "cell_type": "markdown",
   "id": "b20b8542-59e8-4f7f-9a47-daf1d324794f",
   "metadata": {},
   "source": [
    "Note the ` | more` after the command sends the output of the query_config script to the `more` tool so you can scroll through it more easily. You can use the spacebar to move to the next page and the q key to quit out of the tool."
   ]
  },
  {
   "cell_type": "markdown",
   "id": "ca441693-1d6a-47d9-add7-cba4754fe18a",
   "metadata": {},
   "source": [
    "### Check the CESM grid resolutions"
   ]
  },
  {
   "cell_type": "markdown",
   "id": "8407b1f3-5e5f-4b85-aee5-b2b197b8c6b1",
   "metadata": {},
   "source": [
    "<div class=\"alert alert-info\">\n",
    "    \n",
    "```\n",
    "./query_config --grids --long | more\n",
    "```"
   ]
  },
  {
   "cell_type": "code",
   "execution_count": null,
   "id": "cff6ac2f-b73d-4585-805d-79267555b707",
   "metadata": {},
   "outputs": [],
   "source": []
  }
 ],
 "metadata": {
  "kernelspec": {
   "display_name": "Python 3 (ipykernel)",
   "language": "python",
   "name": "python3"
  },
  "language_info": {
   "codemirror_mode": {
    "name": "ipython",
    "version": 3
   },
   "file_extension": ".py",
   "mimetype": "text/x-python",
   "name": "python",
   "nbconvert_exporter": "python",
   "pygments_lexer": "ipython3",
   "version": "3.9.12"
  }
 },
 "nbformat": 4,
 "nbformat_minor": 5
}
