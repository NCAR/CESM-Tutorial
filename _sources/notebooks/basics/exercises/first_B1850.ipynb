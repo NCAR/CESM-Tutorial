{
 "cells": [
  {
   "cell_type": "markdown",
   "id": "7013ccab-46dc-4a38-8039-7ec464251982",
   "metadata": {},
   "source": [
    "# Your first CESM run"
   ]
  },
  {
   "cell_type": "markdown",
   "id": "30c6953e-8197-4fea-b398-5a090db1a762",
   "metadata": {},
   "source": [
    "\n",
    "<div class=\"alert alert-info\">\n",
    "<strong>Exercise: Run a basic, out-of-the-box (that is, no user changes are implemented) CESM experiment</strong><br><br>\n",
    " \n",
    "Create a case called **b.day1.0** using the compset  ``B1850``  at ``f19_g17`` resolution. \n",
    "\n",
    "Check the status of the run after submitting.\n",
    "\n",
    "</div>\n"
   ]
  },
  {
   "cell_type": "markdown",
   "id": "73e4cb02-1717-420c-8a28-f56c0078956c",
   "metadata": {},
   "source": [
    "\n",
    "<div class=\"alert alert-warning\">  \n",
    "<details>\n",
    "\n",
    "<summary> <font face=\"Times New Roman\" color='blue'>Click here for hints</font> </summary>\n",
    "    \n",
    "**Is my workspace set up?**\n",
    "\n",
    "Did you already create a `cases` directory where you will put all new cases\n",
    "```\n",
    "cd /glade/work/$USER\n",
    "mkdir cases\n",
    "```\n",
    "   \n",
    "**Did you create a new case?**\n",
    "\n",
    "You can create a new case with the command:\n",
    "```\n",
    "./create_newcase --case /glade/work/$USER/cases/CASE --res RES --compset COMPSET\n",
    "```\n",
    "Make sure you use the correct information for the CASE, RES, and COMPSET inputs.\n",
    "\n",
    "**Did you set up the case?**\n",
    "\n",
    "You can invoke case set up as follows:\n",
    "```\n",
    "./case.setup\n",
    "```\n",
    "**How do I compile?**\n",
    "\n",
    "You can compile with the command:\n",
    "```\n",
    "qcmd -- ./case.build\n",
    "```\n",
    "**How do I check my job status?**\n",
    "\n",
    "You can check job status using the command:\n",
    "```\n",
    "qstat -u $USER\n",
    "```\n",
    "    \n",
    "</details>\n",
    "</div>\n"
   ]
  },
  {
   "cell_type": "markdown",
   "id": "f7c918d3-6475-463d-a10e-2badb6728cb5",
   "metadata": {},
   "source": [
    "\n",
    "<div class=\"alert alert-success\">   \n",
    "<details>\n",
    "<summary><font face=\"Times New Roman\" color='blue'>Click here for the solution</font></summary><br>\n",
    "                \n",
    "Create a new case <font face=\"Courier\" color='purple'><strong>b.day1.0 </strong></font> with the command:\n",
    "```\n",
    "cd /glade/work/$USER/code/my_cesm_code/cime/scripts\n",
    "./create_newcase --case /glade/work/$USER/cases/b.day1.0 --res f19_g17 --compset B1850\n",
    "```\n",
    "\n",
    "Case <font face=\"Courier\" color='purple'><strong>setup</strong></font>:\n",
    "```    \n",
    "cd /glade/work/$USER/cases/b.day1.0 \n",
    "./case.setup\n",
    "```\n",
    "  \n",
    "Do not make any other changes since we are running an out-of-the-box simulation.\n",
    "\n",
    "Build and submit:\n",
    "```\n",
    "qcmd -- ./case.build\n",
    "./case.submit\n",
    "```\n",
    "    \n",
    "Remember that `qcmd` is used on Cheyenne only.\n",
    "\n",
    "Check the status:\n",
    "```\n",
    "qstat -u $USER\n",
    "```    \n",
    "\n",
    "When the run is completed, look into the archive directory for: \n",
    "<font face=\"Courier\" color='purple'><strong>b.day1.0</strong></font>.  \n",
    "    \n",
    "Check that your archive directory on cheyenne (The path will be different on other machines): \n",
    "```\n",
    "cd /glade/scratch/$USER/archive/b.day1.0\n",
    "ls \n",
    "```\n",
    "\n",
    "</details>\n",
    "</div>\n",
    "\n"
   ]
  },
  {
   "cell_type": "markdown",
   "id": "9c66385f-055c-4b74-b6fe-6fc189c02690",
   "metadata": {
    "tags": []
   },
   "source": [
    "## Test your understanding"
   ]
  },
  {
   "cell_type": "markdown",
   "id": "8218314c-f299-4171-b0fe-bac655c2d4f5",
   "metadata": {
    "tags": []
   },
   "source": [
    "- Did your run complete successfully?\n",
    "- What sorts of files did you get as output?\n",
    "- How long did the run go for?"
   ]
  },
  {
   "cell_type": "code",
   "execution_count": null,
   "id": "4a7b563b-7afd-4699-954b-8a3cc1e7bc4e",
   "metadata": {},
   "outputs": [],
   "source": []
  }
 ],
 "metadata": {
  "kernelspec": {
   "display_name": "Python 3 (ipykernel)",
   "language": "python",
   "name": "python3"
  },
  "language_info": {
   "codemirror_mode": {
    "name": "ipython",
    "version": 3
   },
   "file_extension": ".py",
   "mimetype": "text/x-python",
   "name": "python",
   "nbconvert_exporter": "python",
   "pygments_lexer": "ipython3",
   "version": "3.9.12"
  }
 },
 "nbformat": 4,
 "nbformat_minor": 5
}
