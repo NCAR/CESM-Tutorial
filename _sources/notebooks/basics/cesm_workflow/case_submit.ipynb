{
 "cells": [
  {
   "cell_type": "markdown",
   "id": "683d9e77-d700-4f75-b3f0-eb813657351b",
   "metadata": {
    "tags": []
   },
   "source": [
    "# Case Submit\n",
    "\n"
   ]
  },
  {
   "cell_type": "markdown",
   "id": "ae2803f9-270d-4dd6-803a-e4158cbf7b86",
   "metadata": {},
   "source": [
    "After a new case is built, the tool that submits the experiment to start it running is `case.submit`. This tool is located in the `$CASEROOT` directory."
   ]
  },
  {
   "cell_type": "markdown",
   "id": "fd09cd4e-8e74-4867-aaf7-bb480d679e3d",
   "metadata": {},
   "source": [
    "![CESM case.submit](../../../images/basics/CESM2_case_submit.png)\n",
    "*<p style=\"text-align: center;\"> Figure: Detailed view of the location of case.submit</p>*"
   ]
  },
  {
   "cell_type": "markdown",
   "id": "579cb4c8-03f1-4c9f-913f-de2ffeccfbc5",
   "metadata": {},
   "source": [
    "Running this script results in the following actions:\n",
    "- Checking archive and run options\n",
    "- Checking in namelists that need to be rebuilt\n",
    "- Checking input data\n",
    "- Submitting the `case.run` script to the NCAR HPC batch job scheduler\n",
    "- Submitting the `case.st_archive` script to archive the model output. This step is dependent on the successful completion of `case.run`"
   ]
  },
  {
   "cell_type": "markdown",
   "id": "d8e6525b-31d9-450d-a3b9-e3b435fc231a",
   "metadata": {},
   "source": [
    "## Command Syntax"
   ]
  },
  {
   "cell_type": "markdown",
   "id": "12524d65-0037-4652-a77d-3bfea021869e",
   "metadata": {},
   "source": [
    "<div class=\"alert alert-info\">\n",
    "\n",
    "<strong>You should still be in the `CASEROOT` directory after running `case.build`\n",
    "```\n",
    "cd /glade/work/$USER/cases/CASE\n",
    "```\n",
    "    \n",
    "<br>\n",
    "    \n",
    "<strong>Example `case.submit` command: </strong><br>    \n",
    "    \n",
    "```\n",
    "./case.submit\n",
    "```\n",
    "    \n",
    "</div>\n",
    "\n",
    "<strong>NOTE:</strong> Do not enter the example above at the command line. You will create your first case in the Exercise at the end of this section.<br>"
   ]
  },
  {
   "cell_type": "markdown",
   "id": "630dfd32-c4fc-40a9-812c-4c62ff6c4862",
   "metadata": {},
   "source": [
    "\n",
    "<div class=\"alert alert-info\">  \n",
    "<details>\n",
    "\n",
    "<summary> <font face=\"Times New Roman\" color='blue'>Click here for example output</font> </summary>\n",
    "\n",
    "<br>\n",
    "    \n",
    "```\n",
    "Setting resource.RLIMIT_STACK to -1 from (307200000, -1)\n",
    " - Prestaging REFCASE (/glade/p/cesmdata/cseg/inputdata/cesm2_init/b.e20.B1850.f19_g17.release_cesm2_1_0.020/0301-01-01) to /glade/scratch/$USER/b.day1.0/run\n",
    "Copy rpointer /glade/p/cesmdata/cseg/inputdata/cesm2_init/b.e20.B1850.f19_g17.release_cesm2_1_0.020/0301-01-01/rpointer.ocn.restart\n",
    "Copy rpointer /glade/p/cesmdata/cseg/inputdata/cesm2_init/b.e20.B1850.f19_g17.release_cesm2_1_0.020/0301-01-01/rpointer.ice\n",
    "Copy rpointer /glade/p/cesmdata/cseg/inputdata/cesm2_init/b.e20.B1850.f19_g17.release_cesm2_1_0.020/0301-01-01/rpointer.lnd\n",
    "Copy rpointer /glade/p/cesmdata/cseg/inputdata/cesm2_init/b.e20.B1850.f19_g17.release_cesm2_1_0.020/0301-01-01/rpointer.rof\n",
    "Copy rpointer /glade/p/cesmdata/cseg/inputdata/cesm2_init/b.e20.B1850.f19_g17.release_cesm2_1_0.020/0301-01-01/rpointer.atm\n",
    "Copy rpointer /glade/p/cesmdata/cseg/inputdata/cesm2_init/b.e20.B1850.f19_g17.release_cesm2_1_0.020/0301-01-01/rpointer.ocn.tavg.5\n",
    "Copy rpointer /glade/p/cesmdata/cseg/inputdata/cesm2_init/b.e20.B1850.f19_g17.release_cesm2_1_0.020/0301-01-01/rpointer.glc\n",
    "Copy rpointer /glade/p/cesmdata/cseg/inputdata/cesm2_init/b.e20.B1850.f19_g17.release_cesm2_1_0.020/0301-01-01/rpointer.ocn.ovf\n",
    "Copy rpointer /glade/p/cesmdata/cseg/inputdata/cesm2_init/b.e20.B1850.f19_g17.release_cesm2_1_0.020/0301-01-01/rpointer.drv\n",
    "Creating component namelists\n",
    "   Calling /glade/work/$USER/code/cesm2.1.1/components/cam//cime_config/buildnml\n",
    "CAM namelist copy: file1 /glade/u/home/$USER/cases/b.day1.0/Buildconf/camconf/atm_in file2 /glade/scratch/$USER/b.day1.0/run/atm_in \n",
    "   Calling /glade/work/$USER/code/cesm2.1.1/components/clm//cime_config/buildnml\n",
    "   Calling /glade/work/$USER/code/cesm2.1.1/components/cice//cime_config/buildnml\n",
    "   Calling /glade/work/$USER/code/cesm2.1.1/components/pop//cime_config/buildnml\n",
    "   Calling /glade/work/$USER/code/cesm2.1.1/components/mosart//cime_config/buildnml\n",
    "   Running /glade/work/$USER/code/cesm2.1.1/components/cism//cime_config/buildnml \n",
    "   Calling /glade/work/$USER/code/cesm2.1.1/components/ww3//cime_config/buildnml\n",
    "   Calling /glade/work/$USER/code/cesm2.1.1/cime/src/components/stub_comps/sesp/cime_config/buildnml\n",
    "   Calling /glade/work/$USER/code/cesm2.1.1/cime/src/drivers/mct/cime_config/buildnml\n",
    "Finished creating component namelists\n",
    "Checking that inputdata is available as part of case submission\n",
    "Setting resource.RLIMIT_STACK to -1 from (-1, -1)\n",
    "Loading input file list: 'Buildconf/clm.input_data_list'\n",
    "Loading input file list: 'Buildconf/cpl.input_data_list'\n",
    "Loading input file list: 'Buildconf/pop.input_data_list'\n",
    "Loading input file list: 'Buildconf/ww3.input_data_list'\n",
    "Loading input file list: 'Buildconf/cice.input_data_list'\n",
    "Loading input file list: 'Buildconf/cism.input_data_list'\n",
    "Loading input file list: 'Buildconf/mosart.input_data_list'\n",
    "Loading input file list: 'Buildconf/cam.input_data_list'\n",
    " - Prestaging REFCASE (/glade/p/cesmdata/cseg/inputdata/cesm2_init/b.e20.B1850.f19_g17.release_cesm2_1_0.020/0301-01-01) to /glade/scratch/$USER/b.day1.0/run\n",
    "Copy rpointer /glade/p/cesmdata/cseg/inputdata/cesm2_init/b.e20.B1850.f19_g17.release_cesm2_1_0.020/0301-01-01/rpointer.ocn.restart\n",
    "Copy rpointer /glade/p/cesmdata/cseg/inputdata/cesm2_init/b.e20.B1850.f19_g17.release_cesm2_1_0.020/0301-01-01/rpointer.ice\n",
    "Copy rpointer /glade/p/cesmdata/cseg/inputdata/cesm2_init/b.e20.B1850.f19_g17.release_cesm2_1_0.020/0301-01-01/rpointer.lnd\n",
    "Copy rpointer /glade/p/cesmdata/cseg/inputdata/cesm2_init/b.e20.B1850.f19_g17.release_cesm2_1_0.020/0301-01-01/rpointer.rof\n",
    "Copy rpointer /glade/p/cesmdata/cseg/inputdata/cesm2_init/b.e20.B1850.f19_g17.release_cesm2_1_0.020/0301-01-01/rpointer.atm\n",
    "Copy rpointer /glade/p/cesmdata/cseg/inputdata/cesm2_init/b.e20.B1850.f19_g17.release_cesm2_1_0.020/0301-01-01/rpointer.ocn.tavg.5\n",
    "Copy rpointer /glade/p/cesmdata/cseg/inputdata/cesm2_init/b.e20.B1850.f19_g17.release_cesm2_1_0.020/0301-01-01/rpointer.glc\n",
    "Copy rpointer /glade/p/cesmdata/cseg/inputdata/cesm2_init/b.e20.B1850.f19_g17.release_cesm2_1_0.020/0301-01-01/rpointer.ocn.ovf\n",
    "Copy rpointer /glade/p/cesmdata/cseg/inputdata/cesm2_init/b.e20.B1850.f19_g17.release_cesm2_1_0.020/0301-01-01/rpointer.drv\n",
    " - Prestaging REFCASE (/glade/p/cesmdata/cseg/inputdata/cesm2_init/b.e20.B1850.f19_g17.release_cesm2_1_0.020/0301-01-01) to /glade/scratch/$USER/b.day1.0/run\n",
    "Copy rpointer /glade/p/cesmdata/cseg/inputdata/cesm2_init/b.e20.B1850.f19_g17.release_cesm2_1_0.020/0301-01-01/rpointer.ocn.restart\n",
    "Copy rpointer /glade/p/cesmdata/cseg/inputdata/cesm2_init/b.e20.B1850.f19_g17.release_cesm2_1_0.020/0301-01-01/rpointer.ice\n",
    "Copy rpointer /glade/p/cesmdata/cseg/inputdata/cesm2_init/b.e20.B1850.f19_g17.release_cesm2_1_0.020/0301-01-01/rpointer.lnd\n",
    "Copy rpointer /glade/p/cesmdata/cseg/inputdata/cesm2_init/b.e20.B1850.f19_g17.release_cesm2_1_0.020/0301-01-01/rpointer.rof\n",
    "Copy rpointer /glade/p/cesmdata/cseg/inputdata/cesm2_init/b.e20.B1850.f19_g17.release_cesm2_1_0.020/0301-01-01/rpointer.atm\n",
    "Copy rpointer /glade/p/cesmdata/cseg/inputdata/cesm2_init/b.e20.B1850.f19_g17.release_cesm2_1_0.020/0301-01-01/rpointer.ocn.tavg.5\n",
    "Copy rpointer /glade/p/cesmdata/cseg/inputdata/cesm2_init/b.e20.B1850.f19_g17.release_cesm2_1_0.020/0301-01-01/rpointer.glc\n",
    "Copy rpointer /glade/p/cesmdata/cseg/inputdata/cesm2_init/b.e20.B1850.f19_g17.release_cesm2_1_0.020/0301-01-01/rpointer.ocn.ovf\n",
    "Copy rpointer /glade/p/cesmdata/cseg/inputdata/cesm2_init/b.e20.B1850.f19_g17.release_cesm2_1_0.020/0301-01-01/rpointer.drv\n",
    "Creating component namelists\n",
    "Finished creating component namelists\n",
    "Check case OK\n",
    "submit_jobs case.run\n",
    "Submit job case.run\n",
    "Submitting job script qsub -q regular -l walltime=12:00:00 -A P93300641 -v ARGS_FOR_SCRIPT='--resubmit' .case.run\n",
    "Submitted job id is 704942.chadmin1.ib0.cheyenne.ucar.edu\n",
    "Submit job case.st_archive\n",
    "Submitting job script qsub -q regular -l walltime=0:20:00 -A P93300641  -W depend=afterok:704942.chadmin1.ib0.cheyenne.ucar.edu -v ARGS_FOR_SCRIPT='--resubmit' case.st_archive\n",
    "Submitted job id is 704945.chadmin1.ib0.cheyenne.ucar.edu\n",
    "Submitted job case.run with id 704942.chadmin1.ib0.cheyenne.ucar.edu\n",
    "Submitted job case.st_archive with id 704945.chadmin1.ib0.cheyenne.ucar.edu\n",
    "```\n",
    "\n",
    "</details>\n",
    "</div>\n"
   ]
  },
  {
   "cell_type": "markdown",
   "id": "138df653-4e57-4668-ab27-cabe6806076a",
   "metadata": {},
   "source": [
    "**Notes:**\n",
    "- `case.submit` coordinates all the tasks of running CESM.\n",
    "- `case.run` is submitted to the batch job scheduler by `case.submit`. Do not try to submit `case.run` separately.\n",
    "- CESM runs in the Build/Run Directory.\n",
    "- `case.st_archive` moves the history files to the archive directory runs only after `case.run` completes successfully. If a model run was unsuccessful the output remains in the Run Directory."
   ]
  },
  {
   "cell_type": "code",
   "execution_count": null,
   "id": "c2463ac2-7ada-48bd-8662-9e4115f7e8f5",
   "metadata": {},
   "outputs": [],
   "source": []
  }
 ],
 "metadata": {
  "kernelspec": {
   "display_name": "Python 3 (ipykernel)",
   "language": "python",
   "name": "python3"
  },
  "language_info": {
   "codemirror_mode": {
    "name": "ipython",
    "version": 3
   },
   "file_extension": ".py",
   "mimetype": "text/x-python",
   "name": "python",
   "nbconvert_exporter": "python",
   "pygments_lexer": "ipython3",
   "version": "3.9.12"
  }
 },
 "nbformat": 4,
 "nbformat_minor": 5
}
