{
 "cells": [
  {
   "cell_type": "markdown",
   "id": "f9dac1fe-df62-4560-adf5-2779d9ed8f2d",
   "metadata": {},
   "source": [
    "# Case Setup\n",
    "\n"
   ]
  },
  {
   "cell_type": "markdown",
   "id": "69d76269-97de-4fed-9816-22f66e13866e",
   "metadata": {},
   "source": [
    "After a new case is created, the tool that sets up the new case is `case.setup`. This tool is located in the `$CASEROOT` directory."
   ]
  },
  {
   "cell_type": "markdown",
   "id": "93aec491-6938-4d83-adb0-c059c8c8b87e",
   "metadata": {},
   "source": [
    "![CESM case.setup](../../../images/basics/CESM2_case_setup.png)\n",
    "*<p style=\"text-align: center;\"> Figure: Detailed view of the location of case.setup</p>*"
   ]
  },
  {
   "cell_type": "markdown",
   "id": "831f1ad8-627d-4c5f-a692-02e16ce0112e",
   "metadata": {},
   "source": [
    "After running `case.setup` the following actions occur:\n",
    "- The `$RUNDIR` and `$EXEROOT` directories are created\n",
    "- user_nl_xxx files, where the user can customize component namelist files\n",
    "- The `case.run` and `case.st_archive` scripts and `Macros.make` file\n",
    "- Hidden files like `env_mach_specific.*`\n",
    "- The CaseDocs directory, which should not be edited"
   ]
  },
  {
   "cell_type": "markdown",
   "id": "07a1da51-7e51-4f3d-b63c-d8492fd1f171",
   "metadata": {},
   "source": [
    "## Command Syntax"
   ]
  },
  {
   "cell_type": "markdown",
   "id": "d630ea67-4c16-495d-8bdd-3d5fb254b530",
   "metadata": {},
   "source": [
    "<div class=\"alert alert-info\">\n",
    "\n",
    "<strong>Go to the `$CASEROOT` directory\n",
    "```\n",
    "cd /glade/work/$USER/cases/CASE\n",
    "```\n",
    "    \n",
    "<br>\n",
    "    \n",
    "<strong>Example `case.setup` command: </strong><br>    \n",
    "    \n",
    "```\n",
    "./case.setup\n",
    "```\n",
    "    \n",
    "</div>\n",
    "    \n",
    "<strong>NOTE:</strong> Do not enter the example above at the command line. You will create your first case in the Exercise at the end of this section.<br>"
   ]
  },
  {
   "cell_type": "markdown",
   "id": "b68a6c25-55ee-42a6-bff2-93004c84abd5",
   "metadata": {},
   "source": [
    "\n",
    "<div class=\"alert alert-info\">  \n",
    "<details>\n",
    "\n",
    "<summary> <font face=\"Times New Roman\" color='blue'>Click here for example output</font> </summary>\n",
    "\n",
    "<br>\n",
    "    \n",
    "```\n",
    "/glade/work/$USER/cases/b.day1.0/env_mach_specific.xml already exists, delete to replace\n",
    "job is case.run USER_REQUESTED_WALLTIME None USER_REQUESTED_QUEUE None WALLTIME_FORMAT %H:%M:%S\n",
    "Creating batch scripts\n",
    "Writing case.run script from input template /glade/work/$USERrun\n",
    "Writing case.st_archive script from input template /glade/work/$USER/code/my_cesm_code/cime/config/cesm/machines/template.st_archive\n",
    "Creating file case.st_archive\n",
    "Creating user_nl_xxx files for components and cpl\n",
    "If an old case build already exists, might want to run 'case.build --clean' before building\n",
    "You can now run './preview_run' to get more info on how your case will be run\n",
    "\n",
    "```\n",
    "\n",
    "</details>\n",
    "</div>\n"
   ]
  },
  {
   "cell_type": "markdown",
   "id": "f12bff84-04f0-4d28-8da9-af706f874933",
   "metadata": {},
   "source": [
    "**Notes:**\n",
    "- Notice the `./` before any command run in the CASEROOT. \n",
    "- You can run the script name followed by the `--h` or `--help` argument to see help documentation for that script and a list of all command line arguments for that script.\n"
   ]
  },
  {
   "cell_type": "code",
   "execution_count": null,
   "id": "0bae850c-b342-41d3-9237-12e4c5ef3fc0",
   "metadata": {},
   "outputs": [],
   "source": []
  }
 ],
 "metadata": {
  "kernelspec": {
   "display_name": "Python 3 (ipykernel)",
   "language": "python",
   "name": "python3"
  },
  "language_info": {
   "codemirror_mode": {
    "name": "ipython",
    "version": 3
   },
   "file_extension": ".py",
   "mimetype": "text/x-python",
   "name": "python",
   "nbconvert_exporter": "python",
   "pygments_lexer": "ipython3",
   "version": "3.9.12"
  }
 },
 "nbformat": 4,
 "nbformat_minor": 5
}
