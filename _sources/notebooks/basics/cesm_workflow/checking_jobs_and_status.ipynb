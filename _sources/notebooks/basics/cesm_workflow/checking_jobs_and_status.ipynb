{
 "cells": [
  {
   "cell_type": "markdown",
   "id": "f406f992-92bd-4b17-9bd3-b99c5c8abaf3",
   "metadata": {},
   "source": [
    "# Checking Your Run\n"
   ]
  },
  {
   "cell_type": "markdown",
   "id": "169d4dc6-f655-4d60-b8c8-46bab0524c91",
   "metadata": {},
   "source": [
    "## Batch Job Scheduler Monitoring"
   ]
  },
  {
   "cell_type": "markdown",
   "id": "e70a2387-d1d3-41b7-b0df-4811d2246566",
   "metadata": {},
   "source": [
    "Once CESM has been submitted the status of the run on Cheyenne can be followed through the qstat command. Qstat accesses the information in the Batch Job Scheduler to see the status of all jobs running on Cheyenne. To simplify the list down the -u option can be specified for a particular user.\n",
    "\n",
    "<div class=\"alert alert-info\">\n",
    "<strong>Result of running qstat with an active job running: </strong><br><br>\n",
    "\n",
    "```\n",
    "qstat -u $USER\n",
    "```\n",
    "<br>\n",
    "    \n",
    "<strong>Output: </strong><br>\n",
    "\n",
    "```\n",
    "Job ID          Username Queue    Jobname    SessID NDS TSK Memory Time  S Time\n",
    "--------------- -------- -------- ---------- ------ --- --- ------ ----- - -----\n",
    "704942.chadmin* $USER regular  run.b.day*   8284  16 576    --  12:00 R 00:00\n",
    "704945.chadmin* $USER regular  st_archiv*    --    1   1    --  00:20 H   --  \n",
    "```\n",
    "\n",
    "</div>\n",
    "\n",
    "Note, there may be a slight delay from submitting CESM until the jobs appear in the queue. Once the jobs have completed they will disappear from the qstat command."
   ]
  },
  {
   "cell_type": "markdown",
   "id": "5e079b70-b679-44ff-b13f-0089b0a9e3b1",
   "metadata": {},
   "source": [
    "## Monitoring Files in the Run and Archive Directories\n"
   ]
  },
  {
   "cell_type": "markdown",
   "id": "a213054b-be89-464b-a596-b6e67fad52db",
   "metadata": {},
   "source": [
    "\n",
    "As the CESM job runs it will update files in Build / Run Directory. \n",
    "Once the job has completed successfully the archiver will transfer history files to the Archive Directory.\n",
    "One way to keep track of the progress of the run is to monitor the files in these directories.\n",
    "- Check the files in the `$RUNDIR` as the model is running and once it is finished\n",
    "- Check the files in the `$DOUT_S_ROOT` after `case.st_archive` runs."
   ]
  },
  {
   "cell_type": "markdown",
   "id": "6d99a83a-9b78-4b02-9aa0-e8dbf1cb8d0b",
   "metadata": {},
   "source": [
    "## CaseStatus file"
   ]
  },
  {
   "cell_type": "markdown",
   "id": "c93c592b-bda0-45a5-97a0-747c600807e1",
   "metadata": {},
   "source": [
    "\n",
    "All activities for the case are recorded in the CaseStatus file in the CASEROOT directory. By looking through the file the successful or otherwise outcome of each step of the run can be tracked.\n",
    "\n",
    "<div class=\"alert alert-info\">\n",
    "<strong>Status of the case recorded in the `$CASEROOT` CaseStatus file: </strong><br><br>\n",
    "\n",
    "```\n",
    "cd /glade/work/$USER/cases/CASE\n",
    "more CaseStatus\n",
    "```\n",
    "\n",
    "</div>\n"
   ]
  },
  {
   "cell_type": "markdown",
   "id": "462ea73c-e73c-49cd-a74c-1261ebda445d",
   "metadata": {},
   "source": [
    "\n",
    "<div class=\"alert alert-info\">  \n",
    "<details>\n",
    "\n",
    "<summary> <font face=\"Times New Roman\" color='blue'>Click here for example output</font> </summary>\n",
    "\n",
    "<br>\n",
    "    \n",
    "```\n",
    "2023-06-04 21:02:40: xmlchange success <command> ./xmlchange JOB_QUEUE=regular  </command>\n",
    " ---------------------------------------------------\n",
    "2023-06-04 21:02:42: case.setup starting \n",
    " ---------------------------------------------------\n",
    "2023-06-04 21:02:44: case.setup success \n",
    " ---------------------------------------------------\n",
    "2023-06-04 21:03:23: case.build starting \n",
    " ---------------------------------------------------\n",
    "CESM version is cesm2.1_tutorial2022\n",
    "Processing externals description file : Externals.cfg\n",
    "Processing externals description file : Externals_CLM.cfg\n",
    "Processing externals description file : Externals_POP.cfg\n",
    "Processing externals description file : Externals_CISM.cfg\n",
    "Processing externals description file : Externals_CAM.cfg\n",
    "Checking status of externals: clm, fates, ptclm, mosart, ww3, cime, cice, pop, cvmix, marbl, cism, source_cism, rtm, cam, clubb, carma, cosp2, chem_proc, \n",
    "    ./cime\n",
    "        clean sandbox, on 0a20d3d82667c30c23de65033bd4df33e46e1a97\n",
    "    ./components/cam\n",
    "        clean sandbox, on cam_cesm2_1_rel_55\n",
    "    ./components/cam/chem_proc\n",
    "        clean sandbox, on tools/proc_atm/chem_proc/release_tags/chem_proc5_0_03_rel\n",
    "    ./components/cam/src/physics/carma/base\n",
    "        clean sandbox, on carma/release_tags/carma3_49_rel\n",
    "    ./components/cam/src/physics/clubb\n",
    "        clean sandbox, on vendor_clubb_r8099_n03\n",
    "     ./components/cam/src/physics/cosp2/src\n",
    "        clean sandbox, on CFMIP/COSPv2.0/tags/v2.1.4cesm/src\n",
    "    ./components/cice\n",
    "        clean sandbox, on cice5_cesm2_1_1_20190321\n",
    "    ./components/cism\n",
    "        clean sandbox, on cism-release-cesm2.1.2_02\n",
    "    ./components/cism/source_cism\n",
    "        clean sandbox, on release-cism2.1.03\n",
    "    ./components/clm\n",
    "        clean sandbox, on release-clm5.0.35\n",
    "    ./components/clm/src/fates\n",
    "        clean sandbox, on sci.1.30.0_api.8.0.0\n",
    "    ./components/clm/tools/PTCLM\n",
    "        clean sandbox, on PTCLM2_20200902\n",
    "    ./components/mosart\n",
    "        clean sandbox, on release-cesm2.0.04\n",
    "    ./components/pop\n",
    "        clean sandbox, on pop2_cesm2_1_rel_n14\n",
    "    ./components/pop/externals/CVMix\n",
    "        clean sandbox, on v0.93-beta\n",
    "    ./components/pop/externals/MARBL\n",
    "        clean sandbox, on cesm2.1-n00\n",
    "    ./components/rtm\n",
    "        clean sandbox, on release-cesm2.0.04\n",
    "    ./components/ww3\n",
    "        clean sandbox, on ww3_181001\n",
    "2023-06-04 21:21:29: case.build success \n",
    "2023-06-04 23:37:33: case.submit starting \n",
    " ---------------------------------------------------\n",
    "2023-06-04 23:38:04: case.submit success case.run:704942.chadmin1.ib0.cheyenne.ucar.edu, case.st_archive:704945.chadmin1.ib0.cheyenne.ucar.edu\n",
    " ---------------------------------------------------\n",
    "2023-06-04 23:38:11: case.run starting \n",
    " ---------------------------------------------------\n",
    "2023-06-04 23:38:18: model execution starting \n",
    " ---------------------------------------------------\n",
    "2023-06-04 23:40:56: model execution success \n",
    " ---------------------------------------------------\n",
    "2023-06-04 23:40:56: case.run success \n",
    " ---------------------------------------------------\n",
    "2023-06-04 23:41:00: st_archive starting \n",
    " ---------------------------------------------------\n",
    "2023-06-04 23:41:09: st_archive success \n",
    " ---------------------------------------------------\n",
    "```\n",
    "\n",
    "</details>\n",
    "</div>\n"
   ]
  },
  {
   "cell_type": "code",
   "execution_count": null,
   "id": "a1189f3e-7266-492a-aa42-664a968227e3",
   "metadata": {},
   "outputs": [],
   "source": []
  }
 ],
 "metadata": {
  "kernelspec": {
   "display_name": "Python 3 (ipykernel)",
   "language": "python",
   "name": "python3"
  },
  "language_info": {
   "codemirror_mode": {
    "name": "ipython",
    "version": 3
   },
   "file_extension": ".py",
   "mimetype": "text/x-python",
   "name": "python",
   "nbconvert_exporter": "python",
   "pygments_lexer": "ipython3",
   "version": "3.9.12"
  }
 },
 "nbformat": 4,
 "nbformat_minor": 5
}
