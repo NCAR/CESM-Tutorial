{
 "cells": [
  {
   "cell_type": "markdown",
   "id": "683d9e77-d700-4f75-b3f0-eb813657351b",
   "metadata": {
    "tags": []
   },
   "source": [
    "# Model Output\n",
    "\n"
   ]
  },
  {
   "cell_type": "markdown",
   "id": "d8e6525b-31d9-450d-a3b9-e3b435fc231a",
   "metadata": {},
   "source": [
    "If the model run is successful, the CESM netcdf output history files are automatically moved to a short term archive (`$DOUT_S_ROOT`) by `case.st_archive`."
   ]
  },
  {
   "cell_type": "markdown",
   "id": "d62c7e4b-86e0-40ec-8dfa-5744c3884bc0",
   "metadata": {},
   "source": [
    "![Case Submit Image](../../../images/basics/CESM2_short_term_archive.png)"
   ]
  },
  {
   "cell_type": "markdown",
   "id": "9be4ca8e-8483-48b1-80e7-821b8627eead",
   "metadata": {},
   "source": [
    "**Notes:**\n",
    "- If a model run was unsuccessful the output remains in the Run Directory (`$RUNDIR`) and the short term archive is not created.\n",
    "- Both `$RUNDIR` and `$DOUT_S_ROOT` are in the NCAR HPC scratch space. This space is scrubbed and files deleted after a number of days. Thus, it is a good idea to move your model output files from the short term archive to a more permanent location as soon as you are able."
   ]
  },
  {
   "cell_type": "code",
   "execution_count": null,
   "id": "b026c623-617e-42d1-a3d1-4f6fce55bd5f",
   "metadata": {},
   "outputs": [],
   "source": []
  }
 ],
 "metadata": {
  "kernelspec": {
   "display_name": "Python 3 (ipykernel)",
   "language": "python",
   "name": "python3"
  },
  "language_info": {
   "codemirror_mode": {
    "name": "ipython",
    "version": 3
   },
   "file_extension": ".py",
   "mimetype": "text/x-python",
   "name": "python",
   "nbconvert_exporter": "python",
   "pygments_lexer": "ipython3",
   "version": "3.9.12"
  }
 },
 "nbformat": 4,
 "nbformat_minor": 5
}
