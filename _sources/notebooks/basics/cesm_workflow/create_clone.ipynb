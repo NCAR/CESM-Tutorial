{
 "cells": [
  {
   "cell_type": "markdown",
   "id": "f406f992-92bd-4b17-9bd3-b99c5c8abaf3",
   "metadata": {},
   "source": [
    "# Create Clone"
   ]
  },
  {
   "cell_type": "markdown",
   "id": "0848a34c-67f8-4727-b8e5-8e9246927d2b",
   "metadata": {},
   "source": [
    "The tool that clones a new case based on an existing case is `create_clone`. This tool is located in the `$SRCROOT` directory under the `cime/scripts` directory."
   ]
  },
  {
   "cell_type": "markdown",
   "id": "aa0ffc44-9f53-4b02-bdaf-4035ff768cdd",
   "metadata": {},
   "source": [
    "Things that **are** copied into the new case are:\n",
    "- Most `env_*.xml` settings (not all!)\n",
    "- user_nl_xxx files\n",
    "- Macros\n",
    "- SourceMods\n",
    "- Batch system files\n",
    "- README.case\n",
    "\n",
    "Things that **are not** copied into the new case are:\n",
    "- Logs\n",
    "- Timing files"
   ]
  },
  {
   "cell_type": "markdown",
   "id": "76ae1e16-f343-4149-a82b-a75f5bb94fa9",
   "metadata": {},
   "source": [
    "## Command Syntax"
   ]
  },
  {
   "cell_type": "markdown",
   "id": "404c5149-3a66-4677-9dc5-19f4f2d0a08b",
   "metadata": {},
   "source": [
    "<div class=\"alert alert-info\">\n",
    "\n",
    "<strong>Go to the `cime/scripts` directory in the CESM code\n",
    "```\n",
    "cd /glade/work/$USER/code/my_cesm_code/cime/scripts/\n",
    "```\n",
    "    \n",
    "<br>\n",
    "    \n",
    "<strong>Example of basic `./create_clone` syntax to create CASE2: </strong><br>    \n",
    "    \n",
    "```\n",
    "./create_clone --clone /glade/work/$USER/cases/CASE1 --case /glade/work/$USER/cases/CASE2\n",
    "```\n",
    "    \n",
    "</div>\n"
   ]
  },
  {
   "cell_type": "markdown",
   "id": "d5d86794-b242-4f85-9b9c-4e1fcf235d46",
   "metadata": {},
   "source": [
    "**Notes:**\n",
    "- Do not use `cp` or `cp -R` to copy case directories to new experiments. \n",
    "- Document changes in CaseStatus and README.case to keep track of the changes you make.\n",
    "- If you are making many cases with only a small changes, you can script the steps into a python or shell script of your choice to make the process more automated and less prone to human error."
   ]
  },
  {
   "cell_type": "code",
   "execution_count": null,
   "id": "839f45aa-3c6b-4170-b913-a6eb9da8feb4",
   "metadata": {},
   "outputs": [],
   "source": []
  }
 ],
 "metadata": {
  "kernelspec": {
   "display_name": "Python 3 (ipykernel)",
   "language": "python",
   "name": "python3"
  },
  "language_info": {
   "codemirror_mode": {
    "name": "ipython",
    "version": 3
   },
   "file_extension": ".py",
   "mimetype": "text/x-python",
   "name": "python",
   "nbconvert_exporter": "python",
   "pygments_lexer": "ipython3",
   "version": "3.9.12"
  }
 },
 "nbformat": 4,
 "nbformat_minor": 5
}
