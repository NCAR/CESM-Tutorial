{
 "cells": [
  {
   "cell_type": "markdown",
   "id": "f406f992-92bd-4b17-9bd3-b99c5c8abaf3",
   "metadata": {},
   "source": [
    "# Create New Case"
   ]
  },
  {
   "cell_type": "markdown",
   "id": "efcaf0cc-2b3f-49de-8c4e-953464c295ef",
   "metadata": {},
   "source": [
    "The tool that generates a new case is `create_newcase`. This tool is located in the `$SRCROOT` directory under the `cime/scripts` directory."
   ]
  },
  {
   "cell_type": "markdown",
   "id": "25ef9ed6-7dea-493f-8ef5-3f1de625a31c",
   "metadata": {},
   "source": [
    "![CESM create_newcase](../../../images/basics/CESM2_create_newcase.png)\n",
    "*<p style=\"text-align: center;\"> Figure: Detailed view of the location of create_newcase</p>*"
   ]
  },
  {
   "cell_type": "markdown",
   "id": "af956bea-9166-48bf-99df-02f744bd792d",
   "metadata": {},
   "source": [
    "After running `create_newcase` a `$CASEROOT` directory is created."
   ]
  },
  {
   "cell_type": "markdown",
   "id": "557d4028-7176-4e2a-8a90-7febf2de37ef",
   "metadata": {},
   "source": [
    "## Command Syntax"
   ]
  },
  {
   "cell_type": "markdown",
   "id": "40696acf-8c56-4c1b-8fab-f9d1b1d3b2d1",
   "metadata": {},
   "source": [
    "<div class=\"alert alert-info\">\n",
    "\n",
    "<strong>Go to the `cime/scripts` directory in the CESM code</strong><br> \n",
    "```\n",
    "cd /glade/work/$USER/code/my_cesm_code/cime/scripts/\n",
    "```\n",
    "    \n",
    "<br>\n",
    "    \n",
    "<strong>Example of basic `./create_newcase` syntax: </strong><br>    \n",
    "    \n",
    "```\n",
    "./create_newcase --case /glade/work/$USER/cases/CASE --res RES --compset COMPSET\n",
    "```\n",
    "    \n",
    "</div>\n",
    "\n",
    "<strong>NOTE:</strong> Do not enter the example above at the command line. You will create your first case in the Exercise at the end of this section.<br>"
   ]
  },
  {
   "cell_type": "markdown",
   "id": "3923b808-2496-4f4d-b5a1-8b4cd44466ba",
   "metadata": {},
   "source": [
    "\n",
    "<div class=\"alert alert-info\">  \n",
    "<details>\n",
    "\n",
    "<summary> <font face=\"Times New Roman\" color='blue'>Click here for example output</font> </summary>\n",
    "\n",
    "<br>\n",
    "    \n",
    "```\n",
    "Compset longname is 1850_CAM60_CLM50%BGC-CROP_CICE_POP2%ECO%ABIO-DIC_MOSART_CISM2%NOEVOLVE_WW3_BGC%BDRD\n",
    "Compset specification file is /glade/work/$USER/code/cesm2.1.1/cime/../cime_config/config_compsets.xml\n",
    "Compset forcing is 1850\n",
    "Com forcing is Biogeochemistry intercomponent  with diagnostic CO2\n",
    "ATM component is CAM cam6 physics:\n",
    "LND component is clm5.0:BGC (vert. resol. CN and methane) with prognostic crop:\n",
    "ICE component is Sea ICE (cice) model version 5\n",
    "OCN component is POP2 EcosystemAbiotic DIC/DIC14\n",
    "ROF component is MOSART: MOdel for Scale Adaptive River Transport\n",
    "GLC component is cism2 (default, higher-order, can run in parallel):cism ice evolution turned off (this is the standard configuration unless you're explicitly interested in ice evolution):\n",
    "WAV component is Wave Watch\n",
    "ESP component is \n",
    "Pes     specification file is /glade/work/$USER/code/cesm2.1.1/cime/../cime_config/config_pes.xml\n",
    "Compset specific settings: name is RUN_STARTDATE and value is 0001-01-01\n",
    "Compset specific settings: name is RUN_REFDATE and value is 0301-01-01\n",
    "Compset specific settings: name is RUN_TYPE and value is hybrid\n",
    "Compset specific settings: name is RUN_REFCASE and value is b.e20.B1850.f19_g17.release_cesm2_1_0.020\n",
    "Compset specific settings: name is CLM_NAMELIST_OPTS and value is use_init_interp=.true.\n",
    "Machine is cheyenne\n",
    "Pes setting: grid match    is a%1.9x2.5.+l%1.9x2.5.+oi%gx1 \n",
    "Pes setting: machine match is cheyenne \n",
    "Pes setting: compset_match is CAM.+CLM.+CICE.+POP.+ \n",
    "Pes setting: grid          is a%1.9x2.5_l%1.9x2.5_oi%gx1v7_r%r05_g%gland4_w%ww3a_m%gx1v7 \n",
    "Pes setting: compset       is 1850_CAM60_CLM50%BGC-CROP_CICE_POP2%ECO%ABIO-DIC_MOSART_CISM2%NOEVOLVE_WW3_BGC%BDRD \n",
    "Pes setting: tasks       is {'NTASKS_ATM': 288, 'NTASKS_ICE': 108, 'NTASKS_CPL': 288, 'NTASKS_LND': 144, 'NTASKS_WAV': 36, 'NTASKS_ROF': 40, 'NTASKS_OCN': 288, 'NTASKS_GLC': 36} \n",
    "Pes setting: threads     is {'NTHRDS_ICE': 1, 'NTHRDS_ATM': 1, 'NTHRDS_ROF': 1, 'NTHRDS_LND': 1, 'NTHRDS_WAV': 1, 'NTHRDS_OCN': 1, 'NTHRDS_CPL': 1, 'NTHRDS_GLC': 1} \n",
    "Pes setting: rootpe      is {'ROOTPE_OCN': 288, 'ROOTPE_LND': 0, 'ROOTPE_ATM': 0, 'ROOTPE_ICE': 144, 'ROOTPE_WAV': 252, 'ROOTPE_CPL': 0, 'ROOTPE_ROF': 0, 'ROOTPE_GLC': 0} \n",
    "Pes setting: pstrid      is {} \n",
    "Pes other settings: {}\n",
    "Pes comments: about 12ypd expected\n",
    " Compset is: 1850_CAM60_CLM50%BGC-CROP_CICE_POP2%ECO%ABIO-DIC_MOSART_CISM2%NOEVOLVE_WW3_BGC%BDRD \n",
    " Grid is: a%1.9x2.5_l%1.9x2.5_oi%gx1v7_r%r05_g%gland4_w%ww3a_m%gx1v7 \n",
    " Components in compset are: ['cam', 'clm', 'cice', 'pop', 'mosart', 'cism', 'ww3', 'sesp', 'drv', 'dart'] \n",
    "\n",
    "This is a CESM scientifically supported compset at this resolution.\n",
    "\n",
    "Using project from .cesm_proj: P93300641\n",
    "No charge_account info available, using value from PROJECT\n",
    "Using project from .cime/config: P93300641\n",
    "cesm model version found: cesm2.1_tutorial2022\n",
    "Batch_system_type is pbs\n",
    "job is case.run USER_REQUESTED_WALLTIME None USER_REQUESTED_QUEUE None WALLTIME_FORMAT %H:%M:%S\n",
    "job is case.st_archive USER_REQUESTED_WALLTIME None USER_REQUESTED_QUEUE None WALLTIME_FORMAT %H:%M:%S\n",
    " Creating Case directory /glade/work/$USER/cases/b.day1.0\n",
    "\n",
    "```\n",
    "\n",
    "</details>\n",
    "</div>\n"
   ]
  },
  {
   "cell_type": "markdown",
   "id": "87ae84f9-449b-4051-9dc9-9c53bcb8ac57",
   "metadata": {},
   "source": [
    "**Notes:**\n",
    "- For all user scripts you can run the script name followed by the `--h` or `--help` argument to see help documentation for that script and a list of all command line arguments for that script.\n",
    "- Double dashes `--` are required with command line arguments\n"
   ]
  },
  {
   "cell_type": "markdown",
   "id": "d7064891-5a5a-41f2-9b3b-d4acb231a2ee",
   "metadata": {},
   "source": [
    "## Command Arguments"
   ]
  },
  {
   "cell_type": "markdown",
   "id": "b89a4484-e32c-413a-bfec-4051d666a8a8",
   "metadata": {},
   "source": [
    "![Create New Case Command Image](../../../images/basics/CESM2_Create_Newcase_Command.png)"
   ]
  },
  {
   "cell_type": "markdown",
   "id": "122cb2ea-b34d-472b-8790-9d3950d8eea4",
   "metadata": {},
   "source": [
    "### Casename"
   ]
  },
  {
   "cell_type": "markdown",
   "id": "0ea36beb-fe98-4289-a15e-37c21ff2f4ad",
   "metadata": {},
   "source": [
    "`--case` is the argument that specifies the **name** and **location** of the case being created. In the example above, the casename is `CASE` and the location of the case is `/glade/work/$USER/cases/`. Note that if a path preceding the casename is not specified, then the case is created as a subdirectory of the `$CIMEROOT/scripts` directory.\n"
   ]
  },
  {
   "cell_type": "markdown",
   "id": "bb90ccd2-b4d4-4ab7-96ec-749a596f25ae",
   "metadata": {},
   "source": [
    "- The path `/glade/work/$USER/cases/CASE` is your workspace `CASEROOT`, as described in the [workspaces section](https://ncar.github.io/CESM-Tutorial/notebooks/basics/cesm_workspaces.html#workspace-overview)."
   ]
  },
  {
   "cell_type": "markdown",
   "id": "8f080dc7-3bfb-4e61-b112-af418f52018a",
   "metadata": {},
   "source": [
    "In this tutorial we will use fairly simple names for the cases you create, build, and run. However, most CESM experiments have much longer casenames that provide information about the experiment at a glance. Knowing the CESM case naming conventions will help you navigate CESM community experiments. Information about the CESM naming is available at:"
   ]
  },
  {
   "cell_type": "markdown",
   "id": "2216d55d-6705-4d1d-9734-eddfc225420d",
   "metadata": {},
   "source": [
    "<div class=\"alert alert-info\">\n",
    "\n",
    "[CESM case naming conventions](https://www.cesm.ucar.edu/models/cesm2/naming-conventions)\n",
    "\n",
    "</div>"
   ]
  },
  {
   "cell_type": "markdown",
   "id": "83b752d0-34c8-42d0-ba5b-efee17ab3386",
   "metadata": {},
   "source": [
    "### Resolution"
   ]
  },
  {
   "cell_type": "markdown",
   "id": "6e3f9220-e60f-456b-93a2-09c4d52f5e22",
   "metadata": {},
   "source": [
    "`--res` is the argument that specifies the **model resolution or grid**. In the example above, the resolution is `RES`. Each model resolution can be specified with the `--res` argument by its alias or its full long name. However, the long name conventions are generally quite lengthy, so it is useful if you become familiar with using the alias version. Because the atmosphere and land share a grid and the ocean and sea ice share a grid only two grids are specified by the alias using the following format: `atm/lnd_ocn/ice`."
   ]
  },
  {
   "cell_type": "markdown",
   "id": "4c69afd3-925c-42c8-a54e-017336ef03c6",
   "metadata": {},
   "source": [
    "![Create New Case Resolution Image](../../../images/basics/CESM2_Create_Newcase_Resolution.png)"
   ]
  },
  {
   "cell_type": "markdown",
   "id": "8143f8da-726e-4db9-99af-ce75e19c4810",
   "metadata": {},
   "source": [
    "#### CESM2 Supported Grid Definitions"
   ]
  },
  {
   "cell_type": "markdown",
   "id": "83f7274d-95fe-4be3-bf08-a6964eebef10",
   "metadata": {},
   "source": [
    "<strong> Link for CESM Supported Grids: </strong>\n",
    "<br>\n",
    "[http://www.cesm.ucar.edu/models/cesm2/config/grids.html](http://www.cesm.ucar.edu/models/cesm2/config/grids.html)\n"
   ]
  },
  {
   "cell_type": "markdown",
   "id": "0ffff371-8ee8-45c8-b452-b225a4464b21",
   "metadata": {},
   "source": [
    "\n",
    "<div class=\"alert alert-info\">\n",
    "<strong>Cime Tool for listing configurations: </strong><br><br>\n",
    "\n",
    "```\n",
    "CIMEROOT/scripts/query_config --grids --long\n",
    "```\n",
    "</div>"
   ]
  },
  {
   "cell_type": "markdown",
   "id": "885ef623-f80d-4173-a8f8-cf4232217549",
   "metadata": {},
   "source": [
    "\n",
    "<div class=\"alert alert-info\">  \n",
    "<details>\n",
    "\n",
    "<summary> <font face=\"Times New Roman\" color='blue'>Click here for example output</font> </summary>\n",
    "\n",
    "<br>\n",
    "    \n",
    "```\n",
    "    =========================================\n",
    "    GRID naming convention\n",
    "    =========================================\n",
    "    The notation for the grid longname is\n",
    "        a%name_l%name_oi%name_r%name_m%mask_g%name_w%name\n",
    "    where\n",
    "        a% => atm, l% => lnd, oi% => ocn/ice, r% => river, m% => mask, g% => glc, w% => wav\n",
    "\n",
    "    Supported out of the box grid configurations are given via alias specification in\n",
    "    the file \"config_grids.xml\". Each grid alias can also be associated  with the\n",
    "    following optional attributes\n",
    "\n",
    "    compset       (Regular expression for compset matches that are required for this grid)\n",
    "    not_compset   (Regular expression for compset matches that are not permitted this grid)\n",
    "\n",
    "    Using the alias and the optional \"compset\" and \"not_compset\" attributes a grid longname is created\n",
    "    Note that the mask is for information only - and is not an attribute of the grid\n",
    "    By default, if the mask is not specified below, it will be set to the ocnice grid\n",
    "    And if there is no ocnice grid (such as for single column, the mask is null since it does not mean anything)\n",
    "   \n",
    "     -------------------------------------------------------------\n",
    "            default component grids:\n",
    "\n",
    "     component         compset       value \n",
    "     -------------------------------------------------------------\n",
    "     atm      SATM              null      \n",
    "     lnd      SLND              null      \n",
    "     ocnice   SOCN              null      \n",
    "     rof      SROF              null      \n",
    "     rof      DWAV              rx1       \n",
    "     rof      RTM               r05       \n",
    "     rof      MOSART            r05       \n",
    "     rof      DROF              rx1       \n",
    "     rof      DROF%CPLHIST      r05       \n",
    "     rof      XROF              r05       \n",
    "     glc      SGLC              null      \n",
    "     glc      CISM1             gland5UM  \n",
    "     glc      CISM2             gland4    \n",
    "     glc      XGLC              gland4    \n",
    "     wav      SWAV              null      \n",
    "     wav      DWAV              ww3a      \n",
    "     wav      WW3               ww3a      \n",
    "     wav      XWAV              ww3a      \n",
    "     -------------------------------------------------------------\n",
    "\n",
    "     alias: g16_g16 (only for compsets that are DATM.+DROF )\n",
    "       non-default grids are: atm:gx1v6  lnd:gx1v6  ocnice:gx1v6  \n",
    "    \n",
    "       gx1v6 is displaced Greenland pole v6 1-deg grid: with domain file(s): \n",
    "       $DIN_LOC_ROOT/share/domains/domain.ocn.gx1v6.090206.nc (only for grid match: atm|lnd)\n",
    "       $DIN_LOC_ROOT/share/domains/domain.ocn.gx1v6.090206.nc (only for grid match: ocnice) \n",
    "\n",
    "     alias: g17_g17 (only for compsets that are DATM.+DROF )\n",
    "       non-default grids are: atm:gx1v7  lnd:gx1v7  ocnice:gx1v7  \n",
    "    \n",
    "       gx1v7 is displaced Greenland pole 1-deg grid with Caspian as a land feature: with domain file(s): \n",
    "       $DIN_LOC_ROOT/share/domains/domain.ocn.gx1v7.151008.nc (only for grid match: atm|lnd)\n",
    "       $DIN_LOC_ROOT/share/domains/domain.ocn.gx1v7.151008.nc (only for grid match: ocnice) \n",
    "\n",
    "...\n",
    "```\n",
    "\n",
    "</details>\n",
    "</div>\n"
   ]
  },
  {
   "cell_type": "markdown",
   "id": "82faa8c6-88d6-41ba-a063-52939e664391",
   "metadata": {},
   "source": [
    "### Compset"
   ]
  },
  {
   "cell_type": "markdown",
   "id": "0ccf426a-57d0-4447-9eb7-c53c18544148",
   "metadata": {},
   "source": [
    "`--compset` is the argument that specifies the **component set**. In the example above, the compset is `COMPSET`. The compset specifies the component models and if they are active or not, forcing scenarios, and physics options for the models. As above, the `--compset` can be specified by its alias or its full long name. However, the long name conventions are generally quite lengthy, so it is useful if you become familiar with using the alias version."
   ]
  },
  {
   "cell_type": "markdown",
   "id": "160dd746-6ec4-4ea2-85f1-92bbbdd5647d",
   "metadata": {},
   "source": [
    "![Create New Case Compset Image](../../../images/basics/CESM2_Create_Newcase_Compset.png)"
   ]
  },
  {
   "cell_type": "markdown",
   "id": "ee1cde34-5742-48c3-964b-6362d32288d0",
   "metadata": {},
   "source": [
    "**Note**:\n",
    "- Compsets are defined by different model components (active or data) and cime.\n",
    "- Some compsets are scientifically supported and/or tested, while some are only defined. The CESM project will not provide comprehensive support for compsets that are only defined.\n",
    "- Compsets determine which grid is required."
   ]
  },
  {
   "cell_type": "markdown",
   "id": "0d522ed3-098c-4194-be32-f219be984248",
   "metadata": {},
   "source": [
    "#### CESM2 Supported Compsets"
   ]
  },
  {
   "cell_type": "markdown",
   "id": "e8b7943e-0be5-4feb-9b3f-cb8d4fe4aac0",
   "metadata": {},
   "source": [
    "<strong> Link for CESM2 Supported Compsets: </strong>\n",
    "<br>\n",
    "[http://www.cesm.ucar.edu/models/cesm2/config/compsets.html](http://www.cesm.ucar.edu/models/cesm2/config/compsets.html)"
   ]
  },
  {
   "cell_type": "markdown",
   "id": "e91dff67-7992-48d2-afba-c0acb5528fb8",
   "metadata": {},
   "source": [
    "<div class=\"alert alert-info\">\n",
    "<strong>Cime Tool for listing configurations: </strong><br><br>\n",
    "\n",
    "```\n",
    "CIMEROOT/scripts/query_config --compsets\n",
    "```\n",
    "</div>"
   ]
  },
  {
   "cell_type": "markdown",
   "id": "65d58f32-51ff-4dfa-a52d-edc182e6cae4",
   "metadata": {},
   "source": [
    "\n",
    "<div class=\"alert alert-info\">  \n",
    "<details>\n",
    "\n",
    "<summary> <font face=\"Times New Roman\" color='blue'>Click here for example output</font> </summary>\n",
    "\n",
    "<br>\n",
    "    \n",
    "```\n",
    "Active component: allactive\n",
    "       --------------------------------------\n",
    "       Compset Alias: Compset Long Name \n",
    "       --------------------------------------\n",
    "   B1850                : 1850_CAM60_CLM50%BGC-CROP_CICE_POP2%ECO%ABIO-DIC_MOSART_CISM2%NOEVOLVE_WW3_BGC%BDRD\n",
    "   B1850cmip6           : 1850_CAM60_CLM50%BGC-CROP-CMIP6DECK_CICE%CMIP6_POP2%ECO%ABIO-DIC_MOSART_CISM2%NOEVOLVE_WW3_BGC%BDRD\n",
    "   BMH6kcmip6           : midH_CAM60_CLM50%BGC_CICE_POP2%ECO%ABIO-DIC_MOSART_CISM2%NOEVOLVE_WW3_BGC%BDRD\n",
    "   BLIG127kcmip6        : 127ka_CAM60_CLM50%BGC_CICE%CMIP6_POP2%ECO%ABIO-DIC_MOSART_CISM2%NOEVOLVE_WW3_BGC%BDRD\n",
    "   BCO2x4cmip6          : 1850_CAM60%4xCO2_CLM50%BGC-CROP-CMIP6DECK_CICE%CMIP6_POP2%ECO%ABIO-DIC_MOSART_CISM2%NOEVOLVE_WW3_BGC%BDRD\n",
    "   B1PCTcmip6           : 1850_CAM60%1PCT_CLM50%BGC-CROP-CMIP6DECK_CICE%CMIP6_POP2%ECO%ABIO-DIC_MOSART_CISM2%NOEVOLVE_WW3_BGC%BDRD\n",
    "   BW1850               : 1850_CAM60%WCTS_CLM50%BGC-CROP_CICE_POP2%ECO%NDEP_MOSART_CISM2%NOEVOLVE_WW3\n",
    "   BW1850cmip6          : 1850_CAM60%WCTS_CLM50%BGC-CROP-CMIP6WACCMDECK_CICE%CMIP6_POP2%ECO%NDEP_MOSART_CISM2%NOEVOLVE_WW3\n",
    "   BWsc1850             : 1850_CAM60%WCSC_CLM50%BGC-CROP_CICE_POP2%ECO_MOSART_CISM2%NOEVOLVE_WW3\n",
    "   BWsc1850smyle        : 1850_CAM60%WCSC%SMYLE_CLM50%BGC-CROP_CICE_POP2%ECO%ABIO-DIC_MOSART_CISM2%NOEVOLVE_WW3_BGC%BDRD\n",
    "   BWscHIST             : HIST_CAM60%WCSC_CLM50%BGC-CROP_CICE_POP2%ECO_MOSART_CISM2%NOEVOLVE_WW3\n",
    "   BWCO2x4cmip6         : 1850_CAM60%WCTS%4xCO2_CLM50%BGC-CROP-CMIP6WACCMDECK_CICE%CMIP6_POP2%ECO%NDEP_MOSART_CISM2%NOEVOLVE_WW3\n",
    "   BW1PCTcmip6          : 1850_CAM60%WCTS%1PCT_CLM50%BGC-CROP-CMIP6WACCMDECK_CICE%CMIP6_POP2%ECO%NDEP_MOSART_CISM2%NOEVOLVE_WW3\n",
    "   BWmaCO2x4cmip6       : 1850_CAM60%WCCM%4xCO2_CLM50%BGC-CROP-CMIP6WACCMDECK_CICE%CMIP6_POP2%ECO%NDEP_MOSART_CISM2%NOEVOLVE_WW3\n",
    "   BWma1PCTcmip6        : 1850_CAM60%WCCM%1PCT_CLM50%BGC-CROP-CMIP6WACCMDECK_CICE%CMIP6_POP2%ECO%NDEP_MOSART_CISM2%NOEVOLVE_WW3\n",
    "   BWSSP126cmip6        : SSP126_CAM60%WCTS_CLM50%BGC-CROP-CMIP6WACCMDECK_CICE%CMIP6_POP2%ECO%NDEP_MOSART_CISM2%NOEVOLVE_WW3\n",
    "   BWSSP245cmip6        : SSP245_CAM60%WCTS_CLM50%BGC-CROP-CMIP6WACCMDECK_CICE%CMIP6_POP2%ECO%NDEP_MOSART_CISM2%NOEVOLVE_WW3\n",
    "   BWSSP370cmip6        : SSP370_CAM60%WCTS_CLM50%BGC-CROP-CMIP6WACCMDECK_CICE%CMIP6_POP2%ECO%NDEP_MOSART_CISM2%NOEVOLVE_WW3\n",
    "   BWSSP585cmip6        : SSP585_CAM60%WCTS_CLM50%BGC-CROP-CMIP6WACCMDECK_CICE%CMIP6_POP2%ECO%NDEP_MOSART_CISM2%NOEVOLVE_WW3\n",
    "   BWSSP534oscmip6      : SSP534_CAM60%WCTS_CLM50%BGC-CROP-CMIP6WACCMDECK_CICE%CMIP6_POP2%ECO%NDEP_MOSART_CISM2%NOEVOLVE_WW3\n",
    "   BWSSP126             : SSP126_CAM60%WCTS_CLM50%BGC-CROP_CICE_POP2%ECO%NDEP_MOSART_CISM2%NOEVOLVE_WW3\n",
    "   BWSSP245             : SSP245_CAM60%WCTS_CLM50%BGC-CROP_CICE_POP2%ECO%NDEP_MOSART_CISM2%NOEVOLVE_WW3\n",
    "   BWSSP370             : SSP370_CAM60%WCTS_CLM50%BGC-CROP_CICE_POP2%ECO%NDEP_MOSART_CISM2%NOEVOLVE_WW3\n",
    "   BWSSP585             : SSP585_CAM60%WCTS_CLM50%BGC-CROP_CICE_POP2%ECO%NDEP_MOSART_CISM2%NOEVOLVE_WW3\n",
    "   BWSSP534os           : SSP534_CAM60%WCTS_CLM50%BGC-CROP_CICE_POP2%ECO%NDEP_MOSART_CISM2%NOEVOLVE_WW3\n",
    "   BWHIST               : HIST_CAM60%WCTS_CLM50%BGC-CROP_CICE_POP2%ECO%NDEP_MOSART_CISM2%NOEVOLVE_WW3\n",
    "   BWSSP585extcmip6     : SSP585EXT_CAM60%WCTS_CLM50%BGC-CROP-CMIP6WACCMDECK_CICE%CMIP6_POP2%ECO%NDEP_MOSART_CISM2%NOEVOLVE_WW3\n",
    "   BWSSP534osextcmip6   : SSP534EXT_CAM60%WCTS_CLM50%BGC-CROP-CMIP6WACCMDECK_CICE%CMIP6_POP2%ECO%NDEP_MOSART_CISM2%NOEVOLVE_WW3\n",
    "   BWHISTcmip6          : HIST_CAM60%WCTS_CLM50%BGC-CROP-CMIP6WACCMDECK_CICE%CMIP6_POP2%ECO%NDEP_MOSART_CISM2%NOEVOLVE_WW3\n",
    "   BWma1850             : 1850_CAM60%WCCM_CLM50%BGC-CROP_CICE_POP2%ECO%NDEP_MOSART_CISM2%NOEVOLVE_WW3\n",
    "   BWmaHIST             : HIST_CAM60%WCCM_CLM50%BGC-CROP_CICE_POP2%ECO%NDEP_MOSART_CISM2%NOEVOLVE_WW3\n",
    "   BHIST                : HIST_CAM60_CLM50%BGC-CROP_CICE_POP2%ECO%ABIO-DIC_MOSART_CISM2%NOEVOLVE_WW3_BGC%BDRD\n",
    "   BHISTcmip6           : HIST_CAM60_CLM50%BGC-CROP-CMIP6DECK_CICE%CMIP6_POP2%ECO%ABIO-DIC_MOSART_CISM2%NOEVOLVE_WW3_BGC%BDRD\n",
    "   BHISTsmbb            : HIST_CAM60%SMBB_CLM50%BGC-CROP-CMIP6DECK_CICE%CMIP6_POP2%ECO%ABIO-DIC_MOSART_CISM2%NOEVOLVE_WW3_BGC%BDRD\n",
    "   BSSP370smbb          : SSP370_CAM60%SMBB_CLM50%BGC-CROP-CMIP6DECK_CICE%CMIP6_POP2%ECO%ABIO-DIC_MOSART_CISM2%NOEVOLVE_WW3_BGC%BDRD\n",
    "   BSSP370smbbext       : SSP370EXT_CAM60%SMBB_CLM50%BGC-CROP-CMIP6DECK_CICE%CMIP6_POP2%ECO%ABIO-DIC_MOSART_CISM2%NOEVOLVE_WW3_BGC%BDRD\n",
    "   BSSP245smbb          : SSP245_CAM60%SMBB_CLM50%BGC-CROP-CMIP6DECK_CICE%CMIP6_POP2%ECO%ABIO-DIC_MOSART_CISM2%NOEVOLVE_WW3_BGC%BDRD\n",
    "   BC5L45BGC            : 2000_CAM50_CLM45%BGC_CICE_POP2_MOSART_SGLC_SWAV\n",
    "   B1850L45BGCR         : 1850_CAM60_CLM45%BGC_CICE_POP2_RTM_SGLC_SWAV\n",
    "   B1850C5L45BGC        : 1850_CAM50_CLM45%BGC_CICE_POP2_MOSART_SGLC_SWAV\n",
    "   BSSP585              : SSP585_CAM60_CLM50%BGC-CROP_CICE_POP2%ECO%ABIO-DIC_MOSART_CISM2%NOEVOLVE_WW3_BGC%BDRD\n",
    "   BSSP126              : SSP126_CAM60_CLM50%BGC-CROP_CICE_POP2%ECO%ABIO-DIC_MOSART_CISM2%NOEVOLVE_WW3_BGC%BDRD\n",
    "   BSSP245              : SSP245_CAM60_CLM50%BGC-CROP_CICE_POP2%ECO%ABIO-DIC_MOSART_CISM2%NOEVOLVE_WW3_BGC%BDRD\n",
    "   BSSP370              : SSP370_CAM60_CLM50%BGC-CROP_CICE_POP2%ECO%ABIO-DIC_MOSART_CISM2%NOEVOLVE_WW3_BGC%BDRD\n",
    "   BSSP585cmip6         : SSP585_CAM60_CLM50%BGC-CROP-CMIP6DECK_CICE%CMIP6_POP2%ECO%ABIO-DIC_MOSART_CISM2%NOEVOLVE_WW3_BGC%BDRD\n",
    "\n",
    "...\n",
    "```\n",
    "\n",
    "</details>\n",
    "</div>\n"
   ]
  },
  {
   "cell_type": "markdown",
   "id": "61581a4e-86f4-44e4-92d9-d29aefa9ed8b",
   "metadata": {},
   "source": [
    "### Machines"
   ]
  },
  {
   "cell_type": "markdown",
   "id": "5e4e5466-8955-4f61-84f7-6228b1aac32b",
   "metadata": {},
   "source": [
    "The argument `--mach` is not required on CESM supported machines, but is required on other machines"
   ]
  },
  {
   "cell_type": "code",
   "execution_count": null,
   "id": "94b79d8f-2da5-4a3f-b9b9-0cbb45896c0e",
   "metadata": {},
   "outputs": [],
   "source": []
  }
 ],
 "metadata": {
  "kernelspec": {
   "display_name": "Python 3 (ipykernel)",
   "language": "python",
   "name": "python3"
  },
  "language_info": {
   "codemirror_mode": {
    "name": "ipython",
    "version": 3
   },
   "file_extension": ".py",
   "mimetype": "text/x-python",
   "name": "python",
   "nbconvert_exporter": "python",
   "pygments_lexer": "ipython3",
   "version": "3.9.12"
  }
 },
 "nbformat": 4,
 "nbformat_minor": 5
}
