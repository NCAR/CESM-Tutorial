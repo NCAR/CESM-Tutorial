{
 "cells": [
  {
   "cell_type": "markdown",
   "id": "f9dac1fe-df62-4560-adf5-2779d9ed8f2d",
   "metadata": {
    "tags": []
   },
   "source": [
    "# Case Build\n",
    "\n"
   ]
  },
  {
   "cell_type": "markdown",
   "id": "4f42d8e1-ac3a-4f2d-b9fb-5664e1625fb4",
   "metadata": {},
   "source": [
    "After a new case is setup, the tool that builds the new case by compiling the code is `case.build`. This tool is located in the `$CASEROOT` directory."
   ]
  },
  {
   "cell_type": "markdown",
   "id": "0d8b2ab4-7976-48b7-81e4-e2ae0f28cd97",
   "metadata": {},
   "source": [
    "![CESM case.build](../../../images/basics/CESM2_case_build.png)\n",
    "*<p style=\"text-align: center;\"> Figure: Detailed view of the location of case.build</p>*"
   ]
  },
  {
   "cell_type": "markdown",
   "id": "1892841c-9c0c-4baf-b73e-413b74798e59",
   "metadata": {},
   "source": [
    "Running this script results in the following actions:\n",
    "- Checks and creates final component namelists\n",
    "- Builds individual model component libraries\n",
    "- Builds the final CESM model executable"
   ]
  },
  {
   "cell_type": "markdown",
   "id": "35ab1731-c0c2-4a39-a6e1-31f86d6f8cdd",
   "metadata": {},
   "source": [
    "## Command Syntax"
   ]
  },
  {
   "cell_type": "markdown",
   "id": "f2581dbe-4077-43c1-b2bb-1d26c1af544e",
   "metadata": {},
   "source": [
    "<div class=\"alert alert-info\">\n",
    "\n",
    "<strong>You should still be in the `CASEROOT` directory after running `case.setup`\n",
    "```\n",
    "cd /glade/work/$USER/cases/CASE\n",
    "```\n",
    "    \n",
    "<br>\n",
    "    \n",
    "<strong>Example `case.build` command: </strong><br>    \n",
    "    \n",
    "```\n",
    "qcmd -- ./case.build\n",
    "```\n",
    "    \n",
    "</div>\n",
    "\n",
    "<strong>NOTE:</strong> Do not enter the example above at the command line. You will create your first case in the Exercise at the end of this section.<br>"
   ]
  },
  {
   "cell_type": "markdown",
   "id": "8835e60d-6412-4b21-8b50-f122ce6b167d",
   "metadata": {},
   "source": [
    "\n",
    "<div class=\"alert alert-info\">  \n",
    "<details>\n",
    "\n",
    "<summary> <font face=\"Times New Roman\" color='blue'>Click here for example output</font> </summary>\n",
    "\n",
    "<br>\n",
    "    \n",
    "```\n",
    "Building case in directory /glade/u/home/$USER/cases/b.day1.0\n",
    "sharedlib_only is False\n",
    "model_only is False\n",
    "Setting resource.RLIMIT_STACK to -1 from (-1, -1)\n",
    "Generating component namelists as part of build\n",
    " - Prestaging REFCASE (/glade/p/cesmdata/cseg/inputdata/cesm2_init/b.e20.B1850.f19_g17.release_cesm2_1_0.020/0301-01-01) to /glade/scratch/$USER/b.day1.0/run\n",
    "Copy rpointer /glade/p/cesmdata/cseg/inputdata/cesm2_init/b.e20.B1850.f19_g17.release_cesm2_1_0.020/0301-01-01/rpointer.ocn.restart\n",
    "Copy rpointer /glade/p/cesmdata/cseg/inputdata/cesm2_init/b.e20.B1850.f19_g17.release_cesm2_1_0.020/0301-01-01/rpointer.ice\n",
    "Copy rpointer /glade/p/cesmdata/cseg/inputdata/cesm2_init/b.e20.B1850.f19_g17.release_cesm2_1_0.020/0301-01-01/rpointer.lnd\n",
    "Copy rpointer /glade/p/cesmdata/cseg/inputdata/cesm2_init/b.e20.B1850.f19_g17.release_cesm2_1_0.020/0301-01-01/rpointer.rof\n",
    "Copy rpointer /glade/p/cesmdata/cseg/inputdata/cesm2_init/b.e20.B1850.f19_g17.release_cesm2_1_0.020/0301-01-01/rpointer.atm\n",
    "Copy rpointer /glade/p/cesmdata/cseg/inputdata/cesm2_init/b.e20.B1850.f19_g17.release_cesm2_1_0.020/0301-01-01/rpointer.ocn.tavg.5\n",
    "Copy rpointer /glade/p/cesmdata/cseg/inputdata/cesm2_init/b.e20.B1850.f19_g17.release_cesm2_1_0.020/0301-01-01/rpointer.glc\n",
    "Copy rpointer /glade/p/cesmdata/cseg/inputdata/cesm2_init/b.e20.B1850.f19_g17.release_cesm2_1_0.020/0301-01-01/rpointer.ocn.ovf\n",
    "Copy rpointer /glade/p/cesmdata/cseg/inputdata/cesm2_init/b.e20.B1850.f19_g17.release_cesm2_1_0.020/0301-01-01/rpointer.drv\n",
    "Creating component namelists\n",
    "   Calling /glade/work/$USER/code/cesm2.1.1/components/cam//cime_config/buildnml\n",
    "     ...calling cam buildcpp to set build time options\n",
    "CAM namelist copy: file1 /glade/u/home/$USER/cases/b.day1.0/Buildconf/camconf/atm_in file2 /glade/scratch/$USER/b.day1.0/run/atm_in \n",
    "   Calling /glade/work/$USER/code/cesm2.1.1/components/clm//cime_config/buildnml\n",
    "   Calling /glade/work/$USER/code/cesm2.1.1/components/cice//cime_config/buildnml\n",
    "     ...buildnml calling cice buildcpp to set build time options\n",
    "   Calling /glade/work/$USER/code/cesm2.1.1/components/pop//cime_config/buildnml\n",
    "     ... buildnml: calling pop buildcpp to set build time options\n",
    "   Calling /glade/work/$USER/code/cesm2.1.1/components/mosart//cime_config/buildnml\n",
    "   Running /glade/work/$USER/code/cesm2.1.1/components/cism//cime_config/buildnml \n",
    "   Calling /glade/work/$USER/code/cesm2.1.1/components/ww3//cime_config/buildnml\n",
    "   Calling /glade/work/$USER/code/cesm2.1.1/cime/src/components/stub_comps/sesp/cime_config/buildnml\n",
    "   Calling /glade/work/$USER/code/cesm2.1.1/cime/src/drivers/mct/cime_config/buildnml\n",
    "Finished creating component namelists\n",
    "Building gptl with output to file /glade/scratch/$USER/b.day1.0/bld/gptl.bldlog.230604-210323\n",
    "   Calling /glade/work/$USER/code/cesm2.1.1/cime/src/build_scripts/buildlib.gptl\n",
    "Building mct with output to file /glade/scratch/$USER/b.day1.0/bld/mct.bldlog.230604-210323\n",
    "   Calling /glade/work/$USER/code/cesm2.1.1/cime/src/build_scripts/buildlib.mct\n",
    "Building pio with output to file /glade/scratch/$USER/b.day1.0/bld/pio.bldlog.230604-210323\n",
    "   Calling /glade/work/$USER/code/cesm2.1.1/cime/src/build_scripts/buildlib.pio\n",
    "Component pio build complete with 2 warnings\n",
    "Building csm_share with output to file /glade/scratch/$USER/b.day1.0/bld/csm_share.bldlog.230604-210323\n",
    "   Calling /glade/work/$USER/code/cesm2.1.1/cime/src/build_scripts/buildlib.csm_share\n",
    "Component csm_share build complete with 20 warnings\n",
    "         - Building clm4_5/clm5_0 Library \n",
    "Building lnd with output to /glade/scratch/$USER/b.day1.0/bld/lnd.bldlog.230604-210323\n",
    "Component lnd build complete with 6 warnings\n",
    "clm built in 192.005673 seconds\n",
    "Building atm with output to /glade/scratch/$USER/b.day1.0/bld/atm.bldlog.230604-210323\n",
    "Building ice with output to /glade/scratch/$USER/b.day1.0/bld/ice.bldlog.230604-210323\n",
    "Building ocn with output to /glade/scratch/$USER/b.day1.0/bld/ocn.bldlog.230604-210323\n",
    "Building rof with output to /glade/scratch/$USER/b.day1.0/bld/rof.bldlog.230604-210323\n",
    "Building glc with output to /glade/scratch/$USER/b.day1.0/bld/glc.bldlog.230604-210323\n",
    "Building wav with output to /glade/scratch/$USER/b.day1.0/bld/wav.bldlog.230604-210323\n",
    "Building esp with output to /glade/scratch/$USER/b.day1.0/bld/esp.bldlog.230604-210323\n",
    "sesp built in 6.550780 seconds\n",
    "mosart built in 134.204042 seconds\n",
    "ww built in 138.574013 seconds\n",
    "Component ice build complete with 1 warnings\n",
    "Component ocn build complete with 11 warnings\n",
    "cice built in 433.050327 seconds\n",
    "pop built in 433.050846 seconds\n",
    "Component glc build complete with 3 warnings\n",
    "cism built in 465.060580 seconds\n",
    "Component atm build complete with 14 warnings\n",
    "cam built in 571.486847 seconds\n",
    "Building cesm with output to /glade/scratch/$USER/b.day1.0/bld/cesm.bldlog.230604-210323 \n",
    "Time spent not building: 13.730840 sec\n",
    "Time spent building: 1073.152414 sec\n",
    "MODEL BUILD HAS FINISHED SUCCESSFULLY\n",
    "```\n",
    "\n",
    "</details>\n",
    "</div>\n"
   ]
  },
  {
   "cell_type": "markdown",
   "id": "7e677c5f-2b85-459b-ad9e-2f4b42904589",
   "metadata": {},
   "source": [
    "**Notes:**\n",
    "- Notice the `./` before any command run in the CASEROOT. \n",
    "- On NCAR HPC machines you must call the `case.build` using `qcmd` because it compiles the model on a compute node rather than a login node. This reduces the load on login nodes and prevents a timeout while you are building the model.\n",
    "- The output tells you if it was successful at the end: `MODEL BUILD HAS FINISHED SUCCESSFULLY`"
   ]
  },
  {
   "cell_type": "markdown",
   "id": "f6edbb1c-0ca4-49f9-b238-974c1c19de89",
   "metadata": {},
   "source": [
    "## Tips"
   ]
  },
  {
   "cell_type": "markdown",
   "id": "9b750904-678a-40d2-b5fa-e87c52d5c8eb",
   "metadata": {},
   "source": [
    "- To completely rebuild a case, run `./case.build --clean-all` first before building the model.\n",
    "- If you want to make any source code modifications in `SourceMods`, do this before building the model. We will cover SourceMods in a later section.\n",
    "- If you want to make any modifications to `env_build.xml`, do this before building the model.\n",
    "- If any input data is missing the build will abort but provide a list of missing files. To acquire missing data run `./check_input_data --download`. This will download the required data and put it in the `inputdata` directory defined by the XML variable `DIN_LOC_ROOT`. After you have done these steps you can re-run the `case.build` script."
   ]
  },
  {
   "cell_type": "code",
   "execution_count": null,
   "id": "48056ea8-6b71-4485-ad55-d91c8ade8ba0",
   "metadata": {},
   "outputs": [],
   "source": []
  }
 ],
 "metadata": {
  "kernelspec": {
   "display_name": "Python 3 (ipykernel)",
   "language": "python",
   "name": "python3"
  },
  "language_info": {
   "codemirror_mode": {
    "name": "ipython",
    "version": 3
   },
   "file_extension": ".py",
   "mimetype": "text/x-python",
   "name": "python",
   "nbconvert_exporter": "python",
   "pygments_lexer": "ipython3",
   "version": "3.9.12"
  }
 },
 "nbformat": 4,
 "nbformat_minor": 5
}
