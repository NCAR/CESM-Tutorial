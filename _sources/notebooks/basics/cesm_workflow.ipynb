{
 "cells": [
  {
   "cell_type": "markdown",
   "metadata": {},
   "source": [
    "# CESM Workflow"
   ]
  },
  {
   "cell_type": "markdown",
   "metadata": {},
   "source": [
    "CESM has been designed to be easy to use. Once you have completed the one-time set up steps, a CESM case can be run with a set of 4 commands."
   ]
  },
  {
   "cell_type": "markdown",
   "metadata": {},
   "source": [
    "<div class=\"alert alert-info\" style=\"text-align: left;\">\n",
    "\n",
    "1) Create a new case using `create_newcase`\n",
    "2) Set up the case by invoking `case.setup`\n",
    "3) Build the executable using `case.build`\n",
    "4) Run your case using `case.submit`\n",
    "  \n",
    "</div>\n"
   ]
  },
  {
   "cell_type": "markdown",
   "metadata": {},
   "source": [
    "The following sections will go into more detail about these 4 commands and also provide information about how to check your job status or create a clone of a previous case."
   ]
  },
  {
   "cell_type": "markdown",
   "metadata": {},
   "source": [
    "### More information"
   ]
  },
  {
   "cell_type": "markdown",
   "metadata": {},
   "source": [
    "More detailed information on the CESM2 Workflow is documented in the following links and can be read in detail at a later time."
   ]
  },
  {
   "cell_type": "markdown",
   "metadata": {
    "tags": []
   },
   "source": [
    "<div class=\"alert alert-info\" style=\"text-align: center;\">\n",
    "\n",
    "[CESM2 release](https://escomp.github.io/CESM/release-cesm2/)\n",
    "    \n",
    "[CIME](https://esmci.github.io/cime/versions/master/html/index.html)\n",
    "\n",
    "</div>"
   ]
  },
  {
   "cell_type": "code",
   "execution_count": null,
   "metadata": {},
   "outputs": [],
   "source": []
  }
 ],
 "metadata": {
  "kernelspec": {
   "display_name": "Bash",
   "language": "bash",
   "name": "bash"
  },
  "language_info": {
   "codemirror_mode": "shell",
   "file_extension": ".sh",
   "mimetype": "text/x-sh",
   "name": "bash"
  }
 },
 "nbformat": 4,
 "nbformat_minor": 4
}
