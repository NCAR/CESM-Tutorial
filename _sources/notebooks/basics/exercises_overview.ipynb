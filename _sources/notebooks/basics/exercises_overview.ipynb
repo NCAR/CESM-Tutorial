{
 "cells": [
  {
   "cell_type": "markdown",
   "id": "8c2d8431-0e66-4597-96bb-858874da9235",
   "metadata": {},
   "source": [
    "# Exercise Overview \n",
    "\n",
    "\n",
    "## Learning Goals:\n",
    "\n",
    "- The student will successfully set up and run their first (short) CESM simulation.\n",
    "- This lab exercise is designed to build off the one-time setup section and uses the CESM workflow information presented. \n",
    "\n",
    "## Exercise overview:\n",
    "\n",
    "By then end of this exercise you will have:\n",
    "- created, setup, updated, built, run, and examined the output of a standard B1850 control case\n",
    "\n",
    "**You should not proceed in working on this exercise until you have successfully completed the [one-time set up exercise](https://ncar.github.io/CESM-Tutorial/notebooks/basics/one_time_overview.html#one-time-setup-exercise). You must have successfully downloaded CESM using git and have a `cases` directory to begin this exercise.**\n"
   ]
  },
  {
   "cell_type": "code",
   "execution_count": null,
   "id": "e062147c-f8f3-4a21-877e-b1c5755c6cad",
   "metadata": {},
   "outputs": [],
   "source": []
  }
 ],
 "metadata": {
  "kernelspec": {
   "display_name": "Python 3 (ipykernel)",
   "language": "python",
   "name": "python3"
  },
  "language_info": {
   "codemirror_mode": {
    "name": "ipython",
    "version": 3
   },
   "file_extension": ".py",
   "mimetype": "text/x-python",
   "name": "python",
   "nbconvert_exporter": "python",
   "pygments_lexer": "ipython3",
   "version": "3.9.12"
  }
 },
 "nbformat": 4,
 "nbformat_minor": 5
}
