{
 "cells": [
  {
   "cell_type": "markdown",
   "id": "f406f992-92bd-4b17-9bd3-b99c5c8abaf3",
   "metadata": {},
   "source": [
    "# Download CESM"
   ]
  },
  {
   "cell_type": "markdown",
   "id": "9d121236-47a7-48ef-8b67-40ef3b827178",
   "metadata": {},
   "source": [
    "Having explored the CESM Github pages we are going to return to the Cheyenne terminal window to download the Tutorial branch tag code into your own personal CESM workspace. Follow the three steps, below, to setup your CESM workspace.\n",
    "\n",
    "Downloading and setting up the Tutorial branch tag is an important step as this will be the code workspace we will be using throughout the rest of the Tutorial. If you have problems here please ask for help."
   ]
  },
  {
   "cell_type": "markdown",
   "id": "e980a755-b914-46eb-b217-3fe15781aeb3",
   "metadata": {},
   "source": [
    "## Step 1. Download CESM Code with Git Clone"
   ]
  },
  {
   "cell_type": "markdown",
   "id": "458e826c-60cb-4c5a-980f-b89f47cd06d1",
   "metadata": {},
   "source": [
    "<div class=\"alert alert-warning\">\n",
    "<strong>We will use the CESM release version `release-cesm2.1.4` for use in this tutorial. </strong><br><br>\n",
    "</div>"
   ]
  },
  {
   "cell_type": "markdown",
   "id": "76ef78ca-bb75-4340-996f-04f95233c84f",
   "metadata": {},
   "source": [
    "First we will change into the `Code` Workspace location then we will use the `git clone` command to download the CESM code.\n",
    "\n",
    "<div class=\"alert alert-info\">\n",
    "<strong>Change the current directory to the code workspace directory: </strong><br>\n",
    "\n",
    "```\n",
    "cd /glade/work/$USER/code\n",
    "```\n",
    "<br>\n",
    "    \n",
    "<strong>Download the cesm code to your code workspace directory as `my_cesm_code`: </strong><br>\n",
    "```\n",
    "git clone https://github.com/ESCOMP/CESM.git my_cesm_code\n",
    "cd my_cesm_code\n",
    "git checkout release-cesm2.1.4\n",
    "```\n",
    "    \n",
    "Note that while we named the downloaded code `my_cesm_code`, you can name it anything you want and for future downloads outside this tutorial it can be helpful to label the code for the release you are using for your experiments.\n",
    "    \n",
    "</div>"
   ]
  },
  {
   "cell_type": "markdown",
   "id": "b9211e68-8991-4f08-a6fd-ebd009cafe75",
   "metadata": {},
   "source": [
    "\n",
    "<div class=\"alert alert-info\">  \n",
    "<details>\n",
    "\n",
    "<summary> <font face=\"Times New Roman\" color='blue'>Click here for example output</font> </summary>\n",
    "\n",
    "    \n",
    "```\n",
    "Note: switching to 'release-cesm2.1.4'.\n",
    "\n",
    "You are in 'detached HEAD' state. You can look around, make experimental\n",
    "changes and commit them, and you can discard any commits you make in this\n",
    "state without impacting any branches by switching back to a branch.\n",
    "\n",
    "If you want to create a new branch to retain commits you create, you may\n",
    "do so (now or later) by using -c with the switch command. Example:\n",
    "\n",
    "  git switch -c <new-branch-name>\n",
    "\n",
    "Or undo this operation with:\n",
    "\n",
    "  git switch -\n",
    "\n",
    "Turn off this advice by setting config variable advice.detachedHead to false\n",
    "\n",
    "HEAD is now at 4003996 Fix release number\n",
    "```\n",
    "\n",
    "</details>\n",
    "</div>\n"
   ]
  },
  {
   "cell_type": "markdown",
   "id": "97b726d5-99e6-450d-b494-fd9ddc917284",
   "metadata": {},
   "source": [
    "### Versions"
   ]
  },
  {
   "cell_type": "markdown",
   "id": "cdeef63a-d107-46d2-a89b-d233c8ed13c2",
   "metadata": {},
   "source": [
    "One thing you will need to determine is what version of the CESM code you should use. Some things to consider when making that decision include: \n",
    "- What versions of the code are supported scientifically or technically?\n",
    "- Things you may want to consider are what sort of model features do you need and what versions of the model are these available in? \n",
    "- If you want to compare your sensitivity experiment against a community experiment (e.g. CESM2-LE) then you should use the same version of the code.\n",
    "\n",
    "\n",
    "More information can be found on the [CESM Models website](https://www.cesm.ucar.edu/models)."
   ]
  },
  {
   "cell_type": "markdown",
   "id": "d5db54cd-0018-4187-afa7-6da675ea55ba",
   "metadata": {},
   "source": [
    "<div class=\"alert alert-info\">\n",
    "    \n",
    "If you want to check which other release versions are available, you can use the command:\n",
    "```\n",
    "git tag --list 'release-cesm2*'    \n",
    "```    \n",
    "</div>"
   ]
  },
  {
   "cell_type": "markdown",
   "id": "195d4a4b-514b-446e-9d2b-4c7aeae60aa2",
   "metadata": {},
   "source": [
    "\n",
    "<div class=\"alert alert-info\">  \n",
    "<details>\n",
    "\n",
    "<summary> <font face=\"Times New Roman\" color='blue'>Click here for example output</font> </summary>\n",
    "\n",
    "<br>\n",
    "    \n",
    "```\n",
    "release-cesm2.0.0\n",
    "release-cesm2.0.1\n",
    "release-cesm2.1.0\n",
    "release-cesm2.1.1\n",
    "release-cesm2.1.2\n",
    "release-cesm2.1.3\n",
    "release-cesm2.1.4\n",
    "release-cesm2.2.0\n",
    "release-cesm2.2.1\n",
    "\n",
    "```\n",
    "\n",
    "</details>\n",
    "</div>\n"
   ]
  },
  {
   "cell_type": "markdown",
   "id": "88bd0742-e990-4fcf-9b40-5c8b21a9ec43",
   "metadata": {},
   "source": [
    "## Step 2. Download the Component Models with checkout_externals"
   ]
  },
  {
   "cell_type": "markdown",
   "id": "615c0e7b-5e6c-4352-b1a2-3f8ac03b4b6b",
   "metadata": {},
   "source": [
    "\n",
    "The CESM code downloaded with the branch tag does not include all of the code and support for the component models. These are developed and maintained in other Github repositories. To include all of the component models into your code workspace you need to download them as an additional step. The checkout_externals tool is located in manage_externals directory in the `my_cesm_code` code directory.\n",
    "\n",
    "<div class=\"alert alert-info\">\n",
    "<strong>Exercise: Run the `checkout_externals` command to download all the component models: </strong><br>\n",
    "\n",
    "```\n",
    "./manage_externals/checkout_externals\n",
    "```\n",
    "</br>\n",
    "*Note: If you get a message about accepting a certificate permanently or temporarily, accept the certificate permanently. If you do not get this message, do not worry, you are still on track!\n",
    "    \n",
    "</div>\n"
   ]
  },
  {
   "cell_type": "markdown",
   "id": "8341952a-2c3b-4892-a7ea-6b0407ecb78c",
   "metadata": {},
   "source": [
    "\n",
    "<div class=\"alert alert-success\">  \n",
    "<details>\n",
    "\n",
    "<summary> <font face=\"Times New Roman\" color='blue'>Click here for example output</font> </summary>\n",
    "\n",
    "<br>\n",
    "\n",
    "    where `$USER` will be replaced by your user name\n",
    "```\n",
    "Processing externals description file : Externals.cfg (/glade/work/$USER/code/my_cesm_code)\n",
    "Checking local status of required & optional components: cam, cice, cime, cism, clm, mosart, pop, rtm, ww3, \n",
    "Checking out externals: cime, cam, Processing externals description file : Externals_CAM.cfg (/glade/work/$USER/code/my_cesm_code/components/cam)\n",
    "Checking out externals: chem_proc, carma, clubb, cosp2, \n",
    "cice, cism, Processing externals description file : Externals_CISM.cfg (/glade/work/$USER/code/my_cesm_code/components/cism)\n",
    "Checking out externals: source_cism, \n",
    "clm, Processing externals description file : Externals_CLM.cfg (/glade/work/$USER/code/my_cesm_code/components/clm)\n",
    "Checking out externals: fates, ptclm, \n",
    "mosart, pop, Processing externals description file : Externals_POP.cfg (/glade/work/$USER/code/my_cesm_code/components/pop)\n",
    "Checking out externals: cvmix, marbl, \n",
    "rtm, ww3, \n",
    "```\n",
    "\n",
    "</details>\n",
    "</div>\n"
   ]
  },
  {
   "cell_type": "markdown",
   "id": "74d14003-78cc-48e6-bcbc-622f0150dfed",
   "metadata": {},
   "source": [
    "- The path `/glade/work/$USER/code/my_cesm_code` is your workspace `SRCROOT`, as described in the [workspaces section](https://ncar.github.io/CESM-Tutorial/notebooks/basics/cesm_workspaces.html#workspace-overview)."
   ]
  },
  {
   "cell_type": "markdown",
   "id": "ff11dd07-faa2-42a2-8692-83d0895bc9f3",
   "metadata": {},
   "source": [
    "**Congratulations, you have now downloaded the CESM code component of your workspace!!**"
   ]
  },
  {
   "cell_type": "markdown",
   "id": "a9a323ca-575d-4d80-ae5d-6e5402cccc75",
   "metadata": {},
   "source": [
    "\n",
    "<div class=\"alert alert-info\">\n",
    "<strong>Evaluate your understanding</strong>\n",
    "\n",
    "You downloaded the CESM code with the instructions above. In which directory is the CESM code? How do you navigate to that directory?\n",
    "\n",
    "</div>\n"
   ]
  },
  {
   "cell_type": "markdown",
   "id": "4e18eab9-75d1-4bf0-8d60-454f0cb6ce7d",
   "metadata": {},
   "source": [
    "<div class=\"alert alert-success\">\n",
    "   \n",
    "<details>   \n",
    "<summary><font face=\"Times New Roman\" color='blue'>Click here for the solution</font></summary><br>\n",
    "If you download CESM with the instructions above, the CESM code is located in:\n",
    "\n",
    "```\n",
    "/glade/work/$USER/code/my_cesm_code\n",
    "```\n",
    "\n",
    "To navigate to that directory, use the command:\n",
    "```\n",
    "cd /glade/work/$USER/code/my_cesm_code\n",
    "```\n",
    "\n",
    "</details>\n",
    "</div>"
   ]
  },
  {
   "cell_type": "code",
   "execution_count": null,
   "id": "9630dee5-2e36-4c2f-81b6-f8abd736a73f",
   "metadata": {},
   "outputs": [],
   "source": []
  }
 ],
 "metadata": {
  "kernelspec": {
   "display_name": "Python 3 (ipykernel)",
   "language": "python",
   "name": "python3"
  },
  "language_info": {
   "codemirror_mode": {
    "name": "ipython",
    "version": 3
   },
   "file_extension": ".py",
   "mimetype": "text/x-python",
   "name": "python",
   "nbconvert_exporter": "python",
   "pygments_lexer": "ipython3",
   "version": "3.9.12"
  }
 },
 "nbformat": 4,
 "nbformat_minor": 5
}
