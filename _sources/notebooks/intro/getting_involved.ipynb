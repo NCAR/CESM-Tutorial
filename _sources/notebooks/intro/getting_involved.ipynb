{
 "cells": [
  {
   "cell_type": "markdown",
   "id": "f406f992-92bd-4b17-9bd3-b99c5c8abaf3",
   "metadata": {},
   "source": [
    "# Getting Involved\n"
   ]
  },
  {
   "cell_type": "markdown",
   "id": "3d14afe8-0247-4446-a1d4-1a2859156d90",
   "metadata": {},
   "source": [
    "## CESM Events"
   ]
  },
  {
   "cell_type": "markdown",
   "id": "ae8ef153-ef12-4306-97d7-9d1ce6cda746",
   "metadata": {},
   "source": [
    "CESM has a long history of open, Community Events. A schedule of CESM Events is maintained on the CESM Website. CESM events include Community and Working Group Meetings, Tutorials, Seminars, and other related events. The first Community workshop was held in 1996 and continues annually today, and there are winter working-group specific meetings.\n"
   ]
  },
  {
   "cell_type": "markdown",
   "id": "d0a9d7fd-4003-4b94-8e42-2342a148909b",
   "metadata": {},
   "source": [
    "<div class=\"alert alert-info\" style=\"text-align: center;\">\n",
    "    \n",
    "[CESM Events](https://www.cesm.ucar.edu/events)\n",
    "\n",
    "</div>"
   ]
  },
  {
   "cell_type": "markdown",
   "id": "9347c979-52dc-44f8-9d7f-57a74b722db4",
   "metadata": {},
   "source": [
    "![CESM Events Image](../../images/basics/CESM2_Events.png)\n",
    "*<p style=\"text-align: center;\"> Figure: CESM2 Events Page </p>*"
   ]
  },
  {
   "cell_type": "markdown",
   "id": "e231cf65-e68f-4767-a5f1-0a59ad02922c",
   "metadata": {},
   "source": [
    "**We hope to see you at a future CESM workshop!**"
   ]
  },
  {
   "cell_type": "markdown",
   "id": "2fc2e42c-dcfa-45aa-a16b-c1846590f2f9",
   "metadata": {},
   "source": [
    "## CESM Email Lists"
   ]
  },
  {
   "cell_type": "markdown",
   "id": "a459419f-4e90-4aac-a7f4-13ce597afd1c",
   "metadata": {},
   "source": [
    "There are a number of email lists for the CESM community that you can join to receive updates for the whole CESM community or for particular working groups."
   ]
  },
  {
   "cell_type": "markdown",
   "id": "002db32d-d135-446c-9c01-c6807467ae32",
   "metadata": {},
   "source": [
    "<div class=\"alert alert-info\" style=\"text-align: center;\">\n",
    "\n",
    "[CESM Email lists](https://www.cesm.ucar.edu/about/faqs)\n",
    "\n",
    "</div>"
   ]
  },
  {
   "cell_type": "markdown",
   "id": "47c38994-bf8c-4cf3-8112-9e6b871398de",
   "metadata": {},
   "source": [
    "## CESM Github Alerts"
   ]
  },
  {
   "cell_type": "markdown",
   "id": "df28fe76-4efe-491c-8784-3c4f0fb2fd04",
   "metadata": {},
   "source": [
    "If you create a github account and opt-in, you can watch CESM related repositories."
   ]
  },
  {
   "cell_type": "markdown",
   "id": "909d4342-cfab-40ea-90bc-bf9c713939c5",
   "metadata": {},
   "source": [
    "<div class=\"alert alert-info\" style=\"text-align: center;\">\n",
    "\n",
    "[CESM Github](https://github.com/ESCOMP/CESM)\n",
    "\n",
    "</div>"
   ]
  },
  {
   "cell_type": "markdown",
   "id": "30eb47fb-19c2-4b0a-a0c6-ae412f018ef3",
   "metadata": {},
   "source": [
    "![Discuss Image](../../images/intro/CESM_github.png)\n",
    "*<p style=\"text-align: center;\"> Figure: CESM2 Github Page </p>*"
   ]
  },
  {
   "cell_type": "code",
   "execution_count": null,
   "id": "1dedd34e-f4c7-452d-b31e-b80acc32609a",
   "metadata": {},
   "outputs": [],
   "source": []
  }
 ],
 "metadata": {
  "kernelspec": {
   "display_name": "Python 3 (ipykernel)",
   "language": "python",
   "name": "python3"
  },
  "language_info": {
   "codemirror_mode": {
    "name": "ipython",
    "version": 3
   },
   "file_extension": ".py",
   "mimetype": "text/x-python",
   "name": "python",
   "nbconvert_exporter": "python",
   "pygments_lexer": "ipython3",
   "version": "3.10.13"
  }
 },
 "nbformat": 4,
 "nbformat_minor": 5
}
