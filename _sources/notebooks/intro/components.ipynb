{
 "cells": [
  {
   "cell_type": "markdown",
   "id": "0086605a-f330-41bd-a79b-13339e0e5d58",
   "metadata": {
    "tags": []
   },
   "source": [
    "# Model Components\n",
    "\n",
    "CESM is a coupled Earth system model for simulating Earth’s climate system and connected component systems. The model is composed of separate models that simultaneously simulate the Earth’s atmosphere, ocean, land, river run-off, land-ice, and sea-ice. The CESM is comprised of seven **Prognostic** or otherwise known as **Active** Components that are coupled through the Common Infrastructure for  Modeling the Earth known as **CIME**. \n"
   ]
  },
  {
   "cell_type": "markdown",
   "id": "bac52cc8-695c-49b9-9018-69503ad75f2f",
   "metadata": {},
   "source": [
    "![Discuss Image](../../images/intro/CESM2.png)\n",
    "*<p style=\"text-align: center;\"> Figure: CESM2 Structure </p>*"
   ]
  },
  {
   "cell_type": "markdown",
   "id": "cd1f097c-1b20-4905-9af1-1b7c3901cb79",
   "metadata": {},
   "source": [
    "Each model component has a page on the CESM webste containing descriptions and documentation for active or prognostic models. \n",
    "\n",
    "You can explore each of the component models and CIME from the links below."
   ]
  },
  {
   "cell_type": "markdown",
   "id": "16519007-3902-4d9e-bdb4-380208c14e33",
   "metadata": {},
   "source": [
    "<div class=\"alert alert-info\" style=\"text-align: left;\">\n",
    "Component Links:\n",
    "    \n",
    "- <a href=\"https://www.cesm.ucar.edu/models/cesm2/atmosphere\"> **``Atmosphere``** </a>\n",
    "- <a href=\"https://www.cesm.ucar.edu/models/cesm2/land\"> **``Land``** </a>\n",
    "- <a href=\"https://www.cesm.ucar.edu/models/cesm2/land-ice\"> **``Land Ice``** </a>\n",
    "- <a href=\"https://www.cesm.ucar.edu/models/cesm2/ocean\" > **``Ocean``** </a>\n",
    "- <a href=\"https://www.cesm.ucar.edu/models/cesm2/river\" > **``River Runoff``** </a>\n",
    "- <a href=\"https://www.cesm.ucar.edu/models/cesm2/sea-ice\" > **``Sea Ice``** </a>\n",
    "- <a href=\"https://www.cesm.ucar.edu/models/cesm2/wave\" > **``Wave``** </a>\n",
    "- <a href=\"https://esmci.github.io/cime/versions/master/html/index.html\" > **``CIME``** </a>\n",
    "    \n",
    "</div>"
   ]
  },
  {
   "cell_type": "code",
   "execution_count": null,
   "id": "3e00f9ea-6161-4090-ba36-7f4022e9e467",
   "metadata": {},
   "outputs": [],
   "source": []
  }
 ],
 "metadata": {
  "kernelspec": {
   "display_name": "Python 3 (ipykernel)",
   "language": "python",
   "name": "python3"
  },
  "language_info": {
   "codemirror_mode": {
    "name": "ipython",
    "version": 3
   },
   "file_extension": ".py",
   "mimetype": "text/x-python",
   "name": "python",
   "nbconvert_exporter": "python",
   "pygments_lexer": "ipython3",
   "version": "3.9.12"
  },
  "toc-showcode": false
 },
 "nbformat": 4,
 "nbformat_minor": 5
}
