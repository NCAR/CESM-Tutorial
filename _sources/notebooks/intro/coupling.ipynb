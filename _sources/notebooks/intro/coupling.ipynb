{
 "cells": [
  {
   "cell_type": "markdown",
   "id": "163311c4-af4e-4ac5-bfa1-20fc25016f28",
   "metadata": {
    "tags": []
   },
   "source": [
    "# Shared Infrastructure\n"
   ]
  },
  {
   "cell_type": "markdown",
   "id": "b247f4d7-ca36-4b62-bc4d-007c42ed9892",
   "metadata": {},
   "source": [
    "The Combined Model Components form the coupled CESM through a shared common set of tools and infrastructure and coupling framework. Here we describe the Common Infrastructure for Modeling the Earth otherwise known as CIME introduced in the component model section, as well as the current CESM2 and future coupling frameworks.\n"
   ]
  },
  {
   "cell_type": "markdown",
   "id": "e5ddb5ae-4b5f-4f55-8242-5b8e86c831c8",
   "metadata": {},
   "source": [
    "## Common Infrastructure for Modeling the Earth (CIME)"
   ]
  },
  {
   "cell_type": "markdown",
   "id": "9dca3b1b-e249-4e6c-b34c-46efc6cdc144",
   "metadata": {},
   "source": [
    "The Common Infrastructure for Modeling the Earth is a python-based framework that is shared between CESM2 and other modeling center efforts to ensure efficient \n",
    "coordination of model development. The schema below shows some of the science benefits and organizations that are using the CIME infrastructure. \n",
    "<br><br>\n"
   ]
  },
  {
   "cell_type": "markdown",
   "id": "d973f124-8754-4bf6-a089-2509ea267671",
   "metadata": {},
   "source": [
    "![CESM directories and namelists](../../images/intro/CESM2_CIME_Infrastructure.png)\n",
    "*<p style=\"text-align: center;\"> Figure: Overview of the CESM2 Common Infrastructure for Modeling the Earth (CIME) </p>*\n"
   ]
  },
  {
   "cell_type": "markdown",
   "id": "4c689c94-e8c6-40a6-a2a0-0fa873d1f111",
   "metadata": {},
   "source": [
    "## Model Coupling Toolkit (MCT)"
   ]
  },
  {
   "cell_type": "markdown",
   "id": "03cb0afa-459e-44f2-948b-452195c8589d",
   "metadata": {},
   "source": [
    "The CESM2 coupling is performed through the Model Coupling Toolkit (MCT). Additionally, the MCT coupling framework allows data and stub components to \n",
    "replace active or prognostic components providing flexible activation/deactivation of feedbacks. \n",
    "The schematic below shows all of the components and their connections.\n",
    "<br><br>\n"
   ]
  },
  {
   "cell_type": "markdown",
   "id": "9bc59881-d61d-49a0-8178-f5ffba630a41",
   "metadata": {},
   "source": [
    "![CESM directories and namelists](../../images/intro/CESM2_MCT_Coupling.png)\n",
    "*<p style=\"text-align: center;\"> Figure: Overview of the CESM2 Components and Model Coupling Toolkit (MCT) </p>*\n"
   ]
  },
  {
   "cell_type": "markdown",
   "id": "9c213a95-b901-4db3-b263-4bf2d3e54196",
   "metadata": {},
   "source": [
    "## Earth System Modeling Framework (ESMF) Coupling"
   ]
  },
  {
   "cell_type": "markdown",
   "id": "70a62a59-021b-4798-9e77-7ff786f54e7e",
   "metadata": {},
   "source": [
    "Coupling development beyond CESM2 will be changing to the Earth System Modeling Framework (ESMF) National Unified Operational Prediction Capability (NUOPC) framework. More details on NUOPC can be found at \n",
    "<a href=\"https://earthsystemmodeling.org/nuopc/\"> https://earthsystemmodeling.org/nuopc/ </a>. The schema below shows the new CESM configuration and coupling with NUOPC.\n",
    "<br><br>"
   ]
  },
  {
   "cell_type": "markdown",
   "id": "d9569358-6f6b-4fcc-9909-11e295957bca",
   "metadata": {},
   "source": [
    "\n",
    "![CESM directories and namelists](../../images/intro/CESM_NUOPC_Coupling.png)\n",
    "*<p style=\"text-align: center;\"> Figure: Overview of the new CESM Components and National Unified Operational Prediction Capability (NUOPC) framework </p>*"
   ]
  },
  {
   "cell_type": "code",
   "execution_count": null,
   "id": "40abbd6b-70cb-427b-a468-9311191be2a7",
   "metadata": {},
   "outputs": [],
   "source": []
  }
 ],
 "metadata": {
  "kernelspec": {
   "display_name": "Python 3 (ipykernel)",
   "language": "python",
   "name": "python3"
  },
  "language_info": {
   "codemirror_mode": {
    "name": "ipython",
    "version": 3
   },
   "file_extension": ".py",
   "mimetype": "text/x-python",
   "name": "python",
   "nbconvert_exporter": "python",
   "pygments_lexer": "ipython3",
   "version": "3.9.12"
  },
  "toc-showcode": false
 },
 "nbformat": 4,
 "nbformat_minor": 5
}
