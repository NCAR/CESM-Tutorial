{
 "cells": [
  {
   "cell_type": "markdown",
   "id": "0959db1d-1790-4519-a34e-7026444af537",
   "metadata": {},
   "source": [
    "# Introduction"
   ]
  },
  {
   "cell_type": "markdown",
   "id": "f0015117-d84f-471e-9bc5-ba87dc050baf",
   "metadata": {},
   "source": [
    "Welcome to the world of the **Community Earth System Model (CESM)**. This introduction will discuss the structure of the CESM model, provide information about how to become more involved in the CESM community, and how to get help if required.\n"
   ]
  },
  {
   "cell_type": "markdown",
   "id": "8a108581-ab10-4779-b8a7-da44ccaf4495",
   "metadata": {},
   "source": [
    "## Visualizing this documentation"
   ]
  },
  {
   "cell_type": "markdown",
   "id": "864d5c25-d84a-437a-b86f-65a5211db5e8",
   "metadata": {},
   "source": [
    "Depending on your computer settings, you may see this documentation with a white or black background. To toggle between these settings click the sun or moon in the upper right of the page (see red arrow below). \n",
    "\n",
    "We have developed the documentation with the white background and recommend you use these settings. If you choose to use the dark background it is possible some of the visualizations will be more difficult to read."
   ]
  },
  {
   "cell_type": "markdown",
   "id": "1a9457c9-8717-4882-b6b2-311ce7ff899c",
   "metadata": {},
   "source": [
    "![Light/Dark mode](../../images/intro/light_dark_mode.png)\n",
    "\n",
    "*<p style=\"text-align: center;\"> Figure: How to change between light/dark mode. </p>*"
   ]
  },
  {
   "cell_type": "code",
   "execution_count": null,
   "id": "43fcffde-ec3b-485a-a85b-5a8d10e831e2",
   "metadata": {},
   "outputs": [],
   "source": []
  }
 ],
 "metadata": {
  "kernelspec": {
   "display_name": "Python 3 (ipykernel)",
   "language": "python",
   "name": "python3"
  },
  "language_info": {
   "codemirror_mode": {
    "name": "ipython",
    "version": 3
   },
   "file_extension": ".py",
   "mimetype": "text/x-python",
   "name": "python",
   "nbconvert_exporter": "python",
   "pygments_lexer": "ipython3",
   "version": "3.9.12"
  }
 },
 "nbformat": 4,
 "nbformat_minor": 5
}
