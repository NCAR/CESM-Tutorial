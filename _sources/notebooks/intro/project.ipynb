{
 "cells": [
  {
   "cell_type": "markdown",
   "id": "0086605a-f330-41bd-a79b-13339e0e5d58",
   "metadata": {
    "tags": []
   },
   "source": [
    "# Project Organization"
   ]
  },
  {
   "cell_type": "markdown",
   "id": "9546d840-c247-4952-a8f2-52a377e5e180",
   "metadata": {},
   "source": [
    "## CESM Web Page\n",
    "\n",
    "The **CESM Web Page** is the first point of reference for all things CESM. Here we can explore the larger CESM project, delve deeper into individual working groups, models, research activities, model releases, supporting model data, tools, events and much much more.\n"
   ]
  },
  {
   "cell_type": "markdown",
   "id": "71155f04-3f3a-4aa2-9caa-96815767ef1c",
   "metadata": {},
   "source": [
    "<div class=\"alert alert-info\" style=\"text-align: center;\">\n",
    "\n",
    "[CESM project webpage](http://www.cesm.ucar.edu)\n",
    "\n",
    "</div>"
   ]
  },
  {
   "cell_type": "markdown",
   "id": "59650279-f141-4093-b06d-b788d46ae33c",
   "metadata": {},
   "source": [
    "**Some points to pay attention to:**    \n",
    "- CESM **``Project``** Information\n",
    "- **``Working Groups``** Information\n",
    "- **``Community Projects``** Information\n",
    "    - CESM2 Large Ensemble\n",
    "    - CESM2 Stratospheric Aerosol Injection (ARISE-SAI)\n",
    "- What **``Version``** of the model should you use?\n",
    "- **``Individual Model``** Pages <a href=\"https://www.cesm.ucar.edu/models/\"> https://www.cesm.ucar.edu/models/ </a>\n",
    "- **``Supported Model``** Releases – 2.1.X vs 2.2.X\n",
    "- **``Experiments``**, expand a case for details, diagnostics plots for many experiments\n"
   ]
  },
  {
   "cell_type": "markdown",
   "id": "d05bee98-d240-46c6-afab-9f2f10739eea",
   "metadata": {},
   "source": [
    "## Working Groups"
   ]
  },
  {
   "cell_type": "markdown",
   "id": "cab53fe1-0293-48ad-b0e3-4b9869bc55fb",
   "metadata": {},
   "source": [
    "The CESM project has a strong commitment to Community involvment in governance and development of the CESM. The CESM modeling effort is coordinated through **Working Groups** that are responsible for the science and development of individual CESM components or organized to coordinate other across CESM efforts. \n",
    "\n",
    "Each team takes responsibility for developing and continually improving its component of the CESM consistent with the CESM goal of a fully-coupled model and with the CESM design criteria. There are currently 12 Working Groups."
   ]
  },
  {
   "cell_type": "markdown",
   "id": "aa2d188a-e632-43f5-9f52-ea91411d2014",
   "metadata": {},
   "source": [
    "<div class=\"alert alert-info\" style=\"text-align: center;\">\n",
    "\n",
    "[Atmosphere Model Working Group (AMWG)](https://www.cesm.ucar.edu/working-groups/atmosphere)\n",
    "    \n",
    "[Biogeochemistry Working Group (BGCWG)](https://www.cesm.ucar.edu/working-groups/biogeo)\n",
    "    \n",
    "[Chemistry Climate Working Group (CCWG)](https://https://www.cesm.ucar.edu/working-groups/chemistry)\n",
    "    \n",
    "[Climate Variability and Change Working Group (CVCWG)](https://www.cesm.ucar.edu/working-groups/climate)\n",
    "    \n",
    "[Earth System Prediction Working Group (ESPWG)](https://www.cesm.ucar.edu/working-groups/earth-system)\n",
    "    \n",
    "[Land Ice Working Group (LIWG)](https://www.cesm.ucar.edu/working-groups/land-ice)\n",
    "    \n",
    "[Land Model Working Group (LMWG)](https://www.cesm.ucar.edu/working-groups/land)\n",
    "    \n",
    "[Ocean Model Working Group (OMWG)](https://www.cesm.ucar.edu/working-groups/ocean)\n",
    "    \n",
    "[Paleoclimate Working Group (PWG)](https://www.cesm.ucar.edu/working-groups/paleo)\n",
    "    \n",
    "[Polar Climate Working Group (PCWG)](https://www.cesm.ucar.edu/working-groups/polar)\n",
    "    \n",
    "[Software Engineering Working Group (SEWG)](https://www.cesm.ucar.edu/working-groups/software)\n",
    "    \n",
    "[Whole Atmosphere Model Working Group (WAWG)](https://www.cesm.ucar.edu/working-groups/whole-atmosphere)\n",
    "\n",
    "</div>"
   ]
  },
  {
   "cell_type": "markdown",
   "id": "e0c8268d-cff5-4ae0-8f65-e5b7017d32fd",
   "metadata": {},
   "source": [
    "Each Working Group is coordinated by Co-Chairs. The Working Groups decide their own development priorities and work schedules, consistent with the overall goals of CESM, and are subject to oversight by the CESM Scientific Steering \n",
    "Committee (SSC)."
   ]
  },
  {
   "cell_type": "markdown",
   "id": "426af3d0-3705-4b5c-a265-3d60fac884d5",
   "metadata": {},
   "source": [
    "<div class=\"alert alert-info\" style=\"text-align: center;\">\n",
    "\n",
    "[Working Group Co-Chairs and Terms](https://www.cesm.ucar.edu/working-groups/co-chairs)\n",
    "    \n",
    "[Scientific Steering Committee (SSC)](https://www.cesm.ucar.edu/management/ssc)\n",
    "\n",
    "</div>"
   ]
  },
  {
   "cell_type": "markdown",
   "id": "09ca207c-608c-4933-b640-e8155e100b10",
   "metadata": {},
   "source": [
    "**We welcome and strongly encourage anyone interested to join the relevant CESM working groups to participate more fully in the CESM project and model development.**"
   ]
  },
  {
   "cell_type": "code",
   "execution_count": null,
   "id": "f8bd790d-2ad5-445d-aaff-4bc8d5b23a29",
   "metadata": {},
   "outputs": [],
   "source": []
  }
 ],
 "metadata": {
  "kernelspec": {
   "display_name": "Python 3 (ipykernel)",
   "language": "python",
   "name": "python3"
  },
  "language_info": {
   "codemirror_mode": {
    "name": "ipython",
    "version": 3
   },
   "file_extension": ".py",
   "mimetype": "text/x-python",
   "name": "python",
   "nbconvert_exporter": "python",
   "pygments_lexer": "ipython3",
   "version": "3.9.12"
  },
  "toc-showcode": false
 },
 "nbformat": 4,
 "nbformat_minor": 5
}
