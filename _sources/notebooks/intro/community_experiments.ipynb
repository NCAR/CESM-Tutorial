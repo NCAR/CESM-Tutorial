{
 "cells": [
  {
   "cell_type": "markdown",
   "id": "f406f992-92bd-4b17-9bd3-b99c5c8abaf3",
   "metadata": {},
   "source": [
    "# Community Experiments"
   ]
  },
  {
   "cell_type": "markdown",
   "id": "59bb8a3f-74a5-4c7f-aaa7-15d22fe59b4a",
   "metadata": {},
   "source": [
    "Information about community experiments performed with CESM version 2 and previous verisons of the model (CSM1, CCSM2, CCSM3, CESM1) are documented on an experiments webpage. "
   ]
  },
  {
   "cell_type": "markdown",
   "id": "c6540e1c-d489-401b-b227-2da4f69c50ec",
   "metadata": {},
   "source": [
    "<div class=\"alert alert-info\" style=\"text-align: center;\">\n",
    "\n",
    "[CESM experiments webpage](https://www.cesm.ucar.edu/experiments)\n",
    "\n",
    "</div>"
   ]
  },
  {
   "cell_type": "markdown",
   "id": "387a41d7-3e1f-4272-9ba6-7940dc3c9f7f",
   "metadata": {},
   "source": [
    "Explore this webpage and then click on the CESM2 Experiments, Data, and Diagnostic Output link for experiments from the most recent model version."
   ]
  },
  {
   "cell_type": "markdown",
   "id": "501487a2-94b7-4947-a273-208b0106c0fd",
   "metadata": {},
   "source": [
    "![CESM Experiments](../../images/intro/CESM_exp_1.png)\n",
    "\n",
    "*<p style=\"text-align: center;\"> Figure: CESM experiments webpage. </p>*"
   ]
  },
  {
   "cell_type": "markdown",
   "id": "26b40b47-8dfc-4477-99f2-f54f859ea47c",
   "metadata": {},
   "source": [
    "This page provides a searchable list of all the CESM2 experiments available to the public. \n",
    "To interpret the casenames, it is helpful to remember CESM naming conventions that provide information about the experiment at a glance. Knowing the CESM case naming conventions will help you navigate CESM community experiments. Information about the CESM naming is available at:"
   ]
  },
  {
   "cell_type": "markdown",
   "id": "09e4bfeb-04af-427e-9636-f62f001b567e",
   "metadata": {},
   "source": [
    "<div class=\"alert alert-info\">\n",
    "\n",
    "[CESM case naming conventions](https://www.cesm.ucar.edu/models/cesm2/naming-conventions)\n",
    "\n",
    "</div>"
   ]
  },
  {
   "cell_type": "markdown",
   "id": "ab79cd61-d4c9-4e40-92f2-9253756b2eda",
   "metadata": {},
   "source": [
    "Click on the experiment that corresponds to the CESM2 CMIP6 preindustrial control experiment:\n",
    "b.e21.B1850.f09_g17.MIP6-piControl.001"
   ]
  },
  {
   "cell_type": "markdown",
   "id": "50f1a8e8-90d0-44e7-8fcf-5dd2f0b09d3f",
   "metadata": {},
   "source": [
    "![CESM Experiments](../../images/intro/CESM_exp_2.png)\n",
    "\n",
    "*<p style=\"text-align: center;\"> Figure: CESM2 CMIP6 PI control experiment. </p>*"
   ]
  },
  {
   "cell_type": "markdown",
   "id": "42e2aada-04d8-40ba-8ae2-3d501782dadb",
   "metadata": {},
   "source": [
    "Information about this experiment drops down below the experiment name. There are three main sections of information:\n",
    "\n",
    "- The title of the experiment with active components listed.\n",
    "- Links to the data and/or the NCAR HPC directory with data. (#1, green arrow)\n",
    "- Links to the diagnostic component package output and the Climate Variability Diagnostics Package. (#2, blue arrow)\n",
    "- Details about the run, including the resolution, compset, etc. (#3, red arrow)"
   ]
  },
  {
   "cell_type": "markdown",
   "id": "0d1ff550-d4c7-45be-a6d0-b1ea789d0d67",
   "metadata": {},
   "source": [
    "![CESM Experiments](../../images/intro/CESM_exp_3.png)\n",
    "\n",
    "*<p style=\"text-align: center;\"> Figure: CESM2 CMIP6 PI control experiment. </p>*"
   ]
  },
  {
   "cell_type": "code",
   "execution_count": null,
   "id": "084b0a01-829d-4996-bea5-f0e56e2c6d04",
   "metadata": {},
   "outputs": [],
   "source": []
  }
 ],
 "metadata": {
  "kernelspec": {
   "display_name": "Bash",
   "language": "bash",
   "name": "bash"
  },
  "language_info": {
   "codemirror_mode": "shell",
   "file_extension": ".sh",
   "mimetype": "text/x-sh",
   "name": "bash"
  }
 },
 "nbformat": 4,
 "nbformat_minor": 5
}
