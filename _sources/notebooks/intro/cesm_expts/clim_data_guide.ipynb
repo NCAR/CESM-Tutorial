{
 "cells": [
  {
   "cell_type": "markdown",
   "id": "f406f992-92bd-4b17-9bd3-b99c5c8abaf3",
   "metadata": {},
   "source": [
    "# Climate Data Guide"
   ]
  },
  {
   "cell_type": "markdown",
   "id": "43c2831e-6726-4718-8460-2a042109003b",
   "metadata": {},
   "source": [
    "The Climate Data Guide describes observations used for Earth System Model evaluation. To date 150+ data sets have been profiled. Expert-user guidance by 45+ scientists is provided to users, including pros and cons of each dataset. There are also comparisons of common variables (e.g. precipitation, sea surface temperature, sea ice concentration, etc.)."
   ]
  },
  {
   "cell_type": "markdown",
   "id": "422d7b55-49d9-4059-90ff-eec47665f874",
   "metadata": {},
   "source": [
    "<div class=\"alert alert-info\" style=\"text-align: center;\">\n",
    "\n",
    "[Climate Data Guide webpage](http://climatedataguide.ucar.edu/)\n",
    "\n",
    "</div>"
   ]
  },
  {
   "cell_type": "markdown",
   "id": "16c243bf-a625-417d-929b-67a8171b2fab",
   "metadata": {},
   "source": [
    "![CDG](../../../images/intro/clim_data_guide.png)\n",
    "\n",
    "*<p style=\"text-align: center;\"> Figure: Climate Data Guide Homepage. </p>*"
   ]
  },
  {
   "cell_type": "code",
   "execution_count": null,
   "id": "f7d1fc1d-4dc0-4718-92c9-30f38db2bb77",
   "metadata": {},
   "outputs": [],
   "source": []
  }
 ],
 "metadata": {
  "kernelspec": {
   "display_name": "Bash",
   "language": "bash",
   "name": "bash"
  },
  "language_info": {
   "codemirror_mode": "shell",
   "file_extension": ".sh",
   "mimetype": "text/x-sh",
   "name": "bash"
  }
 },
 "nbformat": 4,
 "nbformat_minor": 5
}
