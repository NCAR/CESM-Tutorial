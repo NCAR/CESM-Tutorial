{
 "cells": [
  {
   "cell_type": "markdown",
   "id": "f406f992-92bd-4b17-9bd3-b99c5c8abaf3",
   "metadata": {},
   "source": [
    "# Climate Data Gateway"
   ]
  },
  {
   "cell_type": "markdown",
   "id": "9d8e3ee1-e605-4894-afd2-b0a83420711a",
   "metadata": {},
   "source": [
    "Publicly released CESM data is available via the Climate Data Gateway. Timeseries data in both CESM standard format and CMIP format are available. Registration is quick and easy, and NCAR accounts are not required for access."
   ]
  },
  {
   "cell_type": "markdown",
   "id": "4afe3049-6271-4659-b23d-b4627dc31e93",
   "metadata": {},
   "source": [
    "<div class=\"alert alert-info\" style=\"text-align: center;\">\n",
    "\n",
    "[Climate Data Gateway webpage](https://www.earthsystemgrid.org/)\n",
    "\n",
    "</div>"
   ]
  },
  {
   "cell_type": "markdown",
   "id": "e33a15df-834d-4108-a342-905d66bce697",
   "metadata": {},
   "source": [
    "![CDG](../../../images/intro/clim_data_gateway.png)\n",
    "\n",
    "*<p style=\"text-align: center;\"> Figure: Climate Data Gateway Homepage. </p>*"
   ]
  },
  {
   "cell_type": "code",
   "execution_count": null,
   "id": "eeccd871-4162-4b13-a29d-cc9529557043",
   "metadata": {},
   "outputs": [],
   "source": []
  }
 ],
 "metadata": {
  "kernelspec": {
   "display_name": "Bash",
   "language": "bash",
   "name": "bash"
  },
  "language_info": {
   "codemirror_mode": "shell",
   "file_extension": ".sh",
   "mimetype": "text/x-sh",
   "name": "bash"
  }
 },
 "nbformat": 4,
 "nbformat_minor": 5
}
