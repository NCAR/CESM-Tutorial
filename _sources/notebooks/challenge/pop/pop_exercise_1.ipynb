{
 "cells": [
  {
   "cell_type": "markdown",
   "id": "f406f992-92bd-4b17-9bd3-b99c5c8abaf3",
   "metadata": {},
   "source": [
    "# 1: Control case"
   ]
  },
  {
   "cell_type": "markdown",
   "id": "0bdbbd2b-8255-44f3-8c8c-da725d26f845",
   "metadata": {},
   "source": [
    "**NOTE:** Building the control case for the POP challenge exercises is idential to building the control case in the CICE challenge exercises. If you have already completed the CICE challenge exercises you can skip this step."
   ]
  },
  {
   "cell_type": "markdown",
   "id": "6457c1d2-0530-435d-ae27-d0f1eeabe583",
   "metadata": {},
   "source": [
    "<div class=\"alert alert-info\">\n",
    "<strong>Exercise: Run a control case</strong><br><br>\n",
    " \n",
    "Create a case called **g_control** using the compset  ``G``  at ``T62_g37`` resolution. \n",
    "    \n",
    "Set the run length to **1 year**. \n",
    "\n",
    "Build and run the model. Since this is a control case, we want to build it \"out of the box\" without any modifications. \n",
    "\n",
    "</div>\n"
   ]
  },
  {
   "cell_type": "markdown",
   "id": "e2e33a95-e93c-4aca-86d7-1a830cc0562c",
   "metadata": {},
   "source": [
    "<div class=\"alert alert-warning\">  \n",
    "<details>\n",
    "\n",
    "<summary> <font face=\"Times New Roman\" color='blue'>Click here for hints</font> </summary>\n",
    "    \n",
    "**How do I compile?**\n",
    "\n",
    "You can compile with the command:\n",
    "    \n",
    "```\n",
    "qcmd -- ./case.build\n",
    "```\n",
    "\n",
    "**How do I control the output?**\n",
    "\n",
    "Check the following links:\n",
    "\n",
    "* https://www2.cesm.ucar.edu/models/cesm1.2/pop2/doc/faq/#output_tavg_add1\n",
    "* https://www2.cesm.ucar.edu/models/cesm1.2/pop2/doc/faq/#output_tavg_add2\n",
    "\n",
    "**How do I check my solution?**\n",
    "\n",
    "When your run is completed, go to the archive directory. \n",
    "\n",
    "(1) Check that your archive directory contains files *pop.h.*, *pop.h.nday1*, etc\n",
    "\n",
    "\n",
    "(2) Compare the contents of the ``h`` and ``h.nday1`` files using ``ncdump``.\n",
    "\n",
    "```\n",
    "ncdump -h gpop.pop.h.0001-01-01-00000.nc\n",
    "ncdump -h gpop.pop.h.nday1.0001-01-01-00000.nc\n",
    "```\n",
    "\n",
    "(3) Look at the sizes of the files. \n",
    "\n",
    "</details>\n",
    "</div>\n"
   ]
  },
  {
   "cell_type": "markdown",
   "id": "f639e182-f48a-431c-a594-9c34323417eb",
   "metadata": {},
   "source": [
    "<div class=\"alert alert-success\">   \n",
    "<details>\n",
    "<summary><font face=\"Times New Roman\" color='blue'>Click here for the solution</font></summary><br>\n",
    "    \n",
    "Create a new case <font face=\"Courier\" color='purple'><strong>g_control </strong></font> with the command:\n",
    "```\n",
    "cd /glade/work/$USER/code/my_cesm_code/cime/scripts/\n",
    "./create_newcase --case /glade/work/$USER/cases/g_control  --compset G --res T62_g37 \n",
    "```\n",
    "<br>\n",
    "\n",
    "Case <font face=\"Courier\" color='purple'><strong>setup</strong></font>:\n",
    "```    \n",
    "cd ~/cases/g_control \n",
    "./case.setup\n",
    "```\n",
    "<br>\n",
    "\n",
    "Change the <font face=\"Courier\" color='purple'><strong>run length</strong></font>:\n",
    "```   \n",
    "./xmlchange STOP_N=1,STOP_OPTION=nyears\n",
    "```\n",
    "<br>\n",
    "\n",
    "If needed, change <font face=\"Courier\" color='purple'><strong>job queue</strong></font> \n",
    "and <font face=\"Courier\" color='purple'><strong>account number</strong></font>. \n",
    "For instance:\n",
    "```  \n",
    "./xmlchange JOB_QUEUE=regular,PROJECT=UESM0011\n",
    "```\n",
    "<br>\n",
    "\n",
    "Build and submit:\n",
    "```\n",
    "qcmd -- ./case.build\n",
    "./case.submit\n",
    "```\n",
    "<br>\n",
    "\n",
    "When the run is completed, look into the archive directory for: \n",
    "<font face=\"Courier\" color='purple'><strong>g_control</strong></font>.  \n",
    "    \n",
    "(1) Check that your archive directory on cheyenne (The path will be different on other machines): \n",
    "```\n",
    "cd /glade/scratch/$USER/archive/g_control/ocn/hist\n",
    "\n",
    "ls \n",
    "```\n",
    "\n",
    "</details>\n",
    "</div>\n",
    "\n"
   ]
  },
  {
   "cell_type": "code",
   "execution_count": null,
   "id": "dabace0e-c3f2-4c88-b77d-4b28828c0944",
   "metadata": {},
   "outputs": [],
   "source": []
  }
 ],
 "metadata": {
  "kernelspec": {
   "display_name": "NPL 2023b",
   "language": "python",
   "name": "npl-2023b"
  },
  "language_info": {
   "codemirror_mode": {
    "name": "ipython",
    "version": 3
   },
   "file_extension": ".py",
   "mimetype": "text/x-python",
   "name": "python",
   "nbconvert_exporter": "python",
   "pygments_lexer": "ipython3",
   "version": "3.10.12"
  }
 },
 "nbformat": 4,
 "nbformat_minor": 5
}
