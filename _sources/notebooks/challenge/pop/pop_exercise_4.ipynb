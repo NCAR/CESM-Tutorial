{
 "cells": [
  {
   "cell_type": "markdown",
   "id": "f406f992-92bd-4b17-9bd3-b99c5c8abaf3",
   "metadata": {},
   "source": [
    "# 4: Turn on the ecosystem"
   ]
  },
  {
   "cell_type": "markdown",
   "id": "72423b27-32ee-492a-a023-ffd418e2d6ea",
   "metadata": {},
   "source": [
    "You can also explore setting up a similar case but using the ``G1850ECO`` component set. Note how this differs from the previous ``G`` component set we used in Exercise 1. "
   ]
  },
  {
   "cell_type": "markdown",
   "id": "8f13d092-c9d8-4e47-93b2-caf3cb8335d6",
   "metadata": {},
   "source": [
    "![gcase](../../../images/challenge/gecocase.png)\n",
    "\n",
    "*<p style=\"text-align: center;\"> Figure: G1850ECO compset definition. </p>*"
   ]
  },
  {
   "cell_type": "markdown",
   "id": "b90d4773-7ca0-4131-ab07-517608a3e976",
   "metadata": {},
   "source": [
    "<div class=\"alert alert-info\">\n",
    "<strong>Exercise: Run a control case</strong><br><br>\n",
    " \n",
    "Create a case called **g_eco1850** using the compset  ``G1850ECO``  at ``T62_g37`` resolution. \n",
    "    \n",
    "Set the run length to **1 year**. \n",
    "\n",
    "Build and run the model. Since this is a control case, we want to build it \"out of the box\" without any modifications. \n",
    "\n",
    "</div>\n"
   ]
  },
  {
   "cell_type": "markdown",
   "id": "e2e33a95-e93c-4aca-86d7-1a830cc0562c",
   "metadata": {},
   "source": [
    "<div class=\"alert alert-warning\">  \n",
    "<details>\n",
    "\n",
    "<summary> <font face=\"Times New Roman\" color='blue'>Click here for hints</font> </summary>\n",
    "    \n",
    "**How do I compile and run?**\n",
    "\n",
    "You can compile with the command:\n",
    "```\n",
    "qcmd -- ./case.build\n",
    "```\n",
    "\n",
    "You can run with the command:\n",
    "```\n",
    "./case.submit\n",
    "```\n",
    "    \n",
    "**How do I check the lenght of the run?**\n",
    "\n",
    "Use ```xmlquery``` to search for the variables that control the run length\n",
    "\n",
    "</details>\n",
    "</div>"
   ]
  },
  {
   "cell_type": "markdown",
   "id": "f639e182-f48a-431c-a594-9c34323417eb",
   "metadata": {},
   "source": [
    "\n",
    "<div class=\"alert alert-success\">   \n",
    "<details>\n",
    "<summary><font face=\"Times New Roman\" color='blue'>Click here for the solution</font></summary><br>\n",
    "    \n",
    "    \n",
    "Create a new case <font face=\"Courier\" color='purple'><strong>G1850ECO </strong></font> with the command:\n",
    "```\n",
    "cd /glade/work/$USER/code/my_cesm_code/cime/scripts/\n",
    "./create_newcase --case /glade/work/$USER/cases/G1850ECO  --compset G1850ECO --res T62_g37\n",
    "```\n",
    "\n",
    "Case <font face=\"Courier\" color='purple'><strong>setup</strong></font>:\n",
    "```    \n",
    "cd /glade/work/$USER/cases/G1850ECO \n",
    "./case.setup\n",
    "```\n",
    "    \n",
    "Change the <font face=\"Courier\" color='purple'><strong>run length</strong></font>:\n",
    "```   \n",
    "./xmlchange STOP_N=1,STOP_OPTION=nyears\n",
    "```\n",
    "\n",
    "If needed, change <font face=\"Courier\" color='purple'><strong>job queue</strong></font> \n",
    "and <font face=\"Courier\" color='purple'><strong>account number</strong></font>. \n",
    "For instance:\n",
    "```  \n",
    "./xmlchange JOB_QUEUE=regular,PROJECT=UESM0011\n",
    "```\n",
    "\n",
    "Build and submit:\n",
    "```\n",
    "qcmd -- ./case.build\n",
    "./case.submit\n",
    "```\n",
    "\n",
    "When the run is completed, look into the archive directory for: \n",
    "<font face=\"Courier\" color='purple'><strong>G1850ECO</strong></font>.  \n",
    "    \n",
    "(1) Check that your archive directory on cheyenne (The path will be different on otehr machines): \n",
    "```\n",
    "cd /glade/scratch/$USER/archive/G1850ECO/ocn/hist\n",
    "ls \n",
    "```\n",
    "\n",
    "</details>\n",
    "</div>\n",
    "\n"
   ]
  },
  {
   "cell_type": "code",
   "execution_count": null,
   "id": "dce7f4af-243c-47fd-b4d6-c37832aa80fd",
   "metadata": {},
   "outputs": [],
   "source": []
  }
 ],
 "metadata": {
  "kernelspec": {
   "display_name": "NPL 2023b",
   "language": "python",
   "name": "npl-2023b"
  },
  "language_info": {
   "codemirror_mode": {
    "name": "ipython",
    "version": 3
   },
   "file_extension": ".py",
   "mimetype": "text/x-python",
   "name": "python",
   "nbconvert_exporter": "python",
   "pygments_lexer": "ipython3",
   "version": "3.10.12"
  }
 },
 "nbformat": 4,
 "nbformat_minor": 5
}
