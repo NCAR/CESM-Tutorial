{
 "cells": [
  {
   "cell_type": "markdown",
   "id": "f406f992-92bd-4b17-9bd3-b99c5c8abaf3",
   "metadata": {},
   "source": [
    "# 3: Modify wind stress"
   ]
  },
  {
   "cell_type": "markdown",
   "id": "33cdee65-f03f-4c72-adfe-b5ce02416d12",
   "metadata": {},
   "source": [
    "Wind stress plays a critical role in driving ocean currents and is a key factor in shaping the overall patterns of large-scale ocean circulation and, consequentialy, the climate. Further details on how wind stress affects the ocean circulation are discussed in [this](https://doi-org.cuucar.idm.oclc.org/10.1006/rwos.2001.0110) manuscript."
   ]
  },
  {
   "cell_type": "markdown",
   "id": "b90d4773-7ca0-4131-ab07-517608a3e976",
   "metadata": {},
   "source": [
    "<div class=\"alert alert-info\">\n",
    "<strong>Exercise: Increase zonal wind stress</strong><br><br>\n",
    " \n",
    "Create a case called **g_windstress** by cloning the control experiment case. \n",
    "    \n",
    "Verify that the run length is set to **1 year**. \n",
    "\n",
    "Modify the subroutine rotate_wind_stress in forcing_coupled.F90 to increase the first (x) component of the wind stress by 25%.\n",
    "\n",
    "Build and run the model for one year. \n",
    "\n",
    "Compare the simulations using ncview/ncdiff, etc.\n",
    "\n",
    "</div>\n"
   ]
  },
  {
   "cell_type": "markdown",
   "id": "e2e33a95-e93c-4aca-86d7-1a830cc0562c",
   "metadata": {},
   "source": [
    "<div class=\"alert alert-warning\">  \n",
    "<details>\n",
    "\n",
    "<summary> <font face=\"Times New Roman\" color='blue'>Click here for hints</font> </summary>\n",
    "    \n",
    "**How do I compile and run?**\n",
    "\n",
    "You can compile with the command:\n",
    "```\n",
    "qcmd -- ./case.build\n",
    "```\n",
    "\n",
    "You can run with the command:\n",
    "```\n",
    "./case.submit\n",
    "```\n",
    "    \n",
    "**How do I check the lenght of the run?**\n",
    "\n",
    "Use ```xmlquery``` to search for the variables that control the run length\n",
    "\n",
    "</details>\n",
    "</div>"
   ]
  },
  {
   "cell_type": "markdown",
   "id": "f639e182-f48a-431c-a594-9c34323417eb",
   "metadata": {},
   "source": [
    "\n",
    "<div class=\"alert alert-success\">   \n",
    "<details>\n",
    "<summary><font face=\"Times New Roman\" color='blue'>Click here for the solution</font></summary><br>\n",
    "        \n",
    "Clone a new case <font face=\"Courier\" color='purple'><strong>g_windstress </strong></font> from your control experiment with the command:\n",
    "```\n",
    "cd /glade/work/$USER/code/my_cesm_code/cime/scripts/\n",
    "./create_clone --case /glade/work/$USER/cases/g_windstress --clone /glade/work/$USER/cases/g_control\n",
    "```\n",
    "\n",
    "Case <font face=\"Courier\" color='purple'><strong>setup</strong></font>:\n",
    "```    \n",
    "cd /glade/work/$USER/cases/g_windstress\n",
    "./case.setup\n",
    "```\n",
    "\n",
    "Verify that the <font face=\"Courier\" color='purple'><strong>run length</strong></font> is 1 year:\n",
    "```   \n",
    "./xmlquery STOP_N\n",
    "./xmlquery STOP_OPTION\n",
    "```\n",
    "    \n",
    "Copy the forcing_coupled.F90 file from the control case to the ocean SourceMods.\n",
    "``` \n",
    "cp /glade/work/$USER/code/my_cesm_code/components/pop/source/forcing_coupled.F90 /glade/work/$USER/cases/g_windstress/SourceMods/src.pop\n",
    "```   \n",
    "    \n",
    "Edit the file <font face=\"Courier\" color='purple'><strong>forcing_coupled.F90</strong></font> in the rotate_wind_stress routine after ```SMFT(:,:,1,:)``` is defined:\n",
    "    \n",
    "```\n",
    " SMFT(:,:,1,:) = SMFT(:,:,1,:) * 1.25\n",
    "```\n",
    "\n",
    "If needed, change <font face=\"Courier\" color='purple'><strong>job queue</strong></font> \n",
    "and <font face=\"Courier\" color='purple'><strong>account number</strong></font>. \n",
    "For instance:\n",
    "```  \n",
    "./xmlchange JOB_QUEUE=regular,PROJECT=UESM0011\n",
    "```\n",
    "\n",
    "Build and submit:\n",
    "```\n",
    "qcmd -- ./case.build\n",
    "./case.submit\n",
    "```\n",
    "\n",
    "When the run is completed, look into the archive directory for: \n",
    "<font face=\"Courier\" color='purple'><strong>g_windstress</strong></font>.  \n",
    "    \n",
    "(1) Check that your archive directory on cheyenne (The path will be different on otehr machines): \n",
    "```\n",
    "cd /glade/scratch/$user/archive/g_windstress/ocn/hist\n",
    "ls \n",
    "```\n",
    "\n",
    "</details>\n",
    "</div>"
   ]
  },
  {
   "cell_type": "markdown",
   "id": "286e2e7f-ccea-4c5e-acc5-5f9867341102",
   "metadata": {},
   "source": [
    "## Test your understanding"
   ]
  },
  {
   "cell_type": "markdown",
   "id": "63f2688d-9857-4a49-93bf-2b3117ec0d13",
   "metadata": {},
   "source": [
    "- What are the impacts of increased zonal wind stress? \n",
    "- Where do you thinkt he impacts would be largest in the ocean?\n",
    "- How do you think the changes would compare if you increased meridional wind stress?"
   ]
  }
 ],
 "metadata": {
  "kernelspec": {
   "display_name": "NPL 2023b",
   "language": "python",
   "name": "npl-2023b"
  },
  "language_info": {
   "codemirror_mode": {
    "name": "ipython",
    "version": 3
   },
   "file_extension": ".py",
   "mimetype": "text/x-python",
   "name": "python",
   "nbconvert_exporter": "python",
   "pygments_lexer": "ipython3",
   "version": "3.10.12"
  }
 },
 "nbformat": 4,
 "nbformat_minor": 5
}
