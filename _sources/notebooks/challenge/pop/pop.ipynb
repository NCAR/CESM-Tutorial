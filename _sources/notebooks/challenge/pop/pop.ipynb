{
 "cells": [
  {
   "cell_type": "markdown",
   "id": "f406f992-92bd-4b17-9bd3-b99c5c8abaf3",
   "metadata": {},
   "source": [
    "# Ocean\n",
    "\n",
    "The ocean component of CESM is the Parallel Ocean Program (POP).  \n",
    "\n",
    "It can be useful for people interested in ocean science to run simulations with only active sea ice and ocean components and atmospheric forcing. In this exercise, you will learn how to run one of these ice-ocean simulations.\n",
    "\n",
    "This exercise was created by Gustavo Marques."
   ]
  },
  {
   "cell_type": "markdown",
   "id": "45a57a9d-99e1-48c2-a365-b09f3aa40ec0",
   "metadata": {},
   "source": [
    "## Learning Goals"
   ]
  },
  {
   "cell_type": "markdown",
   "id": "a39c7159-f7ee-4515-920f-68a8d345e392",
   "metadata": {},
   "source": [
    "- Student will learn what a G compset is, the types of forcing available to run one, and how to run one.\n",
    "- Student will learn how to make a namelist modification that turns off the overflow parameterization and compare results with a control experiment.\n",
    "- Student will learn how to make a source code modification that changes zonal wind stress and compare results with a control experiment.\n",
    "- Student will learn what a G1850ECO compset is and compare it to the G compset."
   ]
  },
  {
   "cell_type": "markdown",
   "id": "6bcc23d6-04c4-49b2-a809-15badc7b5ff9",
   "metadata": {},
   "source": [
    "## Exercise Details"
   ]
  },
  {
   "cell_type": "markdown",
   "id": "59f7b9fd-7a3d-4b54-b874-61ddc264b102",
   "metadata": {},
   "source": [
    "- This exercise uses the same code base as the rest of the tutorial. \n",
    "- You will be using the G compset at the T62_g37 resolution.\n",
    "- You will run a control simulation and three experimental simulations. Each simulation will be run for one year. \n",
    "- You will then use 'ncview' \\([http://meteora.ucsd.edu/~pierce/ncview_home_page.html](http://meteora.ucsd.edu/~pierce/ncview_home_page.html)\\) to evaluate how the experiments differ from the control simulation."
   ]
  },
  {
   "cell_type": "markdown",
   "id": "f1ed4850-1e61-4b03-b036-69ecaa06f23f",
   "metadata": {},
   "source": [
    "## Useful POP references"
   ]
  },
  {
   "cell_type": "markdown",
   "id": "27190b16-2c11-40a1-94fc-09fe0fbb1a57",
   "metadata": {},
   "source": [
    "<div class=\"alert alert-info\" style=\"text-align: center;\">\n",
    "\n",
    "[CESM POP User's Guide](https://www.cesm.ucar.edu/models/pop)\n",
    "\n",
    "</div>"
   ]
  },
  {
   "cell_type": "markdown",
   "id": "9f4fecc3-e03e-4d35-aecb-7daa16a9acb0",
   "metadata": {
    "tags": []
   },
   "source": [
    "<div class=\"alert alert-info\" style=\"text-align: center;\">\n",
    "\n",
    "[CESM POP Discussion Forum](https://bb.cgd.ucar.edu/cesm/forums/pop.136/)\n",
    "\n",
    "</div>"
   ]
  },
  {
   "cell_type": "markdown",
   "id": "c082b63d-a408-4b01-8fe8-c446d25a1c91",
   "metadata": {},
   "source": [
    "## What is a G case?"
   ]
  },
  {
   "cell_type": "markdown",
   "id": "9ad378a2-89e1-4afe-ad88-e0c0759b9864",
   "metadata": {},
   "source": [
    "The G compset has active and coupled ocean and sea-ice components. The G compset requires boundary forcing from the atmosphere. The G compset is forced with atmospheric data that does not change interactively as the ocean and sea-ice evolve in time. The land and land ice are not active during a G compset experiment and the runoff is specified. "
   ]
  },
  {
   "cell_type": "markdown",
   "id": "3ce9e152-c915-4e18-8199-040a26cf68c5",
   "metadata": {},
   "source": [
    "![gcase](../../../images/challenge/gcase.png)\n",
    "\n",
    "*<p style=\"text-align: center;\"> Figure: G compset definition. </p>*"
   ]
  },
  {
   "cell_type": "markdown",
   "id": "346ef398-2703-4990-9387-d9006e75c5e6",
   "metadata": {},
   "source": [
    "<div class=\"alert alert-info\" style=\"text-align: center;\">\n",
    "\n",
    "[Component Set Definitions](https://www2.cesm.ucar.edu/models/cesm2/config/compsets.html)\n",
    "\n",
    "</div>"
   ]
  },
  {
   "cell_type": "markdown",
   "id": "cecd306b-bc35-48e2-8b47-fec1362616cc",
   "metadata": {},
   "source": [
    "## G Compset forcing data"
   ]
  },
  {
   "cell_type": "markdown",
   "id": "b6e0b74a-4578-40b3-8af1-920e6bacffc4",
   "metadata": {},
   "source": [
    "There are two types of temporal forcing for G compsets:\n",
    "- Normal Year Forcing (NYF) is 12 months of atmospheric data (like a climatology) that repeats every year. NYF is the default forcing.\n",
    "- Interannual varying forcing (GIAF) is forcing that varies by year over the time period (1948-2017). \n",
    "\n",
    "There are two datasets that can be used for G compsets:\n",
    "- JRA55-do atmospheric data \\([Tsujino et al. 2018](https://doi.org/10.1016/j.ocemod.2018.07.002)\\)\n",
    "- Coordinated Ocean-ice Reference Experiments (CORE) version 2 atmospheric data \\([Large and Yeager 2009](http://doi.org/10.1007/s00382-008-0441-3)\\).\n",
    "\n",
    "In these exercises we will use the CORE NYF."
   ]
  },
  {
   "cell_type": "markdown",
   "id": "e77543f2-6f2a-4d29-8919-827a2d7f96e6",
   "metadata": {},
   "source": [
    "## Post processing and viewing your output"
   ]
  },
  {
   "cell_type": "markdown",
   "id": "221e2616-682c-44e5-835d-0fce3603555d",
   "metadata": {},
   "source": [
    "1) You can create an annual average of the first year's data for each simulationg using the `ncra` (netCDF averager) command from the netCDF operators package \\([NCO](https://nco.sourceforge.net/)\\). \n",
    "```\n",
    "ncra $OUTPUT_DIR/*.pop.h.0001*nc $CASENAME.pop.h.0001.nc\n",
    "```\n",
    "\n",
    "2) Create a file that contains differences between each of the experiments and the control simulation\n",
    "```\n",
    "ncdiff $CASENAME.pop.h.0001.nc $CONTROLCASE.pop.h.0001.nc $CASENAME_diff.nc\n",
    "```\n",
    "\n",
    "3) Examine variables within each annual mean and the difference files using `ncview`\n",
    "```\n",
    "ncview $CASENAME_diff.nc\n",
    "```\n",
    "\n",
    "4) You can also look at other monthly-mean outputs or component log files."
   ]
  }
 ],
 "metadata": {
  "kernelspec": {
   "display_name": "Python 3 (ipykernel)",
   "language": "python",
   "name": "python3"
  },
  "language_info": {
   "codemirror_mode": {
    "name": "ipython",
    "version": 3
   },
   "file_extension": ".py",
   "mimetype": "text/x-python",
   "name": "python",
   "nbconvert_exporter": "python",
   "pygments_lexer": "ipython3",
   "version": "3.9.12"
  }
 },
 "nbformat": 4,
 "nbformat_minor": 5
}
