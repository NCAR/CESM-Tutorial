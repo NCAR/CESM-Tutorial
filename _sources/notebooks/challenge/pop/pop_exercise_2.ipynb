{
 "cells": [
  {
   "cell_type": "markdown",
   "id": "f406f992-92bd-4b17-9bd3-b99c5c8abaf3",
   "metadata": {},
   "source": [
    "# 2: Turn off parameterization"
   ]
  },
  {
   "cell_type": "markdown",
   "id": "33cdee65-f03f-4c72-adfe-b5ce02416d12",
   "metadata": {},
   "source": [
    "Oceanic overflows are dense currents originating in semienclosed basins or continental shelves. They contribute to the formation of abyssal waters and play a crucial role in large-scale ocean circulation. When these dense currents flow down the continental slope, they undergo intense mixing with the surrounding (ambient) ocean waters, causing significant changes in their density and transport (see figure below). However, these mixing processes occur on scales that are smaller than what ocean climate models can accurately capture, leading to poor simulations of deep waters and deep western boundary currents. To improve the representation of overflows some ocean climate models rely on overflow paramterizations, such as the one developed for the POP model (check [this](https://echorock.cgd.ucar.edu/staff/gokhan/OFP_Tech_Note.pdf) report for additional information). \n",
    "\n",
    "![overflows](../../../images/challenge/overflows.png)\n",
    "\n",
    "\n",
    "*<p style=\"text-align: left;\"> Figure: Physical processes acting in overflows (from [Legg et al., 2009](https://doi-org.cuucar.idm.oclc.org/10.1175/2008BAMS2667.1)) </p>*"
   ]
  },
  {
   "cell_type": "markdown",
   "id": "b90d4773-7ca0-4131-ab07-517608a3e976",
   "metadata": {},
   "source": [
    "<div class=\"alert alert-info\">\n",
    "<strong>Exercise: Turn off overflow parameterization</strong><br><br>\n",
    " \n",
    "Create a case called **g_overflows** by cloning the control experiment case. \n",
    "    \n",
    "Verify that the run length is set to **1 year**. \n",
    "\n",
    "In user_nl_pop make the following modifications:``overflows_on = .false.`` and ``overflows_interactive = .false.``\n",
    "\n",
    "Build and run the model for one year. \n",
    "\n",
    "Compare the simulations using ncview/ncdiff, etc.\n",
    "\n",
    "</div>\n"
   ]
  },
  {
   "cell_type": "markdown",
   "id": "e2e33a95-e93c-4aca-86d7-1a830cc0562c",
   "metadata": {},
   "source": [
    "<div class=\"alert alert-warning\">  \n",
    "<details>\n",
    "\n",
    "<summary> <font face=\"Times New Roman\" color='blue'>Click here for hints</font> </summary>\n",
    "    \n",
    "**How do I compile and run?**\n",
    "\n",
    "You can compile with the command:\n",
    "```\n",
    "qcmd -- ./case.build\n",
    "```\n",
    "\n",
    "You can run with the command:\n",
    "```\n",
    "./case.submit\n",
    "```\n",
    "    \n",
    "**How do I check the lenght of the run?**\n",
    "\n",
    "Use ```xmlquery``` to search for the variables that control the run length\n",
    "\n",
    "</details>\n",
    "</div>\n"
   ]
  },
  {
   "cell_type": "markdown",
   "id": "f639e182-f48a-431c-a594-9c34323417eb",
   "metadata": {},
   "source": [
    "\n",
    "<div class=\"alert alert-success\">   \n",
    "<details>\n",
    "<summary><font face=\"Times New Roman\" color='blue'>Click here for the solution</font></summary><br>\n",
    "        \n",
    "Clone a new case <font face=\"Courier\" color='purple'><strong>g_overflows </strong></font> from your control experiment with the command:\n",
    "```\n",
    "cd /glade/work/$USER/code/my_cesm_code/cime/scripts/\n",
    "./create_clone --case /glade/work/$USER/cases/g_overflows --clone /glade/work/$USER/cases/g_control\n",
    "```\n",
    "\n",
    "Case <font face=\"Courier\" color='purple'><strong>setup</strong></font>:\n",
    "```    \n",
    "cd /glade/work/$USER/cases/g_overflows\n",
    "./case.setup\n",
    "```\n",
    "\n",
    "Verify that the <font face=\"Courier\" color='purple'><strong>run length</strong></font> is 1 year:\n",
    "```   \n",
    "./xmlquery STOP_N\n",
    "./xmlquery STOP_OPTION\n",
    "```\n",
    "    \n",
    "Edit the file <font face=\"Courier\" color='purple'><strong>user_nl_pop</strong></font> and add the lines:\n",
    "```\n",
    " overflows_on = .false.\n",
    " overflows_interactive = .false.\n",
    "```\n",
    "\n",
    "If needed, change <font face=\"Courier\" color='purple'><strong>job queue</strong></font> \n",
    "and <font face=\"Courier\" color='purple'><strong>account number</strong></font>. \n",
    "For instance:\n",
    "```  \n",
    "./xmlchange JOB_QUEUE=regular,PROJECT=UESM0011\n",
    "```\n",
    "\n",
    "Build and submit:\n",
    "```\n",
    "qcmd -- ./case.build\n",
    "./case.submit\n",
    "```\n",
    "\n",
    "When the run is completed, look into the archive directory for: \n",
    "<font face=\"Courier\" color='purple'><strong>g_overflows</strong></font>.  \n",
    "    \n",
    "(1) Check that your archive directory on cheyenne (The path will be different on otehr machines): \n",
    "```\n",
    "cd /glade/scratch/$USER/archive/g_overflows/ocn/hist\n",
    "ls \n",
    "```\n",
    "\n",
    "</details>\n",
    "</div>\n",
    "\n"
   ]
  },
  {
   "cell_type": "markdown",
   "id": "f19ab341-b76b-462b-9bc9-49d4793ed409",
   "metadata": {},
   "source": [
    "## Test your understanding"
   ]
  },
  {
   "cell_type": "markdown",
   "id": "31d67bb4-3e04-459e-a6ac-866ee9224776",
   "metadata": {},
   "source": [
    "- What variables do you expect to change when you turn off the overflow parameterization?\n",
    "- What variables show a difference between this experiment and the control difference? How different are they?"
   ]
  }
 ],
 "metadata": {
  "kernelspec": {
   "display_name": "Python 3 (ipykernel)",
   "language": "python",
   "name": "python3"
  },
  "language_info": {
   "codemirror_mode": {
    "name": "ipython",
    "version": 3
   },
   "file_extension": ".py",
   "mimetype": "text/x-python",
   "name": "python",
   "nbconvert_exporter": "python",
   "pygments_lexer": "ipython3",
   "version": "3.9.12"
  }
 },
 "nbformat": 4,
 "nbformat_minor": 5
}
