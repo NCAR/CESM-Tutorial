{
 "cells": [
  {
   "cell_type": "markdown",
   "id": "f406f992-92bd-4b17-9bd3-b99c5c8abaf3",
   "metadata": {},
   "source": [
    "# 3: Modify input data"
   ]
  },
  {
   "cell_type": "markdown",
   "id": "0037b73f-f174-48e7-8e4f-0744d7d23fe0",
   "metadata": {},
   "source": [
    "We can modify the input to CLM by changing one of the plant functional type properties. We will then compare these results with the control experiment.\n",
    "\n",
    "Note that you will need to change a netcdf file for this exercise. Because netcdf are in binary format you will need a type of script or interperter to read the file and write it out again. (e.g. ferret, IDL, NCL, NCO, Perl, Python, Matlab, Yorick). Below in the solution we will show how to do this using NCO.\n",
    "\n",
    "NOTE: For any tasks other than setting up, building, submitting cases you should probably do these tasks on the Data Visualization Cluster - Casper, and not on the Cheyenne login nodes."
   ]
  },
  {
   "cell_type": "markdown",
   "id": "b90d4773-7ca0-4131-ab07-517608a3e976",
   "metadata": {},
   "source": [
    "<div class=\"alert alert-info\">\n",
    "<strong>Exercise: Run an experimental case</strong><br><br>\n",
    " \n",
    "Create a case called **i.day5.a_pft** using the compset `I2000Clm50Sp` at `f09_g17_gl4` resolution. \n",
    "\n",
    "Look at variable “rholvis” in the forcing file using ncview or ncdump –v rholvis. This is the visible leaf reflectance for every pft. Modify the rholvis parameter to .\n",
    "`/glade/p/cesmdata/cseg/inputdata/lnd/clm2/paramdata/clm5_params.c171117.nc`\n",
    "    \n",
    "Set the run length to **5 days**. \n",
    "\n",
    "Build and run the model.\n",
    "    \n",
    "</div>"
   ]
  },
  {
   "cell_type": "markdown",
   "id": "f639e182-f48a-431c-a594-9c34323417eb",
   "metadata": {},
   "source": [
    "\n",
    "\n",
    "<div class=\"alert alert-success\">   \n",
    "<details>\n",
    "<summary><font face=\"Times New Roman\" color='blue'>Click here for the solution</font></summary><br>\n",
    "        \n",
    "Create a clone from the control experiment <font face=\"Courier\" color='purple'><strong>i.day5.a_pft </strong></font>:\n",
    "```\n",
    "cd /glade/work/$USER/code/my_cesm_code/cime/scripts\n",
    "./create_clone --case ~/cases/i.day5.a_pft --clone ~/cases/i.day5.a\n",
    "```\n",
    "<br>\n",
    "\n",
    "Modify the <font face=\"Courier\" color='purple'><strong>rholvis</strong></font> parameter in the physiology file:\n",
    "```    \n",
    "cd /glade/scratch/$USER\n",
    "cp /glade/p/cesmdata/cseg/inputdata/lnd/clm2/paramdata/clm5_params.c171117.nc .\n",
    "chmod u+w clm5_params.c171117.nc\n",
    "cp clm5_params.c171117.nc clm5_params.c171117.new.nc\n",
    "ncap2 -A -v -s 'rholvis(4)=0.4' clm5_params.c171117.nc clm5_params.c171117.new.nc\n",
    "```\n",
    "<br>\n",
    "\n",
    "Check the new <font face=\"Courier\" color='purple'><strong>rholvis</strong></font> parameter to be sure the modification worked:\n",
    "```   \n",
    "ncdump -v rholvis clm5_params.c171117.new.nc\n",
    "# and compare it to the original file\n",
    "ncdiff clm5_params.c171117.nc clm5_params.c171117.new.nc ncdiff.nc\n",
    "ncdump -v rholvis ncdiff.nc\n",
    "```\n",
    "<br>\n",
    "    \n",
    "Case <font face=\"Courier\" color='purple'><strong>setup</strong></font>:\n",
    "```    \n",
    "cd ~/cases/i.day5.a_pft\n",
    "./case.setup\n",
    "```\n",
    "<br>\n",
    "\n",
    "Change the <font face=\"Courier\" color='purple'><strong>clm namelist</strong></font> using user_nl_clm to point at the modified file. Add the following line:\n",
    "```   \n",
    "paramfile = '/glade/scratch/$USER/clm5_params.c171117.new.nc' \n",
    "```\n",
    "<br>   \n",
    "    \n",
    "Check the namelist by running:\n",
    "```   \n",
    "./preview_namelists\n",
    "```\n",
    "<br>\n",
    "\n",
    "If needed, change <font face=\"Courier\" color='purple'><strong>job queue</strong></font>, <font face=\"Courier\" color='purple'><strong>account number</strong></font>, or <font face=\"Courier\" color='purple'><strong>wallclock time</strong></font>. \n",
    "For instance:\n",
    "```  \n",
    "./xmlchange JOB_QUEUE=regular,PROJECT=UESM0012,JOB_WALLCLOCK_TIME=0:15:00\n",
    "```\n",
    "<br>\n",
    "\n",
    "Build case:\n",
    "```\n",
    "qcmd -- ./case.build\n",
    "```\n",
    "<br>\n",
    "    \n",
    "Compare the namelists from the two experiments:\n",
    "```\n",
    "diff CaseDocs/lnd_in ../i.day5.a/CaseDocs/lnd_in\n",
    "```\n",
    "<br>\n",
    "    \n",
    "Submit case:\n",
    "```\n",
    "./case.submit\n",
    "```\n",
    "<br>\n",
    "\n",
    "When the run is completed, look into the archive directory for: \n",
    "<font face=\"Courier\" color='purple'><strong>i.day5.a</strong></font>.  \n",
    "    \n",
    "(1) Check that your archive directory on cheyenne (The path will be different on otehr machines): \n",
    "```\n",
    "cd /glade/scratch/$USER/archive/i.day5.a_pft/lnd/hist\n",
    "\n",
    "ls \n",
    "```\n",
    "<br>\n",
    "\n",
    "(2) Compare to control run:\n",
    "```\n",
    "ncdiff i.day5.a_pft.clm2.XXX.nc /glade/scratch/$USER/archive/i.day5.a/lnd/hist/i.day5.a.clm2.XXX.nc i_diff.nc\n",
    "\n",
    "ncview i_diff.nc\n",
    "```\n",
    "\n",
    "\n",
    "</details>\n",
    "</div>"
   ]
  },
  {
   "cell_type": "markdown",
   "id": "b3ffd3cc-676e-4e7c-9ff4-cd65d4745397",
   "metadata": {
    "tags": []
   },
   "source": [
    "## Test your understanding"
   ]
  },
  {
   "cell_type": "markdown",
   "id": "03ac3664-5360-45d7-a3ad-0797a839a1d3",
   "metadata": {},
   "source": [
    "- How did rholvis change (increase/decrease)? Given this, what do you expect the model response to be?\n",
    "- What changes do you see from the control case with the modified rholvis parameter?\n",
    "- ... OTHERS?  "
   ]
  },
  {
   "cell_type": "code",
   "execution_count": null,
   "id": "27f332b2-5799-43a8-9060-50315ebdf6dc",
   "metadata": {},
   "outputs": [],
   "source": []
  }
 ],
 "metadata": {
  "kernelspec": {
   "display_name": "CMIP6 2019.10",
   "language": "python",
   "name": "cmip6-201910"
  },
  "language_info": {
   "codemirror_mode": {
    "name": "ipython",
    "version": 3
   },
   "file_extension": ".py",
   "mimetype": "text/x-python",
   "name": "python",
   "nbconvert_exporter": "python",
   "pygments_lexer": "ipython3",
   "version": "3.7.10"
  }
 },
 "nbformat": 4,
 "nbformat_minor": 5
}
