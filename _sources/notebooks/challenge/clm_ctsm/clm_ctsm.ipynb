{
 "cells": [
  {
   "cell_type": "markdown",
   "id": "f406f992-92bd-4b17-9bd3-b99c5c8abaf3",
   "metadata": {},
   "source": [
    "# Land\n",
    "\n",
    "The land component of CESM is the Community Land Model (CLM), also refered to as the Community Terrestrial Systems Model (CTSM).\n",
    "\n",
    "It can be useful for people interested in land science to run simulations with only an active land components and atmospheric forcing. In this exercise, you will learn how to run one of these land-only simulations.\n",
    "\n",
    "This exercise was created by Peter Lawrence, Erik Kluzek and Alice DuVivier."
   ]
  },
  {
   "cell_type": "markdown",
   "id": "ea051c12-642e-4194-8291-2c1924d2e1e8",
   "metadata": {},
   "source": [
    "## Learning Goals"
   ]
  },
  {
   "cell_type": "markdown",
   "id": "346cbd7b-3b8e-41f0-b120-b369ab20f6cc",
   "metadata": {},
   "source": [
    "- Student will learn what a I compset is, the types of forcing available to run one, and how to run one.\n",
    "- Student will learn how to run a case with satellite phenology and one with prognostic crops and compare the two experiments.\n",
    "- Learn what inputs CLM needs and what they look like.\n"
   ]
  },
  {
   "cell_type": "markdown",
   "id": "47c3af32-d018-441e-bcb0-c74e86ef4272",
   "metadata": {},
   "source": [
    "## Exercise Details"
   ]
  },
  {
   "cell_type": "markdown",
   "id": "df216c41-3ec4-43e0-b7bd-be2b1e4294bd",
   "metadata": {},
   "source": [
    "- This exercise uses the same code base as the rest of the tutorial. \n",
    "- You will be using the I2000Clm50Sp and IHistClm50BgcCrop compsets at the f09_g17_gl4 resolution.\n",
    "- You will run a control simulation and two experimental simulations. \n",
    "- You will modify netcdf input files. \n",
    "- You will use simple, command line netcdf tools to evaluate how the experiments differ from the control simulation."
   ]
  },
  {
   "cell_type": "markdown",
   "id": "fd2ff959-6ec0-4534-8713-f5dfdb13b955",
   "metadata": {},
   "source": [
    "## Useful CLM references"
   ]
  },
  {
   "cell_type": "markdown",
   "id": "baa2afd1-4289-4baf-8bdf-83de7592d76b",
   "metadata": {},
   "source": [
    "<div class=\"alert alert-info\" style=\"text-align: center;\">\n",
    "\n",
    "[CESM CLM/CTSM User's Guide](https://escomp.github.io/ctsm-docs/versions/master/html/users_guide/index.html)\n",
    "\n",
    "</div>"
   ]
  },
  {
   "cell_type": "markdown",
   "id": "523878ee-2bfa-4363-a8ec-5ff151b15d57",
   "metadata": {
    "tags": []
   },
   "source": [
    "<div class=\"alert alert-info\" style=\"text-align: center;\">\n",
    "\n",
    "[CESM CLM/CTSM Discussion Forum](https://bb.cgd.ucar.edu/cesm/forums/ctsm-clm-mosart-rtm.134/)\n",
    "\n",
    "</div>"
   ]
  },
  {
   "cell_type": "markdown",
   "id": "cb8a0e10-a920-41dd-8bc4-5c03395d231e",
   "metadata": {},
   "source": [
    "## What is an I case?"
   ]
  },
  {
   "cell_type": "markdown",
   "id": "69988cae-fd26-4fda-8fee-6ab52e79f42d",
   "metadata": {},
   "source": [
    "The I compset has active clm with a data atmosphere. The sea ice, ocean, atmosphere, and wave models are not active. There are two types of options for I compsets:\n",
    "- SP: Satellite Phenology\n",
    "- BGC: Biogeochemistry \n",
    "\n",
    "We will use the Satellite Phenology option for our control case."
   ]
  },
  {
   "cell_type": "markdown",
   "id": "68ca54e2-d8ad-41bc-be8f-31a85eec6e65",
   "metadata": {},
   "source": [
    "![icase](../../../images/challenge/i2000.png)\n",
    "\n",
    "*<p style=\"text-align: center;\"> Figure: I2000 compset definition. </p>*"
   ]
  },
  {
   "cell_type": "markdown",
   "id": "c93817fd-8031-4917-bf45-eb0f442578f9",
   "metadata": {},
   "source": [
    "<div class=\"alert alert-info\" style=\"text-align: center;\">\n",
    "\n",
    "[I Compset definition](https://www2.cesm.ucar.edu/models/cesm2/config/compsets.html)\n",
    "\n",
    "</div>"
   ]
  },
  {
   "cell_type": "markdown",
   "id": "da3d9215-30c1-4152-abc0-ccb1e709cde3",
   "metadata": {},
   "source": [
    "## Post processing and viewing your output\n",
    "\n",
    "You will use [ncview](https://ncar.github.io/CESM-Tutorial/notebooks/tools/netcdf_tools.html#ncview) and [NCO operator](https://ncar.github.io/CESM-Tutorial/notebooks/tools/netcdf_tools.html#netcdf-operators-nco) tools to evaluate how the experiments differ from the control simulation.\n",
    "\n",
    "These tools will need to be loaded into your environment using the NCAR HPC [modules](https://ncar.github.io/CESM-Tutorial/notebooks/tools/unix/modules.html)."
   ]
  },
  {
   "cell_type": "markdown",
   "id": "828e538d-3558-4747-9b61-3b29da04e294",
   "metadata": {},
   "source": [
    "1) You can create an annual average of the first year's data for each simulationg using the `ncra` (netCDF averager) command from the netCDF operators package \\([NCO](https://nco.sourceforge.net/)\\). \n",
    "```\n",
    "ncra $OUTPUT_DIR/*.clm.*nc $CASENAME.cln.h.0001.nc\n",
    "```\n",
    "\n",
    "2) Create a file that contains differences between each of the experiments and the control simulation\n",
    "```\n",
    "ncdiff i.day5.b.clm2.XXX.nc /glade/scratch/$user/archive/i.day5.a/lnd/hist/i.day5.a.clm2.XXX.nc i_diff.nc\n",
    "```\n",
    "\n",
    "3) Examine variables within each annual mean and the difference files using `ncview`\n",
    "```\n",
    "ncview i_diff.nc\n",
    "```\n",
    "\n",
    "4) You can also look at other monthly-mean outputs or component log files."
   ]
  },
  {
   "cell_type": "code",
   "execution_count": null,
   "id": "b0a882d4-0c0e-4d2e-b59f-df2a648fa93d",
   "metadata": {},
   "outputs": [],
   "source": []
  }
 ],
 "metadata": {
  "kernelspec": {
   "display_name": "CMIP6 2019.10",
   "language": "python",
   "name": "cmip6-201910"
  },
  "language_info": {
   "codemirror_mode": {
    "name": "ipython",
    "version": 3
   },
   "file_extension": ".py",
   "mimetype": "text/x-python",
   "name": "python",
   "nbconvert_exporter": "python",
   "pygments_lexer": "ipython3",
   "version": "3.7.10"
  }
 },
 "nbformat": 4,
 "nbformat_minor": 5
}
