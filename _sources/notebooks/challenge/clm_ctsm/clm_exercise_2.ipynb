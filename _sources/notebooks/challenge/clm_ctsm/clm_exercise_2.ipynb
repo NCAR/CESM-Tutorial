{
 "cells": [
  {
   "cell_type": "markdown",
   "id": "f406f992-92bd-4b17-9bd3-b99c5c8abaf3",
   "metadata": {},
   "source": [
    "# 2: Use the BGC model"
   ]
  },
  {
   "cell_type": "markdown",
   "id": "0037b73f-f174-48e7-8e4f-0744d7d23fe0",
   "metadata": {},
   "source": [
    "We can use a different I compset: IHistClm50BgcCrop. This experiment is a 20th century transient run using GSWP3v1 and the biogeochemistry model including crops."
   ]
  },
  {
   "cell_type": "markdown",
   "id": "bdd131c8-d1ec-4568-81dd-701f8bdbe6cb",
   "metadata": {},
   "source": [
    "![icase](../../../images/challenge/ihist.png)\n",
    "\n",
    "*<p style=\"text-align: center;\"> Figure: IHIST compset definition. </p>*"
   ]
  },
  {
   "cell_type": "markdown",
   "id": "b90d4773-7ca0-4131-ab07-517608a3e976",
   "metadata": {},
   "source": [
    "<div class=\"alert alert-info\">\n",
    "<strong>Exercise: Run an experimental case with prognostic BGC</strong><br><br>\n",
    " \n",
    "Create a case called **i.day5.b** using the compset `IHistClm50BgcCrop` at `f09_g17_gl4` resolution. \n",
    "    \n",
    "Set the run length to **5 days**. \n",
    "\n",
    "Build and run the model.\n",
    "    \n",
    "</div>"
   ]
  },
  {
   "cell_type": "markdown",
   "id": "f639e182-f48a-431c-a594-9c34323417eb",
   "metadata": {},
   "source": [
    "\n",
    "\n",
    "<div class=\"alert alert-success\">   \n",
    "<details>\n",
    "<summary><font face=\"Times New Roman\" color='blue'>Click here for the solution</font></summary><br>\n",
    "        \n",
    "Create a new case <font face=\"Courier\" color='purple'><strong>i.day5.b </strong></font>:\n",
    "```\n",
    "cd /glade/work/$USER/code/my_cesm_code/cime/scripts\n",
    "./create_newcase --case ~/cases/i.day5.b --compset IHistClm50BgcCrop --res f09_g17_gl4 --run-unsupported\n",
    "```\n",
    "<br>\n",
    "\n",
    "Case <font face=\"Courier\" color='purple'><strong>setup</strong></font>:\n",
    "```    \n",
    "cd ~/cases/i.day5.b\n",
    "./case.setup\n",
    "```\n",
    "<br>\n",
    "\n",
    "Note differences between this case and the control case:\n",
    "```   \n",
    "diff env_run.xml ../i.day5.a/env_run.xml\n",
    "```\n",
    "<br>\n",
    "\n",
    "Change the <font face=\"Courier\" color='purple'><strong>clm namelist</strong></font> using user_nl_clm by adding the following lines:\n",
    "```   \n",
    "hist_nhtfrq = -24\n",
    "hist_mfilt = 6\n",
    "```\n",
    "<br>\n",
    "    \n",
    "Check the namelist by running:\n",
    "```   \n",
    "./preview_namelists\n",
    "```\n",
    "<br>\n",
    "\n",
    "If needed, change <font face=\"Courier\" color='purple'><strong>job queue</strong></font>, <font face=\"Courier\" color='purple'><strong>account number</strong></font>, or <font face=\"Courier\" color='purple'><strong>wallclock time</strong></font>. \n",
    "For instance:\n",
    "```  \n",
    "./xmlchange JOB_QUEUE=regular,PROJECT=UESM0012,JOB_WALLCLOCK_TIME=0:15:00\n",
    "```\n",
    "<br>\n",
    "\n",
    "Build case:\n",
    "```\n",
    "qcmd -- ./case.build\n",
    "```\n",
    "<br>\n",
    "    \n",
    "Compare the namelists from the two experiments:\n",
    "```\n",
    "diff CaseDocs/lnd_in ../i.day5.a/CaseDocs/lnd_in\n",
    "```\n",
    "<br>\n",
    "    \n",
    "Submit case:\n",
    "```\n",
    "./case.submit\n",
    "```\n",
    "<br>\n",
    "\n",
    "When the run is completed, look into the archive directory for: \n",
    "<font face=\"Courier\" color='purple'><strong>i.day5.b</strong></font>.  \n",
    "    \n",
    "(1) Check that your archive directory on cheyenne (The path will be different on other machines): \n",
    "```\n",
    "cd /glade/scratch/$USER/archive/i.day5.b/lnd/hist\n",
    "\n",
    "ls \n",
    "```\n",
    "<br>\n",
    "\n",
    "    \n",
    "(2) Compare to control run:\n",
    "```\n",
    "ncdiff -v TLAI i.day5.b.clm2.XXX.nc /glade/scratch/$USER/archive/i.day5.a/lnd/hist/i.day5.a.clm2.XXX.nc i_diff.nc\n",
    "\n",
    "ncview i_diff.nc\n",
    "```\n",
    "\n",
    "\n",
    "</details>\n",
    "</div>\n"
   ]
  },
  {
   "cell_type": "markdown",
   "id": "d69c456a-fdc6-4625-bbcc-ed32ab6ae8e8",
   "metadata": {
    "tags": []
   },
   "source": [
    "## Test your understanding"
   ]
  },
  {
   "cell_type": "markdown",
   "id": "b3f28ecf-02b8-4cc0-bdc4-c36c8fc9e7aa",
   "metadata": {},
   "source": [
    "- What changes do you see from the control case with the prognostic BGC?\n",
    "- ... OTHERS?"
   ]
  },
  {
   "cell_type": "code",
   "execution_count": null,
   "id": "5b5a8cee-0ca9-4076-a731-e6ec200b70d4",
   "metadata": {},
   "outputs": [],
   "source": []
  }
 ],
 "metadata": {
  "kernelspec": {
   "display_name": "CMIP6 2019.10",
   "language": "python",
   "name": "cmip6-201910"
  },
  "language_info": {
   "codemirror_mode": {
    "name": "ipython",
    "version": 3
   },
   "file_extension": ".py",
   "mimetype": "text/x-python",
   "name": "python",
   "nbconvert_exporter": "python",
   "pygments_lexer": "ipython3",
   "version": "3.7.10"
  }
 },
 "nbformat": 4,
 "nbformat_minor": 5
}
