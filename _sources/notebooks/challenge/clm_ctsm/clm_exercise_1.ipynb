{
 "cells": [
  {
   "cell_type": "markdown",
   "id": "f406f992-92bd-4b17-9bd3-b99c5c8abaf3",
   "metadata": {},
   "source": [
    "# 1: Control case"
   ]
  },
  {
   "cell_type": "markdown",
   "id": "6457c1d2-0530-435d-ae27-d0f1eeabe583",
   "metadata": {},
   "source": [
    "<div class=\"alert alert-info\">\n",
    "<strong>Exercise: Run a control case</strong><br><br>\n",
    " \n",
    "Create a case called **i.day5.a** using the compset `I2000Clm50Sp` at `f09_g17_gl4` resolution. \n",
    "    \n",
    "Set the run length to **5 days**. \n",
    "\n",
    "Build and run the model. Since this is a control case, we want to build it \"out of the box\" without any modifications. \n",
    "\n",
    "</div>\n"
   ]
  },
  {
   "cell_type": "markdown",
   "id": "f639e182-f48a-431c-a594-9c34323417eb",
   "metadata": {},
   "source": [
    "\n",
    "<div class=\"alert alert-success\">   \n",
    "<details>\n",
    "<summary><font face=\"Times New Roman\" color='blue'>Click here for the solution</font></summary><br>\n",
    "    \n",
    "Create a new case <font face=\"Courier\" color='purple'><strong>i.day5.a </strong></font> with the command:\n",
    "```\n",
    "cd /glade/work/$USER/code/my_cesm_code/cime/scripts\n",
    "./create_newcase --case ~/cases/i.day5.a --compset I2000Clm50Sp --res f09_g17_gl4 --run-unsupported\n",
    "```\n",
    "<br>\n",
    "\n",
    "Case <font face=\"Courier\" color='purple'><strong>setup</strong></font>:\n",
    "```    \n",
    "cd ~/cases/i.day5.a \n",
    "./case.setup\n",
    "```\n",
    "<br>\n",
    "\n",
    "Change the <font face=\"Courier\" color='purple'><strong>clm namelist</strong></font> using user_nl_clm by adding the following lines:\n",
    "```   \n",
    "hist_nhtfrq = -24\n",
    "hist_mfilt = 6\n",
    "```\n",
    "<br>\n",
    "    \n",
    "Check the namelist by running:\n",
    "```   \n",
    "./preview_namelists\n",
    "```\n",
    "<br>\n",
    "\n",
    "If needed, change <font face=\"Courier\" color='purple'><strong>job queue</strong></font>, <font face=\"Courier\" color='purple'><strong>account number</strong></font>, or <font face=\"Courier\" color='purple'><strong>wallclock time</strong></font>. \n",
    "For instance:\n",
    "```  \n",
    "./xmlchange JOB_QUEUE=regular,PROJECT=UESM0012,JOB_WALLCLOCK_TIME=0:15:00\n",
    "```\n",
    "<br>\n",
    "\n",
    "Build and submit:\n",
    "```\n",
    "qcmd -- ./case.build\n",
    "./case.submit\n",
    "```\n",
    "<br>\n",
    "\n",
    "When the run is completed, look into the archive directory for: \n",
    "<font face=\"Courier\" color='purple'><strong>i.day5.a</strong></font>.  \n",
    "    \n",
    "(1) Check that your archive directory on cheyenne (The path will be different on otehr machines): \n",
    "```\n",
    "cd /glade/scratch/$USER/archive/i.day5.a/lnd/hist\n",
    "\n",
    "ls \n",
    "```\n",
    "<br>\n",
    "\n",
    "(2) Look at the output using ncview\n"
   ]
  },
  {
   "cell_type": "code",
   "execution_count": null,
   "id": "17cf7e19-1211-45f2-97cd-fe2badc69dac",
   "metadata": {},
   "outputs": [],
   "source": []
  }
 ],
 "metadata": {
  "kernelspec": {
   "display_name": "CMIP6 2019.10",
   "language": "python",
   "name": "cmip6-201910"
  },
  "language_info": {
   "codemirror_mode": {
    "name": "ipython",
    "version": 3
   },
   "file_extension": ".py",
   "mimetype": "text/x-python",
   "name": "python",
   "nbconvert_exporter": "python",
   "pygments_lexer": "ipython3",
   "version": "3.7.10"
  }
 },
 "nbformat": 4,
 "nbformat_minor": 5
}
