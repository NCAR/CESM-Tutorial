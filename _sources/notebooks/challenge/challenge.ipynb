{
 "cells": [
  {
   "cell_type": "markdown",
   "id": "0959db1d-1790-4519-a34e-7026444af537",
   "metadata": {},
   "source": [
    "# Challenge Exercises"
   ]
  },
  {
   "cell_type": "markdown",
   "id": "33e420f8-dca3-47ed-9999-17da427c6443",
   "metadata": {},
   "source": [
    "This section of the CESM tutorial is designed to test your understanding of the CESM model that you have learned about in previous sections. \n",
    "\n",
    "We provide challenge exercises for the individual model components for you to test yourself. \n",
    "\n",
    "Feel free to try all the challenge exercises or just the one(s) that are relevant for the CESM components of interest to you."
   ]
  }
 ],
 "metadata": {
  "kernelspec": {
   "display_name": "Python 3 (ipykernel)",
   "language": "python",
   "name": "python3"
  },
  "language_info": {
   "codemirror_mode": {
    "name": "ipython",
    "version": 3
   },
   "file_extension": ".py",
   "mimetype": "text/x-python",
   "name": "python",
   "nbconvert_exporter": "python",
   "pygments_lexer": "ipython3",
   "version": "3.9.12"
  }
 },
 "nbformat": 4,
 "nbformat_minor": 5
}
