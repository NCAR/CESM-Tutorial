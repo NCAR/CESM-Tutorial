{
 "cells": [
  {
   "cell_type": "markdown",
   "id": "f406f992-92bd-4b17-9bd3-b99c5c8abaf3",
   "metadata": {},
   "source": [
    "# Sea Ice\n",
    "\n",
    "The sea ice component of CESM is CICE. This is developed by the [CICE Consortium](https://github.com/CICE-Consortium/CICE). Note that CESM2 uses CICE version 5. In version 6 of CICE, the vertical thermodynamics was separated into a submodule known as Icepack. CICE6 will be the sea ice component in CESM3. \n",
    "\n",
    "It can be useful for people interested in sea ice science to run simulations with only active sea ice and ocean components and atmospheric forcing. In this exercise, you will learn how to run one of these ice-ocean simulations.\n",
    "\n",
    "This exercise was created by David Bailey and Alice DuVivier."
   ]
  },
  {
   "cell_type": "markdown",
   "id": "ea051c12-642e-4194-8291-2c1924d2e1e8",
   "metadata": {},
   "source": [
    "## Learning Goals"
   ]
  },
  {
   "cell_type": "markdown",
   "id": "346cbd7b-3b8e-41f0-b120-b369ab20f6cc",
   "metadata": {},
   "source": [
    "- Student will learn what a G compset is, the types of forcing available to run one, and how to run one.\n",
    "- Student will learn how to make a namelist modification that changes snow albedo and compare results with a control experiment.\n",
    "- Student will learn how to make a source code modification that changes the conductivity through snow (ksno) and compare results with a control experiment.\n"
   ]
  },
  {
   "cell_type": "markdown",
   "id": "47c3af32-d018-441e-bcb0-c74e86ef4272",
   "metadata": {},
   "source": [
    "## Exercise Details"
   ]
  },
  {
   "cell_type": "markdown",
   "id": "df216c41-3ec4-43e0-b7bd-be2b1e4294bd",
   "metadata": {},
   "source": [
    "- This exercise uses the same code base as the rest of the tutorial. \n",
    "- You will be using the G compset at the T62_g37 resolution.\n",
    "- You will run a control simulation and two experimental simulations. Each simulation will be run for one year. \n",
    "- You will use simple, command line netcdf tools to evaluate how the experiments differ from the control simulation."
   ]
  },
  {
   "cell_type": "markdown",
   "id": "fd2ff959-6ec0-4534-8713-f5dfdb13b955",
   "metadata": {},
   "source": [
    "## Useful CICE references"
   ]
  },
  {
   "cell_type": "markdown",
   "id": "baa2afd1-4289-4baf-8bdf-83de7592d76b",
   "metadata": {},
   "source": [
    "<div class=\"alert alert-info\" style=\"text-align: center;\">\n",
    "\n",
    "[CESM CICE User's Guide](https://www.cesm.ucar.edu/models/cesm2/sea-ice)\n",
    "\n",
    "</div>"
   ]
  },
  {
   "cell_type": "markdown",
   "id": "523878ee-2bfa-4363-a8ec-5ff151b15d57",
   "metadata": {
    "tags": []
   },
   "source": [
    "<div class=\"alert alert-info\" style=\"text-align: center;\">\n",
    "\n",
    "[CESM CICE Discussion Forum](https://bb.cgd.ucar.edu/cesm/forums/cesm-cice.137/)\n",
    "\n",
    "</div>"
   ]
  },
  {
   "cell_type": "markdown",
   "id": "cb8a0e10-a920-41dd-8bc4-5c03395d231e",
   "metadata": {},
   "source": [
    "## What is a G case?"
   ]
  },
  {
   "cell_type": "markdown",
   "id": "69988cae-fd26-4fda-8fee-6ab52e79f42d",
   "metadata": {},
   "source": [
    "The G compset has active and coupled ocean and sea-ice components. The G compset requires boundary forcing from the atmosphere. The G compset is forced with atmospheric data that does not change interactively as the ocean and sea-ice evolve in time. The land and land ice are not active during a G compset experiment run and the runoff is specified. "
   ]
  },
  {
   "cell_type": "markdown",
   "id": "68ca54e2-d8ad-41bc-be8f-31a85eec6e65",
   "metadata": {},
   "source": [
    "![gcase](../../../images/challenge/gcase.png)\n",
    "\n",
    "*<p style=\"text-align: center;\"> Figure: G Compset definition. </p>*"
   ]
  },
  {
   "cell_type": "markdown",
   "id": "c93817fd-8031-4917-bf45-eb0f442578f9",
   "metadata": {},
   "source": [
    "<div class=\"alert alert-info\" style=\"text-align: center;\">\n",
    "\n",
    "[Compset Definitions](https://www2.cesm.ucar.edu/models/cesm2/config/compsets.html)\n",
    "\n",
    "</div>"
   ]
  },
  {
   "cell_type": "markdown",
   "id": "5cbebcff-7d58-4d34-8613-6c1613ab438e",
   "metadata": {},
   "source": [
    "## G Compset forcing data"
   ]
  },
  {
   "cell_type": "markdown",
   "id": "6deea789-4c3f-475d-9fc9-a1153fb3061b",
   "metadata": {},
   "source": [
    "There are two types of temporal forcing for G compsets:\n",
    "- Normal Year Forcing (NYF) is 12 months of atmospheric data (like a climatology) that repeats every year. NYF is the default forcing.\n",
    "- Interannual varying forcing (GIAF) is forcing that varies by year over the time period (1948-2017). \n",
    "\n",
    "There are two datasets that can be used for G compsets:\n",
    "- JRA55-do atmospheric data \\([Tsujino et al. 2018](https://doi.org/10.1016/j.ocemod.2018.07.002)\\)\n",
    "- Coordinated Ocean-ice Reference Experiments (CORE) version 2 atmospheric data \\([Large and Yeager 2009](http://doi.org/10.1007/s00382-008-0441-3)\\).\n",
    "\n",
    "In these exercises we will use the CORE NYF."
   ]
  },
  {
   "cell_type": "markdown",
   "id": "da3d9215-30c1-4152-abc0-ccb1e709cde3",
   "metadata": {},
   "source": [
    "## Post processing and viewing your output\n",
    "\n",
    "You will use [ncview](https://ncar.github.io/CESM-Tutorial/notebooks/resources/netcdf.html#ncview) and [NCO operator](https://ncar.github.io/CESM-Tutorial/notebooks/resources/netcdf.html#netcdf-operators-nco) tools to evaluate how the experiments differ from the control simulation.\n",
    "\n",
    "These modules should already be loaded into your environment, so verify that they are in your environment and it not load them using the NCAR HPC [modules](https://ncar.github.io/CESM-Tutorial/notebooks/tools/unix/modules.html).\n",
    "\n",
    "```\n",
    "module list\n",
    "```\n",
    "\n",
    "If they are not listed, then you can load the modules:\n",
    "\n",
    "```\n",
    "module load ncview\n",
    "module load nco\n",
    "```\n"
   ]
  },
  {
   "cell_type": "markdown",
   "id": "828e538d-3558-4747-9b61-3b29da04e294",
   "metadata": {},
   "source": [
    "1) You can create an annual average of the first year's data for each simulationg using the `ncra` (netCDF averager) command from the netCDF operators package \\([NCO](https://nco.sourceforge.net/)\\). \n",
    "```\n",
    "ncra $OUTPUT_DIR/*.cice.h.*nc $CASENAME.cice.h.0001.nc\n",
    "```\n",
    "\n",
    "2) Create a file that contains differences between each of the experiments and the control simulation\n",
    "```\n",
    "ncdiff $CASENAME.cice.h.0001.nc $CONTROLCASE.cice.h.0001.nc $CASENAME_diff.nc\n",
    "```\n",
    "\n",
    "3) Examine variables within each annual mean and the difference files using `ncview`\n",
    "```\n",
    "ncview $CASENAME_diff.nc\n",
    "```\n",
    "\n",
    "4) You can also look at other monthly-mean outputs or component log files."
   ]
  }
 ],
 "metadata": {
  "kernelspec": {
   "display_name": "NPL 2023b",
   "language": "python",
   "name": "npl-2023b"
  },
  "language_info": {
   "codemirror_mode": {
    "name": "ipython",
    "version": 3
   },
   "file_extension": ".py",
   "mimetype": "text/x-python",
   "name": "python",
   "nbconvert_exporter": "python",
   "pygments_lexer": "ipython3",
   "version": "3.10.12"
  }
 },
 "nbformat": 4,
 "nbformat_minor": 5
}
