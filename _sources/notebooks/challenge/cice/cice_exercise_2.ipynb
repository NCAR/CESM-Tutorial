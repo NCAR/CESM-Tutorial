{
 "cells": [
  {
   "cell_type": "markdown",
   "id": "f406f992-92bd-4b17-9bd3-b99c5c8abaf3",
   "metadata": {},
   "source": [
    "# 2: Tune the albedo"
   ]
  },
  {
   "cell_type": "markdown",
   "id": "0037b73f-f174-48e7-8e4f-0744d7d23fe0",
   "metadata": {},
   "source": [
    "One of the most common changes to the cice model involves changing the albedo of the snow on the surface of the sea ice using the delta-Eddington radiation scheme. To tune the albedo, you must actually change the inherent optical properties of the snow, bare ice, or ponds.\n",
    "\n",
    "Here we will experiment with changing the snow properties using the `r_snw` parameter. \n",
    "\n",
    "`r_snw` specifies the number of **standard deviations** away from the base optical properties of the shortwave radiative transfer code. `r_snw` is used to determine the non-melting snow grain radius using the following equation:"
   ]
  },
  {
   "cell_type": "markdown",
   "id": "d49c7e65-cc71-4838-91a9-0bbc27393e24",
   "metadata": {},
   "source": [
    "$$\n",
    "  {rsnw}_{nonmelt} = 500 - r_{snw} * 250\n",
    "$$"
   ]
  },
  {
   "cell_type": "markdown",
   "id": "737f543b-8c17-42a2-98a0-da3b5de9368e",
   "metadata": {},
   "source": [
    "This is in microns $(\\mu m)$ and `rsnw_nonmelt` has a minimum value of 100 and a maximum value of `rsnw_mlt`. As can be seen, when `r_snw` is larger then there is a lower value of `rsnw_nonmelt`. When `rsnw_nonmelt` is lower then the albedos are higher and vice versa. This is because smaller grains lead to higher albedos. Hence the sign of `r_snw` is positive for higher albedos and negative for lower albedos."
   ]
  },
  {
   "cell_type": "markdown",
   "id": "67bee263-c16d-43d3-989b-03959c0b31dd",
   "metadata": {},
   "source": [
    "The figure below shows how this works. The x-axis is temperature and the y-axis is effective snow grain radius."
   ]
  },
  {
   "cell_type": "markdown",
   "id": "1ce8051e-1439-4c94-8d10-07712dd9c9d3",
   "metadata": {},
   "source": [
    "![rsnw](../../../images/challenge/cice_rsnw2.png)\n",
    "\n",
    "*<p style=\"text-align: center;\"> Figure: r_snw parameter plot. </p>*"
   ]
  },
  {
   "cell_type": "markdown",
   "id": "b90d4773-7ca0-4131-ab07-517608a3e976",
   "metadata": {},
   "source": [
    "<div class=\"alert alert-info\">\n",
    "<strong>Exercise: Change snow albedo</strong><br><br>\n",
    " \n",
    "Create a case called **g_snowalbedo** by cloning the control experiment case. \n",
    "    \n",
    "Verify that the run length is set to **1 year**. \n",
    "\n",
    "In user_nl_cice make the following modifications:`r_snw = 2.0`.\n",
    "\n",
    "Build and run the model for one year. \n",
    "\n",
    "Provide info about how to compare the simulations using ncview/ncdiff, etc.\n",
    "\n",
    "</div>\n"
   ]
  },
  {
   "cell_type": "markdown",
   "id": "e2e33a95-e93c-4aca-86d7-1a830cc0562c",
   "metadata": {},
   "source": [
    "\n",
    "\n",
    "<div class=\"alert alert-warning\">  \n",
    "<details>\n",
    "\n",
    "<summary> <font face=\"Times New Roman\" color='blue'>Click here for hints</font> </summary>\n",
    "\n",
    "    \n",
    "**How do I compile?**\n",
    "\n",
    "You can compile with the command:\n",
    "```\n",
    "qcmd -- ./case.build\n",
    "```\n",
    "<br>\n",
    "\n",
    "**How do I control the output?**\n",
    "\n",
    "Use namelist variables: `histfreq`,`histfreq_n`, and `f_var`.\n",
    "\n",
    "Look at the online documentation for these variables.\n",
    "\n",
    "**How do I check my solution?**\n",
    "\n",
    "When your run is completed, go to the archive directory. \n",
    "\n",
    "(1) Check that your archive directory contains the files:\n",
    "\n",
    "- `h` files\n",
    "```\n",
    "g_snowalbedo.cice.h.0001-01.nc\n",
    "```\n",
    "- `h1` files\n",
    "```\n",
    "g_snowalbedo.cice.h1.0001-01-01-00000.nc\n",
    "g_snowalbedo.cice.h1.0001-02-01-00000.nc\n",
    "```\n",
    "<br>\n",
    "\n",
    "(2) Compare the contents of the `h` and `h1` files using `ncdump`.\n",
    "\n",
    "```\n",
    "ncdump -h g_snowalbedo.cice.h.0001-01-01-00000.nc\n",
    "ncdump -h g_snowalbedo.cice.h1.0001-01-01-00000.nc\n",
    "```\n",
    "\n",
    "</details>\n",
    "</div>\n"
   ]
  },
  {
   "cell_type": "markdown",
   "id": "f639e182-f48a-431c-a594-9c34323417eb",
   "metadata": {},
   "source": [
    "<div class=\"alert alert-success\">   \n",
    "<details>\n",
    "<summary><font face=\"Times New Roman\" color='blue'>Click here for the solution</font></summary><br>\n",
    "        \n",
    "Clone a new case <font face=\"Courier\" color='purple'><strong>g_snowalbedo </strong></font> from your control experiment with the command:\n",
    "```\n",
    "cd /glade/work/$USER/code/my_cesm_code/cime/scripts/\n",
    "./create_clone --case /glade/work/$USER/cases/g_snowalbedo --clone /glade/work/$USER/cases/g_control\n",
    "```\n",
    "<br>\n",
    "\n",
    "Case <font face=\"Courier\" color='purple'><strong>setup</strong></font>:\n",
    "```    \n",
    "cd /glade/work/$USER/cases/g_snowalbedo\n",
    "./case.setup\n",
    "```\n",
    "<br>\n",
    "\n",
    "Verify that the <font face=\"Courier\" color='purple'><strong>run length</strong></font> is 1 year:\n",
    "```   \n",
    "./xmlquery STOP_N\n",
    "./xmlquery STOP_OPTION\n",
    "```\n",
    "<br>\n",
    "\n",
    "Edit the file <font face=\"Courier\" color='purple'><strong>user_nl_cice</strong></font> and add the lines:\n",
    "```\n",
    " r_snw = 2.0\n",
    "```\n",
    "<br>\n",
    "\n",
    "If needed, change <font face=\"Courier\" color='purple'><strong>job queue</strong></font> \n",
    "and <font face=\"Courier\" color='purple'><strong>account number</strong></font>. \n",
    "For instance:\n",
    "```  \n",
    "./xmlchange JOB_QUEUE=regular,PROJECT=UESM0011\n",
    "```\n",
    "<br>\n",
    "\n",
    "Build and submit:\n",
    "```\n",
    "qcmd -- ./case.build\n",
    "./case.submit\n",
    "```\n",
    "<br>\n",
    "\n",
    "When the run is completed, look into the archive directory for: \n",
    "<font face=\"Courier\" color='purple'><strong>g_snowalbedo</strong></font>.  \n",
    "    \n",
    "(1) Check that your archive directory on cheyenne (The path will be different on other machines): \n",
    "```\n",
    "cd /glade/scratch/$USER/archive/g_snowalbedo/ice/hist\n",
    "ls \n",
    "```\n",
    "<br>\n",
    "\n",
    "(2) Compare to control run:\n",
    "```\n",
    "ncdiff g_snowalbedo.cice.h.0001-01.nc /glade/scratch/$USER/archive/g_control/ice/hist/g_control.cice.h.0001-01.nc g_diff.nc\n",
    "\n",
    "ncview g_diff.nc\n",
    "```\n",
    "\n",
    "</details>\n",
    "</div>\n",
    "\n"
   ]
  },
  {
   "cell_type": "markdown",
   "id": "ff6921a7-bb56-4617-8e13-1d9169c9dd8f",
   "metadata": {
    "tags": []
   },
   "source": [
    "## Test your understanding"
   ]
  },
  {
   "cell_type": "markdown",
   "id": "e46ea9f9-937c-48f8-bbec-7b16dc7b2266",
   "metadata": {
    "tags": []
   },
   "source": [
    "- What changes do you see from the control case with an increased snow albedo? Try other values of `r_snw`.\n",
    "- What time of year did you start your run and which season do you expect to see the biggest impact for shortwave changes?\n",
    "- How did changes in the Arctic vs. the Antarctic compare?\n",
    "- Are the modified `r_snw` values physically realistic? Why or why not? Why do you think this parameter is sometimes used to tune ESMs?"
   ]
  },
  {
   "cell_type": "code",
   "execution_count": null,
   "id": "57e44486-5057-4394-9e00-46ed9c2623d9",
   "metadata": {},
   "outputs": [],
   "source": []
  }
 ],
 "metadata": {
  "kernelspec": {
   "display_name": "NPL 2023b",
   "language": "python",
   "name": "npl-2023b"
  },
  "language_info": {
   "codemirror_mode": {
    "name": "ipython",
    "version": 3
   },
   "file_extension": ".py",
   "mimetype": "text/x-python",
   "name": "python",
   "nbconvert_exporter": "python",
   "pygments_lexer": "ipython3",
   "version": "3.10.12"
  }
 },
 "nbformat": 4,
 "nbformat_minor": 5
}
