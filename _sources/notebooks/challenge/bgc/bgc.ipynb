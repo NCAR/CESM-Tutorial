{
 "cells": [
  {
   "cell_type": "markdown",
   "id": "f406f992-92bd-4b17-9bd3-b99c5c8abaf3",
   "metadata": {},
   "source": [
    "# Biogeochemistry"
   ]
  },
  {
   "cell_type": "markdown",
   "id": "c0590b2a-ae3f-48b2-b287-8fa40eae213d",
   "metadata": {},
   "source": [
    "## Biogeochemistry in CESM"
   ]
  },
  {
   "cell_type": "markdown",
   "id": "34516fd8-ed12-44c0-ba57-b684c1c279cf",
   "metadata": {},
   "source": [
    "Biogeochemistry features have been available since CESM1.0 and are on by default in CESM2.0. \n",
    "\n",
    "Three components of CESM have biogeochemistry features:\n",
    "\n",
    "**CAM**\n",
    "- CO$_{2}$ constituents in CAM that use the land and ocean fluxes of CO$_{2}$ as surface boundary conditions.\n",
    "- CAM passes CO$_{2}$ to the coupler for land and ocean flux computations. \n",
    "- The CO$_{2}$ consitutients are coupled with radiation computations.\n",
    "\n",
    "**POP**\n",
    "- Includes the MARBL ecosystem library in CESM2.0\n",
    "\n",
    "**CLM**\n",
    "- Features covered elsewhere [LINK]"
   ]
  },
  {
   "cell_type": "markdown",
   "id": "f6f495f2-b20f-441e-877e-b0f5e9ec5755",
   "metadata": {},
   "source": [
    "## Coupled BGC Compsets"
   ]
  },
  {
   "cell_type": "markdown",
   "id": "ef4e3af3-cc84-4dda-b483-daf8bf2b1b30",
   "metadata": {},
   "source": [
    "**Terminology**\n",
    "- BGC CO$_{2}$: what is used by surface components\n",
    "- RAD CO$_{2}$: what is used by the atmospheric radiative code\n",
    "- Diagnostic CO$_{2}$: prescribed atmospheric CO$_{2}$ concentrations. (E.g. constant, read from file, 1% ramp, etc.)\n",
    "- Prognostic CO$_{2}$: predicted atmospheric CO$_{2}$ concentrations. Atmospheric consitutent is computed from surface CO$_{2}$ fluxes.\n",
    "\n",
    "\n",
    "**B1850, BHIST**\n",
    "- Compset long name has BCG%BDRD\n",
    "- Coupled model, BGC & RAD CO$_{2}$ are diagnostic\n",
    "\n",
    "**B1850_BPRP, BHIST_BPRP**\n",
    "- Shortnames introduced in CESM2.1.1\n",
    "- Compset long name has BGC%BPRP\n",
    "- Coupled model, BGC & RAD CO$_{2}$ are prognostic"
   ]
  },
  {
   "cell_type": "markdown",
   "id": "0a62ca85-30f9-409d-86d4-8bc2c1da2bcd",
   "metadata": {},
   "source": [
    "## Ocean Specific BGC Compsets"
   ]
  },
  {
   "cell_type": "markdown",
   "id": "64720908-da20-491c-9c03-dea85f6f770f",
   "metadata": {},
   "source": [
    "**C1850ECO**\n",
    "- Ocean alone, 1850 aerosols, normal year forcing\n",
    "\n",
    "**G1850ECO**\n",
    "- Ocean and sea ice, 1850 aerosols, normal year forcing\n",
    "\n",
    "**G1850ECOIAF**\n",
    "- Ocean and sea ice, 1850 aerosols, interannually varying forcing\n",
    "\n",
    "These can be found by using the following command in the same directory as `create_newcase`\n",
    "```\n",
    "./query_config --compsets pop\n",
    "```"
   ]
  },
  {
   "cell_type": "markdown",
   "id": "acd0ff2e-fceb-4245-a8fb-0b7ff86aeb8c",
   "metadata": {},
   "source": [
    "## BGC Initial Conditions"
   ]
  },
  {
   "cell_type": "markdown",
   "id": "56ffb1dc-1d35-4859-85f7-b3a47e9b567d",
   "metadata": {},
   "source": [
    "**Coupled BDRD compsets**\n",
    "- BDRD is default RUN_REFCASE set for f09_g17 or f19_g17 resolution experiments\n",
    "- Provided initial conditions were spun-up with f09_g17 resolution model. *Note that the carbon cycle is not as well balanced in f19_g17 resolution experiments as it is with f09_g17 resolution.*\n",
    "\n",
    "**Coupled BPRP compsets**\n",
    "- PBRP is the default RUN_REFCASE set for f09_g17\n",
    "\n",
    "**Ocean alone or Ocean-ice compsets**\n",
    "- Initial conditions are provided but are not spun up."
   ]
  },
  {
   "cell_type": "markdown",
   "id": "d52161c7-d87e-455d-848f-6be823d6d110",
   "metadata": {},
   "source": [
    "## BGC env*xml variables"
   ]
  },
  {
   "cell_type": "markdown",
   "id": "644683f9-5b69-4756-8643-84af9fdf7e6c",
   "metadata": {},
   "source": [
    "**CCSM_BGC**\n",
    "- Controls which CO$_{2}$ fields are exchanged between CESM components.\n",
    "\n",
    "![bgc_settings](../../../images/challenge/bgc_table_1.png)\n",
    "\n",
    "*<p style=\"text-align: center;\"> Figure: CCSM_BGC settings. </p>*\n",
    " - CO2A: land only or ocean only runs.\n",
    " - CO2B: atmosphere-land runs. Ocean and fossil fuel CO$_{2}$ fluxes are read for m a file.\n",
    " - CO2C: fully coupled runs.\n",
    "\n",
    "**CCSM_CO2_PPMV**\n",
    "- Constant CO$_{2}$ reference value used in some configurations.\n",
    "\n",
    "**OCN_CO2_TYPE or LND_CO2_TYPE**\n",
    "- Controls CO$_{2}$ used by ocean and land components.\n",
    "- Constant, prognistic, diagnostic.\n",
    "\n",
    "**OCN_TRACER_MODULES**\n",
    "- Controls which ocean tracers are used.\n",
    "- Ocean ecosystem model is called ecosys."
   ]
  },
  {
   "cell_type": "markdown",
   "id": "387d8807-75a6-40d2-97b2-eb20a7f7930a",
   "metadata": {},
   "source": [
    "## BGC units and sign conventions"
   ]
  },
  {
   "cell_type": "markdown",
   "id": "255b3eff-e3f2-4a8d-9733-f4ba018588c7",
   "metadata": {},
   "source": [
    "![bgc_units](../../../images/challenge/bgc_table_2.png)\n",
    "\n",
    "*<p style=\"text-align: center;\"> Figure: BGC units and sign conventions. </p>*"
   ]
  },
  {
   "cell_type": "markdown",
   "id": "a150934b-18e6-48da-98f4-b1a464e74343",
   "metadata": {},
   "source": [
    "- CAM variables CO2, CO2_LND, CO2_OCN, CO2_FF all have units of (kg CO2)/(kg dry air). Note that these are not typical units for carbon cycle modelers. To convert to ppmv multipy by 1.0e6*28.966/44.0 . 28.966 is the molecular weight of dry air and 44.0 is the molecular weight of CO$_{2}$."
   ]
  },
  {
   "cell_type": "markdown",
   "id": "7e7c19a6-9a75-42a3-8338-59ffb4061acb",
   "metadata": {},
   "source": [
    "* Same quantity in different CESM component output has: different names, different units, different sign conventions (for fluxes)."
   ]
  }
 ],
 "metadata": {
  "kernelspec": {
   "display_name": "Python 3 (ipykernel)",
   "language": "python",
   "name": "python3"
  },
  "language_info": {
   "codemirror_mode": {
    "name": "ipython",
    "version": 3
   },
   "file_extension": ".py",
   "mimetype": "text/x-python",
   "name": "python",
   "nbconvert_exporter": "python",
   "pygments_lexer": "ipython3",
   "version": "3.9.12"
  }
 },
 "nbformat": 4,
 "nbformat_minor": 5
}
