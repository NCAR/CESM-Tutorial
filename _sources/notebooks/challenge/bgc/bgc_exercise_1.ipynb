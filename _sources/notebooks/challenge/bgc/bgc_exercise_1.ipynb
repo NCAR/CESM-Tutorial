{
 "cells": [
  {
   "cell_type": "markdown",
   "id": "f406f992-92bd-4b17-9bd3-b99c5c8abaf3",
   "metadata": {},
   "source": [
    "# 1: Set up a BGC case"
   ]
  },
  {
   "cell_type": "markdown",
   "id": "f4238578-b8ac-4e94-aa01-2aac2c42a9dc",
   "metadata": {},
   "source": [
    "We will create two different cases and compare the case directories. We want to check if the differences make sense. You will **NOT** run the model in this challenge exercise."
   ]
  },
  {
   "cell_type": "markdown",
   "id": "6457c1d2-0530-435d-ae27-d0f1eeabe583",
   "metadata": {},
   "source": [
    "<div class=\"alert alert-info\">\n",
    "<strong>Exercise: Set up a BGC control case</strong><br><br>\n",
    " \n",
    "Create a case called **b_1850** using the compset  ``B1850``  at ``f19_g17`` resolution. \n",
    "\n",
    "Create a case called **b_1850_bprp** using the compset ``B1850_BPRP`` at ``f19_g17`` resolution.\n",
    "- What happens when you run create_newcase? Follow the instructions to get this working, but don't do it for real unless you know what you're doing.\n",
    "\n",
    "Run case.setup and preview_namelists for each case.\n",
    "- What changes occur when the carbon cycle is made prognostic?\n",
    "\n",
    "</div>\n"
   ]
  },
  {
   "cell_type": "markdown",
   "id": "5efef9de-221c-411d-b209-23e53668a101",
   "metadata": {},
   "source": [
    "## POP BGC Specific Output"
   ]
  },
  {
   "cell_type": "markdown",
   "id": "5d25903c-cd61-42fe-9631-04517ac35103",
   "metadata": {},
   "source": [
    "**ocn/hist/$CASE.pop.h.ecosys.nday1.????-??-??.nc**\n",
    "- selected ocean ecosys variables at daily resolution\n",
    "- surface flux related, productivity, and functional group vertical integrals.\n",
    "\n",
    "**ocn/hist/$CASE.pop.h.ecosys.nyear1.????.nc**\n",
    "- selected three dimensional ocean ecosys tracer budget terms."
   ]
  }
 ],
 "metadata": {
  "kernelspec": {
   "display_name": "Python 3 (ipykernel)",
   "language": "python",
   "name": "python3"
  },
  "language_info": {
   "codemirror_mode": {
    "name": "ipython",
    "version": 3
   },
   "file_extension": ".py",
   "mimetype": "text/x-python",
   "name": "python",
   "nbconvert_exporter": "python",
   "pygments_lexer": "ipython3",
   "version": "3.9.12"
  }
 },
 "nbformat": 4,
 "nbformat_minor": 5
}
