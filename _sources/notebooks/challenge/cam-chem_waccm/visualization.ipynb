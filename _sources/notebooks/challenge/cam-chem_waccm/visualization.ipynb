{
 "cells": [
  {
   "cell_type": "markdown",
   "id": "straight-opposition",
   "metadata": {},
   "source": [
    "# 4: Visualization option with GEOV"
   ]
  },
  {
   "cell_type": "markdown",
   "id": "industrial-enhancement",
   "metadata": {},
   "source": [
    "\n",
    "<div class=\"alert alert-info\">\n",
    "<strong>Visualization with GEOV </strong><br><br>\n",
    " \n",
    "CESM history files are in standard netCDF format, and may be analyzed with standard\n",
    "analysis tools, including Matlab, Python, IDL, NCL, and NCO and ncview.\n",
    "    \n",
    "GEOV is an IDL-based viewer with a graphical user interface (GUI) for geophysical history files created by NCAR's CAM, WACCM and MOZART models. GEOV can be downloaded from the WACCM webpage <br>\n",
    "http://www.cesm.ucar.edu/working_groups/Whole-Atmosphere/code-release.html <br>\n",
    "It is useful for quick viewing and comparisons.\n",
    "    \n",
    "**#To use GEOV on cheyenne/casper:**\n",
    "    \n",
    "Add the idl module: <br>\n",
    "``module load idl`` <br>\n",
    "    \n",
    "Then go to the location of GEOV and start it\n",
    "```\n",
    "cd /glade/u/home/fvitt/geov4.8e\n",
    "idl geov\n",
    "```\n",
    " \n",
    "Then you can use the GEOV interface to find files and explore the model output. Some examples of using the GEOV interface are below:\n",
    "\n",
    "![GEOV opening](../../../images/challenge/geov-openingfile.png)\n",
    "<p style=\"text-align: center;\"> Figure 1: Example using GEOV to browse to a file to open. </p>\n",
    "    \n",
    "![GEOV 2 files](../../../images/challenge/geov-2files.png)\n",
    "<p style=\"text-align: center;\"> Figure 2: Example using GEOV to plot surface layer ozone for two files. </p>\n",
    "    \n",
    "![GEOV difference](../../../images/challenge/geov-difference.png)\n",
    "<p style=\"text-align: center;\"> Figure 3: Example using GEOV to look at zonal average difference in model ozone (left). </p>\n",
    "    \n",
    "    \n",
    "    \n",
    "If you quit GEOV, you will need to type ``exit`` to also exit IDL.\n",
    "\n",
    "    \n",
    "</div>\n"
   ]
  },
  {
   "cell_type": "code",
   "execution_count": null,
   "id": "weekly-kennedy",
   "metadata": {},
   "outputs": [],
   "source": []
  }
 ],
 "metadata": {
  "kernelspec": {
   "display_name": "Python 3",
   "language": "python",
   "name": "python3"
  },
  "language_info": {
   "codemirror_mode": {
    "name": "ipython",
    "version": 3
   },
   "file_extension": ".py",
   "mimetype": "text/x-python",
   "name": "python",
   "nbconvert_exporter": "python",
   "pygments_lexer": "ipython3",
   "version": "3.9.1"
  }
 },
 "nbformat": 4,
 "nbformat_minor": 5
}
