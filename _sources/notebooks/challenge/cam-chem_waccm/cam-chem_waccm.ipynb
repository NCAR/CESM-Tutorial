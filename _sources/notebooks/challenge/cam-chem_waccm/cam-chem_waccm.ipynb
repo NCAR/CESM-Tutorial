{
 "cells": [
  {
   "cell_type": "markdown",
   "id": "curious-gibraltar",
   "metadata": {},
   "source": [
    "# Atmospheric chemistry"
   ]
  },
  {
   "cell_type": "markdown",
   "id": "available-federation",
   "metadata": {
    "tags": []
   },
   "source": [
    "## Learning Goals\n",
    "\n",
    "- Student will learn about different chemistry (CAM-chem/WACCM) compsets and how to run one.\n",
    "- Student will learn how to modify chemistry and change output settings.\n",
    "- Student will learn how to change emissions.\n"
   ]
  },
  {
   "cell_type": "markdown",
   "id": "brave-copyright",
   "metadata": {},
   "source": [
    "## CAM-chem and WACCM component sets\n",
    "\n",
    "The CESM2 components can be combined in numerous ways to carry out various scientific or software experiments. A particular mix of components, along with component-specific configuration and/or namelist settings, is called a component set or ``compset``. \n",
    "\n",
    "**WACCM** (Whole Atmosphere Community Climate Model) and **CAM-chem** (Community Atmosphere Model with chemistry) are atmospheric components of CESM, like CAM. They can be run as ``F`` and ``B`` compsets, as well as with nudged meteorology (for example towards reanalysis). They can be run using various dycores and resolutions.\n",
    "In contrast to CAM, WACCM and CAM-chem run with different possibilities of chemistry complexity, whereby CAM uses simplified chemistry. CAM and CAM-chem use the same vertical resolution and model top.\n",
    "Different chemical mechanisms for CAM-chem with more or less complexity have been developed based on the MOZART-TS1 and TS2 (currently the most comprehensive) chemical mechanism.\n",
    "WACCM has a model top at about 150km and therefore covers the Troposphere, Stratosphere, Mesosphere and Lower-Thermosphere. The most comprehensive WACCM mechanism is therefore called the TSMLT chemical mechanism.\n",
    "WACCM can also run with Middle Atmosphere (MA) chemistry (e.g., FWmaHIST, which includes very simplified chemistry in the troposphere, and with Specified Chemistry (e.g., FWscHIST), similar to the CAM chemistry.\n"
   ]
  },
  {
   "cell_type": "markdown",
   "id": "weekly-brass",
   "metadata": {},
   "source": [
    "## CAM-chem and WACCM tested F component sets\n",
    "\n",
    "In CESM2.2 only the CAM-chem F compsets have been scientifically tested and no PI-control or transient history simulation has been scientifically validated. In contrast, WACCM has been used for CMIP6 simulations.\n",
    "Two different nudging approaches exist using CAM-chem and WACCM, both using MERRA2 or GEOS5 meteorological analysis fields. The ``nudged`` approach is the recommended approach that uses meteorological fields (U, V, T) on CESM model levels.\n",
    "The older specified dynamics (SD) approach requires the model to run on the vertical MERRA2 grids.\n",
    "\n",
    "An overview of different compsets can be found in the diagrams below.\n",
    "\n",
    "\n",
    "![CAMChem tested F compsets](../../../images/challenge/CAMchem_compsets.png)\n",
    "<p style=\"text-align: center;\"> Figure 1: CAM-chem tested F compsets. </p>\n",
    "\n",
    "![WACCM scientifically supported F compsets](../../../images/challenge/WACCM_compsets1.png)\n",
    "<p style=\"text-align: center;\"> Figure 2: WACCM scientifically supported F compsets. </p>\n",
    "\n",
    "![WACCM tested F compsets](../../../images/challenge/WACCM_compsets2.png)\n",
    "<p style=\"text-align: center;\"> Figure 3: WACCM tested F compsets. </p>"
   ]
  },
  {
   "cell_type": "markdown",
   "id": "unsigned-cooling",
   "metadata": {},
   "source": [
    "## Overview of the Challenge Exercises for CAM-chem/WACCM\n",
    "Start running one control case and choose between two options:\n",
    "\n",
    "a) Run a CAM-chem compset with TS1 chemistry, historical SSTs and 0.9x1.25 degrees horizontal resolution <br>\n",
    "b) Run a WACCM with TSMLT1 chemistry, historical SSTs and 0.9x1.25 degrees horizontal resolution\n",
    "\n",
    "Once a control case has been configured and run, perform two test cases - one changing chemistry and one changing emissions."
   ]
  },
  {
   "cell_type": "markdown",
   "id": "adolescent-plaintiff",
   "metadata": {},
   "source": [
    "_______________\n",
    "\n",
    "\n",
    "\n",
    "### Finding more information CAM-chem and WACCM\n",
    "\n",
    "More explanation (and some more options) can be found in the docs: <br>\n",
    "https://wiki.ucar.edu/display/camchem/Home <br>\n",
    "https://www.cesm.ucar.edu/models/cesm2/config/compsets.html <br>\n",
    "https://ncar.github.io/CAM/doc/build/html/users_guide/atmospheric-configurations.html\n",
    "\n",
    "**Discussion board:** <br>\n",
    "CAM-chem: https://bb.cgd.ucar.edu/cesm/forums/cam-chem.154/ <br>\n",
    "WACCM: https://bb.cgd.ucar.edu/cesm/forums/waccm.155/ <br>"
   ]
  },
  {
   "cell_type": "code",
   "execution_count": null,
   "id": "equal-ethics",
   "metadata": {},
   "outputs": [],
   "source": []
  }
 ],
 "metadata": {
  "kernelspec": {
   "display_name": "Python 3 (ipykernel)",
   "language": "python",
   "name": "python3"
  },
  "language_info": {
   "codemirror_mode": {
    "name": "ipython",
    "version": 3
   },
   "file_extension": ".py",
   "mimetype": "text/x-python",
   "name": "python",
   "nbconvert_exporter": "python",
   "pygments_lexer": "ipython3",
   "version": "3.9.12"
  }
 },
 "nbformat": 4,
 "nbformat_minor": 5
}
