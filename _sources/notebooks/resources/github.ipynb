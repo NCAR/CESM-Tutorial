{
 "cells": [
  {
   "cell_type": "markdown",
   "id": "f406f992-92bd-4b17-9bd3-b99c5c8abaf3",
   "metadata": {},
   "source": [
    "# Github"
   ]
  },
  {
   "cell_type": "markdown",
   "id": "ecbb8df1-076e-43a9-a409-73fea1a4475d",
   "metadata": {},
   "source": [
    "The CESM project is managed through the GitHub online software development platform. The CESM Project is hosted under the Earth System Community Modeling Portal (ESCOMP) which is managed by the University Corporation for Atmospheric Research (UCAR). The ESCOMP portal and the CESM project are publicly available and do not require a Github account for read and download access. You can find information, track conversations, create issues, and learn lots about what's going on with CESM development through the CESM GitHub repository and the associated wiki.\n",
    "\n",
    "**Note: In the tutorial, where git commands are needed we explicitly detail what commands to use. You will not need to use Github for other activities in this Tutorial. We do however suggest that in your own time you become familar with Github, register as a Github user, and then become an active member of the CESM user and development community. When you make a free account in GitHub to access numerous repositories for different software code development at NCAR and beyond. Github, ESCOMP, and the CESM project are vast and you can get lost in this material for hours, days, weeks or even years. Don't go too far off the path in this tutorial as we are expecting that you will focus on learning other Cheyenne and CESM code download tasks.**"
   ]
  },
  {
   "cell_type": "markdown",
   "id": "ee473b49-9e16-44b2-a432-235d453094f9",
   "metadata": {},
   "source": [
    "## What are Git and GitHub?"
   ]
  },
  {
   "cell_type": "markdown",
   "id": "4332ee98-964a-4123-8cd1-56a64af8aa58",
   "metadata": {},
   "source": [
    "Git is an open-source version control software to track your changes in the source code. \n",
    "\n",
    "GitHub is an online software development platform. GitHub provides a centralized online service to host the source code and version control using Git. GitHub is used for storing, tracking, and collaborating on software projects. It makes it easy for developers to share code files and collaborate with fellow developers on open-source projects. GitHub also serves as a social networking site where developers can openly network, collaborate, and pitch their work. GitHub allows software developers to create remote, publically available repositories on the cloud for free. A repository, or \"repo\" for short, is a coding project’s files and the revision history for each file. "
   ]
  },
  {
   "cell_type": "markdown",
   "id": "230ba41c-1c66-482b-b57d-3e14cf326dd2",
   "metadata": {},
   "source": [
    "![Github Image](../../images/resources/CESM2_github_main.png)\n",
    "*<p style=\"text-align: center;\"> Figure: Top Level Github Header </p>*"
   ]
  },
  {
   "cell_type": "markdown",
   "id": "2db5b08a-8c5f-4a92-8691-fb9581340d82",
   "metadata": {},
   "source": [
    "Learning all the tricks and features of Git and GitHub takes some time to figure out. Below are some links to GitHub tutorials that can help you become more familiar with this powerful tool."
   ]
  },
  {
   "cell_type": "markdown",
   "id": "6a271fd9-ef98-4883-bcbd-4d8e83d43a8d",
   "metadata": {},
   "source": [
    "<div class=\"alert alert-info\" style=\"text-align: center;\">\n",
    "\n",
    "[GitHub tutorial from software carpentry](https://swcarpentry.github.io/git-novice/)\n",
    "\n",
    "</div>"
   ]
  },
  {
   "cell_type": "markdown",
   "id": "babdf239-9e83-4f00-b2a6-033f4e1f53b3",
   "metadata": {},
   "source": [
    "## ESCOMP"
   ]
  },
  {
   "cell_type": "markdown",
   "id": "fcde532b-ea6e-49e2-ab45-52ed8b0f486e",
   "metadata": {},
   "source": [
    "The ESCOMP github organization is managed by UCAR and NCAR to organize and manage large, community-oriented earth system modeling projects of broad interest. As shown below there are many projects beyond CESM managed under the ESCOMP organization. The component models (see CAM and CTSM in figure below) that make up CESM are also hosted under the ESCOMP organization."
   ]
  },
  {
   "cell_type": "markdown",
   "id": "852d2da7-1b6d-4a7f-b4b1-9d07222de7d9",
   "metadata": {},
   "source": [
    "![ESCOMP Image](../../images/resources/CESM2_github_ESCOMP.png)\n",
    "*<p style=\"text-align: center;\"> Figure: ESCOMP Github Header </p>*"
   ]
  },
  {
   "cell_type": "markdown",
   "id": "1306dc86-1d29-48f0-9138-9587b7ff7051",
   "metadata": {},
   "source": [
    "## CESM and GitHub"
   ]
  },
  {
   "cell_type": "markdown",
   "id": "c37b8978-46bd-47ec-bf45-f403fb53b4de",
   "metadata": {},
   "source": [
    "The CESM Project has been hosted on Github since CESM2.0 under the ESCOMP organization. The CESM Project contains all development and release code for all subsequent versions of CESM. The CESM GitHub repository has the tools for managing the exeternal components that make up a CESM model tag. Additionally, the documentation at this repository provides information about software requirements to run CESM, developer guidelines, and a Quikstart guide to accessing CESM through GitHub."
   ]
  },
  {
   "cell_type": "markdown",
   "id": "c4e62e1f-7ae6-4420-8bfc-445559d188d3",
   "metadata": {},
   "source": [
    "![CESM Project Image](../../images/resources/CESM2_github_CESM.png)\n",
    "*<p style=\"text-align: center;\"> Figure: CESM Project Github Header </p>*\n"
   ]
  },
  {
   "cell_type": "markdown",
   "id": "56c7b16d-5875-463c-88a8-36206fe5ec6a",
   "metadata": {},
   "source": [
    "<div class=\"alert alert-info\" style=\"text-align: center;\">\n",
    "\n",
    "[CESM GitHub repository](https://github.com/ESCOMP/CESM)\n",
    "    \n",
    "[CESM and GitHub Quickstart guide](https://escomp.github.io/CESM/versions/master/html/index.html)\n",
    "\n",
    "</div>"
   ]
  },
  {
   "cell_type": "code",
   "execution_count": null,
   "id": "cdb5e70e-85ca-4e84-9381-4b1b8ab63692",
   "metadata": {},
   "outputs": [],
   "source": []
  }
 ],
 "metadata": {
  "kernelspec": {
   "display_name": "Python 3 (ipykernel)",
   "language": "python",
   "name": "python3"
  },
  "language_info": {
   "codemirror_mode": {
    "name": "ipython",
    "version": 3
   },
   "file_extension": ".py",
   "mimetype": "text/x-python",
   "name": "python",
   "nbconvert_exporter": "python",
   "pygments_lexer": "ipython3",
   "version": "3.9.12"
  }
 },
 "nbformat": 4,
 "nbformat_minor": 5
}
