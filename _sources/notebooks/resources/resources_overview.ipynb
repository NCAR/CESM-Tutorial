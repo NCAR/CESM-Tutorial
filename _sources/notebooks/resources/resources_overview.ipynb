{
 "cells": [
  {
   "cell_type": "markdown",
   "id": "0959db1d-1790-4519-a34e-7026444af537",
   "metadata": {},
   "source": [
    "# Resources"
   ]
  },
  {
   "cell_type": "markdown",
   "id": "43fca83b-54e5-4950-a9b3-bbfbbcb01c77",
   "metadata": {},
   "source": [
    "While there is no way for this tutorial to provide every bit of information or resoucrces needed to successfully learn CESM, this section provides some resources that you may find particularly helpful."
   ]
  },
  {
   "cell_type": "code",
   "execution_count": null,
   "id": "6dc4950b-9954-4019-9c0b-46a3e3b0b3aa",
   "metadata": {},
   "outputs": [],
   "source": []
  }
 ],
 "metadata": {
  "kernelspec": {
   "display_name": "Python 3 (ipykernel)",
   "language": "python",
   "name": "python3"
  },
  "language_info": {
   "codemirror_mode": {
    "name": "ipython",
    "version": 3
   },
   "file_extension": ".py",
   "mimetype": "text/x-python",
   "name": "python",
   "nbconvert_exporter": "python",
   "pygments_lexer": "ipython3",
   "version": "3.9.12"
  }
 },
 "nbformat": 4,
 "nbformat_minor": 5
}
