{
 "cells": [
  {
   "cell_type": "markdown",
   "id": "f406f992-92bd-4b17-9bd3-b99c5c8abaf3",
   "metadata": {},
   "source": [
    "# NetCDF files"
   ]
  },
  {
   "cell_type": "markdown",
   "id": "e70f8ee6-91c8-4543-830f-4196163a7131",
   "metadata": {},
   "source": [
    "All CESM model output is in netCDF (*.nc) data format. Below, you will find some useful information for how to navigate and manipulate CESM netCDF files."
   ]
  },
  {
   "cell_type": "markdown",
   "id": "59bb8a3f-74a5-4c7f-aaa7-15d22fe59b4a",
   "metadata": {},
   "source": [
    "## NetCDF\n",
    "\n",
    "NetCDF stands for “network Common Data Form”. NetCDF files are array-oriented and a community standard for sharing scientific model data.\n",
    "\n",
    "Some benefits of netCDF files include that they:\n",
    "- Are self describing and generally include substantial metadata to assist with comprehension of the data.\n",
    "- Supported by a range of languages (Fortran, C, Matlab, ferret, GrADS, NCL, IDL, python).\n",
    "- Appendable, so data can be added to a file.\n",
    "- Viewable with tools like ncview and panopoly."
   ]
  },
  {
   "cell_type": "markdown",
   "id": "5b9c0340-90be-4957-82a7-5d911287a35f",
   "metadata": {},
   "source": [
    "The files are saved in netcdf format (denoted with the `.nc` file extension), a file format commonly used for storing large, multi-dimensional scientific variables.\n",
    "Netcdf files are platform independent and self-describing; each file includes metadata that describes the data, including: **variables**, **dimensions**, and **attributes**.\n",
    "\n",
    "The figure below provides a generic example of the data structure in a netcdf file. The dataset illustrated has two variables (temperature and pressure) that have three dimensions. Coordinate data (e.g., latitude, longitude, time) that describe the data are also included. \n",
    "\n",
    "![Netcdf](https://xarray.pydata.org/en/stable/_images/dataset-diagram.png)"
   ]
  },
  {
   "cell_type": "markdown",
   "id": "c6540e1c-d489-401b-b227-2da4f69c50ec",
   "metadata": {},
   "source": [
    "<div class=\"alert alert-info\" style=\"text-align: center;\">\n",
    "\n",
    "[netCDF information](https://www.unidata.ucar.edu/software/netcdf/)\n",
    "\n",
    "</div>"
   ]
  },
  {
   "cell_type": "markdown",
   "id": "eeaa2e1e-68fa-4b72-9415-d12448484719",
   "metadata": {},
   "source": [
    "## ncdump\n",
    "\n",
    "Sometimes you want to see what information a netCDF file without fully opening it. `ncdump` is a command line netCDF utility that allows the user to dump the contents of the netCDF file to the terminal screen or to a file in a human-readable format. \n",
    "\n",
    "**NOTE:** `ncdump` **is installed by default as part of the netCDF libraries.**"
   ]
  },
  {
   "cell_type": "markdown",
   "id": "bf4014fd-c02a-485d-a648-a01d7bb6f204",
   "metadata": {},
   "source": [
    "To view the header of a netCDF file, use the following command:"
   ]
  },
  {
   "cell_type": "code",
   "execution_count": null,
   "id": "78c32209-629f-4d7e-afe2-64cb6ff4b04c",
   "metadata": {},
   "outputs": [],
   "source": [
    "ncdump -h file.nc"
   ]
  },
  {
   "cell_type": "markdown",
   "id": "177838bf-0241-4265-8418-fcfbdcff7dd0",
   "metadata": {},
   "source": [
    "At the command line, you get the following information from the `ncdump -h` command. It includes the dimensions in the file, a list of variables, and global attributes that can be very useful."
   ]
  },
  {
   "cell_type": "markdown",
   "id": "c7cdea85-fb03-440b-a65a-53ca69483e02",
   "metadata": {},
   "source": [
    "![ncdump](../../images/resources/ncdump_example.png)\n",
    "\n",
    "*<p style=\"text-align: center;\"> Figure: Example output from the ncdump -h command. </p>*"
   ]
  },
  {
   "cell_type": "markdown",
   "id": "a06d67d2-b5e5-477a-871b-16dcad514357",
   "metadata": {},
   "source": [
    "To view the contents of a variable, use the following command:\n",
    "* Note that you must verify the variable exists in the file by first doing a the command above."
   ]
  },
  {
   "cell_type": "code",
   "execution_count": null,
   "id": "74324a3f-7129-4b6b-96e8-d3d831247d68",
   "metadata": {},
   "outputs": [],
   "source": [
    "ncdump -v PSL file.nc"
   ]
  },
  {
   "cell_type": "markdown",
   "id": "73922a90-4f0e-488a-a1e5-81d07141a216",
   "metadata": {},
   "source": [
    "To view the netCDF file type, use the following command:"
   ]
  },
  {
   "cell_type": "code",
   "execution_count": null,
   "id": "1aa78eba-bdab-48fe-a563-6dae2747af2f",
   "metadata": {},
   "outputs": [],
   "source": [
    "ncdump –k file.nc"
   ]
  },
  {
   "cell_type": "markdown",
   "id": "86ba17a2-a119-40d7-bda2-1c0b40694596",
   "metadata": {},
   "source": [
    "To print readable date-time strings, use the following command:"
   ]
  },
  {
   "cell_type": "code",
   "execution_count": null,
   "id": "e52ddeec-7fe3-49fb-ac4c-e243f5263b72",
   "metadata": {},
   "outputs": [],
   "source": [
    "ncdump –t –v time file.nc"
   ]
  },
  {
   "cell_type": "markdown",
   "id": "b9478866-10ee-4b8f-a80f-7e58f840872c",
   "metadata": {},
   "source": [
    "## ncview\n",
    "\n",
    "`ncview` is a graphical interface which allows the user to quickly view the variables inside a NetCDF file. `ncview` also allows the user to interactively visualize a selected variable aross a selected range (time, spatial).\n",
    "\n",
    "**NOTE:** `ncview` **must be loaded as a module in your HPC environment.** See section (LINK)."
   ]
  },
  {
   "cell_type": "code",
   "execution_count": null,
   "id": "95c41eb1-01cc-4f24-90fb-ca85ed0da51f",
   "metadata": {},
   "outputs": [],
   "source": [
    "ncview file.nc"
   ]
  },
  {
   "cell_type": "markdown",
   "id": "f31e7620-b199-4fd7-8b9c-715b199c0436",
   "metadata": {},
   "source": [
    "![ncview](../../images/resources/ncview.png)\n",
    "\n",
    "*<p style=\"text-align: center;\"> Figure: Example output from ncview command. </p>*"
   ]
  },
  {
   "cell_type": "markdown",
   "id": "674a8519-2434-4d87-a418-feb10005b83a",
   "metadata": {},
   "source": [
    "## netCDF Operators (NCO) \n",
    "\n",
    "NCO is a suite of programs designed to perform certain “operations” on netCDF files, i.e., things like averaging, concatenating, subsetting, or metadata manipulation.Command-line operations are extremely useful for processing model data given that modelers often work in a UNIX-type environment.\n",
    "\n",
    "We will describe a few key types of NCO operators below, but there are many other NCO operators beyond these that could be of use. We recommend visiting the NCO page to get full documentation.\n",
    "\n",
    "**NOTE:** `nco` **must be loaded as a module in your HPC environment.** See section (LINK)."
   ]
  },
  {
   "cell_type": "markdown",
   "id": "fab944fa-04c3-4843-af5b-2763970dd0fd",
   "metadata": {},
   "source": [
    "<div class=\"alert alert-info\" style=\"text-align: center;\">\n",
    "\n",
    "[NCO github page](https://github.com/nco/nco)\n",
    "\n",
    "[NCO sourceforge page](http://nco.sourceforge.net)\n",
    "\n",
    "</div>"
   ]
  },
  {
   "cell_type": "markdown",
   "id": "de438002-157e-4f2f-8f3f-d0f2c3d01b41",
   "metadata": {},
   "source": [
    "`ncra` is a netCDF record averager that averages across the record dimesion (i.e. time) for the files specified. The example below shows the command for how to average across two files from different months."
   ]
  },
  {
   "cell_type": "code",
   "execution_count": null,
   "id": "604168a3-5268-43f6-a002-3f4906b9caf9",
   "metadata": {},
   "outputs": [],
   "source": [
    "ncra file1.nc file2.nc avgfile.nc"
   ]
  },
  {
   "cell_type": "markdown",
   "id": "575d65ac-82aa-4d13-9702-9c63ce84321e",
   "metadata": {},
   "source": [
    "`ncrcat` is a netCDF record concatenator that combines the files specified across the record dimesion (i.e. time). The example below shows the command for how to concatenate two files from different months into a single file that will have two timesteps."
   ]
  },
  {
   "cell_type": "code",
   "execution_count": null,
   "id": "88a35e2d-64e0-4c9a-9764-7a4587d25a28",
   "metadata": {},
   "outputs": [],
   "source": [
    "ncrcat file1.nc file2.nc out12.nc"
   ]
  },
  {
   "cell_type": "markdown",
   "id": "8b756d23-71bb-45f4-ba63-83b8ee50f781",
   "metadata": {},
   "source": [
    "`ncdiff` is a netCDF differener that will reveal differences between files. The example below shows the command for how to create a file showing differences between two files from different months."
   ]
  },
  {
   "cell_type": "code",
   "execution_count": null,
   "id": "ca1c37fc-ab49-4769-aa39-e4804b01dd83",
   "metadata": {},
   "outputs": [],
   "source": [
    "ncdiff file1.nc file2.nc diff.nc"
   ]
  },
  {
   "cell_type": "markdown",
   "id": "91216ea2-7278-4887-8a6f-f9a2e1e4eedb",
   "metadata": {},
   "source": [
    "`ncks` stands for netCDF kitchen sink and has numerous functions that may be useful. The examples below show \n",
    "1) how to use NCO operator options to subset only some specified variables from the input file because the `-v` option operates only on the variables listed.\n",
    "2) how to use NCO operator options to subset only a given latitude and longitude range because the `-d` option operates on the dimensions. Note that real numbers indicate coordinate values while integers indicate array indexes. "
   ]
  },
  {
   "cell_type": "code",
   "execution_count": null,
   "id": "0d9ba792-79e3-4bdd-9823-816110b5d0a1",
   "metadata": {},
   "outputs": [],
   "source": [
    "ncks –v T,U,PS file_in.nc file_out.nc"
   ]
  },
  {
   "cell_type": "code",
   "execution_count": null,
   "id": "5c549782-7aba-4de7-816f-5dcea3264e81",
   "metadata": {},
   "outputs": [],
   "source": [
    "ncks -d lon,0.,180. -d lat,0,63 file_in.nc file_out.nc"
   ]
  },
  {
   "cell_type": "markdown",
   "id": "6b81015d-05e5-44e9-9c3f-6ea31e8eb44f",
   "metadata": {},
   "source": [
    "## Climate Data Operators (CDO) \n",
    "\n",
    "CDO are a suite of command line operators to manipulate and analyze climate and NWP model data. CDO are similar to NCO. The CDO library inclues over 600 command line operators that do a variety of tasks including: detrending, EOF analysis, metadata modification, statistical analysis, etc. \n",
    "\n",
    "**NOTE:** `cdo` **must be loaded as a module in your HPC environment.** See section (LINK)."
   ]
  },
  {
   "cell_type": "markdown",
   "id": "cd5527e1-d0c7-4108-81a9-357a82110f82",
   "metadata": {},
   "source": [
    "<div class=\"alert alert-info\" style=\"text-align: center;\">\n",
    "\n",
    "[CDO github page](https://github.com/AZed/cdo)\n",
    "\n",
    "[CDO project page](https://code.mpimet.mpg.de/projects/cdo/)\n",
    "\n",
    "</div>"
   ]
  }
 ],
 "metadata": {
  "kernelspec": {
   "display_name": "Bash",
   "language": "bash",
   "name": "bash"
  },
  "language_info": {
   "codemirror_mode": "shell",
   "file_extension": ".sh",
   "mimetype": "text/x-sh",
   "name": "bash"
  }
 },
 "nbformat": 4,
 "nbformat_minor": 5
}
