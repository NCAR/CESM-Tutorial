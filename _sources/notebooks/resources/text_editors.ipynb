{
 "cells": [
  {
   "cell_type": "markdown",
   "id": "f406f992-92bd-4b17-9bd3-b99c5c8abaf3",
   "metadata": {},
   "source": [
    "# Text Editors "
   ]
  },
  {
   "cell_type": "markdown",
   "id": "d0122319-defa-49ca-a794-91cfc36fb332",
   "metadata": {},
   "source": [
    "You will need to edit files directly through the command line when using UNIX. There are quite a few text editors available for UNIX. Below we provide some information about some of the favorite text editors from CESM developers. This list is not comprehensive, so if you have another editor you prefer you can use that."
   ]
  },
  {
   "cell_type": "markdown",
   "id": "947bea15-69c9-47e9-815c-f07d89327bab",
   "metadata": {},
   "source": [
    "## Vi"
   ]
  },
  {
   "cell_type": "markdown",
   "id": "2692e830-0863-4bef-98f7-7796a3bece8e",
   "metadata": {},
   "source": [
    "Vi is a text editor included with most UNIX systems, even embedded ones. It was designed to be simple yet powerful for text manipulation. It's a modal text editor, which means has both an insert and command mode. Vi doesn't provide a list of keyboard shortcuts on the screen. \n",
    "\n",
    "**NOTE:** `vi` **does not need to be loaded in your environment to be used.**"
   ]
  },
  {
   "cell_type": "markdown",
   "id": "244ecc7f-b49b-4fba-ad36-9e816701fbb9",
   "metadata": {},
   "source": [
    "<div class=\"alert alert-info\" style=\"text-align: center;\">\n",
    "\n",
    "[Vi documentation](http://linuxfocus.org/~guido/vi/)\n",
    "    \n",
    "[Vi Introduction](https://www.howtogeek.com/102468/a-beginners-guide-to-editing-text-files-with-vi/)\n",
    "    \n",
    "[Vi cheatsheet](https://www.atmos.albany.edu/daes/atmclasses/atm350/vi_cheat_sheet.pdf)\n",
    "\n",
    "</div>"
   ]
  },
  {
   "cell_type": "markdown",
   "id": "da6fee1f-f259-4922-a667-bf903d3536dd",
   "metadata": {},
   "source": [
    "## Vim"
   ]
  },
  {
   "cell_type": "markdown",
   "id": "9460aa4b-741d-4052-a6a7-82730d5837b7",
   "metadata": {},
   "source": [
    "Vim (Vi IMproved) is a clone of Vi but offers more features than Vi. It's free and open source and can be used both at the command-line or in a graphical user interface (GUI).\n",
    "\n",
    "**NOTE:** `vim` **does not need to be loaded in your environment to be used.**"
   ]
  },
  {
   "cell_type": "markdown",
   "id": "bcd11fc0-e9e4-4534-b79c-3963b6b98f7f",
   "metadata": {},
   "source": [
    "<div class=\"alert alert-info\" style=\"text-align: center;\">\n",
    "\n",
    "[Vi documentation](https://www.vim.org/docs.php)\n",
    "    \n",
    "[Vi cheatsheet](https://vim.rtorr.com/)\n",
    "\n",
    "</div>"
   ]
  },
  {
   "cell_type": "markdown",
   "id": "234894b0-4983-4d0e-aca1-30c466521c50",
   "metadata": {},
   "source": [
    "## Nano"
   ]
  },
  {
   "cell_type": "markdown",
   "id": "5e62b82c-dbf8-4724-8e82-869f944f0ba4",
   "metadata": {},
   "source": [
    "Nano is a text editor that uses a command line interface. It emulates the Pico text editor and in addition to basic text editing, nanco has features such as an interactive search-and-replace, undo/redo, etc.\n",
    "\n",
    "**NOTE:** `nano` **must be loaded as a module in your HPC environment.** See section (LINK)."
   ]
  },
  {
   "cell_type": "markdown",
   "id": "cf16bd44-45f4-4bb4-927b-eafc24d9aeb1",
   "metadata": {},
   "source": [
    "<div class=\"alert alert-info\" style=\"text-align: center;\">\n",
    "\n",
    "[Nano documentation](https://www.nano-editor.org/docs.php)\n",
    "\n",
    "[Nano Introduction](https://www.howtogeek.com/42980/the-beginners-guide-to-nano-the-linux-command-line-text-editor/)\n",
    "    \n",
    "[Nano cheatsheet](https://www.nano-editor.org/dist/latest/cheatsheet.html)\n",
    "\n",
    "</div>"
   ]
  },
  {
   "cell_type": "markdown",
   "id": "69a56d2b-7508-4df0-9dc1-33f1f0887127",
   "metadata": {},
   "source": [
    "## Emacs"
   ]
  },
  {
   "cell_type": "markdown",
   "id": "342a8b59-a009-4974-9878-66e78c46effc",
   "metadata": {},
   "source": [
    "Emacs is an extensible, customizable, and self-documenting editor. Emacs opens a GUI to your computer and requires X11 forwarding. Once open, it can be used similar to a normal document including scrolling.\n",
    "\n",
    "**NOTE:** `emacs` **does not need to be loaded in your environment to be used. While it will work from the terminal command line, it does not work in the Jupyter environment.**"
   ]
  },
  {
   "cell_type": "markdown",
   "id": "0761f906-a868-491e-a89d-4d4a6f6f7bcf",
   "metadata": {},
   "source": [
    "<div class=\"alert alert-info\" style=\"text-align: center;\">\n",
    "\n",
    "[Emacs documentation](https://www.gnu.org/software/emacs/manual/html_node/emacs/index.html)\n",
    "\n",
    "[Emacs Introduction](https://www.gnu.org/software/emacs/tour/)\n",
    "    \n",
    "[Emacs cheatsheet](https://www.gnu.org/software/emacs/refcards/pdf/refcard.pdf)\n",
    "\n",
    "</div>"
   ]
  }
 ],
 "metadata": {
  "kernelspec": {
   "display_name": "Python 3 (ipykernel)",
   "language": "python",
   "name": "python3"
  },
  "language_info": {
   "codemirror_mode": {
    "name": "ipython",
    "version": 3
   },
   "file_extension": ".py",
   "mimetype": "text/x-python",
   "name": "python",
   "nbconvert_exporter": "python",
   "pygments_lexer": "ipython3",
   "version": "3.9.12"
  }
 },
 "nbformat": 4,
 "nbformat_minor": 5
}
