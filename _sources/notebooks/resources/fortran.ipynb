{
 "cells": [
  {
   "cell_type": "markdown",
   "id": "f406f992-92bd-4b17-9bd3-b99c5c8abaf3",
   "metadata": {},
   "source": [
    "# Fortran"
   ]
  },
  {
   "cell_type": "markdown",
   "id": "386d6593-bcbf-4c9a-8e64-9c0ee687de47",
   "metadata": {},
   "source": [
    "The CESM model is primarily written in Fortran. If you plan to modify the CESM code in any way, we strongly recommend you be able to navigate the Fortran code."
   ]
  },
  {
   "cell_type": "markdown",
   "id": "db9ec999-e1b8-43dc-b72c-77223226e1af",
   "metadata": {},
   "source": [
    "The 2-unit module listed below, from The COMET Program, introduces users to scientific programming structures and methods and the history, basic syntax and functionality of Fortran. "
   ]
  },
  {
   "cell_type": "markdown",
   "id": "d65da730-a8df-47ad-9e9d-68f283637fef",
   "metadata": {},
   "source": [
    "Recommendations for Module Use:\n",
    "\n",
    "- Users who have little to no programming experience should take both units in full.\n",
    "- Users that do have some programming experience, such as a web-based language like HTML, but have limited experience in scientific programming, such as a C-based languages, should start with unit 1 and may find they can complete it quickly. While unit 2, covering Fortran and CESM Fortran examples, should be taken in full.\n",
    "- Users that have significant scientific programming experience (C-based languages, for example) can safely start in unit 2, which covers Fortran and CESM Fortran examples.\n",
    "- Users that have significant programming experience in Fortran can likely begin at the \"Fortran and CESM\" subsection (near bottom of table of contents) in unit 2."
   ]
  },
  {
   "cell_type": "markdown",
   "id": "6924d6f2-f210-4704-8084-415c81a2122a",
   "metadata": {},
   "source": [
    "<div class=\"alert alert-info\" style=\"text-align: center;\">\n",
    "\n",
    "[Fortran COMET module](https://www.meted.ucar.edu/ucar/fortran)\n",
    "\n",
    "</div>"
   ]
  }
 ],
 "metadata": {
  "kernelspec": {
   "display_name": "Python 3 (ipykernel)",
   "language": "python",
   "name": "python3"
  },
  "language_info": {
   "codemirror_mode": {
    "name": "ipython",
    "version": 3
   },
   "file_extension": ".py",
   "mimetype": "text/x-python",
   "name": "python",
   "nbconvert_exporter": "python",
   "pygments_lexer": "ipython3",
   "version": "3.9.12"
  }
 },
 "nbformat": 4,
 "nbformat_minor": 5
}
