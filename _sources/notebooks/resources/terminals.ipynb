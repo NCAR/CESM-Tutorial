{
 "cells": [
  {
   "cell_type": "markdown",
   "id": "f406f992-92bd-4b17-9bd3-b99c5c8abaf3",
   "metadata": {},
   "source": [
    "# Terminal Windows"
   ]
  },
  {
   "cell_type": "markdown",
   "id": "93b754e9-2569-4779-890f-f3f069fd9faa",
   "metadata": {},
   "source": [
    "For local or remote execution of a program, a terminal is a window in a graphical interface that is used to display a command line. In the UNIX environment, the terminal window is widely used by developers to perform myriad maintenance operations in local and remote computers. \n",
    "\n",
    "Most CESM users and developers use terminal windows to run the model. Users open a terminal window and access the NCAR HPC resources remotely. This way the user can be located anywhere and access the HPC assets located in Cheyenne, WY."
   ]
  },
  {
   "cell_type": "markdown",
   "id": "c3c5cecc-b0ef-4bd2-bb50-5f92efeb12c7",
   "metadata": {},
   "source": [
    "<div class=\"alert alert-info\" style=\"text-align: center;\">\n",
    "\n",
    "[Logging into NCAR HPC](https://arc.ucar.edu/knowledge_base/87655186)\n",
    "    \n",
    "</div>"
   ]
  },
  {
   "cell_type": "markdown",
   "id": "75f18a09-8ff0-4944-b19f-a51d6473e645",
   "metadata": {},
   "source": [
    "## Logging into a terminal from a Mac"
   ]
  },
  {
   "cell_type": "markdown",
   "id": "fa3a2300-0e3a-4b87-9456-0c741acb9e96",
   "metadata": {},
   "source": [
    "Go to the search spotlight (magnifying glass icon) and type in \"terminal\". \n",
    "\n",
    "- `Terminal` is automatically built into the MacOS and clicking on it will open a terminal window.\n",
    "\n",
    "- `iTerm` is software that was installed by the user on their laptop and is another option for opening a terminal."
   ]
  },
  {
   "cell_type": "markdown",
   "id": "d4ad6ecc-155e-40f8-965f-a223c119b85c",
   "metadata": {},
   "source": [
    "![mac terminal](../../images/resources/term_mac.png)\n",
    "\n",
    "*<p style=\"text-align: center;\"> Figure: Finding terminal on a mac. </p>*"
   ]
  },
  {
   "cell_type": "markdown",
   "id": "6b6d2dbf-f7e1-40a1-a81a-a147189a133a",
   "metadata": {},
   "source": [
    "## Logging into a terminal from a PC"
   ]
  },
  {
   "cell_type": "markdown",
   "id": "1a24b174-9a10-4863-91b2-7a0408cc9d03",
   "metadata": {},
   "source": [
    "Go to the start menu and type in \"terminal\". \n",
    "\n",
    "- `Terminal` will open a terminal window.\n",
    "\n",
    "- `Command Prompt` will open a terminal window."
   ]
  },
  {
   "cell_type": "markdown",
   "id": "705e15f9-ae66-45a6-a9e3-c212cbc83ba1",
   "metadata": {},
   "source": [
    "![pc terminal](../../images/resources/term_pc.png)\n",
    "\n",
    "*<p style=\"text-align: center;\"> Figure: Finding terminal on a PC. </p>*"
   ]
  },
  {
   "cell_type": "markdown",
   "id": "99e35425-03b2-40ed-a1ff-2d19655bbdad",
   "metadata": {},
   "source": [
    "## Logging into a terminal from JupyterHub"
   ]
  },
  {
   "cell_type": "markdown",
   "id": "8db0641a-0960-4e2e-9596-cb97f37b84ca",
   "metadata": {},
   "source": [
    "If you have a JupyterHub session open you can open a terminal window as well. \n",
    "\n",
    "- Click on the + symbol in the upper left for a New Launcher\n",
    "- Click on the Terminal icon\n",
    "\n",
    "Note: some terminal functions (e.g. X11 forwarding) do not work in a terminal opened through JupyterHub."
   ]
  },
  {
   "cell_type": "markdown",
   "id": "750465fe-e05d-4d1c-b33c-2c82db333f67",
   "metadata": {},
   "source": [
    "![JH terminal](../../images/resources/term_jupyter_1.png)\n",
    "\n",
    "*<p style=\"text-align: center;\"> Figure: Opening a terminal using JupyterHub. </p>*"
   ]
  },
  {
   "cell_type": "markdown",
   "id": "d80a918d-4cbc-47aa-b10c-a37f255e6f0f",
   "metadata": {},
   "source": [
    "![JH terminal](../../images/resources/term_jupyter_2.png)\n",
    "\n",
    "*<p style=\"text-align: center;\"> Figure: Terminal interface in JupyterHub. </p>*"
   ]
  },
  {
   "cell_type": "code",
   "execution_count": null,
   "id": "6b686eb5-4d0d-48af-ae15-2e0171cdfcd4",
   "metadata": {},
   "outputs": [],
   "source": []
  }
 ],
 "metadata": {
  "kernelspec": {
   "display_name": "Python 3 (ipykernel)",
   "language": "python",
   "name": "python3"
  },
  "language_info": {
   "codemirror_mode": {
    "name": "ipython",
    "version": 3
   },
   "file_extension": ".py",
   "mimetype": "text/x-python",
   "name": "python",
   "nbconvert_exporter": "python",
   "pygments_lexer": "ipython3",
   "version": "3.9.12"
  }
 },
 "nbformat": 4,
 "nbformat_minor": 5
}
