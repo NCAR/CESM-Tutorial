{
 "cells": [
  {
   "cell_type": "markdown",
   "id": "f406f992-92bd-4b17-9bd3-b99c5c8abaf3",
   "metadata": {},
   "source": [
    "# Porting"
   ]
  },
  {
   "cell_type": "markdown",
   "id": "fe00d177-b2e2-4067-b1fe-95b0a1d45f3d",
   "metadata": {},
   "source": [
    "Moving CESM to a new machine that has not been previously setup requires knowledge of both the CESM model and the target machine architecture and software. Porting details can also be found in specialized lecture slides from previous CESM tutorials. <br>"
   ]
  },
  {
   "cell_type": "markdown",
   "id": "52b78297-4829-477b-8018-6d80512389a5",
   "metadata": {},
   "source": [
    "<div class=\"alert alert-info\" style=\"text-align: center;\">\n",
    "\n",
    "[CIME documentation (see part 2)](http://esmci.github.io/cime/)\n",
    "\n",
    "[Porting CESM2](http://www.cesm.ucar.edu/models/cesm2/linux_cluster/)\n",
    "    \n",
    "</div>"
   ]
  },
  {
   "cell_type": "markdown",
   "id": "080839b4-514f-4072-88a6-bd514424cf6e",
   "metadata": {},
   "source": [
    "![Porting Image](../../images/resources/CESM2_Porting.png)\n",
    "*<p style=\"text-align: center;\"> Figure: Porting CESM2 to the CGD Cluster Hobart </p>*"
   ]
  },
  {
   "cell_type": "markdown",
   "id": "f1ec0337-eadf-46e3-80b5-2085854b9742",
   "metadata": {},
   "source": [
    "# Take-away Points\n",
    "- On supported machines - no porting is necessary\n",
    "- On new machines - porting needs to be done\n",
    "- Documentation from CIME and CESM Website\n",
    "- Thursday afternoon lecture on Porting"
   ]
  },
  {
   "cell_type": "code",
   "execution_count": null,
   "id": "d2de6735-4420-4b9d-bae1-3384a34de010",
   "metadata": {},
   "outputs": [],
   "source": []
  }
 ],
 "metadata": {
  "kernelspec": {
   "display_name": "Python 3 (ipykernel)",
   "language": "python",
   "name": "python3"
  },
  "language_info": {
   "codemirror_mode": {
    "name": "ipython",
    "version": 3
   },
   "file_extension": ".py",
   "mimetype": "text/x-python",
   "name": "python",
   "nbconvert_exporter": "python",
   "pygments_lexer": "ipython3",
   "version": "3.9.12"
  }
 },
 "nbformat": 4,
 "nbformat_minor": 5
}
