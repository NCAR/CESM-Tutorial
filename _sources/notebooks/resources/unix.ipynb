{
 "cells": [
  {
   "cell_type": "markdown",
   "id": "f406f992-92bd-4b17-9bd3-b99c5c8abaf3",
   "metadata": {},
   "source": [
    "# UNIX"
   ]
  },
  {
   "cell_type": "markdown",
   "id": "011c91f1-75f0-496e-a329-45ed70297e86",
   "metadata": {},
   "source": [
    "Most CESM users and developers use the UNIX environment to set up CESM experiments and do preliminary analysis of their CESM model output data. We strongly suggest those using CESM become familiar with working in a command line environment."
   ]
  },
  {
   "cell_type": "markdown",
   "id": "31e68033-a4f3-4866-8048-f2f57900f98b",
   "metadata": {},
   "source": [
    "## Some Unix Basics\n",
    "\n",
    "The module listed below, from The COMET Program, will help those unfamiliar with UNIX. You can learn about the basics of UNIX file structures, how to navigate in a UNIX environment, and you'll get to practice creating, storing and searching for files.\n",
    "\n",
    "The expected length is 15-30 minutes for users with some UNIX experience, and 30-60 minutes for novices.\n"
   ]
  },
  {
   "cell_type": "markdown",
   "id": "b343574d-dae5-4653-87fd-db6d0748b338",
   "metadata": {},
   "source": [
    "<div class=\"alert alert-info\" style=\"text-align: center;\">\n",
    "\n",
    "[UNIX module from COMET](https://www.meted.ucar.edu/ucar/unix/)\n",
    "\n",
    "</div>"
   ]
  },
  {
   "cell_type": "markdown",
   "id": "ef5eda98-33cc-460d-be37-fc080c09a1a2",
   "metadata": {},
   "source": [
    "## Unix cheatsheet\n",
    "\n",
    "This Unix commands cheat sheet summarizes a few basic commands you will need during the tutorial."
   ]
  },
  {
   "cell_type": "markdown",
   "id": "399759d6-00b3-41f2-b483-541b84032ce3",
   "metadata": {},
   "source": [
    "<div class=\"alert alert-info\" style=\"text-align: center;\">\n",
    "\n",
    "[UNIX cheatsheet](https://ncar.github.io/CESM-Tutorial/notebooks/resources/unix-cheatsheet.html)\n",
    "\n",
    "</div>"
   ]
  },
  {
   "cell_type": "code",
   "execution_count": null,
   "id": "66239ceb-8b7c-4d1b-9d6d-56a8c2ace41c",
   "metadata": {},
   "outputs": [],
   "source": []
  }
 ],
 "metadata": {
  "kernelspec": {
   "display_name": "Python 3 (ipykernel)",
   "language": "python",
   "name": "python3"
  },
  "language_info": {
   "codemirror_mode": {
    "name": "ipython",
    "version": 3
   },
   "file_extension": ".py",
   "mimetype": "text/x-python",
   "name": "python",
   "nbconvert_exporter": "python",
   "pygments_lexer": "ipython3",
   "version": "3.10.13"
  }
 },
 "nbformat": 4,
 "nbformat_minor": 5
}
