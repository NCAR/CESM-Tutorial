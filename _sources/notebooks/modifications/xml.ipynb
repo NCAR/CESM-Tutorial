{
 "cells": [
  {
   "cell_type": "markdown",
   "id": "0959db1d-1790-4519-a34e-7026444af537",
   "metadata": {},
   "source": [
    "# Simple XML Modifications"
   ]
  },
  {
   "cell_type": "markdown",
   "id": "09b1ddf9-0892-4a46-bfa6-11fa05eac358",
   "metadata": {},
   "source": [
    "We use XML files to control case settings. This is what we cover in this chapter:\n",
    "- The section *Overview* describes what XML files are and the primary files used in CESM.\n",
    "- You will then learn how to query and change XML variables.\n",
    "- Next, we describe some of the main XML variables used to control run length or run type. \n",
    "- The section *Exercises* offers opportunities to practice the concepts learned in this chapter."
   ]
  },
  {
   "cell_type": "code",
   "execution_count": null,
   "id": "bb5bff3c-1583-4653-8286-f45e4cc86b5f",
   "metadata": {},
   "outputs": [],
   "source": []
  }
 ],
 "metadata": {
  "kernelspec": {
   "display_name": "Python 3 (ipykernel)",
   "language": "python",
   "name": "python3"
  },
  "language_info": {
   "codemirror_mode": {
    "name": "ipython",
    "version": 3
   },
   "file_extension": ".py",
   "mimetype": "text/x-python",
   "name": "python",
   "nbconvert_exporter": "python",
   "pygments_lexer": "ipython3",
   "version": "3.9.12"
  }
 },
 "nbformat": 4,
 "nbformat_minor": 5
}
