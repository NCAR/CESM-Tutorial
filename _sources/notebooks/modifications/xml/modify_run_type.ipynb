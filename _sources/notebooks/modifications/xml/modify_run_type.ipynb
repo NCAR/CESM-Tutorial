{
 "cells": [
  {
   "cell_type": "markdown",
   "id": "f406f992-92bd-4b17-9bd3-b99c5c8abaf3",
   "metadata": {},
   "source": [
    "# Modifying the Type of Run \n",
    "\n",
    "CESM has three types of initial runs:\n",
    "- startup\n",
    "- branch\n",
    "- hybrid\n"
   ]
  },
  {
   "cell_type": "markdown",
   "id": "fb99d6cf-09ee-45da-9af8-4d404709378a",
   "metadata": {},
   "source": [
    "\n",
    "The xml variable `$RUN_TYPE` determines the initialization type. \n",
    "\n",
    "Note that the `RUN_TYPE` setting is ***only important for the initial run*** of a production run when the `$CONTINUE_RUN` variable is set to `FALSE`. After the initial run, the `$CONTINUE_RUN` variable is set to `TRUE`, and the model restarts exactly using input files in a case, date, and bit-for-bit continuous fashion. "
   ]
  },
  {
   "cell_type": "code",
   "execution_count": null,
   "id": "9447be66-ca1f-4b05-b93c-4f1a0bb303ad",
   "metadata": {},
   "outputs": [],
   "source": []
  }
 ],
 "metadata": {
  "kernelspec": {
   "display_name": "Python 3 (ipykernel)",
   "language": "python",
   "name": "python3"
  },
  "language_info": {
   "codemirror_mode": {
    "name": "ipython",
    "version": 3
   },
   "file_extension": ".py",
   "mimetype": "text/x-python",
   "name": "python",
   "nbconvert_exporter": "python",
   "pygments_lexer": "ipython3",
   "version": "3.9.12"
  }
 },
 "nbformat": 4,
 "nbformat_minor": 5
}
