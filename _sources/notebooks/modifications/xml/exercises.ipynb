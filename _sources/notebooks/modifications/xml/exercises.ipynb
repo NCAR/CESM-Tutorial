{
 "cells": [
  {
   "cell_type": "markdown",
   "id": "bfc54be9-aad8-420b-83c1-874ecd9cdc1b",
   "metadata": {},
   "source": [
    "# Exercise Overview"
   ]
  },
  {
   "cell_type": "markdown",
   "id": "eb20fd6b-c748-428f-a8dc-565b2c43dfe4",
   "metadata": {},
   "source": [
    "We will do three exercises to help us better understand xml modifications.\n",
    "\n",
    "- In Exercise 1, we will practice runtime variable modifications.\n",
    "- In Exercise 2, we will create a branch run and modify the ocean coupling frequency. \n",
    "- In Exercise 3, we will create a hybrid run and modify the atmosphere physics timestep. "
   ]
  },
  {
   "cell_type": "code",
   "execution_count": null,
   "id": "6b57bbfc-2712-460c-9da6-9545fe3e9869",
   "metadata": {},
   "outputs": [],
   "source": []
  }
 ],
 "metadata": {
  "kernelspec": {
   "display_name": "Python 3 (ipykernel)",
   "language": "python",
   "name": "python3"
  },
  "language_info": {
   "codemirror_mode": {
    "name": "ipython",
    "version": 3
   },
   "file_extension": ".py",
   "mimetype": "text/x-python",
   "name": "python",
   "nbconvert_exporter": "python",
   "pygments_lexer": "ipython3",
   "version": "3.9.12"
  }
 },
 "nbformat": 4,
 "nbformat_minor": 5
}
