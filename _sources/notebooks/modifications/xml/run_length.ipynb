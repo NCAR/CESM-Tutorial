{
 "cells": [
  {
   "cell_type": "markdown",
   "id": "f406f992-92bd-4b17-9bd3-b99c5c8abaf3",
   "metadata": {},
   "source": [
    "# Controlling Run Length \n",
    "\n",
    "The length of your model run is controlled by several run time variables in the **`env_run.xml`** file. \n",
    "These variables may be modified at the initialization of the model run and during the course of the model run. \n",
    "\n",
    "These variables comprise coupler namelist settings for the model stop time, model restart frequency, coupler history frequency and a flag to determine if the run should be flagged as a continuation run."
   ]
  },
  {
   "cell_type": "markdown",
   "id": "b69bbda8-c906-420f-a782-7da8f223c8bc",
   "metadata": {},
   "source": [
    "We will learn about customizing runtime settings to control starting, stopping, restarting and continuing a model run, and practice how to specify the run length of your long simulations. \n"
   ]
  }
 ],
 "metadata": {
  "kernelspec": {
   "display_name": "Python 3 (ipykernel)",
   "language": "python",
   "name": "python3"
  },
  "language_info": {
   "codemirror_mode": {
    "name": "ipython",
    "version": 3
   },
   "file_extension": ".py",
   "mimetype": "text/x-python",
   "name": "python",
   "nbconvert_exporter": "python",
   "pygments_lexer": "ipython3",
   "version": "3.9.12"
  }
 },
 "nbformat": 4,
 "nbformat_minor": 5
}
