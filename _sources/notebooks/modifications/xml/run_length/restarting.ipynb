{
 "cells": [
  {
   "cell_type": "markdown",
   "id": "f406f992-92bd-4b17-9bd3-b99c5c8abaf3",
   "metadata": {},
   "source": [
    "# Restarting a Run\n",
    "\n",
    "How to continue a run.\n",
    "\n",
    "***"
   ]
  },
  {
   "cell_type": "markdown",
   "id": "6dfbe426-d5b3-47fd-a4bd-faf6fb107f5f",
   "metadata": {},
   "source": [
    "## 1. Restart files"
   ]
  },
  {
   "cell_type": "markdown",
   "id": "8746a209-be0f-4c0d-ad1c-168da2a7e4b6",
   "metadata": {},
   "source": [
    "Restart files are written by each model component at intervals dictated by the driver via the setting of the `env_run.xml` variables, **`$REST_OPTION`** and **`$REST_N`**. The default values for these two variables are set to be the same as `$STOP_OPTION` and `$STOP_N`.  In most cases, we do not modify these two variables.\n"
   ]
  },
  {
   "cell_type": "markdown",
   "id": "b514409e-4215-4627-a783-28fafc852211",
   "metadata": {},
   "source": [
    "\n",
    "Restart files allow the model to stop and then start again with **bit-for-bit exact** capability (i.e. the model output is exactly the same as if it had never been stopped). The driver coordinates the writing of restart files as well as the time evolution of the model. All components receive restart and stop information from the driver and write restarts or stop as specified by the driver.\n"
   ]
  },
  {
   "cell_type": "markdown",
   "id": "bfc93f04-70d4-4cb1-8e90-a9878cdca329",
   "metadata": {},
   "source": [
    "Whenever a component writes a restart file, it also writes a restart pointer file of the form, **`rpointer.$component`** (i.e. <strong>`rpointer.atm`</strong>). The restart pointer file contains the restart filename that was just written by the component. Upon a restart, each component reads its restart pointer file to determine the filename(s) to read in order to continue the model run. As examples, the following pointer files will be created for a component set using full active model components.\n",
    "\n",
    "- rpointer.atm\n",
    "- rpointer.drv\n",
    "- rpointer.ice\n",
    "- rpointer.lnd\n",
    "- rpointer.rof\n",
    "- rpointer.cism\n",
    "- rpointer.ocn.ovf\n",
    "- rpointer.ocn.restart\n"
   ]
  },
  {
   "cell_type": "markdown",
   "id": "93d66937-95c1-44cc-bbd3-39a798efc378",
   "metadata": {},
   "source": [
    "<div class=\"alert alert-warning\">\n",
    "    \n",
    "   <summary>\n",
    "        <img src=\"https://freesvg.org/img/bulb_on.png\" width=\"20px\">\n",
    "       <font face=\"Times New Roman\" color='blue' size=\"4\">Tips!</font>\n",
    "    </summary>\n",
    "    \n",
    "1. Try using xmlquery to check the values of `REST_OPTION` and `REST_N`.\n",
    "What do you find? <br>\n",
    "2. Take a look at the restart files and restart pointer files in your archive directory (`$DOUT_S_ROOT/rest/yyyy-mm-dd-ssss/`) or run directory (`$RUNDIR`). What do they look like?\n",
    "\n",
    "</div>"
   ]
  },
  {
   "cell_type": "markdown",
   "id": "aca8e554-0df7-4de2-9059-9e1b2e33a590",
   "metadata": {},
   "source": [
    "***\n",
    "<br>"
   ]
  },
  {
   "cell_type": "markdown",
   "id": "6d6522b2-c30c-4b92-b2f4-c89ce0158dcf",
   "metadata": {},
   "source": [
    "## 2. Continue a run"
   ]
  },
  {
   "cell_type": "markdown",
   "id": "1c0eb950-6238-4f37-a875-19950279ab4a",
   "metadata": {},
   "source": [
    "\n",
    "Recall that the flag variable `$CONTINUE_RUN` controls whether a model run is **initialized (FALSE)** or **continues a run (TRUE)**."
   ]
  },
  {
   "cell_type": "markdown",
   "id": "a3ff7ec3-941e-447f-b027-3f45fb3b8bb1",
   "metadata": {},
   "source": [
    "In the case of our 1-month test run, we submited our initial job with `CONTINUE_RUN = FALSE` (because it was just initialized) and your `RUN_TYPE` (to startup, branch or hybrid). If the run has been finished and everything looks good, and we want to continue the run for another month, what do we do?\n",
    "\n",
    "We will need to use `xmlchange` to change `CONTINUE_RUN = TRUE` and submit the run again to carry on running the model. The model will use the restart files to continue our run with a bit-for-bit match, as if it had never been stopped. \n",
    "\n"
   ]
  },
  {
   "cell_type": "markdown",
   "id": "a1b40ec3-fdd5-45ea-aa09-74620e62b35c",
   "metadata": {},
   "source": [
    "<br>"
   ]
  },
  {
   "cell_type": "markdown",
   "id": "65d2fb52-18b5-43ae-87b5-866ec0c730ef",
   "metadata": {},
   "source": [
    "<div class=\"alert alert-info\">\n",
    "<strong>Evaluate your understanding</strong>\n",
    "\n",
    "If we do not modify `CONTINUE_RUN=TRUE` and leave it as `FALSE`, what would happen after we submit the run again?\n",
    "</div>"
   ]
  },
  {
   "cell_type": "markdown",
   "id": "12239227-29af-4738-851b-b1eae99932e4",
   "metadata": {},
   "source": [
    "<div class=\"alert alert-success\">\n",
    "   \n",
    "<details>   \n",
    "   <summary>\n",
    "        <img src=\"https://freesvg.org/img/help-browser.png\" width=\"20px\">\n",
    "       <font face=\"Times New Roman\" color='blue' size=\"4\">Click here for the solution </font>\n",
    "    </summary>\n",
    "\n",
    "The model will run the previous month once again instead of carrying on to the next month!\n",
    "</details>\n",
    "</div>"
   ]
  },
  {
   "cell_type": "markdown",
   "id": "43a8d53a-d66d-4c4a-a9fd-2313f4c23dfd",
   "metadata": {},
   "source": [
    "The `$CONTINUE_RUN` flag will be automatically set to `TRUE` when the variable `RESUBMIT>0`. Learn more in the chapter [Changing Run Length](./changing_run_length.ipynb)."
   ]
  },
  {
   "cell_type": "markdown",
   "id": "707b12c1-e970-4097-99c3-f6fe3b1914c8",
   "metadata": {},
   "source": [
    "<br>\n",
    "\n",
    "***\n"
   ]
  },
  {
   "cell_type": "markdown",
   "id": "2a816fcb-9242-4d6b-98b4-b4e62fab08eb",
   "metadata": {},
   "source": [
    "## 3. Backing up to a previous restart"
   ]
  },
  {
   "cell_type": "markdown",
   "id": "c2e232e3-37ae-42e7-bdf2-953ef4cc86cb",
   "metadata": {},
   "source": [
    "If a run encounters problems and crashes, it is extremely useful to back up to a previous restart. \n",
    "\n",
    "You will need to find the latest restart files in the `$DOUT_S_ROOT/rest/yyyy-mm-dd-ssss/` directory that was created and copy the contents of that directory into your run directory (`$RUNDIR`). You can then continue the run and these restarts will be used. \n",
    "\n",
    "It is important to make sure the new `rpointer.*` files overwrite the previous `rpointer.*` files that were in `$RUNDIR`, or the job may not restart in the correct place.\n",
    "\n",
    "Occasionally, when a run has problems restarting, it is because the rpointer files are out of sync with the restart files. The rpointer files are text files and can easily be edited to match the correct dates of the restart and history files. All the restart files should have the same date."
   ]
  },
  {
   "cell_type": "code",
   "execution_count": null,
   "id": "32d9c126-14c2-41d1-8bce-a895fdf407dd",
   "metadata": {},
   "outputs": [],
   "source": []
  }
 ],
 "metadata": {
  "kernelspec": {
   "display_name": "Python 3 (ipykernel)",
   "language": "python",
   "name": "python3"
  },
  "language_info": {
   "codemirror_mode": {
    "name": "ipython",
    "version": 3
   },
   "file_extension": ".py",
   "mimetype": "text/x-python",
   "name": "python",
   "nbconvert_exporter": "python",
   "pygments_lexer": "ipython3",
   "version": "3.9.12"
  }
 },
 "nbformat": 4,
 "nbformat_minor": 5
}
