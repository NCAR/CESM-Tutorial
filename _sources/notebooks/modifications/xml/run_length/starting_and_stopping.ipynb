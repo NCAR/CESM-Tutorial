{
 "cells": [
  {
   "cell_type": "markdown",
   "id": "f406f992-92bd-4b17-9bd3-b99c5c8abaf3",
   "metadata": {},
   "source": [
    "# Starting and Stopping \n",
    "\n",
    "To start a model run, we will need to submit `$CASE.run` to the batch queue. In addition, we will also need to specify how long we want to run the model in <font face=\"Courier\"><strong>`env_run.xml`</strong></font>. \n",
    "\n",
    "\n",
    "We will learn how to modify the runtime variables in <font face=\"Courier\"><strong>`env_run.xml`</strong></font> to initialize, stop and restart a CESM model run."
   ]
  },
  {
   "cell_type": "markdown",
   "id": "ec38ef4d-2a68-44e8-a731-c55e1a2d940a",
   "metadata": {},
   "source": [
    "<br>\n",
    "\n",
    "***\n"
   ]
  },
  {
   "cell_type": "markdown",
   "id": "344c4fb8-da46-44c1-8a64-6808e7b3a814",
   "metadata": {},
   "source": [
    "## 1. \"Initial run\" and \"continue run\"\n",
    "\n",
    "When a CESM model run is first initialized, it is called an **initial run**. \n",
    "\n",
    "The variable **`$CONTINUE_RUN`** is a flag indicating if the current model run is an **initial run** or a **continue run**. \n",
    "- For an intial run, `CONTINUE_RUN` must be set to *`FALSE`*, \n",
    "- If the model continues a run, `CONTINUE_RUN` is set to *`TRUE`*. \n",
    "\n",
    "Your initial CESM run can be initialized in one of three run types: startup, branch,or hybrid. We will get into more details about the **run types** in the Chapter [Modifying Run Types](../modify_run_type/hybrid_branch_restart.ipynb). \n",
    "\n",
    "For now, we need to know that **setting run types is only important for an initial run when `CONTINUE_RUN` is set to `FALSE`**.  \n",
    "\n"
   ]
  },
  {
   "cell_type": "markdown",
   "id": "37195fbd-8a4f-45f8-81b6-7042bcbf5f08",
   "metadata": {},
   "source": [
    "<br>\n",
    "\n",
    "****\n",
    "\n"
   ]
  },
  {
   "cell_type": "markdown",
   "id": "fa6734b1-bb5e-4fc3-96b7-df867adbbf04",
   "metadata": {},
   "source": [
    "## 2. Set runtime limits with **`STOP_OPTION`** and **`STOP_N`**"
   ]
  },
  {
   "cell_type": "markdown",
   "id": "68eef81e-bd50-43e1-9961-15d0712d17d3",
   "metadata": {},
   "source": [
    "Run length options can be set using **`$STOP_OPTION`** and **`$STOP_N`** variables in env_run.xml. \n",
    "\n",
    "- `STOP_OPTION` : sets the run length time interval type, i.e. nmonths, ndays, nyears.\n",
    "- `STOP_N` :  sets the number of intervals (set by `STOP_OPTION`) to run the model during each submission within the specified wallclock time. "
   ]
  },
  {
   "cell_type": "markdown",
   "id": "da97a05c-ef45-4473-8f05-032aed8dfcf9",
   "metadata": {},
   "source": [
    "<br>\n",
    "For example, if you want to run a simulation for 6 months during the job submssion, you will need to set:\n",
    "\n",
    "```\n",
    "./xmlchange STOP_N=6\n",
    "./xmlchange STOP_OPTION='nmonths'\n",
    "```"
   ]
  },
  {
   "cell_type": "markdown",
   "id": "c5947ac5-c8d6-4abb-9ea7-bce711f48ddd",
   "metadata": {},
   "source": [
    "<br>\n",
    "\n",
    "`STOP_N` and `STOP_OPTION` control the length of the run **per job submission**. They should be set based on the job queue limit and model throughput. You can find more information on this topic in the chapter [Using timing files](./timing_files.ipynb).\n",
    "\n",
    "<br>\n",
    "\n",
    "A typical simulation is comprised of many job submissions. This is because you can only stay in the computer queue for a limited time. We will learn more about completing long simulations in the chapter [Changing run length](./changing_run_length.ipynb)."
   ]
  },
  {
   "cell_type": "code",
   "execution_count": null,
   "id": "c99fbe29-f232-4534-8476-d12bbbc41ffe",
   "metadata": {},
   "outputs": [],
   "source": []
  }
 ],
 "metadata": {
  "kernelspec": {
   "display_name": "Python 3 (ipykernel)",
   "language": "python",
   "name": "python3"
  },
  "language_info": {
   "codemirror_mode": {
    "name": "ipython",
    "version": 3
   },
   "file_extension": ".py",
   "mimetype": "text/x-python",
   "name": "python",
   "nbconvert_exporter": "python",
   "pygments_lexer": "ipython3",
   "version": "3.9.12"
  }
 },
 "nbformat": 4,
 "nbformat_minor": 5
}
