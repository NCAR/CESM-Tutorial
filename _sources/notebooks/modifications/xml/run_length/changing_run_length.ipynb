{
 "cells": [
  {
   "cell_type": "markdown",
   "id": "f406f992-92bd-4b17-9bd3-b99c5c8abaf3",
   "metadata": {},
   "source": [
    "# Changing Run Length\n",
    "\n",
    "How to set run length for long simulations using variables `$STOP_OPTION`, `$STOP_N` and `$RESUBMIT`?"
   ]
  },
  {
   "cell_type": "markdown",
   "id": "555d7d60-109c-45ed-94e2-441bf3a7a93a",
   "metadata": {},
   "source": [
    "## 1. Number of submissions and run length"
   ]
  },
  {
   "cell_type": "markdown",
   "id": "2730b8e5-def6-4ae3-bde0-bb6f0d0f5e02",
   "metadata": {},
   "source": [
    "Recall that we can use [STOP_N and STOP_OPTION](../starting_and_stopping.ipynb) to control the run length of each batch job submission. "
   ]
  },
  {
   "cell_type": "markdown",
   "id": "9641f6ad-7a95-4cf1-8178-26a33ca1ecfb",
   "metadata": {},
   "source": [
    "A typical long model simulation (say you want to run the model for 100 years) is comprised of many job submissions. This is because we have limited batch wallclock time for each job submission. For example, on Cheyenne, the regular queue wallclock limit is 12 hours. "
   ]
  },
  {
   "cell_type": "markdown",
   "id": "dbf6d5d2-ad44-4ff9-8d8b-b18ee368cb6f",
   "metadata": {},
   "source": [
    "We can specify **the number of times to resubmit the run using the `$RESUBMIT`** variable in **`env_run.xml`** to complete the long run. "
   ]
  },
  {
   "cell_type": "markdown",
   "id": "3db7b888-74cf-40dd-9931-e9e312029cf8",
   "metadata": {},
   "source": [
    "<br>"
   ]
  },
  {
   "cell_type": "markdown",
   "id": "58076e6d-4ca6-442d-bd7a-6695e00e6b3d",
   "metadata": {},
   "source": [
    "<div class=\"alert alert-info\">\n",
    "<strong>Evaluate your understanding</strong>\n",
    "\n",
    "The tutorial version of the CESM model on Cheyenne simulates ~10 model years per wallclock day. The maximum wallclock request is 12 hours.\n",
    "If you want to run the model for 100 years, what values should be set for `STOP_OPTION`, `STOP_N` and `RESUBMIT`?\n",
    "    \n",
    "</div>"
   ]
  },
  {
   "cell_type": "markdown",
   "id": "2bbcde94-569d-40cd-bece-f98e511a5c3b",
   "metadata": {},
   "source": [
    "<div class=\"alert alert-warning\">\n",
    "   \n",
    "<details>   \n",
    "   <summary>\n",
    "        <img src=\"https://freesvg.org/img/bulb_on.png\" width=\"20px\">\n",
    "       <font face=\"Times New Roman\" color='blue' size=\"4\">Hint!</font>\n",
    "    </summary>\n",
    "    \n",
    "- How to set `STOP_N` and `STOP_OPTION` for **each submission**, given the wallclock limit?\n",
    "    \n",
    "- How many times to resubmit the job to reach the 100 years?\n",
    "    \n",
    "- The number of total submission = the initial submission + the number of resubmission.\n",
    "    </details>\n",
    "</div>"
   ]
  },
  {
   "cell_type": "markdown",
   "id": "caa0ef50-df17-4841-beaa-485c4b5be2c8",
   "metadata": {},
   "source": [
    "<div class=\"alert alert-success\">\n",
    "   \n",
    "<details>   \n",
    "   <summary>\n",
    "        <img src=\"https://freesvg.org/img/help-browser.png\" width=\"20px\">\n",
    "       <font face=\"Times New Roman\" color='blue' size=\"4\">Click here for the solution </font>\n",
    "    </summary>\n",
    "Assume we want to use the full 12 hours for each job submission.\n",
    "    \n",
    "The model runs 10 years / wallclock day, which means that 12 hours would give us 5 years per job submission. \n",
    "    \n",
    "For a total of 100 years, we will need 20 submissions. \n",
    "\n",
    "```    \n",
    "STOP_OPTION='nyears', STOP_N=5, RESUBMIT=19\n",
    "```  \n",
    "so that initial run of 5 years + (19 resubmits x 5 years per job) = 100 years. \n",
    "\n",
    "</details>\n",
    "</div>"
   ]
  },
  {
   "cell_type": "markdown",
   "id": "6149a7df-1f01-477a-b06a-f7d9196c1060",
   "metadata": {},
   "source": [
    "***\n",
    "<br>"
   ]
  },
  {
   "cell_type": "markdown",
   "id": "0bfe03b7-bd83-4c43-a586-3692bc728dbb",
   "metadata": {},
   "source": [
    "## 2. RESUBMIT and CONTINUE_RUN"
   ]
  },
  {
   "cell_type": "markdown",
   "id": "ba756e82-bbb4-46e5-a603-ff17507f3f8b",
   "metadata": {},
   "source": [
    "In the exercise above, the first submission is the initial run, where `CONTINUE_RUN` is by default set to `FALSE`. When you want to continue the run after running the first 5 years, you will need to tell the model to continue by setting `CONTINUE_RUN=TRUE`. "
   ]
  },
  {
   "cell_type": "markdown",
   "id": "9af5ecdc-778b-49aa-8847-002f10194841",
   "metadata": {},
   "source": [
    "If you have set **`RESUBMIT>0`, your script will automatically change `CONTINUE_RUN=TRUE`** after completion of the first submission for all subsequent submissions into the queue. \n"
   ]
  },
  {
   "cell_type": "markdown",
   "id": "fd397d89-a0d5-4a1d-859a-d2cf574af152",
   "metadata": {},
   "source": [
    "<div class=\"alert alert-info\">\n",
    "<strong>Evaluate your understanding</strong>\n",
    "\n",
    "In the previous exercise, if we have set `RESUBMIT`=19 before the initial run, what are the value of `CONTINUE_RUN` and `RESUBMIT` at the time of:\n",
    "- the initial submission of 5 years\n",
    "- the next submission of 5 years\n",
    "- the 3rd run (2nd resubmission) of 5 years?\n",
    "    \n",
    "</div>"
   ]
  },
  {
   "cell_type": "markdown",
   "id": "fb184cde-0045-4b17-8530-5eb0d1ade77b",
   "metadata": {},
   "source": [
    "<div class=\"alert alert-success\">\n",
    "   \n",
    "<details>   \n",
    "   <summary>\n",
    "        <img src=\"https://freesvg.org/img/help-browser.png\" width=\"20px\">\n",
    "       <font face=\"Times New Roman\" color='blue' size=\"4\">Click here for the solution </font>\n",
    "    </summary>\n",
    "    \n",
    "- **the initial submission of 5 years**: \n",
    "    ```\n",
    "    CONTINUE_RUN=FALSE, RESUBMIT=19 \n",
    "    ```\n",
    "    because when the run is first initialized, `CONTINUE_RUN=FALSE`.\n",
    "<br>\n",
    "- **the next submission of 5 years**: \n",
    "    ```\n",
    "    CONTINUE_RUN=TRUE, RESUBMIT=18 \n",
    "    ```\n",
    "    because `RESUBMIT>0`, `CONTINUE_RUN` will automatically switch to `TRUE` after completing the initial run.\n",
    "<br>\n",
    "    \n",
    "- **the 3rd run (2nd resubmission) of 5 years**: \n",
    "    ```\n",
    "    CONTINUE_RUN=TRUE, RESUBMIT=17\n",
    "    ```\n",
    "    because `CONTINUE_RUN` stays to be `TRUE`, `RESUBMIT` decreases by 1.\n",
    "    \n",
    "    \n",
    "</details>\n",
    "</div>"
   ]
  },
  {
   "cell_type": "code",
   "execution_count": null,
   "id": "610c09ea-94e9-41ef-95b9-bfc537d81da1",
   "metadata": {},
   "outputs": [],
   "source": []
  }
 ],
 "metadata": {
  "kernelspec": {
   "display_name": "Python 3 (ipykernel)",
   "language": "python",
   "name": "python3"
  },
  "language_info": {
   "codemirror_mode": {
    "name": "ipython",
    "version": 3
   },
   "file_extension": ".py",
   "mimetype": "text/x-python",
   "name": "python",
   "nbconvert_exporter": "python",
   "pygments_lexer": "ipython3",
   "version": "3.9.12"
  }
 },
 "nbformat": 4,
 "nbformat_minor": 5
}
