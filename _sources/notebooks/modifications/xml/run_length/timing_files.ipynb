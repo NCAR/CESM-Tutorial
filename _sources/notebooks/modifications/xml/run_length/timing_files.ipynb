{
 "cells": [
  {
   "cell_type": "markdown",
   "id": "f406f992-92bd-4b17-9bd3-b99c5c8abaf3",
   "metadata": {},
   "source": [
    "# Using Timing Files \n",
    "\n",
    "Model timing files contain a summary of various timing information for the run. It is helpful to check the timings after the run to verify that the model is running efficiently. \n",
    "\n",
    "<br>\n",
    "\n",
    "***"
   ]
  },
  {
   "cell_type": "markdown",
   "id": "78615f64-047d-421d-9436-925533cf6827",
   "metadata": {},
   "source": [
    "## 1. What are timing files and where are they located?\n",
    "\n",
    "A summary timing output file is produced after every CESM run. This file is placed in `$CASEROOT/timing/ccsm_timing.$CASE.$date`, where $date is a datestamp set by CESM at runtime, and contains a summary of various timing information.\n",
    "\n",
    "The first section in the timing output, \"CCSM TIMING PROFILE\", summarizes general timing information for the run. The total run time and cost is given in several metrics including pe-hrs per simulated year (**cost**), simulated years per wall day (**thoughput**), seconds, and seconds per model day. This provides general summary information quickly in several units for analysis and comparison with other runs. The total run time for each component is also provided, as is the time for initialization of the model. These times are the aggregate over the total run and do not take into account any temporal or processor load imbalances.\n",
    "\n",
    "<br>\n",
    "\n",
    "***\n",
    "\n",
    "<br>\n"
   ]
  },
  {
   "cell_type": "markdown",
   "id": "40e1c00d-ab11-427c-aa03-c6e0f366dceb",
   "metadata": {
    "tags": []
   },
   "source": [
    "## 2. Use timing files to determine runtime variables\n",
    "\n",
    "Here is the cost information given by timing file will give you the following information:\n",
    "\n",
    "```\n",
    "Overall Metrics: \n",
    "Model Cost: 327.14 pe-hrs/simulated_year (scale= 0.50)\n",
    "Model Throughput: 4.70 simulated_years/day\n",
    "```\n",
    "\n",
    "The model throughput is the estimated number of model years that you can run in a wallclock day. Based on this, you can maximize `$CASE.run` queue limit and change `STOP_OPTION` and `STOP_N` in <strong>`env_run.xml`</strong>.\n",
    "\n",
    "For example, say a model’s throughput is 4.7 simulated_years/day. On Cheyenne, the maximum runtime limit is 12 hours. 4.7 model years/24 hours * 12 hours = 2.34 years. On the massively parallel computers, there is always some variability in how long it will take a job to run. On some machines, you may need to leave as much as 20% buffer time in your run to guarantee that jobs finish reliably before the time limit. For that reason we will set our model to run only 2 model year/job. \n",
    "\n",
    "Continuing to assume that the run is on Cheyenne, we can set:\n",
    "\n",
    "```\n",
    "./xmlchange STOP_OPTION='nyears'\n",
    "./xmlchange STOP_N=2\n",
    "```\n",
    "\n"
   ]
  },
  {
   "cell_type": "code",
   "execution_count": null,
   "id": "c03243b7-4aca-40d2-bdab-02312b58e016",
   "metadata": {},
   "outputs": [],
   "source": []
  }
 ],
 "metadata": {
  "kernelspec": {
   "display_name": "Python 3 (ipykernel)",
   "language": "python",
   "name": "python3"
  },
  "language_info": {
   "codemirror_mode": {
    "name": "ipython",
    "version": 3
   },
   "file_extension": ".py",
   "mimetype": "text/x-python",
   "name": "python",
   "nbconvert_exporter": "python",
   "pygments_lexer": "ipython3",
   "version": "3.9.12"
  }
 },
 "nbformat": 4,
 "nbformat_minor": 5
}
