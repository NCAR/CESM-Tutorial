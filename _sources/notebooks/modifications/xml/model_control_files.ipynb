{
 "cells": [
  {
   "cell_type": "markdown",
   "id": "f406f992-92bd-4b17-9bd3-b99c5c8abaf3",
   "metadata": {},
   "source": [
    "# How to Modify XML Files (*.xml)\n",
    "\n",
    "Now let's learn how to edit and search for variables in an `*.xml` file\n",
    "\n",
    "We will use **`xmlchange`** to modify xml variables and use **`xmlquery`** to search xml variables. Note that you _can_ change XML files manually, but using the `xmlchange` script prevents XML errors and ensures there is a record of your changes in the `CaseStatus` file.\n",
    "\n",
    "For the examples below, you can follow along by going to your `CASEROOT` directory b.day1.0 that you completed in the Basics section."
   ]
  },
  {
   "cell_type": "markdown",
   "id": "0f82a5d4-62f5-462f-b162-bf4854a5e8d0",
   "metadata": {},
   "source": [
    "***\n"
   ]
  },
  {
   "cell_type": "markdown",
   "id": "37497e69-075a-4099-a65d-e1c5cf91086e",
   "metadata": {},
   "source": [
    "## 1. Editing with **`xmlchange`**"
   ]
  },
  {
   "cell_type": "markdown",
   "id": "c1f5f422-194f-4bc9-85a1-5610a266b6c6",
   "metadata": {},
   "source": [
    "When modifying an `*.xml` file, we highly recommend using the **`xmlchange`** tool. This is done using the syntax `./xmlchange VARIABLE=VALUE` in your case directory. "
   ]
  },
  {
   "cell_type": "markdown",
   "id": "057cc9f0-14fc-46f7-b3a5-9eca551dbe16",
   "metadata": {},
   "source": [
    "The xml files can also be edited manually with your favorate text editor (vi, emacs, etc.), but users should take care not to introduce any formatting errors that could lead to incomplete environment variable settings. You can use your text editor to take a look at the xml files -- you will find descriptions of each variable, which can be very helpful in understanding what they control. "
   ]
  },
  {
   "cell_type": "markdown",
   "id": "2c4a7c72-2021-445f-80e4-84539d782e6f",
   "metadata": {},
   "source": [
    "Here is an example for using `xmlchange`.  If you want to change the length of your run to one month, edit `env_run.xml` via the `xmlchange` tool by typing on the command line: \n",
    "\n",
    "```\n",
    "./xmlchange STOP_OPTION=nmonths,STOP_N=1\n",
    "```"
   ]
  },
  {
   "cell_type": "markdown",
   "id": "3221a454-5c83-40c0-ab4e-744a63fa9971",
   "metadata": {},
   "source": [
    "<div class=\"alert alert-warning\">\n",
    "    \n",
    "   <summary>\n",
    "        <img src=\"https://freesvg.org/img/bulb_on.png\" width=\"20px\">\n",
    "       <font face=\"Times New Roman\" color='blue' size=\"4\">Tips!</font>\n",
    "    </summary>\n",
    "When using xmlchange to modify multiple environment variables, use comma (and no space!) in between variables.<br>   \n",
    "You can always find help by typing `./xmlchange --help`\n",
    "    \n",
    "</div>"
   ]
  },
  {
   "cell_type": "markdown",
   "id": "2e2dbbae-0375-49d1-9655-49b2eb5df884",
   "metadata": {},
   "source": [
    "<div class=\"alert alert-warning\">  \n",
    "<details>  \n",
    "\n",
    "<summary><font face=\"Times New Roman\" color='blue' size=\"4\">Click here for example output of `./xmlchange --help` </font></summary><br>\n",
    "\n",
    "```\n",
    "./xmlchange --help\n",
    "```\n",
    "    \n",
    "<br>\n",
    "    \n",
    "<strong>Output: </strong><br>\n",
    "\n",
    "```\n",
    "usage: xmlchange [-h] [-d] [-v] [-s] [--caseroot CASEROOT] [--append]\n",
    "                 [--subgroup SUBGROUP] [--id ID] [--val VAL] [--file FILE]\n",
    "                 [--delimiter DELIMITER] [--dryrun] [--noecho] [-f]\n",
    "                 [-loglevel LOGLEVEL]\n",
    "                 [listofsettings]\n",
    "\n",
    "Allows changing variables in env_*xml files via a command-line interface.\n",
    "\n",
    "This provides two main benefits over editing the xml files by hand:\n",
    "  - Settings are checked immediately for validity\n",
    "  - Settings are echoed to the CaseStatus file, providing a \"paper trail\" of\n",
    "    changes made by the user.\n",
    "\n",
    "Examples:\n",
    "\n",
    "   To set a single variable:\n",
    "      ./xmlchange REST_N=4\n",
    "\n",
    "   To set multiple variables at once:\n",
    "      ./xmlchange REST_OPTION=ndays,REST_N=4\n",
    "\n",
    "   Alternative syntax (no longer recommended, but supported for backwards\n",
    "   compatibility; only works for a single variable at a time):\n",
    "      ./xmlchange --id REST_N --val 4\n",
    "\n",
    "   Several xml variables that have settings for each component have somewhat special treatment.\n",
    "   The variables that this currently applies to are:\n",
    "    NTASKS, NTHRDS, ROOTPE, PIO_TYPENAME, PIO_STRIDE, PIO_NUMTASKS\n",
    "   For example, to set the number of tasks for all components to 16, use:\n",
    "      ./xmlchange NTASKS=16\n",
    "   To set just the number of tasks for the atm component, use:\n",
    "      ./xmlchange NTASKS_ATM=16\n",
    "\n",
    "   The CIME case xml variables are grouped together in xml elements <group></group>.\n",
    "   This is done to associate together xml variables with common features.\n",
    "   Most variables are only associated with one group. However, in env_batch.xml,\n",
    "   there are also xml variables that are associated with each potential batch job.\n",
    "   For these variables, the '--subgroup' option may be used to specify a particular\n",
    "   group for which the variable's value will be adjusted.\n",
    "   \n",
    "...\n",
    "\n",
    "```\n",
    "\n",
    "</details>\n",
    "</div>\n"
   ]
  },
  {
   "cell_type": "markdown",
   "id": "c1ce0178-094a-4f2d-9a8a-d9764b427a0a",
   "metadata": {},
   "source": [
    "\n",
    "<br>"
   ]
  },
  {
   "cell_type": "markdown",
   "id": "bfcc9eca-86f5-4ad0-a481-3f8b481e5a6c",
   "metadata": {},
   "source": [
    "<div class=\"alert alert-info\">\n",
    "<strong>Evaluate your understanding</strong>\n",
    "\n",
    "If you want to manually resubmit an initial case that previously had a `CONTINUE_RUN` value of `FALSE`, how do you change it to `TRUE`?\n",
    "</div>\n",
    "\n"
   ]
  },
  {
   "cell_type": "markdown",
   "id": "bab2a8f3-4cee-4bba-a8fe-570ac306871d",
   "metadata": {},
   "source": [
    "<div class=\"alert alert-success\">  \n",
    "<details>  \n",
    "\n",
    "<summary><font face=\"Times New Roman\" color='blue' size=\"4\">Click here for the solution</font></summary><br>\n",
    "\n",
    "Use <font face=\"Courier\"><strong>xmlchange</strong></font> to modify the variable value with the command:\n",
    "``` \n",
    "    ./xmlchange CONTINUE_RUN=TRUE \n",
    "```\n",
    "\n",
    "</details>\n",
    "</div>\n"
   ]
  },
  {
   "cell_type": "markdown",
   "id": "b4cdce13-52a4-4dcc-bd19-93db33339402",
   "metadata": {},
   "source": [
    "<br>\n",
    "\n",
    "***"
   ]
  },
  {
   "cell_type": "markdown",
   "id": "9dcd9f04-8a62-40bb-8901-c709edab0764",
   "metadata": {},
   "source": [
    "## 2. Searching xml variables with **`xmlquery`**"
   ]
  },
  {
   "cell_type": "markdown",
   "id": "85e1421c-8386-4d7b-aa51-a0d0240d3a8b",
   "metadata": {},
   "source": [
    "We recommend using the **`xmlquery`** tool in your case directory to query xml variables."
   ]
  },
  {
   "cell_type": "markdown",
   "id": "01d3cdf9-7eb5-4dc4-9745-1efb571f0efb",
   "metadata": {},
   "source": [
    "For example, to find out the run type of your job, search for xml variable `RUN_TYPE`: \n",
    "\n",
    "```\n",
    "./xmlquery RUN_TYPE\n",
    "```"
   ]
  },
  {
   "cell_type": "markdown",
   "id": "67864bd6-d229-4b28-b976-6e18883b042b",
   "metadata": {},
   "source": [
    "<div class=\"alert alert-warning\">\n",
    "    \n",
    "   <summary>\n",
    "        <img src=\"https://freesvg.org/img/bulb_on.png\" width=\"20px\">\n",
    "       <font face=\"Times New Roman\" color='blue' size=\"4\">Tips!</font>\n",
    "    </summary>\n",
    "\n",
    "You can always find help by typing `./xmlquery --help` \n",
    "</div>"
   ]
  },
  {
   "cell_type": "markdown",
   "id": "b01a2599-923a-4a78-ae97-42904f679e52",
   "metadata": {},
   "source": [
    "This will return the default `RUN_TYPE` value:\n",
    ">RUN_TYPE: hybrid"
   ]
  },
  {
   "cell_type": "markdown",
   "id": "e83f2c2d-5a57-447a-add3-f0d37ec74bb3",
   "metadata": {},
   "source": [
    "<br>"
   ]
  },
  {
   "cell_type": "markdown",
   "id": "9adc30a9-549b-4a68-a25a-743fab747aa6",
   "metadata": {},
   "source": [
    "<div class=\"alert alert-info\">\n",
    "<strong>Evaluate your understanding</strong>\n",
    "\n",
    "Let's check if the variables in the previous exercise are properly modified.\n",
    "    \n",
    "Query for the value of `STOP_N`, `STOP_OPTION`, and `CONTINUE_RUN`.\n",
    "\n",
    "</div>\n",
    "\n"
   ]
  },
  {
   "cell_type": "markdown",
   "id": "2a664275-f370-4438-af52-7ed9c8526517",
   "metadata": {},
   "source": [
    "<div class=\"alert alert-success\">\n",
    "   \n",
    "<details>   \n",
    "   <summary>\n",
    "        <img src=\"https://freesvg.org/img/help-browser.png\" width=\"20px\">\n",
    "       <font face=\"Times New Roman\" color='blue' size=\"4\">Click here for the solution</font>\n",
    "    </summary>\n",
    "    \n",
    "Use `xmlquery` to search the variables with the command:\n",
    "<br>\n",
    "```\n",
    "    ./xmlquery STOP_N,STOP_OPTION,CONTINUE_RUN \n",
    "```\n",
    "    \n",
    "<br>    \n",
    "If you see: \n",
    "\n",
    "```\n",
    ">STOP_N: 1 \n",
    ">STOP_OPTION: nmonths \n",
    ">CONTINUE_RUN: TRUE \n",
    "```\n",
    "<br>\n",
    "    Great!  You have successfully queried these variables. \n",
    "<br>\n",
    "\n",
    "    \n",
    "</details>\n",
    "</div>"
   ]
  },
  {
   "cell_type": "markdown",
   "id": "ba5e3006-7d70-4e3f-bdf9-351f766bd7ca",
   "metadata": {},
   "source": [
    "<br>\n",
    "\n",
    "***\n"
   ]
  },
  {
   "cell_type": "markdown",
   "id": "55f9f962-c8ae-4685-ae6d-9d4a75f1d5b5",
   "metadata": {},
   "source": [
    "## 3. Use the subgroup functionality of **`xmlchange`**"
   ]
  },
  {
   "cell_type": "markdown",
   "id": "a3e50d72-dac9-42be-95a7-71e1d8759ea1",
   "metadata": {},
   "source": [
    "Now let's first try to find out the wallclock time of your job, search for xml variable `JOB_WALLCLOCK_TIME`: \n",
    "\n",
    "```\n",
    "./xmlquery JOB_WALLCLOCK_TIME\n",
    "```"
   ]
  },
  {
   "cell_type": "markdown",
   "id": "f190bd81-be55-481a-820a-522d7f77fb08",
   "metadata": {},
   "source": [
    "<div class=\"alert alert-warning\">\n",
    "    \n",
    "   <summary>\n",
    "        <img src=\"https://freesvg.org/img/bulb_on.png\" width=\"20px\">\n",
    "       <font face=\"Times New Roman\" color='blue' size=\"4\">Tips!</font>\n",
    "    </summary>\n",
    "    \n",
    "If you are unsure about the full name of the xml variable, you can query variables with a partial match, using `--partial-match` or `-p`. \n",
    "    \n",
    "For example: `./xmlquery -p WALLCLOCK`\n",
    "    \n",
    "</div>"
   ]
  },
  {
   "cell_type": "markdown",
   "id": "1279be11-3868-4aac-9132-042d7efd515b",
   "metadata": {},
   "source": [
    "<br>\n",
    "You will find that the query of wallclock time returns multiple instances:"
   ]
  },
  {
   "cell_type": "markdown",
   "id": "fea58693-2073-42e9-a219-568119f870f0",
   "metadata": {},
   "source": [
    ">Results in group case.run <br>\n",
    ">JOB_WALLCLOCK_TIME: 00:30:00\n",
    "\n",
    ">Results in group case.st_archive<br>\n",
    ">JOB_WALLCLOCK_TIME: 00:30:00"
   ]
  },
  {
   "cell_type": "markdown",
   "id": "84969b59-8664-4104-a292-76c5e6d36d7f",
   "metadata": {},
   "source": [
    "The variable `JOB-WALLCLOCK_TIME` has two instances in two different subgroups: `case.run` and `case.st_archive`. <br>\n",
    "\n",
    "Then, how do we specify which instance we want to modify?\n",
    "\n",
    "For variables that have multiple instances, we can use the **\"subgroups\"** functionality in `xmlchange`.\n",
    "For example, if we want to change the default `JOB_WALLCLOCK_TIME` from 30 minutes to 1 hour for the short term archiver subgroup, type in the following command:\n",
    "\n",
    "```\n",
    "./xmlchange --subgroup case.st_archive JOB_WALLCLOCK_TIME=01:00:00\n",
    "```"
   ]
  },
  {
   "cell_type": "markdown",
   "id": "be11b2ed-b3a5-49ea-a350-bc4fa7f2e609",
   "metadata": {},
   "source": [
    "Try it yourself! Type in the command above and use `xmlquery` to check if your modifications are correctly applied. "
   ]
  },
  {
   "cell_type": "code",
   "execution_count": null,
   "id": "f1ed48db-f145-4e5c-a656-8249053833f7",
   "metadata": {},
   "outputs": [],
   "source": []
  }
 ],
 "metadata": {
  "kernelspec": {
   "display_name": "Python 3 (ipykernel)",
   "language": "python",
   "name": "python3"
  },
  "language_info": {
   "codemirror_mode": {
    "name": "ipython",
    "version": 3
   },
   "file_extension": ".py",
   "mimetype": "text/x-python",
   "name": "python",
   "nbconvert_exporter": "python",
   "pygments_lexer": "ipython3",
   "version": "3.9.12"
  }
 },
 "nbformat": 4,
 "nbformat_minor": 5
}
