{
 "cells": [
  {
   "cell_type": "markdown",
   "id": "8f61eb16-f182-4b94-9959-5fb517a5bc7e",
   "metadata": {},
   "source": [
    "# Other Useful XML Variables "
   ]
  },
  {
   "cell_type": "markdown",
   "id": "b616dc75-7fd6-46db-8e96-27278c7ec731",
   "metadata": {},
   "source": [
    "Here are some more xml variables in `env_run.xml` that you may encounter:\n",
    "\n",
    "- `INFO_DBUG` ==> sets the level of stdout (standard out) print statements. This variable is useful for debugging. If debugging, a higher value may be set.  \n",
    "- `DOUT_S` ==> turns on short-term archiving. `DOUT_S` is set to `TRUE` by default. \n",
    "- `HIST_OPTION` ==> sets driver snapshot history file frequency. \n",
    "- `CCSM_CO2_PPMV` ==> CO2 value to be propogated to the ocean component POP and the land component CLM, when `OCN_CO2_TYPE` and `CLM_CO2_TYPE` are set to `'constant'`. \n"
   ]
  },
  {
   "cell_type": "code",
   "execution_count": null,
   "id": "7d74f86e-c1dc-45a3-845f-2d0200fbedbd",
   "metadata": {},
   "outputs": [],
   "source": []
  }
 ],
 "metadata": {
  "kernelspec": {
   "display_name": "Python 3 (ipykernel)",
   "language": "python",
   "name": "python3"
  },
  "language_info": {
   "codemirror_mode": {
    "name": "ipython",
    "version": 3
   },
   "file_extension": ".py",
   "mimetype": "text/x-python",
   "name": "python",
   "nbconvert_exporter": "python",
   "pygments_lexer": "ipython3",
   "version": "3.9.12"
  }
 },
 "nbformat": 4,
 "nbformat_minor": 5
}
