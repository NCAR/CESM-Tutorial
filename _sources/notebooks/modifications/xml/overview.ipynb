{
 "cells": [
  {
   "cell_type": "markdown",
   "id": "f406f992-92bd-4b17-9bd3-b99c5c8abaf3",
   "metadata": {
    "tags": []
   },
   "source": [
    "# Overview \n",
    "\n",
    "What is an XML file, and how do we use it in CESM?"
   ]
  },
  {
   "cell_type": "markdown",
   "id": "55a68c69-196d-42c3-ae01-ad55f10daa6d",
   "metadata": {},
   "source": [
    "***"
   ]
  },
  {
   "cell_type": "markdown",
   "id": "0637e559-0f3c-46b3-bc80-f7fe1081387a",
   "metadata": {},
   "source": [
    "## 1. What is an XML file?\n",
    "\n",
    "XML (Extensible Markup Language) is a markup language that defines a syntax for encoding documents that both humans and machines could read. It is used to describe data in a structured way and defines how the document should be stored and transported."
   ]
  },
  {
   "cell_type": "markdown",
   "id": "027b5e63-e318-411e-b854-9109fc0491ce",
   "metadata": {},
   "source": [
    "<div class=\"alert alert-info\" style=\"text-align: center;\">\n",
    "\n",
    "[Additional information on XML files](https://www.howtogeek.com/357092/what-is-an-xml-file-and-how-do-i-open-one/)\n",
    "\n",
    "</div>"
   ]
  },
  {
   "cell_type": "markdown",
   "id": "fa35fe32-ea6a-4e3e-9a9a-070697bca22f",
   "metadata": {},
   "source": [
    "\n",
    "***"
   ]
  },
  {
   "cell_type": "markdown",
   "id": "57f433ea-3424-447f-b6e7-68673a40d24d",
   "metadata": {},
   "source": [
    "## 2. CESM XML files and CESM environment variables"
   ]
  },
  {
   "cell_type": "markdown",
   "id": "0c67affb-108e-4005-8329-ccd19ef87eda",
   "metadata": {},
   "source": [
    "CESM cases are customized, built and run largely through setting what CESM calls **\"environment variables\"**. These actually appear to the user as variables defined in xml files. \n",
    "\n",
    "\n",
    "These files appear in the case directory (`$CASEROOT`) once a case is created and are named something like **`env_*.xml`**. We control how we compile and run the model with these files."
   ]
  },
  {
   "cell_type": "markdown",
   "id": "e58d2ab9-957f-4078-a7eb-5b7091c28616",
   "metadata": {},
   "source": [
    "## XML file locations\n",
    "\n",
    "![CESM xml files](../../../images/modifications/CESM2_xml_files.png)\n",
    "*<p style=\"text-align: center;\"> Figure: Overview of the XML file locations </p>*"
   ]
  },
  {
   "cell_type": "markdown",
   "id": "cce5ecd7-e613-47bd-8c4b-1e547b2a75ae",
   "metadata": {},
   "source": [
    "There are multiple **`env_*.xml`** files in the `$CASEROOT` directory:\n",
    "\n",
    "- `env_archive.xml`: specifies rules for short term archive script `case.st_archive`\n",
    "- `env_batch.xml`: specifies batch specific settings used in `case.submit` script\n",
    "- `env_build.xml`: specifies build information used in the `case.build` script\n",
    "- `env_case.xml`: set by create_newcase and **cannot** be modified\n",
    "- `env_mach_pes.xml`: specifies PE layout on NCAR HPC for components and used by `case.run` script  \n",
    "- `env_mach_specific.xml`: specifies machine specific information used in `case.build` script\n",
    "-  `env_run.xml`: sets run time information (such as length of run, number of submissions, …)\n"
   ]
  },
  {
   "cell_type": "markdown",
   "id": "58df9e9f-ef86-4a65-91c2-4b829b33a86e",
   "metadata": {},
   "source": [
    "In this section, we will learn and practice **modifying CESM run length and run type using `env_run.xml`**!"
   ]
  }
 ],
 "metadata": {
  "kernelspec": {
   "display_name": "Python 3 (ipykernel)",
   "language": "python",
   "name": "python3"
  },
  "language_info": {
   "codemirror_mode": {
    "name": "ipython",
    "version": 3
   },
   "file_extension": ".py",
   "mimetype": "text/x-python",
   "name": "python",
   "nbconvert_exporter": "python",
   "pygments_lexer": "ipython3",
   "version": "3.9.12"
  }
 },
 "nbformat": 4,
 "nbformat_minor": 5
}
