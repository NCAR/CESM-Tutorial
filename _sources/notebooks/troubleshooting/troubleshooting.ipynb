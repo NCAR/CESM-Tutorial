{
 "cells": [
  {
   "cell_type": "markdown",
   "id": "0959db1d-1790-4519-a34e-7026444af537",
   "metadata": {},
   "source": [
    "# Troubleshooting runtime errors\n",
    "\n",
    "There are several places to look for information if a job fails. \n",
    "- The logs files will probably give you a hint. \n",
    "- It is also possible to run with more debugging info. \n",
    "\n",
    "\n",
    "<div class=\"alert alert-info\" style=\"text-align: center;\">\n",
    "\n",
    "More information about troubleshooting can be found in the [CIME documentation](https://esmci.github.io/cime/versions/master/html/users_guide/troubleshooting.html).\n",
    "\n",
    "</div>"
   ]
  }
 ],
 "metadata": {
  "kernelspec": {
   "display_name": "Python 3 (ipykernel)",
   "language": "python",
   "name": "python3"
  },
  "language_info": {
   "codemirror_mode": {
    "name": "ipython",
    "version": 3
   },
   "file_extension": ".py",
   "mimetype": "text/x-python",
   "name": "python",
   "nbconvert_exporter": "python",
   "pygments_lexer": "ipython3",
   "version": "3.9.12"
  }
 },
 "nbformat": 4,
 "nbformat_minor": 5
}
