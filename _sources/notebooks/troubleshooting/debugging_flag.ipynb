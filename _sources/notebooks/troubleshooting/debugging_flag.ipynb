{
 "cells": [
  {
   "cell_type": "markdown",
   "id": "afbbe9ba-517d-4db4-9c7c-0b3daaf0e7ac",
   "metadata": {},
   "source": [
    "# Adding debugging info\n",
    "\n",
    "If you cannot find the reason of the crash in the **log** files, there are two ways to add more debugging information. \n",
    "- Increase the value of the run-time xml variable ``INFO_DBUG`` (This **does NOT require rebuilding**): \n",
    "```\n",
    "./xmlchange INFO_DBUG=2. \n",
    "```\n",
    "This adds more information to the ``cpl.log`` file that can be useful if you can’t tell what component is aborting the run, or where bad coupling fields are originating.\n",
    "\n",
    "- Try rebuilding and rerunning with the variable DEBUG set to TRUE (This ** requires rebuilding**): \n",
    "```\n",
    "./xmlchange DEBUG=TRUE.\n",
    "```\n",
    "This adds various runtime checks that trap conditions such as out-of-bounds array indexing, divide by 0, and other floating point exceptions.\n",
    "Before running, you must rebuild run \n",
    "```\n",
    "./case.build --clean-all\n",
    "qcmd -- ./case.build.\n",
    "```\n",
    "Note that the model will run **significantly slower** in ``DEBUG mode``, so this may not be feasible if the model has to run a long time before producing the error. "
   ]
  }
 ],
 "metadata": {
  "kernelspec": {
   "display_name": "Python 3 (ipykernel)",
   "language": "python",
   "name": "python3"
  },
  "language_info": {
   "codemirror_mode": {
    "name": "ipython",
    "version": 3
   },
   "file_extension": ".py",
   "mimetype": "text/x-python",
   "name": "python",
   "nbconvert_exporter": "python",
   "pygments_lexer": "ipython3",
   "version": "3.9.12"
  }
 },
 "nbformat": 4,
 "nbformat_minor": 5
}
