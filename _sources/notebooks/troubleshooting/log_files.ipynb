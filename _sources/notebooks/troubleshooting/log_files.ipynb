{
 "cells": [
  {
   "cell_type": "markdown",
   "id": "f406f992-92bd-4b17-9bd3-b99c5c8abaf3",
   "metadata": {},
   "source": [
    "# The log files\n",
    "\n",
    "The log files are files in the format ``$model.log.*`` \n",
    "- When the model is running, it produces the log files in the **run directory**: ``RUNDIR``. \n",
    "- When the run completes successfully, the model moves the log files into the **archive** directory: ``DOUT_S_ROOT``\n",
    "- When the model fails, the log files remains in the run directory ``RUNDIR``\n",
    "\n",
    "![CESM directories and namelists](../../images/troubleshooting/CESM_directories_and_log_files.png)\n",
    "\n",
    "*<p style=\"text-align: center;\"> Figure: Overview of the CESM directories and the log files. </p>*\n"
   ]
  },
  {
   "cell_type": "markdown",
   "id": "017b45ad-dcff-42b2-8623-06033b8e11d8",
   "metadata": {},
   "source": [
    "## What to do when a run fails? \n",
    "\n",
    "First, check the latest ``cpl.log.*``, which will often tell you when the model failed. If a run completed successfully, the last several lines of the ``cpl.log.*`` file will have a string like ``SUCCESSFUL TERMINATION OF CESM``. \n",
    "If you don't see this message, it means the run has failed. \n",
    "\n",
    "Check these things first when a job fails:\n",
    "- Did the model time out?\n",
    "- Was a disk quota limit hit?\n",
    "- Did a machine go down?\n",
    "- Did a file system become full?\n",
    "If any of those things happened, take appropriate corrective action and resubmit the job.\n",
    "\n",
    "If it is not clear that any of the above caused a case to fail, check the rest of the component log files ``$model.log.*`` for error messages. It takes a bit of practice to interpret message errors. We will look at an example in this chapter exercices. "
   ]
  }
 ],
 "metadata": {
  "kernelspec": {
   "display_name": "Python 3 (ipykernel)",
   "language": "python",
   "name": "python3"
  },
  "language_info": {
   "codemirror_mode": {
    "name": "ipython",
    "version": 3
   },
   "file_extension": ".py",
   "mimetype": "text/x-python",
   "name": "python",
   "nbconvert_exporter": "python",
   "pygments_lexer": "ipython3",
   "version": "3.9.12"
  }
 },
 "nbformat": 4,
 "nbformat_minor": 5
}
