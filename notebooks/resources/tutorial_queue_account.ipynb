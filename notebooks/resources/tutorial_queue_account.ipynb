{
 "cells": [
  {
   "cell_type": "markdown",
   "id": "b2cd974a-dfbb-4937-8ed0-ab87ab60f1ef",
   "metadata": {},
   "source": [
    "# Tutorial queue and account"
   ]
  },
  {
   "cell_type": "markdown",
   "id": "4a6f76fe-9658-443c-89a7-9ede364803e5",
   "metadata": {},
   "source": [
    "### Tutorial Project Account\n",
    "\n",
    "<div class=\"alert alert-warning\">\n",
    "You should have access to project account <strong>UESM0013</strong> and use this for your simulations.\n",
    "</div>\n",
    "\n",
    "You can change the account in your case directory using the following command:\n",
    "```\n",
    "./xmlchange PROJECT=UESM0013\n",
    "```"
   ]
  },
  {
   "cell_type": "markdown",
   "id": "9db9d54e-ef78-44ef-a003-4ddd8a416317",
   "metadata": {},
   "source": [
    "### Special Queues\n",
    "\n",
    "<div class=\"alert alert-warning\">\n",
    "\n",
    "<strong>Schedule for Tutorial Reservation Queues</strong>\n",
    "    \n",
    "- We have a special queue <strong>tutorial</strong> during the lab sessions to ensure you get through the derecho queues quickly and get your jobs run. This queue are only active during our lab sessions. \n",
    "\n",
    "- Outside the lab sessions, you should use the queue <strong>main</strong> to run cesm.\n",
    "    \n",
    "</div>\n",
    "\n",
    "If you need to change the  value for a run, you can change the reservation queue in your case directory using the following command:\n",
    "\n",
    "During the lab sessions:\n",
    "```\n",
    "./xmlchange JOB_QUEUE=tutorial --force\n",
    "```\n",
    "\n",
    "Outside the lab sessions:\n",
    "```\n",
    "./xmlchange JOB_QUEUE=main --force\n",
    "```"
   ]
  },
  {
   "cell_type": "markdown",
   "id": "d312e6e0-f48b-4f86-a97b-96c255d35d26",
   "metadata": {},
   "source": [
    "### Compiling in the Special Queue"
   ]
  },
  {
   "cell_type": "markdown",
   "id": "6ddf7177-0dd6-4ce3-be1e-ee70e5be9419",
   "metadata": {},
   "source": [
    "By default, we compile cesm on a shared node called `develop`. However, as we want to avoid long wait time during the labs, we will compile in the specialed reservation queue `tutorial`. \n",
    "\n",
    "During the lab sessions, use\n",
    "\n",
    "```\n",
    "qcmd -q tutorial -- ./case.build \n",
    "```\n",
    "\n",
    "\n",
    "Outside the lab sessions, use\n",
    "\n",
    "```\n",
    "qcmd -- ./case.build \n",
    "```"
   ]
  },
  {
   "cell_type": "code",
   "execution_count": null,
   "id": "5b77ea28-df80-4c20-a123-ec1e09a1475a",
   "metadata": {},
   "outputs": [],
   "source": []
  }
 ],
 "metadata": {
  "kernelspec": {
   "display_name": "Python 3 (ipykernel)",
   "language": "python",
   "name": "python3"
  },
  "language_info": {
   "codemirror_mode": {
    "name": "ipython",
    "version": 3
   },
   "file_extension": ".py",
   "mimetype": "text/x-python",
   "name": "python",
   "nbconvert_exporter": "python",
   "pygments_lexer": "ipython3",
   "version": "3.10.13"
  },
  "toc-showcode": false
 },
 "nbformat": 4,
 "nbformat_minor": 5
}
