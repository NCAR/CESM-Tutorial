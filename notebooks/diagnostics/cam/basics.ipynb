{
 "cells": [
  {
   "cell_type": "markdown",
   "id": "33070195-2d5f-4ee3-b6cb-a658209b1f4d",
   "metadata": {},
   "source": [
    "# Basic Plotting"
   ]
  },
  {
   "cell_type": "code",
   "execution_count": 2,
   "id": "3cc32cbe",
   "metadata": {},
   "outputs": [
    {
     "ename": "ModuleNotFoundError",
     "evalue": "No module named 'xarray'",
     "output_type": "error",
     "traceback": [
      "\u001b[0;31m---------------------------------------------------------------------------\u001b[0m",
      "\u001b[0;31mModuleNotFoundError\u001b[0m                       Traceback (most recent call last)",
      "\u001b[0;32m/var/folders/zy/g22fsg9j2z1glv0nrrxvv5sh0000gp/T/ipykernel_99003/1050980026.py\u001b[0m in \u001b[0;36m<module>\u001b[0;34m\u001b[0m\n\u001b[0;32m----> 1\u001b[0;31m \u001b[0;32mimport\u001b[0m \u001b[0mxarray\u001b[0m \u001b[0;32mas\u001b[0m \u001b[0mxr\u001b[0m\u001b[0;34m\u001b[0m\u001b[0;34m\u001b[0m\u001b[0m\n\u001b[0m\u001b[1;32m      2\u001b[0m \u001b[0;32mimport\u001b[0m \u001b[0mnumpy\u001b[0m \u001b[0;32mas\u001b[0m \u001b[0mnp\u001b[0m\u001b[0;34m\u001b[0m\u001b[0;34m\u001b[0m\u001b[0m\n\u001b[1;32m      3\u001b[0m \u001b[0;32mimport\u001b[0m \u001b[0mmatplotlib\u001b[0m \u001b[0;32mas\u001b[0m \u001b[0mmpl\u001b[0m\u001b[0;34m\u001b[0m\u001b[0;34m\u001b[0m\u001b[0m\n\u001b[1;32m      4\u001b[0m \u001b[0;32mimport\u001b[0m \u001b[0mmatplotlib\u001b[0m\u001b[0;34m.\u001b[0m\u001b[0mpyplot\u001b[0m \u001b[0;32mas\u001b[0m \u001b[0mplt\u001b[0m\u001b[0;34m\u001b[0m\u001b[0;34m\u001b[0m\u001b[0m\n\u001b[1;32m      5\u001b[0m \u001b[0;32mimport\u001b[0m \u001b[0mmatplotlib\u001b[0m\u001b[0;34m.\u001b[0m\u001b[0mpath\u001b[0m \u001b[0;32mas\u001b[0m \u001b[0mmpath\u001b[0m\u001b[0;34m\u001b[0m\u001b[0;34m\u001b[0m\u001b[0m\n",
      "\u001b[0;31mModuleNotFoundError\u001b[0m: No module named 'xarray'"
     ]
    }
   ],
   "source": [
    "import xarray as xr\n",
    "import numpy as np\n",
    "import matplotlib as mpl\n",
    "import matplotlib.pyplot as plt\n",
    "import matplotlib.path as mpath\n",
    "from matplotlib.gridspec import GridSpec\n",
    "from matplotlib.lines import Line2D\n",
    "from mpl_toolkits.axes_grid1 import make_axes_locatable\n",
    "import cartopy.crs as ccrs\n",
    "import cartopy.feature as cfeature\n",
    "import cftime\n",
    "import os"
   ]
  },
  {
   "cell_type": "markdown",
   "id": "3d56ba02-c652-4a97-a466-d3633e53aeb1",
   "metadata": {},
   "source": [
    "Use the file: /glade/scratch/hannay/archive/b1850_high_freq/atm/hist/b1850_high_freq.cam.h0.0001-01.nc"
   ]
  },
  {
   "cell_type": "code",
   "execution_count": null,
   "id": "31fd2700",
   "metadata": {},
   "outputs": [],
   "source": [
    "### Here we point to the CESM2-LE datasets on campaign disk\n",
    "\n",
    "monthly_output_path = \"/glade/scratch/hannay/archive/b1850_high_freq/atm/hist\"\n",
    "run_name = \"b1850_high_freq.cam.h0.0001-01.nc\"\n",
    "\n",
    "files = os.path.join(monthly_output_path,\n",
    "                         run_name)\n",
    "files"
   ]
  },
  {
   "cell_type": "code",
   "execution_count": null,
   "id": "934693cd",
   "metadata": {},
   "outputs": [],
   "source": [
    "ds = xr.open_dataset(files)\n",
    "ds"
   ]
  },
  {
   "cell_type": "markdown",
   "id": "98894413-8550-49ba-b5ff-c027900b253a",
   "metadata": {},
   "source": [
    "## Exercise 1: Make a lat-lon plot of TS"
   ]
  },
  {
   "cell_type": "code",
   "execution_count": null,
   "id": "65868ea4",
   "metadata": {},
   "outputs": [],
   "source": [
    "# Grab data from first (and only in this case) time stamp\n",
    "ds['TS'].sel({'time':ds.TS.time.values[0]}).squeeze()"
   ]
  },
  {
   "cell_type": "code",
   "execution_count": null,
   "id": "7bc27da5",
   "metadata": {},
   "outputs": [],
   "source": [
    "# Grab a subset of the data for only TS (surface temperatures)\n",
    "ds.TS"
   ]
  },
  {
   "cell_type": "code",
   "execution_count": null,
   "id": "c28ddfd8",
   "metadata": {},
   "outputs": [],
   "source": [
    "# How you can grab the variable long name for plot title\n",
    "ds.TS.long_name"
   ]
  },
  {
   "cell_type": "code",
   "execution_count": null,
   "id": "75260762",
   "metadata": {},
   "outputs": [],
   "source": [
    "# How you can grab the times in the dataset\n",
    "ds.TS.time.values"
   ]
  },
  {
   "cell_type": "code",
   "execution_count": null,
   "id": "781e0117",
   "metadata": {},
   "outputs": [],
   "source": [
    "# define the colormap\n",
    "cmap = plt.cm.get_cmap('jet')  \n",
    "\n",
    "# set up the figure with a Plate Carree projection\n",
    "fig = plt.figure(figsize=(15,10))\n",
    "\n",
    "ax = fig.add_subplot(1,1,1, projection=ccrs.PlateCarree())\n",
    "\n",
    "# sets the latitude / longitude boundaries of the plot\n",
    "ax.set_extent([0.005, 360, 90, -90], crs=ccrs.PlateCarree())\n",
    "\n",
    "#Plot the first timeslice of aice\n",
    "img=ax.pcolormesh(ds['lon'],\n",
    "                   ds['lat'],\n",
    "                   ds['TS'].sel({'time':ds.TS.time.values[0]}).squeeze(),\n",
    "                   cmap=cmap,#vmax=1,vmin=0,\n",
    "                   transform=ccrs.PlateCarree())\n",
    "\n",
    "plt.title(\"Surface Temperature\",fontsize=20)\n",
    "\n",
    "# Set up colorbar\n",
    "plt.colorbar(img,orientation='vertical',fraction=0.0242,pad=0.01)\n",
    "plt.show()"
   ]
  },
  {
   "cell_type": "code",
   "execution_count": null,
   "id": "2b7f1813",
   "metadata": {},
   "outputs": [],
   "source": [
    "# Xarray native plotting\n",
    "\n",
    "ts = ds['TS'].sel({'time':ds.TS.time.values[0]}).squeeze()\n",
    "\n",
    "fig, ax = plt.subplots(1,figsize=(20,10))\n",
    "\n",
    "ts.plot.contourf(cmap=\"jet\",levels=np.arange(220,321,5))\n",
    "plt.show()"
   ]
  },
  {
   "cell_type": "markdown",
   "id": "e76ae69f",
   "metadata": {},
   "source": [
    "#### Question:\n",
    "\n",
    "How is this map oriented? Are there features that stand out? How could we change the central longitude? "
   ]
  },
  {
   "cell_type": "markdown",
   "id": "3433387f",
   "metadata": {},
   "source": [
    "---"
   ]
  },
  {
   "cell_type": "markdown",
   "id": "42b295a0-4675-4d4e-814f-5aac53b90973",
   "metadata": {},
   "source": [
    "## Exercise 2: Zonal plot of SWCF"
   ]
  },
  {
   "cell_type": "code",
   "execution_count": null,
   "id": "4159f785",
   "metadata": {},
   "outputs": [],
   "source": [
    "ds_swcf = ds.SWCF\n",
    "\n",
    "d = ds_swcf.dims\n",
    "davgovr = [dim for dim in d if dim not in ('lev','lat')]\n",
    "\n",
    "DS = ds_swcf.mean(dim=davgovr)"
   ]
  },
  {
   "cell_type": "code",
   "execution_count": null,
   "id": "27af1990",
   "metadata": {},
   "outputs": [],
   "source": [
    "fig, ax = plt.subplots(1,figsize=(12,7))\n",
    "\n",
    "# Set Main title for subplots:\n",
    "plt.title(\"Short Wave Cloud Forcing\",fontsize=20)\n",
    "\n",
    "# Set legend for plot line\n",
    "#TODO: what should go for the line legend, if anything? Maybe time?\n",
    "line = Line2D([0], [0], label=run_name[:-3],\n",
    "                        color=\"#1f77b4\")\n",
    "\n",
    "fig.legend(handles=[line],bbox_to_anchor=(-0.15, 0.15, 1.05, .102),loc=\"right\",\n",
    "                   borderaxespad=0.0,fontsize=16,frameon=False)\n",
    "\n",
    "ax.plot(DS['lat'], DS, c=\"#1f77b4\")\n",
    "\n",
    "ax.set_xlim([max([DS.lat.min(), -90.]), min([DS.lat.max(), 90.])])\n",
    "\n",
    "ax.set_xlabel(\"Latitude\")\n",
    "plt.show()"
   ]
  },
  {
   "cell_type": "markdown",
   "id": "cadd1e2d",
   "metadata": {},
   "source": [
    "---"
   ]
  },
  {
   "cell_type": "markdown",
   "id": "49402bdd-648e-4021-af0e-9280067b7d76",
   "metadata": {},
   "source": [
    "## Exercise 3: Plot of zonal T "
   ]
  },
  {
   "cell_type": "code",
   "execution_count": null,
   "id": "3572247e",
   "metadata": {},
   "outputs": [],
   "source": [
    "ds_t = ds.T.squeeze()"
   ]
  },
  {
   "cell_type": "markdown",
   "id": "e85d2a66",
   "metadata": {},
   "source": [
    "#### Natively via xarray\n",
    "\n",
    " - y-axis is <strong>increasing</strong> with height\n",
    " - y-axis is <strong>not</strong> in log pressure"
   ]
  },
  {
   "cell_type": "code",
   "execution_count": null,
   "id": "957a254b",
   "metadata": {},
   "outputs": [],
   "source": [
    "#Average over all dimensions except `lev` and `lat`.\n",
    "d = ds_t.dims\n",
    "davgovr = [dim for dim in d if dim not in ('lev','lat')]\n",
    "\n",
    "DS = ds_t.mean(dim=davgovr)\n",
    "DS.transpose('lat', 'lev',...)\n",
    "fig, ax = plt.subplots(1,figsize=(20,10))\n",
    "DS.plot.contourf(ax=ax, y='lev',cmap=\"Spectral_r\")\n",
    "plt.show()"
   ]
  },
  {
   "cell_type": "markdown",
   "id": "80b3c98e",
   "metadata": {},
   "source": [
    "#### ADF style quick plot\n",
    "\n",
    " - y-axis is <strong>increasing</strong> with height\n",
    " - y-axis is <strong>not</strong> in log pressure"
   ]
  },
  {
   "cell_type": "code",
   "execution_count": null,
   "id": "4b850f00",
   "metadata": {},
   "outputs": [],
   "source": [
    "#Average over all dimensions except `lev` and `lat`.\n",
    "d = ds_t.dims\n",
    "davgovr = [dim for dim in d if dim not in ('lev','lat')]\n",
    "\n",
    "DS = ds_t.mean(dim=davgovr)\n",
    "\n",
    "lev = DS['lev']\n",
    "lat = DS['lat']\n",
    "mlev, mlat = np.meshgrid(lev, lat)\n",
    "\n",
    "# Generate zonal plot:\n",
    "fig, ax = plt.subplots(1,figsize=(15,7))\n",
    "\n",
    "# Create zonal plot with vertical levels \n",
    "img = ax.contourf(mlat, mlev, DS.transpose('lat', 'lev'), cmap='Spectral_r')\n",
    "\n",
    "# Format axis and ticks\n",
    "ax.set_xlabel(\"Latitude\")\n",
    "fig.colorbar(img, ax=ax, location='right')\n",
    "\n",
    "fig.savefig(\"zonal_vert_T_ADF.png\", bbox_inches='tight', dpi=300)"
   ]
  },
  {
   "cell_type": "markdown",
   "id": "b54385f3",
   "metadata": {},
   "source": [
    "#### Same as above, but:\n",
    "\n",
    " - y-axis is <strong>decreasing</strong> with height\n",
    " - y-axis is <strong>not</strong> in log pressure"
   ]
  },
  {
   "cell_type": "code",
   "execution_count": null,
   "id": "e16d5f60",
   "metadata": {},
   "outputs": [],
   "source": [
    "#Average over all dimensions except `lev` and `lat`.\n",
    "d = ds_t.dims\n",
    "davgovr = [dim for dim in d if dim not in ('lev','lat')]\n",
    "\n",
    "DS = ds_t.mean(dim=davgovr)\n",
    "\n",
    "#print(DS.lev.min(),DS.lev.max())\n",
    "\n",
    "lev = DS['lev']\n",
    "lat = DS['lat']\n",
    "mlev, mlat = np.meshgrid(lev, lat)\n",
    "\n",
    "# Generate zonal plot:\n",
    "fig, ax = plt.subplots(1,figsize=(15,7))\n",
    "\n",
    "# Create zonal plot with vertical levels \n",
    "img = ax.contourf(mlat, mlev, DS.transpose('lat', 'lev'), cmap='Spectral_r')\n",
    "\n",
    "# Format axis and ticks\n",
    "plt.gca().invert_yaxis()\n",
    "ax.tick_params(which='minor', length=4, color='r')\n",
    "\n",
    "# Set up colorbar\n",
    "cbar_ax = fig.add_axes([0, 0, 0.1, 0.1])\n",
    "posn = ax.get_position()\n",
    "\n",
    "#Set position and size of colorbar position: [left, bottom, width, height]\n",
    "cbar_ax.set_position([posn.x0 + posn.width + 0.005, posn.y0,\n",
    "                          0.02, posn.height])\n",
    "\n",
    "ax.set_xlabel(\"Latitude\")\n",
    "fig.colorbar(img, cax=cbar_ax,orientation='vertical')\n"
   ]
  },
  {
   "cell_type": "markdown",
   "id": "328cde0a",
   "metadata": {},
   "source": [
    "#### Same as above, but:\n",
    "\n",
    " - y-axis is <strong>decreasing</strong> with height\n",
    " - y-axis <strong>is</strong> in log pressure"
   ]
  },
  {
   "cell_type": "code",
   "execution_count": null,
   "id": "0a076d48",
   "metadata": {},
   "outputs": [],
   "source": [
    "#Average over all dimensions except `lev` and `lat`.\n",
    "d = ds_t.dims\n",
    "davgovr = [dim for dim in d if dim not in ('lev','lat')]\n",
    "\n",
    "DS = ds_t.mean(dim=davgovr)\n",
    "\n",
    "#print(DS.lev.min(),DS.lev.max())\n",
    "\n",
    "lev = DS['lev']\n",
    "lat = DS['lat']\n",
    "mlev, mlat = np.meshgrid(lev, lat)\n",
    "\n",
    "# Generate zonal plot:\n",
    "fig, ax = plt.subplots(1,figsize=(15,7))\n",
    "\n",
    "# Create zonal plot with vertical levels \n",
    "img = ax.contourf(mlat, mlev, DS.transpose('lat', 'lev'), cmap='Spectral_r')\n",
    "\n",
    "# Format axis and ticks\n",
    "plt.yscale(\"log\")\n",
    "plt.gca().invert_yaxis()\n",
    "ax.tick_params(which='minor', length=4, color='r')\n",
    "\n",
    "# Set up colorbar\n",
    "cbar_ax = fig.add_axes([0, 0, 0.1, 0.1])\n",
    "posn = ax.get_position()\n",
    "\n",
    "#Set position and size of colorbar position: [left, bottom, width, height]\n",
    "cbar_ax.set_position([posn.x0 + posn.width + 0.005, posn.y0,\n",
    "                          0.02, posn.height])\n",
    "\n",
    "ax.set_xlabel(\"Latitude\")\n",
    "fig.colorbar(img, cax=cbar_ax,orientation='vertical')"
   ]
  }
 ],
 "metadata": {
  "kernelspec": {
   "display_name": "Python 3 (ipykernel)",
   "language": "python",
   "name": "python3"
  },
  "language_info": {
   "codemirror_mode": {
    "name": "ipython",
    "version": 3
   },
   "file_extension": ".py",
   "mimetype": "text/x-python",
   "name": "python",
   "nbconvert_exporter": "python",
   "pygments_lexer": "ipython3",
   "version": "3.9.7"
  }
 },
 "nbformat": 4,
 "nbformat_minor": 5
}
