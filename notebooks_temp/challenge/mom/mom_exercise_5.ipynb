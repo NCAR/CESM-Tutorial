{
 "cells": [
  {
   "cell_type": "markdown",
   "id": "f406f992-92bd-4b17-9bd3-b99c5c8abaf3",
   "metadata": {},
   "source": [
    "# 5: Control case using MOM6"
   ]
  },
  {
   "cell_type": "markdown",
   "id": "0bdbbd2b-8255-44f3-8c8c-da725d26f845",
   "metadata": {},
   "source": [
    "<div class=\"alert alert-warning\">\n",
    "<strong>We will use a different CESM tag (cesm2_3_beta17) for this exercise. </strong><br>\n",
    "</div>"
   ]
  },
  {
   "cell_type": "markdown",
   "id": "92d9d3d2-3476-47fb-9b46-f26f5f79fdb2",
   "metadata": {},
   "source": [
    "## Download CESM (tag cesm2_3_beta17)\n",
    "\n",
    "If needed, revisit the [Download CESM](https://ncar.github.io/CESM-Tutorial/notebooks/basics/code/git_download_cesm.html) section before executing the following steps.\n",
    "\n",
    "### Git Clone\n",
    "<div class=\"alert alert-info\">\n",
    "<strong>Change the current directory to the code workspace directory: </strong><br>\n",
    "\n",
    "```\n",
    "cd /glade/u/home/$USER/code\n",
    "```\n",
    "<br>\n",
    "    \n",
    "<strong>Download the cesm code to your code workspace directory as `cesm2_3_beta17`: </strong><br>\n",
    "```\n",
    "git clone https://github.com/ESCOMP/CESM.git cesm2_3_beta17\n",
    "cd cesm2_3_beta17\n",
    "git checkout cesm2_3_beta17\n",
    "```   \n",
    "</div>\n",
    "\n",
    "### Download the Component Models with checkout_externals\n",
    "\n",
    "MOM6 is still an optional component in this version of CESM. Therefore, we need to run the `checkout_externals` command with the `-o` (optional) argument to download the required and optional component models:\n",
    "\n",
    "<div class=\"alert alert-info\">\n",
    "    \n",
    "```\n",
    "cd /glade/u/home/$USER/code/cesm2_3_beta17\n",
    "./manage_externals/checkout_externals -o\n",
    "```\n",
    "<br>\n",
    "\n",
    "*Note: If you get a message about accepting a certificate permanently or temporarily, accept the certificate permanently. If you do not get this message, do not worry, you are still on track!\n",
    "\n",
    "</div>"
   ]
  },
  {
   "cell_type": "markdown",
   "id": "d708d564-464b-49fb-96c5-a98b91e9b91b",
   "metadata": {},
   "source": [
    "**Congratulations, you have now downloaded the cesm2_3_beta17 tag on your workspace!!**"
   ]
  },
  {
   "cell_type": "markdown",
   "id": "a03b1449-5e68-43db-a36b-6f3baab8e757",
   "metadata": {},
   "source": [
    "## Exercise"
   ]
  },
  {
   "cell_type": "markdown",
   "id": "6457c1d2-0530-435d-ae27-d0f1eeabe583",
   "metadata": {},
   "source": [
    "<div class=\"alert alert-info\">\n",
    "<strong>Run a JRA-forced MOM6 control case</strong><br><br>\n",
    " \n",
    "Create a case called **gmom_jra.run_length** using the compset  ``GMOM_JRA``  at ``TL319_t232`` resolution. \n",
    "    \n",
    "Set the run length to **5 year**. \n",
    "\n",
    "Build and run the model. Since this is a control case, we want to build it \"out of the box\" without any modifications. \n",
    "\n",
    "</div>\n"
   ]
  },
  {
   "cell_type": "markdown",
   "id": "e2e33a95-e93c-4aca-86d7-1a830cc0562c",
   "metadata": {},
   "source": [
    "<div class=\"alert alert-warning\">  \n",
    "<details>\n",
    "\n",
    "<summary> <font face=\"Times New Roman\" color='blue'>Click here for hints</font> </summary>\n",
    "\n",
    "**How do I check the composets with MOM6?**\n",
    "\n",
    "Go to [CESM2.2.0 Component Sets Definitions](https://docs.cesm.ucar.edu/models/cesm2/config/compsets.html) and look for \"MOM\" using the \"Search\" box.\n",
    "\n",
    "\n",
    "**How do I compile?**\n",
    "\n",
    "You can compile with the command:\n",
    "    \n",
    "```\n",
    "qcmd -- ./case.build\n",
    "```\n",
    "<br>\n",
    "\n",
    "**How do I check my solution?**\n",
    "\n",
    "When your run is completed, go to the archive directory. \n",
    "\n",
    "(1) Check that your archive directory contains files *mom6.h.z*, *mom6.h.sfc*, etc\n",
    "\n",
    "\n",
    "(2) Compare the contents of the ``h.z`` and ``h.sfc`` files using ``ncdump``.\n",
    "\n",
    "```\n",
    "ncdump -h gmom_jra.run_length.mom6.h.z.0005-12.nc\n",
    "ncdump -h gmom_jra.run_length.mom6.h.sfc.0005-12.nc\n",
    "```\n",
    "\n",
    "(3) Look at the sizes of the files. \n",
    "\n",
    "</details>\n",
    "</div>\n"
   ]
  },
  {
   "cell_type": "markdown",
   "id": "f639e182-f48a-431c-a594-9c34323417eb",
   "metadata": {},
   "source": [
    "<div class=\"alert alert-success\">   \n",
    "<details>\n",
    "<summary><font face=\"Times New Roman\" color='blue'>Click here for the solution</font></summary><br>\n",
    "    \n",
    "Create a new case <font face=\"Courier\" color='purple'><strong>gmom_jra.run_length</strong></font> with the command:\n",
    "```\n",
    "cd /glade/u/home/$USER/code/cesm2_3_beta17/cime/scripts/\n",
    "./create_newcase --case /glade/u/home/$USER/cases/gmom_jra.run_length --compset GMOM_JRA --res TL319_t232 \n",
    "```\n",
    "<br>\n",
    "\n",
    "Case <font face=\"Courier\" color='purple'><strong>setup</strong></font>:\n",
    "```    \n",
    "cd ~/cases/gmom_jra.run_length \n",
    "./case.setup\n",
    "```\n",
    "<br>\n",
    "\n",
    "Change the <font face=\"Courier\" color='purple'><strong>run length</strong></font>:\n",
    "```   \n",
    "./xmlchange STOP_N=5,STOP_OPTION=nyears\n",
    "```\n",
    "<br>\n",
    "\n",
    "If needed, change <font face=\"Courier\" color='purple'><strong>job queue</strong></font> \n",
    "and <font face=\"Courier\" color='purple'><strong>account number</strong></font>. \n",
    "For instance:\n",
    "```  \n",
    "./xmlchange JOB_QUEUE=tutorial,PROJECT=UESM0013 --force\n",
    "```\n",
    "<br>\n",
    "\n",
    "Build and submit:\n",
    "```\n",
    "qcmd -- ./case.build\n",
    "./case.submit\n",
    "```\n",
    "<br>\n",
    "\n",
    "When the run is completed, look into the archive directory for: \n",
    "<font face=\"Courier\" color='purple'><strong>gmom_jra.run_length</strong></font>.  \n",
    "    \n",
    "(1) Check that your archive directory on derecho (The path will be different on other machines): \n",
    "```\n",
    "cd /glade/derecho/scratch/$USER/archive/gmom_jra.run_length/ocn/hist\n",
    "\n",
    "ls \n",
    "```\n",
    "\n",
    "</details>\n",
    "</div>\n",
    "\n"
   ]
  }
 ],
 "metadata": {
  "kernelspec": {
   "display_name": "NPL 2023b",
   "language": "python",
   "name": "npl-2023b"
  },
  "language_info": {
   "codemirror_mode": {
    "name": "ipython",
    "version": 3
   },
   "file_extension": ".py",
   "mimetype": "text/x-python",
   "name": "python",
   "nbconvert_exporter": "python",
   "pygments_lexer": "ipython3",
   "version": "3.10.12"
  }
 },
 "nbformat": 4,
 "nbformat_minor": 5
}
