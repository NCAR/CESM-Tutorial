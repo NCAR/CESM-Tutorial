{
 "cells": [
  {
   "cell_type": "markdown",
   "id": "cd674360-c487-4160-92f8-67a283d8104d",
   "metadata": {},
   "source": [
    "# Land Ice\n",
    "\n",
    "The land ice component of CESM is the Community Ice Sheet Model (CISM). Running CESM with a fully evolving ice sheet and 2-way coupling is relatively new and is not the default CESM fully-coupled setup. \n",
    "\n",
    "However, it can be useful for people interested in land ice science to investigate the impact of atmospheric forcing on the ice sheet. In this exercise, you will learn how to evolve CISM in an uncoupled configuration using an existing CESM forcing dataset.\n",
    "\n",
    "This exercise was created by Gunter Leguy and Kate Thayer-Calder."
   ]
  },
  {
   "cell_type": "markdown",
   "id": "e220126d-bde0-4f98-a9ed-889932480f54",
   "metadata": {},
   "source": [
    "## Learning Goals"
   ]
  },
  {
   "cell_type": "markdown",
   "id": "edf500e6-fbd0-42ca-88ea-e0e94ceb5813",
   "metadata": {},
   "source": [
    "- Student will learn what a T compset is, the types of forcing available to run one, and how to run one.\n",
    "- Student will learn how to make XML variable modifications to force CISM with forcing data from an existing run.\n",
    "- Student will learn how to look at 2D and time series CISM history datasets.\n",
    "- Student will learn how to compute the sea level change due ice sheet evolution. "
   ]
  },
  {
   "cell_type": "markdown",
   "id": "3caefecd-731a-496d-9245-1586cdec05ba",
   "metadata": {
    "tags": []
   },
   "source": [
    "## Exercise Details"
   ]
  },
  {
   "cell_type": "markdown",
   "id": "01b99858-0566-4d36-a5b5-0f0d7550d6a0",
   "metadata": {},
   "source": [
    "- This exercise uses the same codebase as the rest of the tutorial. \n",
    "- You will be using the T compset at the f19_g17_gl4 resolution.\n",
    "- You will run an experimental simulation for 86 years. \n",
    "- You will then use jupyter notebooks to look at your simulation."
   ]
  },
  {
   "cell_type": "markdown",
   "id": "cefcfbc6-e5c7-4323-b292-5bba542ddabb",
   "metadata": {},
   "source": [
    "## Useful CISM references"
   ]
  },
  {
   "cell_type": "markdown",
   "id": "2b884ee2-d45d-4b76-ab55-f69be8acbe64",
   "metadata": {},
   "source": [
    "<div class=\"alert alert-info\" style=\"text-align: center;\">\n",
    "\n",
    "[CESM CISM User's Guide](https://www.cesm.ucar.edu/models/cesm2/land-ice)\n",
    "\n",
    "</div>"
   ]
  },
  {
   "cell_type": "markdown",
   "id": "1c520b9a-5e96-4aee-927d-5b9124a45ac7",
   "metadata": {
    "tags": []
   },
   "source": [
    "<div class=\"alert alert-info\" style=\"text-align: center;\">\n",
    "\n",
    "[CESM CISM Discussion Forum](https://bb.cgd.ucar.edu/cesm/forums/cism.135/)\n",
    "\n",
    "</div>"
   ]
  },
  {
   "cell_type": "markdown",
   "id": "d720b227-8b14-4bcf-8b99-04acf4e2a94b",
   "metadata": {},
   "source": [
    "## What is a T case?"
   ]
  },
  {
   "cell_type": "markdown",
   "id": "3b6cd7b4-1086-4397-bb58-f9ab8f475e5f",
   "metadata": {},
   "source": [
    "The CESM T compset runs only the ice sheet component (here CISM). Within a T compset case, CISM can run in Evolve or Non-Evolve mode and is forced by output from a previous CESM run. A \"plain\" T compset (like T1850) runs CISM in Non-Evolve mode and a \"TG\" compset (like T1850G) runs CISM in Evolve mode. All other components of a T compset are stubs. Before running a T compset, you must have coupler history files from a previous run that included CLM (version 4.5 or later). You can run with either existing forcing data or with your own forcing data.\\\n",
    "Typically, coupler history files for CISM are yearly averages downscaled onto the CISM grid. For now, downscaled variables include surface temperature and glacier ice flux available at each elevation class. (In the future, ocean data will also be available.)"
   ]
  },
  {
   "cell_type": "markdown",
   "id": "e0126170-58d9-4f81-82d7-c5b1406a196a",
   "metadata": {},
   "source": [
    "![Tcase](../../images/challenge/Tcompset.png)\n",
    "\n",
    "*<p style=\"text-align: center;\"> Figure: TG compset definition. </p>*"
   ]
  },
  {
   "cell_type": "markdown",
   "id": "94de8f70-6391-4201-83fe-3a61c514750a",
   "metadata": {},
   "source": [
    "<div class=\"alert alert-info\" style=\"text-align: center;\">\n",
    "\n",
    "[T Compset definition](https://www2.cesm.ucar.edu/models/cesm2/config/compsets.html)\n",
    "\n",
    "</div>"
   ]
  }
 ],
 "metadata": {
  "kernelspec": {
   "display_name": "CMIP6 2019.10",
   "language": "python",
   "name": "cmip6-201910"
  },
  "language_info": {
   "codemirror_mode": {
    "name": "ipython",
    "version": 3
   },
   "file_extension": ".py",
   "mimetype": "text/x-python",
   "name": "python",
   "nbconvert_exporter": "python",
   "pygments_lexer": "ipython3",
   "version": "3.7.10"
  }
 },
 "nbformat": 4,
 "nbformat_minor": 5
}
