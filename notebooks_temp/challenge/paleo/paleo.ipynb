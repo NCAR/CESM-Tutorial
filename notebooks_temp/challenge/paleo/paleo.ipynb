{
 "cells": [
  {
   "cell_type": "markdown",
   "id": "f406f992-92bd-4b17-9bd3-b99c5c8abaf3",
   "metadata": {},
   "source": [
    "# Paleo \n",
    "Paleoclimatology is the study of ancient climate variability and change, before the availability of instrumental records. \n",
    "\n",
    "Paleoclimatology relies on a combination of physical, biological, and chemical proxies of past environmental and climate change, such as glacial ice, tree rings, sediments, corals, and cave mineral deposits. \n",
    "\n",
    "CESM is widely used for paleoclimate studies. \n",
    "\n",
    "CESM simulations of past climates are a tool to better understand and interpret proxy reconstructions and to evaluate CESM skill in simulating out-of-sample climate states. \n",
    "\n",
    "Many proxy reconstructions are made using measurements of isotopic ratios in natural archives. \n",
    "\n",
    "A version of CESM with the capability to simulate hydrogen and oxygen isotope ratios in the water cycle (isotope-enabled CESM) is commonly used in paleoclimate studies to provide more direct signals of comparison with proxies. \n"
   ]
  },
  {
   "cell_type": "markdown",
   "id": "b6f4905b-cd2a-454e-89cf-ccc585c90247",
   "metadata": {
    "tags": []
   },
   "source": [
    "## Learning Goals"
    ]
   },
   {
    "cell_type": "markdown",
    "id": "346cbd7b-3b8e-41f0-b120-b369ab20f6cc",
    "metadata": {},
    "source": [
    "- Student will learn how to modify Earth's orbital configuration in CESM for a simple paleoclimate experiment. \n",
    "- Student will learn how to validate that the orbital modification is implemented properly. \n",
    "- Student will learn how to quickly compare differences in paleo and preindustrial CESM runs using NCO and Ncview. \n",
    "- Student will learn how to run a preindustrial isotope-enabled CESM experiment and plot precipitation δ18O. \n"
   ]
  },
  {
   "cell_type": "markdown",
   "id": "b6f4905b-cd2a-454e-89cf-ccc585c90247",
   "metadata": {
    "tags": []
  },
   "source": [
    "## Exercise 1-2 Details"
   ]
  },
  {
   "cell_type": "markdown",
   "id": "346cbd7b-3b8e-41f0-b120-b369ab20f6cc",
   "metadata": {},
   "source": [
   "- This exercise uses the same code base as the rest of the tutorial. \n",
   "- You will be using the B1850 compset at the f19_g17 resolution. \n",
   "- You will run a preindustrial control simulation and a simple mid-Holocene simulation. \n"
   ]
  },
  {
   "cell_type": "markdown",
   "id": "b6f4905b-cd2a-454e-89cf-ccc585c90247",
   "metadata": {
    "tags": []
  },
   "source": [
    "## Exercise 3 Details"
   ]
  },
  {
   "cell_type": "markdown",
   "id": "346cbd7b-3b8e-41f0-b120-b369ab20f6cc",
   "metadata": {},
   "source": [
   "- This exercise uses a different code base from the rest of the tutorial (isotope-enabled CESM1.3). \n",
   "- You will be using the B1850C5 compset at the f19_g16 resolution. \n",
   "- You will run a preindustrial simulation with water isotope tracers. \n",
   "\n",
   "![Water isotope partitioning](../../../images/challenge/Precip_isotope_Cartoon.jpg)\n"
   ]
  },
  {
   "cell_type": "code",
   "execution_count": null,
   "id": "e961b1bd-a1c8-4e54-bafc-46dcf78454f1",
   "metadata": {},
   "outputs": [],
   "source": []
  }
 ],
 "metadata": {
  "kernelspec": {
   "display_name": "Python 3 (ipykernel)",
   "language": "python",
   "name": "python3"
  },
  "language_info": {
   "codemirror_mode": {
    "name": "ipython",
    "version": 3
   },
   "file_extension": ".py",
   "mimetype": "text/x-python",
   "name": "python",
   "nbconvert_exporter": "python",
   "pygments_lexer": "ipython3",
   "version": "3.10.13"
  }
 },
 "nbformat": 4,
 "nbformat_minor": 5
}
