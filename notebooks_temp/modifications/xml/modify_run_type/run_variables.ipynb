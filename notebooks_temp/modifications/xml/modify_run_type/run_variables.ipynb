{
 "cells": [
  {
   "cell_type": "markdown",
   "id": "f406f992-92bd-4b17-9bd3-b99c5c8abaf3",
   "metadata": {},
   "source": [
    "# Variables Related to Run Type\n",
    "\n",
    "A summary of the xml variables pertaining to run type in `env_run.xml`. \n",
    "\n",
    "<br>\n",
    "\n",
    "***\n"
   ]
  },
  {
   "cell_type": "markdown",
   "id": "a0652973-f463-4459-bcd1-0027c3cc2c9e",
   "metadata": {},
   "source": [
    "- **`RUN_TYPE`** ==> Determines the model run initialization type. Only important for the initial run of a production run when the `$CONTINUE_RUN` variable is set to `FALSE`. Valid values are: 'startup', 'hybrid', 'branch'. \n",
    "\n",
    "- **`RUN_STARTDATE`** ==> Run start date (yyyy-mm-dd). Only used for startup or hybrid runs. \n",
    "\n",
    "- **`RUN_REFCASE`** ==> For hybrid or branch runs, name of the reference case you are starting from. \n",
    "\n",
    "- **`RUN_REFDATE`**  ==> For hybrid or branch runs, date stamp (yyyy-mm-dd) of reference case you are starting from. \n",
    "\n",
    "- **`GET_REFCASE`** ==>  Flag for automatically prestaging the refcase restart dataset. If `TRUE`, then the refcase data is prestaged into the executable directory. If `FALSE`, the user need to manually put the restart files into the `$RUNDIR`.  "
   ]
  },
  {
   "cell_type": "markdown",
   "id": "26abab24-5108-4006-8f31-bf696f837aa4",
   "metadata": {},
   "source": []
  }
 ],
 "metadata": {
  "kernelspec": {
   "display_name": "Python 3 (ipykernel)",
   "language": "python",
   "name": "python3"
  },
  "language_info": {
   "codemirror_mode": {
    "name": "ipython",
    "version": 3
   },
   "file_extension": ".py",
   "mimetype": "text/x-python",
   "name": "python",
   "nbconvert_exporter": "python",
   "pygments_lexer": "ipython3",
   "version": "3.9.12"
  }
 },
 "nbformat": 4,
 "nbformat_minor": 5
}
