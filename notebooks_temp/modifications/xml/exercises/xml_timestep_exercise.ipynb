{
 "cells": [
  {
   "cell_type": "markdown",
   "id": "bd28c148-b907-489d-9892-068ed48b11d9",
   "metadata": {},
   "source": [
    "# Exercise 3: Change physics timestep"
   ]
  },
  {
   "cell_type": "markdown",
   "id": "dddd8ba3-aa00-451c-938f-35b3927a016f",
   "metadata": {},
   "source": [
    "<div class=\"alert alert-info\">\n",
    "\n",
    "<strong>Exercise: Change physics timestep in CAM and CLM </strong><br><br>\n",
    "\n",
    "**Hybrid** start a fully coupled run under pre-Industrial conditions with a resolution of f19_g17. Use restart and initial files from Exercise 1. Change the physics timestep in the atmosphere and land to 1200 seconds (default is 1800). Run 5 days.\n",
    "    \n",
    "</div>"
   ]
  },
  {
   "cell_type": "markdown",
   "id": "f2dacddc-4f8f-4fb5-9664-65ab2618f97f",
   "metadata": {},
   "source": [
    "<div class=\"alert alert-warning\">\n",
    "   \n",
    "<details>   \n",
    "   <summary>\n",
    "        <img src=\"https://freesvg.org/img/bulb_on.png\" width=\"20px\">\n",
    "       <font face=\"Times New Roman\" color='blue' size=\"4\">Hint!</font>\n",
    "    </summary>\n",
    "\n",
    "The atmosphere physics timestep is determined by the base period of coupling `NCPL_BASE_PERIOD` and the coupling frequency `ATM_NCPL`.  \n",
    "Find out their default values using xmlquery.\n",
    "    \n",
    "    \n",
    "</details>\n",
    "</div>"
   ]
  },
  {
   "cell_type": "markdown",
   "id": "cb35e292-fcbb-45a6-9a28-f02a80df83a6",
   "metadata": {},
   "source": [
    "<div class=\"alert alert-success\">\n",
    "   \n",
    "<details>   \n",
    "   <summary>\n",
    "        <img src=\"https://freesvg.org/img/help-browser.png\" width=\"20px\">\n",
    "       <font face=\"Times New Roman\" color='blue' size=\"4\">Click here for the solution</font>\n",
    "    </summary>\n",
    "\n",
    "<br>    \n",
    "1. From the script directory, create your case:\n",
    "    \n",
    "```\n",
    "    cd /glade/u/home/$USER/code/my_cesm_code/cime/scripts/\n",
    "    ./create_newcase --case /glade/u/home/$USER/cases/b1850.timestep --res f19_g17 --compset B1850\n",
    "```\n",
    "    \n",
    "<br>    \n",
    "2. In your case directory, change run type and runtime variables:\n",
    "    \n",
    "```\n",
    "    cd /glade/u/home/$USER/cases/b1850.timestep\n",
    "    ./xmlchange RUN_TYPE=hybrid\n",
    "    ./xmlchange RUN_REFCASE=b1850.run_length,RUN_REFDATE=0001-02-01,GET_REFCASE=FALSE,JOB_WALLCLOCK_TIME=2:00:00\n",
    "```\n",
    "    \n",
    "<br>     \n",
    "3. Change the physics timestep for CAM: \n",
    "    \n",
    "```\n",
    "    ./xmlchange ATM_NCPL=72\n",
    "```\n",
    "(Why `ATM_NCPL` = 72? Do the math).\n",
    "\n",
    "<br>    \n",
    "4. Set up the case and position your initial and restart files in the `$RUNDIR`:\n",
    "    \n",
    "```\n",
    "    ./case.setup\n",
    "    cp /glade/derecho/scratch/$USER/archive/b1850.run_length/rest/0001-02-01-00000/*   /glade/derecho/scratch/$USER/b1850.timestep/run/\n",
    "```\n",
    "    \n",
    "<br>    \n",
    "5. Continue to build and submit: \n",
    "    \n",
    "```\n",
    "    qcmd -- ./case.build\n",
    "    ./case.submit\n",
    "```\n",
    "    \n",
    "Remember that `qcmd` is used on derecho only.\n",
    "\n",
    "</details>\n",
    "</div>"
   ]
  },
  {
   "cell_type": "code",
   "execution_count": null,
   "id": "dd58b568-cd97-4a59-bd26-a6c13f3b0ba3",
   "metadata": {},
   "outputs": [],
   "source": []
  }
 ],
 "metadata": {
  "kernelspec": {
   "display_name": "Python 3 (ipykernel)",
   "language": "python",
   "name": "python3"
  },
  "language_info": {
   "codemirror_mode": {
    "name": "ipython",
    "version": 3
   },
   "file_extension": ".py",
   "mimetype": "text/x-python",
   "name": "python",
   "nbconvert_exporter": "python",
   "pygments_lexer": "ipython3",
   "version": "3.10.13"
  }
 },
 "nbformat": 4,
 "nbformat_minor": 5
}
