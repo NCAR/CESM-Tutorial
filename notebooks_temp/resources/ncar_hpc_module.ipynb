{
 "cells": [
  {
   "cell_type": "markdown",
   "id": "144caca2-989b-40a5-b6c0-c8a0b7a470da",
   "metadata": {},
   "source": [
    "# Modules on NCAR HPC"
   ]
  },
  {
   "cell_type": "markdown",
   "id": "52805170-9397-48b3-8bdf-a2c76fb45583",
   "metadata": {},
   "source": [
    "NCAR maintains a number of different programs on the HPC systems that can be added to your user environment by executing the ``module load`` command. "
   ]
  },
  {
   "cell_type": "markdown",
   "id": "a551ace3-3b1a-4130-8084-3034842e0259",
   "metadata": {},
   "source": [
    "We will use a few modules throughout this tutorial to visualize data, so you need to be able to check which modules you have loaded and to load necessary modules."
   ]
  },
  {
   "cell_type": "markdown",
   "id": "f6edec76-66ba-42f0-b3b2-00a4d90f15fd",
   "metadata": {},
   "source": [
    "We provide basic instructions below on how to check and load Modules, but to learn more about Modules on NCAR HPC, please follow the link below."
   ]
  },
  {
   "cell_type": "markdown",
   "id": "b2aef333-82a9-4f3d-8afa-2f5c3df4ef4c",
   "metadata": {},
   "source": [
    "<div class=\"alert alert-info\" style=\"text-align: center;\">\n",
    "\n",
    "[CISL documentation on modules](https://arc.ucar.edu/knowledge_base/72581272)\n",
    "\n",
    "</div>"
   ]
  },
  {
   "cell_type": "markdown",
   "id": "33d4014c-bc0f-4ab0-aaf3-cf6cf7572f22",
   "metadata": {},
   "source": [
    "### Checking what modules are loaded in your environment\n",
    "\n",
    "To check what modules you have loaded in your environment, use the following at the command line:"
   ]
  },
  {
   "cell_type": "code",
   "execution_count": null,
   "id": "3fe867e0-f0df-4d87-a9d6-169294ec222c",
   "metadata": {},
   "outputs": [],
   "source": [
    "module list"
   ]
  },
  {
   "cell_type": "markdown",
   "id": "2a5ec941-4f4a-4a99-a3a0-6e514c448805",
   "metadata": {},
   "source": [
    "### Checking what modules are available\n",
    "\n",
    "You can see which modules are available on the HPC resources by using the following at the command line:"
   ]
  },
  {
   "cell_type": "code",
   "execution_count": null,
   "id": "b974222c-a270-4075-b9b9-7be7b4550942",
   "metadata": {},
   "outputs": [],
   "source": [
    "module avail"
   ]
  },
  {
   "cell_type": "markdown",
   "id": "0d2cfc8e-2085-4b72-b917-9e98a1586e13",
   "metadata": {},
   "source": [
    "The command returns a list to the terminal window of the modules available to load to your environment."
   ]
  },
  {
   "cell_type": "markdown",
   "id": "ec74810f-c422-468d-b30e-ddb9c41d878f",
   "metadata": {},
   "source": [
    "![Modules](../../images/prereqs/modules.png)\n",
    "\n",
    "*<p style=\"text-align: center;\"> Figure: Some modules available on NCAR HPC resources. D: Default Module. L: Module is loaded. </p>*"
   ]
  },
  {
   "cell_type": "markdown",
   "id": "c523021e-9328-4e0b-8c40-15bcf2ebab75",
   "metadata": {},
   "source": [
    "The modules highlighted in blue are text editors discussed further in the [text editors section](https://ncar.github.io/CESM-Tutorial/notebooks/resources/text_editors.html).\n",
    "\n",
    "The modules highlighted in red are netCDF tools that will be discussed further in the [netCDF section](https://ncar.github.io/CESM-Tutorial/notebooks/resources/netcdf.html).\n",
    "\n",
    "Note that there are many other analysis software tools available to load into your NCAR HPC environment. These include: idl, julia, matlab, R, python, ncl, etc. While some of these tools are discussed in the [analysis tools section](https://ncar.github.io/CESM-Tutorial/notebooks/diagnostics/additional/analysis_tools.html), we do not highlight them all here and encourage you to further explore your environment and needs."
   ]
  },
  {
   "cell_type": "markdown",
   "id": "65848ac8-1cad-47bf-b680-8b129ce4e25d",
   "metadata": {},
   "source": [
    "### Loading a new module to your environment\n",
    "\n",
    "You can load one of the available modules (here we show loading ncview) using the following at the command line: "
   ]
  },
  {
   "cell_type": "code",
   "execution_count": null,
   "id": "ad9db6c8-91a9-4c3e-84b4-6e6fb65de213",
   "metadata": {},
   "outputs": [],
   "source": [
    "module load ncview"
   ]
  },
  {
   "cell_type": "markdown",
   "id": "a1e13c85-65d1-4904-a07b-6cba1249ddfd",
   "metadata": {},
   "source": [
    "<div class=\"alert alert-warning\">\n",
    "<strong>NOTE: We will provide a file that will load necessary modules for those attending the in person tutorial.    </strong>\n",
    "</div>"
   ]
  },
  {
   "cell_type": "markdown",
   "id": "3c9cc169-489e-427a-865a-539468cb060d",
   "metadata": {},
   "source": []
  },
  {
   "cell_type": "code",
   "execution_count": null,
   "id": "7a1cb820-6efd-4eda-9581-a7067ff4f27d",
   "metadata": {},
   "outputs": [],
   "source": []
  }
 ],
 "metadata": {
  "kernelspec": {
   "display_name": "Bash",
   "language": "bash",
   "name": "bash"
  },
  "language_info": {
   "codemirror_mode": "shell",
   "file_extension": ".sh",
   "mimetype": "text/x-sh",
   "name": "bash"
  }
 },
 "nbformat": 4,
 "nbformat_minor": 5
}
