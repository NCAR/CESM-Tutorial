{
 "cells": [
  {
   "cell_type": "markdown",
   "id": "da307274-8069-4cc8-b333-cb156373cda3",
   "metadata": {},
   "source": [
    "# NCAR Supercomputer\n",
    "\n",
    "Once you have an account and the necessary software, you can log in and run jobs on the NCAR supercomputer. The NCAR supercomputer is also referenced to the NCAR High Performance Computing (HPC). "
   ]
  },
  {
   "cell_type": "markdown",
   "id": "28823b60-6956-417c-a48c-3b88668b0968",
   "metadata": {},
   "source": [
    "___\n",
    "## Logging in on an NCAR system"
   ]
  },
  {
   "cell_type": "markdown",
   "id": "3b3e13f6-45e2-4dc8-bd2a-b550ddb11270",
   "metadata": {},
   "source": [
    "To log in, start your terminal or Secure Shell client and run an `ssh` command as shown here:\n"
   ]
  },
  {
   "cell_type": "markdown",
   "id": "ddb0d0fb-1fd9-4814-bb20-af81d2baae5a",
   "metadata": {},
   "source": [
    "```\n",
    "ssh -XY username@derecho.hpc.ucar.edu \n",
    "```\n",
    "OR \n",
    "```\n",
    "ssh -XY username@casper.hpc.ucar.edu\n",
    "```"
   ]
  },
  {
   "cell_type": "markdown",
   "id": "311d9679-8944-49c0-936e-8e8ddcc3ba37",
   "metadata": {},
   "source": [
    "\n",
    "When you log in to the NCAR HPC machines, we recommend you use `X11` forwarding. `X11` forwarding is an SSH protocol that enables users to run graphical applications on a remote server and interact with them using their local display and I/O devices. It is frequently used by CESM developers for securely interacting with NCAR HPC remote machines.\n",
    "\n",
    "You can do this by adding the `-XY` option when logging into the machines with `SSH`. More information about logging into the NCAR HPC follows below."
   ]
  },
  {
   "cell_type": "markdown",
   "id": "510846c7-4018-420e-a899-96e1b9e92902",
   "metadata": {},
   "source": [
    "<div class=\"alert alert-info\" style=\"text-align: center;\">\n",
    "\n",
    "[CISL Documentation on Using X11](https://arc.ucar.edu/knowledge_base/72581213#QuickstartonDerecho-LogginginonanNCARsystem)\n",
    "    \n",
    "</div>"
   ]
  },
  {
   "cell_type": "markdown",
   "id": "e731c34f-4386-4869-bdb7-a6e479f07a63",
   "metadata": {},
   "source": [
    "___\n",
    "## Running on derecho"
   ]
  },
  {
   "cell_type": "markdown",
   "id": "202de099-dc2d-47d2-99fb-b6f1b87d654c",
   "metadata": {},
   "source": [
    "This tutorial material is designed for use with the derecho HPC system. All of your CESM experiment builds and jobs will be run on derecho.\n",
    "\n",
    "Please see the link below for more information about the derecho system, including a quick start guide with information about logging into derecho from a terminal, setting up your environment, submitting jobs, etc. "
   ]
  },
  {
   "cell_type": "markdown",
   "id": "235c1c69-da82-4cff-95bf-02c1bb2db897",
   "metadata": {},
   "source": [
    "<div class=\"alert alert-info\" style=\"text-align: center;\">\n",
    "\n",
    "[CISL Documentation on Using derecho HPC](https://arc.ucar.edu/knowledge_base/74317833)\n",
    "    \n",
    "</div>"
   ]
  },
  {
   "cell_type": "markdown",
   "id": "c7e2b935-85ea-47f1-b8f0-654d54714484",
   "metadata": {},
   "source": [
    "#### Porting"
   ]
  },
  {
   "cell_type": "markdown",
   "id": "a47bc7ae-4bd8-4e55-87e8-27019a689099",
   "metadata": {},
   "source": [
    "This tutorial assumes that you are using NCAR HPC assets. In order to run the CESM on a **_different_** computing platform, you will first need to port the CESM code to that environment/machine. We provide information about how to port the model code in the [porting section](https://ncar.github.io/CESM-Tutorial/notebooks/resources/porting.html)."
   ]
  },
  {
   "cell_type": "markdown",
   "id": "8a831d36-6629-4cd6-a247-2a8293aa2561",
   "metadata": {},
   "source": [
    "___\n",
    "## Using Casper"
   ]
  },
  {
   "cell_type": "markdown",
   "id": "2f8ad62c-89c5-49c3-9751-219303bce4c7",
   "metadata": {},
   "source": [
    "The Casper cluster is a system of specialized data analysis and visualization resources. Casper is not used for building or running CESM, but it is used for CESM data analysis. We will use Casper for the diagnostics section of the lab activities. To utilize the **_additional_** analysis tools described in the [analysis tools section](https://ncar.github.io/CESM-Tutorial/notebooks/diagnostics/additional/analysis_tools.html) you will also want to use Casper."
   ]
  },
  {
   "cell_type": "markdown",
   "id": "aee2a810-f356-4c55-a19a-c0a32dfd504b",
   "metadata": {},
   "source": [
    "<div class=\"alert alert-info\" style=\"text-align: center;\">\n",
    "\n",
    "[CISL Documentation on Using Casper Cluster](https://arc.ucar.edu/knowledge_base/70549550)\n",
    "    \n",
    "</div>"
   ]
  },
  {
   "cell_type": "markdown",
   "id": "603c963b-4d65-4cd6-94a3-ea5ae932578e",
   "metadata": {},
   "source": [
    "___\n",
    "## Using JupyterHub"
   ]
  },
  {
   "cell_type": "markdown",
   "id": "a9423bae-be8c-4848-916c-926f86645da6",
   "metadata": {},
   "source": [
    "The diagnostics section of this tutorial will use JupyterHub to run Jupyter Notebooks. You will need to login to the NCAR JupyterHub system to run the notebooks successfully.\n",
    "\n",
    "NOTE: To run a Jupyter cell\n",
    "- Type your command into the cell\n",
    "- To execute the command:\n",
    "    - Press **shift+return**\n",
    "    <div>\n",
    "    OR\n",
    "    <div>\n",
    "    - Select the cell then click the 'play' button at the top of the window\n",
    "\n",
    "To learn more about JupyterHub, please follow the link below."
   ]
  },
  {
   "cell_type": "markdown",
   "id": "6ae8710f-8dd2-4ed6-893f-d2de5b863b94",
   "metadata": {},
   "source": [
    "<div class=\"alert alert-info\" style=\"text-align: center;\">\n",
    "\n",
    "[CISL Documentation about JupyterHub](https://arc.ucar.edu/knowledge_base/70549913)\n",
    "    \n",
    "</div>"
   ]
  }
 ],
 "metadata": {
  "kernelspec": {
   "display_name": "Bash",
   "language": "bash",
   "name": "bash"
  },
  "language_info": {
   "codemirror_mode": "shell",
   "file_extension": ".sh",
   "mimetype": "text/x-sh",
   "name": "bash"
  }
 },
 "nbformat": 4,
 "nbformat_minor": 5
}
