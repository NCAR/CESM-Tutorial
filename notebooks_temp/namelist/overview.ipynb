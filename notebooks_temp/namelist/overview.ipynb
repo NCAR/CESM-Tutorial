{
 "cells": [
  {
   "cell_type": "markdown",
   "id": "f5e23fcc-d36b-4ca2-a596-9fb3c88c82e8",
   "metadata": {
    "tags": []
   },
   "source": [
    "# Overview \n",
    "\n",
    "There are a number of ways that the model can be modified via namelist settings. These values control the way the code is run. \n",
    "\n",
    "The **namelist variables** include settings to control over output, tune the model for various quantities, and many other options. For instance, the output frequency in the different components can be controlled via the namelists. \n",
    "\n",
    "<div class=\"alert alert-info\" style=\"text-align: left;\">\n",
    "\n",
    "The **steps** to modify the **namelists** are:\n",
    "\n",
    "In ``$CASEROOT`` \n",
    "- edit the ``user_nl_xxx`` files.\n",
    "- generate the namelists by running ``./preview_namelists``. \n",
    "  \n",
    "  \n",
    "This results in the creation of component namelists, the ``*_in`` files (i.e. `atm_in`, `lnd_in`, and so on). \n",
    "\n",
    "The ``*_in`` files are located  in ``$CASEROOT/CaseDocs/`` and in ``$RUNDIR``.\n",
    "  \n",
    "</div>\n",
    "\n",
    "\n",
    "An overview of the CESM directories and the location of the namelist files is showed in *Figure 1*\n"
   ]
  },
  {
   "cell_type": "markdown",
   "id": "301171cd-e6da-4574-ab96-02d82d5fc95f",
   "metadata": {},
   "source": [
    "___\n",
    "![CESM directories and namelists](../../images/namelist/CESM_directories_and_namelists.png)\n",
    "<p style=\"text-align: center;\"> Figure 1: Overview of the CESM directories and the namelist files. </p>\n",
    "\n",
    "___"
   ]
  },
  {
   "cell_type": "markdown",
   "id": "f0a5cc0d-f3cf-4508-9751-ff6866fa3f20",
   "metadata": {},
   "source": [
    "\n",
    "The ``*_in`` files **should not be directly edited**. Any manual changes of the ``*_in`` files will be overwritten when you compile or submit the run. \n",
    "\n",
    "Note that step ``./preview_namelists`` is **optional** as the script *preview_namelists* is also called when you build the model. \n",
    "\n",
    "Note that you cannot change the namelist variables: \n",
    "- after the run is submitted \n",
    "- or when `CONTINUE_RUN=TRUE`. \n"
   ]
  },
  {
   "cell_type": "markdown",
   "id": "c55ea30e-7dc5-4694-82d6-90952257c06a",
   "metadata": {},
   "source": [
    "<div class=\"alert alert-info\">\n",
    "\n",
    "Complete documentation about the namelist variables can be found on the [CESM webpage.](https://www2.cesm.ucar.edu/models/cesm2/settings/current/)\n",
    "\n",
    "</div>"
   ]
  },
  {
   "cell_type": "code",
   "execution_count": null,
   "id": "9e30b4f4-1e35-4f70-af22-a81489b56018",
   "metadata": {},
   "outputs": [],
   "source": []
  }
 ],
 "metadata": {
  "kernelspec": {
   "display_name": "Python 3 (ipykernel)",
   "language": "python",
   "name": "python3"
  },
  "language_info": {
   "codemirror_mode": {
    "name": "ipython",
    "version": 3
   },
   "file_extension": ".py",
   "mimetype": "text/x-python",
   "name": "python",
   "nbconvert_exporter": "python",
   "pygments_lexer": "ipython3",
   "version": "3.9.12"
  }
 },
 "nbformat": 4,
 "nbformat_minor": 5
}
