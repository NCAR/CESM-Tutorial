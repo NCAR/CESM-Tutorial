{
 "cells": [
  {
   "cell_type": "markdown",
   "id": "f406f992-92bd-4b17-9bd3-b99c5c8abaf3",
   "metadata": {},
   "source": [
    "# Customize POP output\n",
    "\n",
    "POP output is controlled by POP's tavg_nml namelist, which variables such as\n",
    "\n",
    "- **``tavg_freq``**: frequency at which the model fields are written\n",
    "- **``tavg_freq_opt``**: units of time for 'tavg_freq’ ('nmonth’, 'nhour’, 'once’,…)\n",
    "- **``tavg_file_freq``**:frequency at which the model files are written\n",
    "- **``tavg_file_freq_opt``**: units of time for 'tavg_file_freq’ ('nmonth’, 'nhour’, …)\n",
    "\n",
    "These are arrays, with a value for each output stream.\n",
    "A convenient way to change the first stream to be daily averages bundled into monthly\n",
    "files is to add the following lines to ``user_nl_pop``: \n",
    "```\n",
    "tavg_freq_opt(1) = 'nday' \n",
    "tavg_freq(1) = 1 \n",
    "tavg_file_freq_opt(1) = 'nmonth' \n",
    "tavg_file_freq(1) = 1 \n",
    "```\n",
    "\n",
    "See: https://www.cesm.ucar.edu/models/cesm2/settings/current/pop2_nml.html\n",
    "\n",
    "\n",
    "CAUTION: Note that changing tavg_nml variables via ``user_nl_pop`` is non-standard.\n",
    "While the above is convenient, attempting more complicated changes can lead to unexpected model behavior.\n",
    "For full flexibility, use the **workaround** explained in ``user_nl_pop``.\n"
   ]
  },
  {
   "cell_type": "code",
   "execution_count": null,
   "id": "6857dadc-8cbd-4a2e-af21-14b0be4600ee",
   "metadata": {},
   "outputs": [],
   "source": []
  }
 ],
 "metadata": {
  "kernelspec": {
   "display_name": "Python 3 (ipykernel)",
   "language": "python",
   "name": "python3"
  },
  "language_info": {
   "codemirror_mode": {
    "name": "ipython",
    "version": 3
   },
   "file_extension": ".py",
   "mimetype": "text/x-python",
   "name": "python",
   "nbconvert_exporter": "python",
   "pygments_lexer": "ipython3",
   "version": "3.9.12"
  }
 },
 "nbformat": 4,
 "nbformat_minor": 5
}
