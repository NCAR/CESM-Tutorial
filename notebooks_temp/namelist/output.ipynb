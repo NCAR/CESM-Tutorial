{
 "cells": [
  {
   "cell_type": "markdown",
   "id": "f406f992-92bd-4b17-9bd3-b99c5c8abaf3",
   "metadata": {},
   "source": [
    "# Customizing Output\n"
   ]
  },
  {
   "cell_type": "markdown",
   "id": "34b38707-9fbb-4e2a-bb99-5d3ddac76dc0",
   "metadata": {},
   "source": [
    "If you don't add anything to the namelist, CESM will generate its **``default output``**. This is what was done in previous chapters of this tutorial. Typically, the model outputs monthly means (and in some cases, higher frequency outputs) of a default set of variables. Depending on your needs, you may want to output variables at a different frequency, or add more variables, etc ...  \n",
    "\n",
    "In this chapter **``Customizing output``**, we will cover how to output at a different frequency, add history files, or add variables to the history files.\n",
    "\n",
    "In the sections below, we provide the basics of customizing the output for the different components (atm, lnd, ice, and pop). The **``Customize CAM output``** is the most **_comprehensive_**, so we recommend **_at least reviewing that section_**."
   ]
  },
  {
   "cell_type": "code",
   "execution_count": null,
   "id": "fd23aec3-cb79-432b-96e1-dcad3c071a90",
   "metadata": {},
   "outputs": [],
   "source": []
  },
  {
   "cell_type": "code",
   "execution_count": null,
   "id": "4115c790-a2b3-41c1-8291-db1a9de90ef3",
   "metadata": {},
   "outputs": [],
   "source": []
  }
 ],
 "metadata": {
  "kernelspec": {
   "display_name": "Python 3 (ipykernel)",
   "language": "python",
   "name": "python3"
  },
  "language_info": {
   "codemirror_mode": {
    "name": "ipython",
    "version": 3
   },
   "file_extension": ".py",
   "mimetype": "text/x-python",
   "name": "python",
   "nbconvert_exporter": "python",
   "pygments_lexer": "ipython3",
   "version": "3.9.12"
  }
 },
 "nbformat": 4,
 "nbformat_minor": 5
}
