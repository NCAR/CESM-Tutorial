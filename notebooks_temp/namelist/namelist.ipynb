{
 "cells": [
  {
   "cell_type": "markdown",
   "id": "0959db1d-1790-4519-a34e-7026444af537",
   "metadata": {},
   "source": [
    "# Namelist Modifications"
   ]
  },
  {
   "cell_type": "markdown",
   "id": "285a23b4-2906-4422-a8a8-987546de6f0c",
   "metadata": {},
   "source": [
    "There are several ways in which the model can be modified using namelist settings. This is what we cover in this chapter:\n",
    "- The section **_Overview_** describes the steps to modify the namelists and provides a visual representation of the directories and files that need to be modified.\n",
    "- The section **_Documentation_** explains how to find information about the namelist variables on the CESM webpage.\n",
    "- The section **_Customizing output_** describes how to customize the output history files, such as changing the output frequency or adding variables to a file.\n",
    "- The section **_Exercises_** offers opportunities to practice the concepts learned in this chapter. "
   ]
  },
  {
   "cell_type": "code",
   "execution_count": null,
   "id": "f7cf2d79-da13-416d-8345-385bc1977b79",
   "metadata": {},
   "outputs": [],
   "source": []
  }
 ],
 "metadata": {
  "kernelspec": {
   "display_name": "Python 3 (ipykernel)",
   "language": "python",
   "name": "python3"
  },
  "language_info": {
   "codemirror_mode": {
    "name": "ipython",
    "version": 3
   },
   "file_extension": ".py",
   "mimetype": "text/x-python",
   "name": "python",
   "nbconvert_exporter": "python",
   "pygments_lexer": "ipython3",
   "version": "3.9.12"
  }
 },
 "nbformat": 4,
 "nbformat_minor": 5
}
