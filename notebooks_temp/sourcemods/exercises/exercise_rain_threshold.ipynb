{
 "cells": [
  {
   "cell_type": "markdown",
   "id": "be068a4c-5d8d-442f-aa26-65712f572c65",
   "metadata": {},
   "source": [
    "# Modify the `rain_threshold` in CLM\n",
    "\n",
    "In the below exercise, we will change the rain threshold for stress deciduous vegetation, which includes C3 grasses. The rain threshold is the amount of rain required to initiate leaf onset. Reaching the rain threshold is one of several requirements for stress deciduous vegetation leaf onset. If you are interested, you can find more information about the stress deciduous phenology representation in the CLM Technical Note.\n",
    "\n",
    "The current value of rain_threshold is 20mm as specified in the code:\n",
    "\n",
    "```\n",
    "rain_threshold = 20._r8 \n",
    "```\n"
   ]
  },
  {
   "cell_type": "markdown",
   "id": "571a03a6-51cb-425a-b9c2-d674b097f5b8",
   "metadata": {},
   "source": [
    "\n",
    "\n",
    "<div class=\"alert alert-info\">\n",
    "<strong>Exercise: Modify the CLM rain_threshold parameter</strong><br><br>\n",
    "    \n",
    "Create a case called `b1850_rain_threshold` using the compset `B1850` at `f19_g17` resolution. \n",
    "- Change the rain_threshold from 20mm to 1mm. \n",
    "- Make a 1-month run. \n",
    "\n",
    "</div>\n"
   ]
  },
  {
   "cell_type": "markdown",
   "id": "e4e74779-4778-446a-be7e-50e0c1ee125e",
   "metadata": {},
   "source": [
    "<div class=\"alert alert-warning\">  \n",
    "<details> \n",
    "   <summary>\n",
    "      <font face=\"Times New Roman\" color='blue'>Click here for hints</font>\n",
    "    </summary>\n",
    "    \n",
    "**Tip to  locate the 'rain_threshold' parameter**  <br>\n",
    "\n",
    "- Find the subroutine containing `rain_threshold`. \n",
    "For instance, in the CESMROOT, use the command: \n",
    "\n",
    "```\n",
    "    grep –r rain_threshold *    \n",
    "```\n",
    "    \n",
    "</details>\n",
    "</div>\n"
   ]
  },
  {
   "cell_type": "markdown",
   "id": "fbfacd19-3e46-4ef4-9111-7bb1b4669b2f",
   "metadata": {},
   "source": [
    "\n",
    "<div class=\"alert alert-success\">   \n",
    "<details>\n",
    "<summary><font face=\"Times New Roman\" color='blue'>Click here for the solution</font></summary><br>\n",
    "                \n",
    "Create a new case `b1850_rain_threshold` with the command:\n",
    "```\n",
    "cd /glade/u/home/$USER/code/my_cesm_code/cime/scripts\n",
    "./create_newcase --case ~/cases/b1850_rain_threshold --compset B1850 --res f19_g17 \n",
    "```\n",
    "\n",
    "Case `setup`:\n",
    "```    \n",
    "cd ~/cases/b1850_rain_threshold\n",
    "./case.setup\n",
    "```\n",
    "\n",
    "    \n",
    "Locate the file where `rain_threshold` is defined and copy it into\n",
    "    `SourceMods/src.lnd`:\n",
    "```    \n",
    "cp /glade/u/home/$USER/code/my_cesm_code/components/clm/src/biogeochem/CNPhenologyMod.F90 SourceMods/src.clm\n",
    "```\n",
    "    \n",
    "Edit the file `SourceMods/src.clm/CNPhenologyMod.F90 ` and add the lines:\n",
    "```\n",
    "      ! specify rain threshold for leaf onset                                   \n",
    "      rain_threshold = 20._r8\n",
    "```\n",
    "to     \n",
    "```\n",
    "      ! specify rain threshold for leaf onset                                   \n",
    "      rain_threshold = 1._r8\n",
    "```\n",
    "    \n",
    "    \n",
    "Change the `run length`:\n",
    "```   \n",
    "./xmlchange STOP_N=1,STOP_OPTION=nmonths\n",
    "```\n",
    "\n",
    "If needed, change `job queue` and `account number` \n",
    "For instance:\n",
    "```  \n",
    "./xmlchange JOB_QUEUE=tutorial,PROJECT=UESM0013 --force\n",
    "```\n",
    "\n",
    "Build and submit:\n",
    "```\n",
    "qcmd -- ./case.build\n",
    "./case.submit\n",
    "```\n",
    "    \n",
    "</details>\n",
    "</div>\n",
    "\n"
   ]
  },
  {
   "cell_type": "code",
   "execution_count": null,
   "id": "831a1859-4cd1-48aa-b1d2-616216d2f9cb",
   "metadata": {},
   "outputs": [],
   "source": []
  }
 ],
 "metadata": {
  "kernelspec": {
   "display_name": "Python 3 (ipykernel)",
   "language": "python",
   "name": "python3"
  },
  "language_info": {
   "codemirror_mode": {
    "name": "ipython",
    "version": 3
   },
   "file_extension": ".py",
   "mimetype": "text/x-python",
   "name": "python",
   "nbconvert_exporter": "python",
   "pygments_lexer": "ipython3",
   "version": "3.10.13"
  }
 },
 "nbformat": 4,
 "nbformat_minor": 5
}
