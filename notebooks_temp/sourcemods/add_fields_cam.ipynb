{
 "cells": [
  {
   "cell_type": "markdown",
   "id": "f406f992-92bd-4b17-9bd3-b99c5c8abaf3",
   "metadata": {},
   "source": [
    "# Source Modification Example\n",
    "\n",
    "A common source code modification that you may want to do is to output a **new variable** that is not defined in CESM. \n",
    "\n",
    "As an example, we will add a new variable to CAM: the atmopsheric **temperature at 750hPa**.\n",
    "\n",
    "## Adding a variable to CAM\n",
    "CAM has a history field that corresponds to the **temperature at 500hPa** and a number of other pressure levels, but not at **750hPa**. Suppose you wanted to output the **temperature at 750hPa**. The following two\n",
    "calls are required to add an output variable:\n",
    "```\n",
    "call addfld(’T750’,...) (Add a field to the master field list)\n",
    "call outfld(’T750’,...) (Collect values for this field and write to history file)\n",
    "```"
   ]
  },
  {
   "cell_type": "markdown",
   "id": "08800317-afcb-42b5-a181-38003b2323aa",
   "metadata": {},
   "source": [
    "Each of these are now described in more detail:\n",
    "\n",
    "## ``addfld``\n",
    "The sub-routine ``addfld`` adds a field to the master list with the following syntax:\n",
    "```\n",
    "addfld(fname,type,avgflag,units,long name)\n",
    "```\n",
    "where\n",
    "\n",
    "- **``fname``** = field name\n",
    "- **``type``** = the type of field. The entry for a single level field would be “horiz only” and the entry\n",
    "for a 3D field would be “(/ ’lev’ /)”.\n",
    "- **``avgflag``** = Averaging flag, A = average, I=instantaneous\n",
    "- **``units``** = the units of the field\n",
    "- **``long name``** = Field full name\n",
    "\n",
    "Appropriate values of these parameters for the output of T750 are:\n",
    "\n",
    "```\n",
    "call addfld(’T750’,horiz only, ’A’, ’K’, ’Temperature at 750hPa pressure surface’)\n",
    "```\n",
    "\n"
   ]
  },
  {
   "cell_type": "markdown",
   "id": "5fe6a0f0-e750-4d0c-bd8a-4966286a4764",
   "metadata": {},
   "source": [
    "\n",
    "## ``outfld``\n",
    "The subroutine ``outfld`` accumulates (or takes the minimum or maximum of, as appropriate) the field into the history buffer for the appropriate history tape with the following syntax\n",
    "```\n",
    "    outfld(fname, field, idim, c)\n",
    "```\n",
    "\n",
    "with\n",
    "- **``fname``** = Field name\n",
    "- **``field``** = array containing field values\n",
    "- **``idim``** = longitude dimension of field array\n",
    "- **``c``** = chunk (physics) or latitude (dynamics) index.\n",
    "\n",
    "For example:\n",
    "\n",
    "```\n",
    "    call outfld(’T750’,t750, pcols, lchnk)\n",
    "```"
   ]
  },
  {
   "cell_type": "markdown",
   "id": "c1978926-c9f9-4405-8574-12d39e3f8ed8",
   "metadata": {},
   "source": [
    "\n",
    "## ``add_default`` \n",
    "Another useful subroutine is the subroutine ``add_default``. The subroutine ``add_default`` Add a field to the list of default fields on history file with the following syntax\n",
    "```\n",
    "    subroutine add_default (fname, tindex, flag)\n",
    "```\n",
    "where\n",
    "- **``fname``** = Field name\n",
    "- **``tindex``** = history tape index\n",
    "- **``flag``** = Averaging flag: A = average (default). I = instantaneous\n",
    "\n",
    "\n",
    "For example:\n",
    "\n",
    "```\n",
    "    call add_default ('T500', 1, ' ')\n",
    "```"
   ]
  }
 ],
 "metadata": {
  "kernelspec": {
   "display_name": "Python 3 (ipykernel)",
   "language": "python",
   "name": "python3"
  },
  "language_info": {
   "codemirror_mode": {
    "name": "ipython",
    "version": 3
   },
   "file_extension": ".py",
   "mimetype": "text/x-python",
   "name": "python",
   "nbconvert_exporter": "python",
   "pygments_lexer": "ipython3",
   "version": "3.9.12"
  }
 },
 "nbformat": 4,
 "nbformat_minor": 5
}
