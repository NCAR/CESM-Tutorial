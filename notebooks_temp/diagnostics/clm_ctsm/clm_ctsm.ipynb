{
 "cells": [
  {
   "cell_type": "markdown",
   "id": "f406f992-92bd-4b17-9bd3-b99c5c8abaf3",
   "metadata": {},
   "source": [
    "# Land"
   ]
  },
  {
   "cell_type": "markdown",
   "id": "6a0eda7f-8348-4a1e-8ada-86d9a70c3af6",
   "metadata": {},
   "source": [
    "This notebook is an introduction to analyzing CLM land model results from a global simulation.  It uses results from the case you ran in the 1a Tutorial. We've prestaged model results from this simulation and another simulation using a different model configuration in a shared directory. This way, you can get started on analyzing simulations results before your simulations finish running and compare differences caused by model structure. "
   ]
  },
  {
   "cell_type": "markdown",
   "id": "b6f4905b-cd2a-454e-89cf-ccc585c90247",
   "metadata": {
    "tags": []
   },
   "source": [
    "## Learning Goals\n",
    "\n",
    "- Read in global CLM data\n",
    "- Make basic spatial plots\n",
    "- Make basic timeseries plots"
   ]
  },
  {
   "cell_type": "code",
   "execution_count": null,
   "id": "e961b1bd-a1c8-4e54-bafc-46dcf78454f1",
   "metadata": {},
   "outputs": [],
   "source": []
  }
 ],
 "metadata": {
  "kernelspec": {
   "display_name": "Python 3 (ipykernel)",
   "language": "python",
   "name": "python3"
  },
  "language_info": {
   "codemirror_mode": {
    "name": "ipython",
    "version": 3
   },
   "file_extension": ".py",
   "mimetype": "text/x-python",
   "name": "python",
   "nbconvert_exporter": "python",
   "pygments_lexer": "ipython3",
   "version": "3.9.12"
  }
 },
 "nbformat": 4,
 "nbformat_minor": 5
}
