{
 "cells": [
  {
   "cell_type": "markdown",
   "id": "989fe00b-ac80-497c-a432-36d0ae227636",
   "metadata": {},
   "source": [
    "# Basic Plotting with MOM6"
   ]
  },
  {
   "cell_type": "markdown",
   "id": "e97a3589-e319-4477-9123-f2f7e4189dc9",
   "metadata": {},
   "source": [
    "**BEFORE BEGINNING THIS EXERCISE** -  Check that your kernel (upper right corner, above) is `NPL 2023a`. This should be the default kernel, but if it is not, click on that button and select `NPL 2023a`."
   ]
  },
  {
   "cell_type": "markdown",
   "id": "ed83e6c7-6801-4b43-af1c-32f6e3577f30",
   "metadata": {},
   "source": [
    "_______________\n",
    "This activity was developed by Gustavo Marques.\n"
   ]
  },
  {
   "cell_type": "markdown",
   "id": "cb535d76-8352-4736-b74f-4577b32a3aa9",
   "metadata": {
    "tags": []
   },
   "source": [
    "_______________\n",
    "## Setting up the notebook\n",
    "Here we load modules needed for our analysis"
   ]
  },
  {
   "cell_type": "code",
   "execution_count": null,
   "id": "fe59e1e9-a503-4c89-803e-01dee0fadd75",
   "metadata": {},
   "outputs": [],
   "source": [
    "# loading modules\n",
    "\n",
    "# %load_ext watermark # this is so that in the end we can check which module versions we used\n",
    "%load_ext autoreload\n",
    "\n",
    "import warnings \n",
    "warnings.filterwarnings(\"ignore\")\n",
    "\n",
    "import datetime\n",
    "import glob\n",
    "import os\n",
    "import warnings\n",
    "import dask\n",
    "import dask_jobqueue\n",
    "import distributed\n",
    "import matplotlib as mpl\n",
    "import matplotlib.pyplot as plt\n",
    "import numpy as np\n",
    "import xarray as xr\n",
    "from matplotlib import ticker, cm\n",
    "from cartopy import crs as ccrs, feature as cfeature\n",
    "import cartopy"
   ]
  },
  {
   "cell_type": "markdown",
   "id": "657b093a-e719-4f68-92a4-907a3ecf89bb",
   "metadata": {},
   "source": [
    "### Setting up the Dask cluster\n",
    "Remember to: \n",
    "- change the project number if doing this outside the tutorial\n",
    "- potentially change the walltime depending on what you want to do\n",
    "- check the memory if you are loading a different dataset with different needs\n",
    "- check the number of cores if you are loading a different dataset with different needs"
   ]
  },
  {
   "cell_type": "code",
   "execution_count": null,
   "id": "3ca107e9-941f-4398-8df5-d6587064492f",
   "metadata": {},
   "outputs": [],
   "source": [
    "# Set your username here:\n",
    "username = \"PUT_USER_NAME_HERE\"\n",
    "\n",
    "if \"client\" in locals():\n",
    "    client.close()\n",
    "    del client\n",
    "if \"cluster\" in locals():\n",
    "    cluster.close()\n",
    "\n",
    "cluster = dask_jobqueue.PBSCluster(\n",
    "    cores=2,  # The number of cores you want\n",
    "    memory=\"8GB\",  # Amount of memory\n",
    "    processes=1,  # How many processes\n",
    "    queue=\"casper\",  # The type of queue to utilize (/glade/u/apps/dav/opt/usr/bin/execcasper)\n",
    "    log_directory=f\"/glade/derecho/scratch/{username}/dask/\",  # Use your local directory\n",
    "    resource_spec=\"select=1:ncpus=1:mem=8GB\",  # Specify resources\n",
    "    project=\"UESM0013\",   # Input your project ID here\n",
    "    walltime=\"02:00:00\",  # Amount of wall time\n",
    ")\n",
    "# cluster.adapt(maximum_jobs=24, minimum_jobs=2) # If you want to force everything to be quicker, increase the number of minimum jobs, \n",
    "# # but sometimes then it will take a while until you get them assigned, so it's a trade-off\n",
    "cluster.scale(12) # I changed this because currently dask is flaky, this might have to be adjusted during the tutorial\n",
    "client = distributed.Client(cluster)\n",
    "client"
   ]
  },
  {
   "cell_type": "markdown",
   "id": "26f69caa-1b31-4f87-88a9-21298bdc30f3",
   "metadata": {},
   "source": [
    "### MOM6 diag_table and history files\n",
    "\n",
    "The diagnostics in MOM6 are controlled by the ```diag_table```. To understand how the ```diag_table``` works, please click on [this](https://mom6.readthedocs.io/en/main/api/generated/pages/Diagnostics.html) link. If you have done the gmom_jra.run_length simulation, you can use a text editor to inspect the default ```diag_table``` for this simulation. It's located at:\n",
    "\n",
    "<div class=\"alert alert-info\">\n",
    "    \n",
    "/glade/u/home/$USER/cases/gmom_jra.run_length/CaseDocs/diag_table\n",
    "\n",
    "</div>\n",
    "\n",
    "Below is a list of history files for the out-of-the-box MOM6 simulations, including a brief explanation of their purposes. The ```mom6.h.sfc``` files contain daily means, while all other history files contain monthly means. \n",
    "\n",
    "* CASENAME.mom6.h.rho2.YYYY-MM.nc - selected 3D variables remapped to a sigma2 vertical coordinate. This is useful, for example, for computing MOC in density-space;       \n",
    "            \n",
    "* CASENAME.mom6.h.native.YYYY-MM.nc - miscellaneous of 2D and 3D variables on the native vertical grid;\n",
    "                \n",
    "* CASENAME.mom6.h.z.YYYY-MM.nc - selected 3D variables remapped to the World Ocean Atlas (WOA) 2009 vertical grid. This is useful for computing T & S biases against the WOA climatology;\n",
    "                       \n",
    "* CASENAME.mom6.h.sfc.YYYY-MM.nc - surface 2D variables;\n",
    "                     \n",
    "* CASENAME.mom6.h.ocean_geometry.nc - horizontal grid information.     \n",
    "\n",
    "The following history files include temperature, salinity, velocities, and transports along pre-defined transects. Please refer to the figure below to view the location of some of these transects (the figure is outdated and misses some transects). \n",
    "                    \n",
    "* CASENAME.mom6.h.Agulhas_Section.YYYY-MM.nc.????         \n",
    "* CASENAME.mom6.h.Barents_Opening.YYYY-MM.nc.????         \n",
    "* CASENAME.mom6.h.Bering_Strait.YYYY-MM.nc.????           \n",
    "* CASENAME.mom6.h.Davis_Strait.YYYY-MM.nc.????            \n",
    "* CASENAME.mom6.h.Denmark_Strait.YYYY-MM.nc.????          \n",
    "* CASENAME.mom6.h.Drake_Passage.YYYY-MM.nc.????           \n",
    "* CASENAME.mom6.h.English_Channel.YYYY-MM.nc.????         \n",
    "* CASENAME.mom6.h.Fram_Strait.YYYY-MM.nc.????             \n",
    "* CASENAME.mom6.h.Florida_Bahamas.YYYY-MM.nc.????         \n",
    "* CASENAME.mom6.h.Florida_Bahamas_extended.YYYY-MM.nc.????\n",
    "* CASENAME.mom6.h.Florida_Cuba.YYYY-MM.nc.????            \n",
    "* CASENAME.mom6.h.Gibraltar_Strait.YYYY-MM.nc.????        \n",
    "* CASENAME.mom6.h.Iceland_Norway.YYYY-MM.nc.????          \n",
    "* CASENAME.mom6.h.Indonesian_Throughflow.YYYY-MM.nc.????  \n",
    "* CASENAME.mom6.h.Mozambique_Channel.YYYY-MM.nc.????      \n",
    "* CASENAME.mom6.h.Pacific_undercurrent.YYYY-MM.nc.????    \n",
    "* CASENAME.mom6.h.Taiwan_Luzon.YYYY-MM.nc.????            \n",
    "* CASENAME.mom6.h.Windward_Passage.YYYY-MM.nc.????        \n",
    "* CASENAME.mom6.h.Robeson_Channel.YYYY-MM.nc.????         \n",
    "* CASENAME.mom6.h.Yucatan_Channel.YYYY-MM.nc.????         \n",
    "* CASENAME.mom6.h.Bosporus_Strait.YYYY-MM.nc.????\n"
   ]
  },
  {
   "cell_type": "markdown",
   "id": "40e13628-f2e5-4914-9702-5b8f4fb2c341",
   "metadata": {},
   "source": [
    "![pre-defined sections](../../../images/diagnostics/mom/transport_sections_mom6.png)\n",
    "\n",
    "*<p style=\"text-align: center;\"> Figure: Pre-defined sections for transport diagnostics. </p>*"
   ]
  },
  {
   "cell_type": "markdown",
   "id": "884e8473-6d10-46e9-9a43-2175ae8631a0",
   "metadata": {},
   "source": [
    "### Load the data \n",
    "\n",
    "**Note**: the drop-down solutions, below, assume you used gmom_jra.run_length output for plotting"
   ]
  },
  {
   "cell_type": "code",
   "execution_count": null,
   "id": "f1a789cc-95ed-44f6-a566-215e6ed0668d",
   "metadata": {},
   "outputs": [],
   "source": [
    "# Set your casename here:\n",
    "casename = 'gmom_jra.run_length'\n",
    "\n",
    "# Here we point to the archive directory from your b1850.run_length simulation\n",
    "pth = f\"/glade/derecho/scratch/{username}/archive/{casename}/ocn/hist/\"\n",
    "\n",
    "# If you were unable to successfully run the b1850.run_length simulation, then feel free to use\n",
    "# this provided simulation data instead:\n",
    "#pth = f'/glade/campaign/cesm/tutorial/tutorial_2024_archive/{casename}/ocn/hist/'\n",
    "\n",
    "# Print path to screen\n",
    "pth"
   ]
  },
  {
   "cell_type": "code",
   "execution_count": null,
   "id": "4a0dd260-76ab-4de7-931d-1cc343d82384",
   "metadata": {},
   "outputs": [],
   "source": [
    "%%time\n",
    "# how quick this is depends among other things on the availability of workers on casper\n",
    "# you can check progress by clicking on the link for the cluster above which will show you the dask dashboard  \n",
    "full_pth = pth + casename + '.mom6.h.native.000?-??.nc'  #also might want to use just some years not all \n",
    "ds_mom = xr.open_mfdataset(full_pth, parallel=True)\n",
    "ds_mom = ds_mom.sortby(ds_mom.time)\n",
    "tlist = np.asarray([time.replace(year=time.year+1957) for time in ds_mom.time.values]) # this makes sure the time axis is useful\n",
    "ds_mom['time'] = tlist\n",
    "ds_mom[\"time\"] = ds_mom.indexes[\"time\"].to_datetimeindex()\n",
    "ds_mom #print some meta-data to screen"
   ]
  },
  {
   "cell_type": "markdown",
   "id": "ec0ade1b-407c-4bae-b4a7-62fdee617961",
   "metadata": {},
   "source": [
    "_______________\n",
    "## Exercise 1\n",
    "Means of global Surface Heat Flux and Sea Surface Temperature"
   ]
  },
  {
   "cell_type": "code",
   "execution_count": null,
   "id": "b5d20c79-d1d1-4c62-8300-fade14d8e588",
   "metadata": {
    "tags": []
   },
   "outputs": [],
   "source": [
    "%%time\n",
    "fig, ax = plt.subplots(1, 2, figsize=(12,3), sharex=True, sharey=True)\n",
    "\n",
    "ds_mom.hfds.mean('time').plot(robust=True, ax=ax[0])\n",
    "ax[0].set_title(r'Surface Heat Flux [W/m$^2$]')\n",
    "\n",
    "ds_mom.thetao.sel(zl=0, method='nearest').mean('time').plot(robust=True, ax=ax[1], levels=np.arange(0,32,1))\n",
    "ax[1].set_title(r'Sea Surface Temperature [$^{\\circ}$C]')\n",
    "#plt.savefig('basics_plot_1.png', bbox_inches='tight') # uncomment this to save your figure"
   ]
  },
  {
   "cell_type": "markdown",
   "id": "9b3d3721-a43b-4bde-9d15-7392173cc52b",
   "metadata": {},
   "source": [
    "<div class=\"alert alert-success\">   \n",
    "<details>\n",
    "<summary><font face=\"Times New Roman\" color='blue'>Click here for the solution</font></summary><br>\n",
    "\n",
    "![plot example](../../../images/diagnostics/mom/basics_plot_1.png)\n",
    "\n",
    "*<p style=\"text-align: center;\"> Figure: Plotting solution. </p>*\n",
    "    \n",
    "</details>\n",
    "</div>"
   ]
  },
  {
   "cell_type": "markdown",
   "id": "0ff3c68f-99b3-4e51-afb9-d987bd918d22",
   "metadata": {},
   "source": [
    "**Question:**\n",
    "\n",
    "Can you plot sea surface height (SSH) instead of surface heat flux (SHF)?"
   ]
  },
  {
   "cell_type": "markdown",
   "id": "e307984c-ce16-4c4e-bda3-ba6d940f36a8",
   "metadata": {},
   "source": [
    "<div class=\"alert alert-warning\">  \n",
    "<details>\n",
    "\n",
    "<summary> <font face=\"Times New Roman\" color='blue'>Click here for hints</font> </summary>\n",
    "\n",
    "```\n",
    "ds_mom.SSH.mean('time').plot(robust=True, ax=ax[0])\n",
    "ax[0].set_title(r'Sea Surface Height (cm)')\n",
    "```\n",
    "    \n",
    "</details>\n",
    "</div>"
   ]
  },
  {
   "cell_type": "markdown",
   "id": "b4652dc4-1383-4023-ad2e-ca28b2510687",
   "metadata": {},
   "source": [
    "**Question:**\n",
    "\n",
    "Can you plot standard deviations instead of means?"
   ]
  },
  {
   "cell_type": "markdown",
   "id": "36d0ea5a-ee50-4ca7-9d2b-8c9c3fff8c3f",
   "metadata": {},
   "source": [
    "<div class=\"alert alert-warning\">  \n",
    "<details>\n",
    "\n",
    "<summary> <font face=\"Times New Roman\" color='blue'>Click here for hints</font> </summary>\n",
    "\n",
    "Replace the `.mean` function with `.std` in the plotting call.\n",
    "    \n",
    "```\n",
    "ds_mom.SHF.std('time').plot(robust=True, ax=ax[0])\n",
    "\n",
    "ds_mom.thetao.sel(zl=0, method='nearest').std('time').plot(robust=True, ax=ax[1], levels=np.arange(0,32,1))\n",
    "```\n",
    "    \n",
    "</details>\n",
    "</div>"
   ]
  },
  {
   "cell_type": "markdown",
   "id": "829160aa-36f6-46b1-8cad-860bd3735dba",
   "metadata": {},
   "source": [
    "_______________\n",
    "## Exercise 2\n",
    "\n",
    "Let's create some better-looking plots! Did you notice the ```x``` and ```y``` axes of the previous plots? They represent the \"nominal\" longitude (```xh```) and latitude (```yh```) of tracer points for labeling the output axes rather than the \"true\" longitudes and latitudes. MOM6 output is on a curvilinear grid, which means that the grid is not regularly spaced. The true coordinate values are not stored in the mom6.h.native files. Instead, all the horizontal grid information is saved in the ```mom6.h.ocean_geometry.nc``` file. Let's load this file and check its variables."
   ]
  },
  {
   "cell_type": "code",
   "execution_count": null,
   "id": "a4449a0a-dafa-4d86-8d94-762eafe01d4c",
   "metadata": {},
   "outputs": [],
   "source": [
    "geo_pth = pth + casename + '.mom6.h.ocean_geometry.nc'  #also might want to use just some years not all \n",
    "hgrid = xr.open_dataset(geo_pth).rename({'lath':'yh','lonh':'xh','latq':'yq','lonq':'xq'}) # rename dimensions to match those in ds_mom\n",
    "hgrid"
   ]
  },
  {
   "cell_type": "markdown",
   "id": "837770b1-c7ec-4ef2-9726-8feadd3d956c",
   "metadata": {},
   "source": [
    "Variables ```geolat``` and ```geolon``` are the 2D variables that we need to use, let's have a look at them."
   ]
  },
  {
   "cell_type": "code",
   "execution_count": null,
   "id": "8847b2d5-9290-422c-8772-40b0764937c5",
   "metadata": {},
   "outputs": [],
   "source": [
    "# learn what geolat and geolon look like \n",
    "fig, ax = plt.subplots(1, 2, figsize=(12,3), sharex=True, sharey=True)\n",
    "\n",
    "hgrid.geolat.plot(ax=ax[0], levels=np.arange(-90,95,5))\n",
    "ax[0].set_title('geolat')\n",
    "hgrid.geolon.plot(ax=ax[1], levels=np.arange(-290,90,10))\n",
    "ax[1].set_title('geolon')\n",
    "#plt.savefig('basics_plot_2.png', bbox_inches='tight') # uncomment this to save your figure"
   ]
  },
  {
   "cell_type": "markdown",
   "id": "88135e00-bfc9-4b81-88e6-712679ec3b29",
   "metadata": {},
   "source": [
    "<div class=\"alert alert-success\">   \n",
    "<details>\n",
    "<summary><font face=\"Times New Roman\" color='blue'>Click here for the solution</font></summary><br>\n",
    "\n",
    "![plot example](../../../images/diagnostics/mom/basics_plot_2.png)\n",
    "\n",
    "*<p style=\"text-align: center;\"> Figure: Plotting solution. </p>*\n",
    "    \n",
    "</details>\n",
    "</div>"
   ]
  },
  {
   "cell_type": "markdown",
   "id": "e1517969-1f19-4909-bf9a-f1b10e917700",
   "metadata": {},
   "source": [
    "**Question**\n",
    "\n",
    "Can you see the irregularity in ```geolat```? What does the discontinuity in ```geolon``` mean? "
   ]
  },
  {
   "cell_type": "markdown",
   "id": "b93cd75a-97ce-4d82-85d4-5b0c223d2ee9",
   "metadata": {},
   "source": [
    "### 1. Make global maps"
   ]
  },
  {
   "cell_type": "code",
   "execution_count": null,
   "id": "527f3cbe-1724-49ba-a539-f333af917d0d",
   "metadata": {},
   "outputs": [],
   "source": [
    "%%time\n",
    "\n",
    "# initiate the figure\n",
    "fig = plt.figure(dpi=150, figsize=(12,3))\n",
    "\n",
    "# add the first subplot\n",
    "ax_shf = plt.subplot(1, 2, 1, projection=ccrs.Robinson(central_longitude=300.0))\n",
    "\n",
    "pc = ax_shf.contourf(hgrid.geolon, hgrid.geolat, ds_mom.hfds.mean('time'),\n",
    "                   transform=ccrs.PlateCarree(), cmap='RdYlBu_r', extend='both', levels=np.arange(-120,130,10))\n",
    "\n",
    "ax_shf.set_global() \n",
    "\n",
    "land = ax_shf.add_feature(\n",
    "    cartopy.feature.NaturalEarthFeature('physical', 'land', '110m',\n",
    "                                        linewidth=0.5,\n",
    "                                        edgecolor='black',\n",
    "                                        facecolor='darkgray'))\n",
    "\n",
    "shf_cbar = plt.colorbar(pc, shrink=0.55, ax=ax_shf);\n",
    "shf_cbar.set_label(r'[W/m$^{2}$]')\n",
    "\n",
    "ax_shf.set_title('Surface Heat Flux')\n",
    "\n",
    "# add the second subplot\n",
    "ax_sst = plt.subplot(1, 2, 2, projection=ccrs.Robinson(central_longitude=300.0))\n",
    "\n",
    "pc = ax_sst.contourf(hgrid.geolon, hgrid.geolat, ds_mom.thetao.isel(zl=0).mean('time'),\n",
    "                   transform=ccrs.PlateCarree(), cmap='RdYlBu_r', extend='both', levels=np.arange(0,32,1))\n",
    "\n",
    "ax_sst.set_global() \n",
    "\n",
    "land = ax_sst.add_feature(\n",
    "    cartopy.feature.NaturalEarthFeature('physical', 'land', '110m',\n",
    "                                        linewidth=0.5,\n",
    "                                        edgecolor='black',\n",
    "                                        facecolor='darkgray'))\n",
    "\n",
    "sst_cbar = plt.colorbar(pc, shrink=0.55, ax=ax_sst);\n",
    "sst_cbar.set_label(r'[$^{\\circ}$C]')\n",
    "ax_sst.set_title('Sea Surface Temperature')\n",
    "\n",
    "#plt.savefig('basics_plot_3.png', bbox_inches='tight') # uncomment this to save your figure"
   ]
  },
  {
   "cell_type": "markdown",
   "id": "97823b3e-49d7-4c8e-97e7-b957f93b533a",
   "metadata": {},
   "source": [
    "<div class=\"alert alert-success\">   \n",
    "<details>\n",
    "<summary><font face=\"Times New Roman\" color='blue'>Click here for the solution</font></summary><br>\n",
    "\n",
    "![plot example](../../../images/diagnostics/mom/basics_plot_3.png)\n",
    "\n",
    "*<p style=\"text-align: center;\"> Figure: Plotting solution. </p>*\n",
    "    \n",
    "</details>\n",
    "</div>"
   ]
  },
  {
   "cell_type": "markdown",
   "id": "9a562d62-1efb-45e0-ab7b-5408c893ddbb",
   "metadata": {},
   "source": [
    "### 2. Make regional map over continental US"
   ]
  },
  {
   "cell_type": "code",
   "execution_count": null,
   "id": "8a419e0b-bb58-4740-9877-35a358acbd0b",
   "metadata": {},
   "outputs": [],
   "source": [
    "# define the extent of the map\n",
    "lonW = -140\n",
    "lonE = -40\n",
    "latS = 15\n",
    "latN = 65\n",
    "cLat = (latN + latS) / 2\n",
    "cLon = (lonW + lonE) / 2\n",
    "res = '110m'"
   ]
  },
  {
   "cell_type": "code",
   "execution_count": null,
   "id": "1dacb156-9942-43a3-9b57-1bd4fe6491aa",
   "metadata": {},
   "outputs": [],
   "source": [
    "# what does sea surface temperature around the US look like? (i.e. where would you like to go swimming..)\n",
    "fig = plt.figure(figsize=(11, 8.5))\n",
    "ax = plt.subplot(1, 1, 1, projection=ccrs.PlateCarree())\n",
    "ax.set_title('')\n",
    "gl = ax.gridlines(\n",
    "    draw_labels=True, linewidth=2, color='gray', alpha=0.5, linestyle='--'\n",
    ")\n",
    "ax.set_extent([lonW, lonE, latS, latN], crs=ccrs.PlateCarree())\n",
    "ax.coastlines(resolution=res, color='black')\n",
    "ax.add_feature(cfeature.STATES, linewidth=0.3, edgecolor='brown')\n",
    "ax.add_feature(cfeature.BORDERS, linewidth=0.5, edgecolor='blue');\n",
    "tdat = ax.pcolormesh(hgrid.geolon, hgrid.geolat, ds_mom.thetao.isel(zl=0, time=10), cmap='RdYlBu_r')\n",
    "plt.colorbar(tdat, ax=ax, shrink=0.5, pad=0.1)\n",
    "#plt.savefig('basics_plot_4.png', bbox_inches='tight')# uncomment this to save your figure"
   ]
  },
  {
   "cell_type": "markdown",
   "id": "72f9a1c9-7bf1-4dd7-b193-dcb5baf8bf77",
   "metadata": {},
   "source": [
    "<div class=\"alert alert-success\">   \n",
    "<details>\n",
    "<summary><font face=\"Times New Roman\" color='blue'>Click here for the solution</font></summary><br>\n",
    "\n",
    "![plot example](../../../images/diagnostics/mom/basics_plot_4.png)\n",
    "\n",
    "*<p style=\"text-align: center;\"> Figure: Plotting solution. </p>*\n",
    "    \n",
    "</details>\n",
    "</div>"
   ]
  },
  {
   "cell_type": "markdown",
   "id": "cbda596b-5483-4221-b228-f87fbb0278cd",
   "metadata": {},
   "source": [
    "### 3. Make regional map over the Pacific\n",
    "\n",
    "There's an awful lot of not-ocean over the continental US. Let's look at the Pacific instead."
   ]
  },
  {
   "cell_type": "code",
   "execution_count": null,
   "id": "39a879e8-1dc0-4c9f-afae-c98a33fa7778",
   "metadata": {},
   "outputs": [],
   "source": [
    "# define the extent of the map\n",
    "lonW = -180\n",
    "lonE = -60\n",
    "latS = -30\n",
    "latN = 30\n",
    "cLat = (latN + latS) / 2\n",
    "cLon = (lonW + lonE) / 2\n",
    "res = '110m'"
   ]
  },
  {
   "cell_type": "code",
   "execution_count": null,
   "id": "fcce69d0-c184-4f2f-9b20-775c05489bdd",
   "metadata": {},
   "outputs": [],
   "source": [
    "fig = plt.figure(figsize=(11, 8.5))\n",
    "ax = plt.subplot(1, 1, 1, projection=ccrs.PlateCarree())\n",
    "ax.set_title('SST')\n",
    "gl = ax.gridlines(\n",
    "    draw_labels=True, linewidth=2, color='gray', alpha=0.5, linestyle='--'\n",
    ")\n",
    "ax.set_extent([lonW, lonE, latS, latN], crs=ccrs.PlateCarree())\n",
    "ax.coastlines(resolution=res, color='black')\n",
    "ax.add_feature(cfeature.STATES, linewidth=0.3, edgecolor='brown')\n",
    "ax.add_feature(cfeature.BORDERS, linewidth=0.5, edgecolor='blue');\n",
    "tdat = ax.pcolormesh(hgrid.geolon, hgrid.geolat, ds_mom.thetao.isel(zl=0, time=10), cmap='RdYlBu_r', vmin=15, vmax=31)\n",
    "cbar = plt.colorbar(tdat, ax=ax, shrink=0.5, pad=0.1, ticks=np.arange(15,35,5))\n",
    "cbar.set_label(r'[$^{\\circ}$C]')\n",
    "#plt.savefig('basics_plot_5.png', bbox_inches='tight')# uncomment this to save your figure"
   ]
  },
  {
   "cell_type": "markdown",
   "id": "843c70eb-926e-4e86-92f9-3fd98aab069a",
   "metadata": {},
   "source": [
    "<div class=\"alert alert-success\">   \n",
    "<details>\n",
    "<summary><font face=\"Times New Roman\" color='blue'>Click here for the solution</font></summary><br>\n",
    "\n",
    "![plot example](../../../images/diagnostics/mom/basics_plot_5.png)\n",
    "\n",
    "*<p style=\"text-align: center;\"> Figure: Plotting solution. </p>*\n",
    "    \n",
    "</details>\n",
    "</div>"
   ]
  },
  {
   "cell_type": "markdown",
   "id": "6fd00b8a-9894-4745-a4ca-21e9d9ade96a",
   "metadata": {},
   "source": [
    "### 4. Plotting contours\n",
    "\n",
    "The figures above use `pcolormesh` to plot, but we can also use `contourf` to make filled contours."
   ]
  },
  {
   "cell_type": "code",
   "execution_count": null,
   "id": "71d64e38-7de2-4db4-9759-5e850b0a3aca",
   "metadata": {},
   "outputs": [],
   "source": [
    "# define the extent of the map\n",
    "lonW = -180\n",
    "lonE = -60\n",
    "latS = -30\n",
    "latN = 30\n",
    "cLat = (latN + latS) / 2\n",
    "cLon = (lonW + lonE) / 2\n",
    "res = '110m'"
   ]
  },
  {
   "cell_type": "code",
   "execution_count": null,
   "id": "fc6fd1db-1e65-4a23-984d-00e7406317cc",
   "metadata": {},
   "outputs": [],
   "source": [
    "fig = plt.figure(figsize=(11, 8.5))\n",
    "ax = plt.subplot(1, 1, 1, projection=ccrs.PlateCarree())\n",
    "ax.set_title('SST')\n",
    "gl = ax.gridlines(\n",
    "    draw_labels=True, linewidth=2, color='gray', alpha=0.5, linestyle='--'\n",
    ")\n",
    "ax.set_extent([lonW, lonE, latS, latN], crs=ccrs.PlateCarree())\n",
    "ax.coastlines(resolution=res, color='black')\n",
    "ax.stock_img() # something else than the boarders for a change\n",
    "tdat = ax.contourf(hgrid.geolon, hgrid.geolat, ds_mom.thetao.isel(zl=0, time=10), cmap='RdYlBu_r', levels=np.arange(10,31,1))\n",
    "cbar = plt.colorbar(tdat, ax=ax, shrink=0.5, pad=0.1, ticks=np.arange(15,35,5))\n",
    "cbar.set_label(r'[$^{\\circ}$C]')\n",
    "#plt.savefig('basics_plot_6.png', bbox_inches='tight')# uncomment this to save your figure"
   ]
  },
  {
   "cell_type": "markdown",
   "id": "aa52cb62-eec6-4390-8a12-76d34723d704",
   "metadata": {},
   "source": [
    "<div class=\"alert alert-success\">   \n",
    "<details>\n",
    "<summary><font face=\"Times New Roman\" color='blue'>Click here for the solution</font></summary><br>\n",
    "\n",
    "![plot example](../../../images/diagnostics/mom/basics_plot_6.png)\n",
    "\n",
    "*<p style=\"text-align: center;\"> Figure: Plotting solution. </p>*\n",
    "    \n",
    "</details>\n",
    "</div>"
   ]
  },
  {
   "cell_type": "markdown",
   "id": "c8b0288e-e6b4-4ef1-8624-b31e4eebff57",
   "metadata": {},
   "source": [
    "**Question:**\n",
    "\n",
    "Try looking at the Equatorial Atlantic Ocean or other region that interests you (Gulf of Mexico, Gulf of Maine, California Coast)."
   ]
  },
  {
   "cell_type": "markdown",
   "id": "c9d29a3b-d7c7-4d4c-aeaf-7eeedf48caa3",
   "metadata": {},
   "source": [
    "<div class=\"alert alert-warning\">  \n",
    "<details>\n",
    "\n",
    "<summary> <font face=\"Times New Roman\" color='blue'>Click here for hints</font> </summary>\n",
    "\n",
    "Before plotting the region, you'll need to modify the latitude/longitude bounds. Here are the bounds for the Equatorial Atlantic Ocean: \n",
    "```\n",
    "# define the extent of the map\n",
    "lonW = -60\n",
    "lonE = 20\n",
    "latS = -30\n",
    "latN = 30\n",
    "cLat = (latN + latS) / 2\n",
    "cLon = (lonW + lonE) / 2\n",
    "res = '110m'\n",
    "```\n",
    "\n",
    "You can play with these to look at other regions of interest to you.\n",
    "\n",
    "</details>\n",
    "</div>"
   ]
  },
  {
   "cell_type": "markdown",
   "id": "9f98a8bf-9012-4edd-8288-149579c13252",
   "metadata": {},
   "source": [
    "**Question:**\n",
    "\n",
    "Try plotting other variables like sea surface height (SSH) or 50m temperature."
   ]
  },
  {
   "cell_type": "markdown",
   "id": "12ba7997-bf17-48cb-8eec-5ea7c467b319",
   "metadata": {},
   "source": [
    "<div class=\"alert alert-warning\">  \n",
    "<details>\n",
    "\n",
    "<summary> <font face=\"Times New Roman\" color='blue'>Click here for hints</font> </summary>\n",
    "\n",
    "See hints in exercise 1.    \n",
    "    \n",
    "</details>\n",
    "</div>"
   ]
  }
 ],
 "metadata": {
  "kernelspec": {
   "display_name": "NPL 2023a",
   "language": "python",
   "name": "npl-2023a"
  },
  "language_info": {
   "codemirror_mode": {
    "name": "ipython",
    "version": 3
   },
   "file_extension": ".py",
   "mimetype": "text/x-python",
   "name": "python",
   "nbconvert_exporter": "python",
   "pygments_lexer": "ipython3",
   "version": "3.9.16"
  }
 },
 "nbformat": 4,
 "nbformat_minor": 5
}
