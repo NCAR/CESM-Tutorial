{
 "cells": [
  {
   "cell_type": "markdown",
   "id": "f406f992-92bd-4b17-9bd3-b99c5c8abaf3",
   "metadata": {},
   "source": [
    "# Prerequisites for Success\n"
   ]
  },
  {
   "cell_type": "markdown",
   "id": "4651282a-0c4f-449a-bf36-74af04e7281e",
   "metadata": {},
   "source": [
    "NOTE: Although the materials and notebooks in this tutorial are published as a Jupyter Book, **you will need to use a terminal window to actually run the commands presented in this tutorial.**\n",
    "\n",
    "To successfully complete this tutorial you will:\n",
    "- Utilize a **terminal** window\n",
    "- Issue commands at the **command line** using **UNIX**\n",
    "- Need to be able to access and run on the **NCAR HPC systems** (HPC = High Performance Computing)\n",
    "- Use **JupyterHub** for some basic diagnostic plotting\n",
    "\n",
    "The links below provide more information about these topics. **If you are not familiar with any of the four topics above, we strongly recommend that you read through the following sections.**"
   ]
  },
  {
   "cell_type": "markdown",
   "id": "24e22d53-7b0b-4fb8-82ad-360e75e64ac0",
   "metadata": {},
   "source": [
    "___\n",
    "## Terminal windows"
   ]
  },
  {
   "cell_type": "markdown",
   "id": "14f5fe74-cc59-4ccc-af62-e31650e1372c",
   "metadata": {},
   "source": [
    "For most of these tutorial exercises, we assume that you will use the online documentation in tandem with an open terminal window. The commands described in these materials will be entered at the command line in your terminal window.\n",
    "\n",
    "If you are unfamiliar with opening terminal windows, please review the information at the link below. "
   ]
  },
  {
   "cell_type": "markdown",
   "id": "01790d14-4535-4e0a-a7da-38ac467717de",
   "metadata": {},
   "source": [
    "<div class=\"alert alert-info\" style=\"text-align: center;\">\n",
    "\n",
    "[Terminals](https://ncar.github.io/CESM-Tutorial/notebooks/resources/terminals.html#terminal-windows)\n",
    "    \n",
    "</div>"
   ]
  },
  {
   "cell_type": "markdown",
   "id": "37406e6f-57c2-4493-86a9-52bc2d5eb3f8",
   "metadata": {},
   "source": [
    "___\n",
    "## UNIX"
   ]
  },
  {
   "cell_type": "markdown",
   "id": "6572f442-e01a-4809-a90d-c251ff79f8af",
   "metadata": {},
   "source": [
    "The commands described in these materials will be entered in a UNIX environment. If you are unfamiliar with navigating a UNIX environment, we suggest you use the link below to learn more about UNIX. "
   ]
  },
  {
   "cell_type": "markdown",
   "id": "e664eb92-e98d-4c3d-afbe-ea517b71439b",
   "metadata": {},
   "source": [
    "<div class=\"alert alert-info\" style=\"text-align: center;\">\n",
    "\n",
    "[UNIX](https://ncar.github.io/CESM-Tutorial/notebooks/resources/unix.html#unix)\n",
    "    \n",
    "</div>"
   ]
  },
  {
   "cell_type": "markdown",
   "id": "16324ba6-5c27-41c2-8e62-dc2ccc817527",
   "metadata": {},
   "source": [
    "___\n",
    "## Login to NCAR High Performance Computing (HPC)"
   ]
  },
  {
   "cell_type": "markdown",
   "id": "3b3e13f6-45e2-4dc8-bd2a-b550ddb11270",
   "metadata": {},
   "source": [
    "When logging into the NCAR HPC machines, we recommend using X11 forwarding. X11 forwarding is an SSH protocol that allows users to run graphical applications on a remote server and interact with them using their local display and I/O devices. It is frequently used by CESM developers for securely interacting with NCAR HPC remote machines.\n",
    "\n",
    "To enable X11 forwarding when logging into the NCAR HPC, simply add the `-XY` option to your `SSH` command. "
   ]
  },
  {
   "cell_type": "markdown",
   "id": "ddb0d0fb-1fd9-4814-bb20-af81d2baae5a",
   "metadata": {},
   "source": [
    "```\n",
    "ssh -XY username@derecho.hpc.ucar.edu \n",
    "```\n",
    "OR \n",
    "```\n",
    "ssh -XY username@casper.hpc.ucar.edu\n",
    "```"
   ]
  },
  {
   "cell_type": "markdown",
   "id": "510846c7-4018-420e-a899-96e1b9e92902",
   "metadata": {},
   "source": [
    "More information about logging into the NCAR HPC follows below.\n",
    "\n",
    "<div class=\"alert alert-info\" style=\"text-align: center;\">\n",
    "\n",
    "[NCAR High Performance Computing (HPC)](https://ncar.github.io/CESM-Tutorial/notebooks/resources/ncar_hpc.html)\n",
    "    \n",
    "</div>"
   ]
  },
  {
   "cell_type": "markdown",
   "id": "3c9cc169-489e-427a-865a-539468cb060d",
   "metadata": {},
   "source": [
    "____\n",
    "## Using JupyterHub"
   ]
  },
  {
   "cell_type": "markdown",
   "id": "4a799266-780e-4281-8955-e20e522cdb4d",
   "metadata": {},
   "source": [
    "The diagnostics section of this tutorial will use JupyterHub to run Jupyter Notebooks. You will need to login to the NCAR JupyterHub system to run the notebooks successfully.\n",
    "\n",
    "NOTE: To run a Jupyter cell\n",
    "- Type your command into the cell\n",
    "- To execute the command:\n",
    "    - Press **shift+return**\n",
    "    <div>\n",
    "    OR\n",
    "    <div>\n",
    "    - Select the cell then click the 'play' button at the top of the window\n",
    "\n",
    "To learn more about JupyterHub, please follow the link below."
   ]
  },
  {
   "cell_type": "markdown",
   "id": "7db0afc5-0462-45db-ac81-1ee18c34c716",
   "metadata": {},
   "source": [
    "<div class=\"alert alert-info\" style=\"text-align: center;\">\n",
    "\n",
    "[CISL Documentation about JupyterHub](https://arc.ucar.edu/knowledge_base/70549913)\n",
    "    \n",
    "</div>"
   ]
  },
  {
   "cell_type": "code",
   "execution_count": null,
   "id": "088d2dc6-ae4f-4023-93d4-494aeaf8ba44",
   "metadata": {},
   "outputs": [],
   "source": []
  }
 ],
 "metadata": {
  "kernelspec": {
   "display_name": "Bash",
   "language": "bash",
   "name": "bash"
  },
  "language_info": {
   "codemirror_mode": "shell",
   "file_extension": ".sh",
   "mimetype": "text/x-sh",
   "name": "bash"
  }
 },
 "nbformat": 4,
 "nbformat_minor": 5
}
